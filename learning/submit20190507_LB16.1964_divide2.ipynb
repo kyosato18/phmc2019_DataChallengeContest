{
 "cells": [
  {
   "cell_type": "code",
   "execution_count": 1,
   "metadata": {},
   "outputs": [],
   "source": [
    "import pandas as pd\n",
    "import glob\n",
    "import time\n",
    "import numpy as np\n",
    "import lightgbm as lgb\n",
    "from sklearn.model_selection import KFold\n",
    "from sklearn.metrics import mean_absolute_error\n",
    "import seaborn as sns\n",
    "import matplotlib.pyplot as plt\n",
    "from tqdm import tqdm\n",
    "from datetime import datetime\n",
    "import matplotlib.pyplot as plt\n",
    "from sklearn import metrics"
   ]
  },
  {
   "cell_type": "markdown",
   "metadata": {},
   "source": [
    "submit20190428に特徴量追加  \n",
    "バリデーションの方法いろいろ試した中でLBが一番良かった。  \n",
    "LBはそんなだったけど、なんか一番自信あった"
   ]
  },
  {
   "cell_type": "code",
   "execution_count": 2,
   "metadata": {},
   "outputs": [
    {
     "name": "stdout",
     "output_type": "stream",
     "text": [
      "../features/train__200__important_columns.pkl\n",
      "../features/train__201__rolling_mean_per_FlightRegime.pkl\n",
      "../features/train__202__diff_from_first_some_data.pkl\n",
      "../features/train__203__agg_diff_from_first_some_data.pkl\n",
      "../features/train__004__cumsum_per_FlightRegime.pkl\n",
      "../features/train__005__count_FlightRegime.pkl\n"
     ]
    }
   ],
   "source": [
    "df_train = pd.DataFrame()\n",
    "train_features_path = ['../features/train__200__important_columns.pkl',\n",
    "                       '../features/train__201__rolling_mean_per_FlightRegime.pkl',\n",
    "                       '../features/train__202__diff_from_first_some_data.pkl',\n",
    "                       '../features/train__203__agg_diff_from_first_some_data.pkl',\n",
    "                       '../features/train__004__cumsum_per_FlightRegime.pkl',\n",
    "                       '../features/train__005__count_FlightRegime.pkl'\n",
    "                       ]\n",
    "for file_path in train_features_path:\n",
    "    print(file_path)\n",
    "    df_tmp = pd.read_pickle(file_path)\n",
    "    df_train = pd.concat([df_train, df_tmp], axis=1)"
   ]
  },
  {
   "cell_type": "code",
   "execution_count": 3,
   "metadata": {},
   "outputs": [],
   "source": [
    "df_test = pd.DataFrame()\n",
    "test_features_path = ['../features/test__200__important_columns.pkl',\n",
    "                       '../features/test__201__rolling_mean_per_FlightRegime.pkl',\n",
    "                       '../features/test__202__diff_from_first_some_data.pkl',\n",
    "                       '../features/test__203__agg_diff_from_first_some_data.pkl',\n",
    "                       '../features/test__004__cumsum_per_FlightRegime.pkl',\n",
    "                       '../features/test__005__count_FlightRegime.pkl'\n",
    "                       ]\n",
    "for file_path in test_features_path:\n",
    "    df_tmp = pd.read_pickle(file_path)\n",
    "    df_test = pd.concat([df_test, df_tmp], axis=1)"
   ]
  },
  {
   "cell_type": "code",
   "execution_count": 4,
   "metadata": {},
   "outputs": [],
   "source": [
    "target = pd.read_pickle('../features/target__000__raw_data.pkl')"
   ]
  },
  {
   "cell_type": "code",
   "execution_count": 5,
   "metadata": {},
   "outputs": [],
   "source": [
    "Engine_list_sort_by_length = list(df_train.EngineID.value_counts().index)\n",
    "folds_EngineID = []\n",
    "folds_EngineID.append(Engine_list_sort_by_length[0::10])\n",
    "folds_EngineID.append(Engine_list_sort_by_length[1::10])\n",
    "folds_EngineID.append(Engine_list_sort_by_length[2::10])\n",
    "folds_EngineID.append(Engine_list_sort_by_length[3::10])\n",
    "folds_EngineID.append(Engine_list_sort_by_length[4::10])\n",
    "folds_EngineID.append(Engine_list_sort_by_length[5::10])\n",
    "folds_EngineID.append(Engine_list_sort_by_length[6::10])\n",
    "folds_EngineID.append(Engine_list_sort_by_length[7::10])\n",
    "folds_EngineID.append(Engine_list_sort_by_length[8::10])\n",
    "folds_EngineID.append(Engine_list_sort_by_length[9::10])"
   ]
  },
  {
   "cell_type": "code",
   "execution_count": 6,
   "metadata": {},
   "outputs": [],
   "source": [
    "test_lastidx = df_test.groupby('EngineID').count().iloc[:, 0].values - 1\n",
    "test_lastidx = list(test_lastidx)"
   ]
  },
  {
   "cell_type": "code",
   "execution_count": 7,
   "metadata": {},
   "outputs": [
    {
     "name": "stdout",
     "output_type": "stream",
     "text": [
      "0\n",
      "1\n",
      "2\n",
      "3\n",
      "4\n",
      "5\n",
      "6\n",
      "7\n",
      "8\n",
      "9\n"
     ]
    }
   ],
   "source": [
    "train_idx = []\n",
    "for i in range(10):\n",
    "    print(i)\n",
    "    train_lastidx = df_test.groupby('EngineID').count().iloc[:, 0].values - i\n",
    "    train_idx.extend(list(train_lastidx))\n",
    "    train_lastidx = df_test.groupby('EngineID').count().iloc[:, 0].values + i\n",
    "    train_idx.extend(list(train_lastidx))\n",
    "train_idx = set(train_idx)"
   ]
  },
  {
   "cell_type": "code",
   "execution_count": null,
   "metadata": {},
   "outputs": [],
   "source": []
  },
  {
   "cell_type": "code",
   "execution_count": 8,
   "metadata": {},
   "outputs": [],
   "source": [
    "oof = df_train[['EngineID', 'EngineIndex', 'Flight Regime']]\n",
    "oof = pd.concat([oof, target[['lifespan']]], axis=1)\n",
    "oof['pre_lifespan_over100'] = np.nan\n",
    "oof['pre_lifespan_under100'] = np.nan\n",
    "oof['pre_border'] = np.nan\n",
    "oof['pre_all'] = np.nan\n",
    "oof = oof[oof['EngineIndex'].isin(test_lastidx)]"
   ]
  },
  {
   "cell_type": "code",
   "execution_count": 9,
   "metadata": {},
   "outputs": [
    {
     "data": {
      "text/html": [
       "<div>\n",
       "<style scoped>\n",
       "    .dataframe tbody tr th:only-of-type {\n",
       "        vertical-align: middle;\n",
       "    }\n",
       "\n",
       "    .dataframe tbody tr th {\n",
       "        vertical-align: top;\n",
       "    }\n",
       "\n",
       "    .dataframe thead th {\n",
       "        text-align: right;\n",
       "    }\n",
       "</style>\n",
       "<table border=\"1\" class=\"dataframe\">\n",
       "  <thead>\n",
       "    <tr style=\"text-align: right;\">\n",
       "      <th></th>\n",
       "      <th>EngineID</th>\n",
       "      <th>EngineIndex</th>\n",
       "      <th>Flight Regime</th>\n",
       "      <th>lifespan</th>\n",
       "      <th>pre_lifespan_over100</th>\n",
       "      <th>pre_lifespan_under100</th>\n",
       "      <th>pre_border</th>\n",
       "      <th>pre_all</th>\n",
       "    </tr>\n",
       "  </thead>\n",
       "  <tbody>\n",
       "    <tr>\n",
       "      <th>20</th>\n",
       "      <td>Train_Engine_001</td>\n",
       "      <td>20</td>\n",
       "      <td>6</td>\n",
       "      <td>128</td>\n",
       "      <td>NaN</td>\n",
       "      <td>NaN</td>\n",
       "      <td>NaN</td>\n",
       "      <td>NaN</td>\n",
       "    </tr>\n",
       "    <tr>\n",
       "      <th>21</th>\n",
       "      <td>Train_Engine_001</td>\n",
       "      <td>21</td>\n",
       "      <td>6</td>\n",
       "      <td>127</td>\n",
       "      <td>NaN</td>\n",
       "      <td>NaN</td>\n",
       "      <td>NaN</td>\n",
       "      <td>NaN</td>\n",
       "    </tr>\n",
       "    <tr>\n",
       "      <th>22</th>\n",
       "      <td>Train_Engine_001</td>\n",
       "      <td>22</td>\n",
       "      <td>6</td>\n",
       "      <td>126</td>\n",
       "      <td>NaN</td>\n",
       "      <td>NaN</td>\n",
       "      <td>NaN</td>\n",
       "      <td>NaN</td>\n",
       "    </tr>\n",
       "    <tr>\n",
       "      <th>30</th>\n",
       "      <td>Train_Engine_001</td>\n",
       "      <td>30</td>\n",
       "      <td>2</td>\n",
       "      <td>118</td>\n",
       "      <td>NaN</td>\n",
       "      <td>NaN</td>\n",
       "      <td>NaN</td>\n",
       "      <td>NaN</td>\n",
       "    </tr>\n",
       "    <tr>\n",
       "      <th>42</th>\n",
       "      <td>Train_Engine_001</td>\n",
       "      <td>42</td>\n",
       "      <td>6</td>\n",
       "      <td>106</td>\n",
       "      <td>NaN</td>\n",
       "      <td>NaN</td>\n",
       "      <td>NaN</td>\n",
       "      <td>NaN</td>\n",
       "    </tr>\n",
       "  </tbody>\n",
       "</table>\n",
       "</div>"
      ],
      "text/plain": [
       "            EngineID  EngineIndex  Flight Regime  lifespan  \\\n",
       "20  Train_Engine_001           20              6       128   \n",
       "21  Train_Engine_001           21              6       127   \n",
       "22  Train_Engine_001           22              6       126   \n",
       "30  Train_Engine_001           30              2       118   \n",
       "42  Train_Engine_001           42              6       106   \n",
       "\n",
       "    pre_lifespan_over100  pre_lifespan_under100  pre_border  pre_all  \n",
       "20                   NaN                    NaN         NaN      NaN  \n",
       "21                   NaN                    NaN         NaN      NaN  \n",
       "22                   NaN                    NaN         NaN      NaN  \n",
       "30                   NaN                    NaN         NaN      NaN  \n",
       "42                   NaN                    NaN         NaN      NaN  "
      ]
     },
     "execution_count": 9,
     "metadata": {},
     "output_type": "execute_result"
    }
   ],
   "source": [
    "oof.head()"
   ]
  },
  {
   "cell_type": "markdown",
   "metadata": {},
   "source": [
    "----------- lifespan が100以上 or 100未満を学習-----------  \n",
    "100以上:0, 100未満:1"
   ]
  },
  {
   "cell_type": "code",
   "execution_count": 10,
   "metadata": {},
   "outputs": [],
   "source": [
    "target_border = target[['lifespan', 'EngineID', 'EngineIndex', 'Flight Regime']].copy()\n",
    "target_border['target_border'] = np.nan\n",
    "target_border.loc[target_border['lifespan'] >= 100, 'target_border'] = 0\n",
    "target_border.loc[target_border['lifespan'] < 100, 'target_border'] = 1\n",
    "del target_border['lifespan']"
   ]
  },
  {
   "cell_type": "code",
   "execution_count": 11,
   "metadata": {},
   "outputs": [],
   "source": [
    "features = [c for c in df_train.columns if c not in ['Flight Regime', 'EngineID', 'EngineIndex']]\n",
    "categorical_feats = []"
   ]
  },
  {
   "cell_type": "code",
   "execution_count": 12,
   "metadata": {},
   "outputs": [],
   "source": [
    "param_border = {'num_leaves': 200,\n",
    "         'min_data_in_leaf': 60, \n",
    "         'objective':'binary',\n",
    "         'max_depth': -1,\n",
    "         'learning_rate': 0.1,\n",
    "         \"min_child_samples\": 20,\n",
    "         \"boosting\": \"gbdt\",\n",
    "         \"feature_fraction\": 0.8,\n",
    "         \"bagging_freq\": 1,\n",
    "         \"bagging_fraction\": 0.8 ,\n",
    "         \"bagging_seed\": 17,\n",
    "         \"metric\": 'auc',\n",
    "         \"lambda_l1\": 0.1,\n",
    "         \"verbosity\": -1,\n",
    "         \"random_state\": 133,\n",
    "         \"n_jobs\":-1}\n",
    "num_round = 1000\n",
    "predictions = np.zeros(len(df_test))\n",
    "start = time.time()\n",
    "feature_importance_list = []"
   ]
  },
  {
   "cell_type": "code",
   "execution_count": 13,
   "metadata": {},
   "outputs": [
    {
     "name": "stderr",
     "output_type": "stream",
     "text": [
      "\r",
      "  0%|                                                                                            | 0/6 [00:00<?, ?it/s]"
     ]
    },
    {
     "name": "stdout",
     "output_type": "stream",
     "text": [
      "fold n°0\n"
     ]
    },
    {
     "name": "stderr",
     "output_type": "stream",
     "text": [
      "C:\\Users\\linda\\Anaconda3\\lib\\site-packages\\lightgbm\\basic.py:1186: UserWarning: Using categorical_feature in Dataset.\n",
      "  warnings.warn('Using categorical_feature in Dataset.')\n"
     ]
    },
    {
     "name": "stdout",
     "output_type": "stream",
     "text": [
      "Training until validation scores don't improve for 200 rounds.\n",
      "[100]\ttraining's auc: 1\tvalid_1's auc: 0.939397\n",
      "[200]\ttraining's auc: 1\tvalid_1's auc: 0.939248\n",
      "Early stopping, best iteration is:\n",
      "[14]\ttraining's auc: 0.988915\tvalid_1's auc: 0.943563\n",
      "fold n°1\n"
     ]
    },
    {
     "name": "stderr",
     "output_type": "stream",
     "text": [
      "C:\\Users\\linda\\Anaconda3\\lib\\site-packages\\lightgbm\\basic.py:1186: UserWarning: Using categorical_feature in Dataset.\n",
      "  warnings.warn('Using categorical_feature in Dataset.')\n"
     ]
    },
    {
     "name": "stdout",
     "output_type": "stream",
     "text": [
      "Training until validation scores don't improve for 200 rounds.\n",
      "[100]\ttraining's auc: 0.999937\tvalid_1's auc: 0.934497\n",
      "[200]\ttraining's auc: 1\tvalid_1's auc: 0.931479\n",
      "Early stopping, best iteration is:\n",
      "[34]\ttraining's auc: 0.997933\tvalid_1's auc: 0.943855\n",
      "fold n°2\n"
     ]
    },
    {
     "name": "stderr",
     "output_type": "stream",
     "text": [
      "C:\\Users\\linda\\Anaconda3\\lib\\site-packages\\lightgbm\\basic.py:1186: UserWarning: Using categorical_feature in Dataset.\n",
      "  warnings.warn('Using categorical_feature in Dataset.')\n"
     ]
    },
    {
     "name": "stdout",
     "output_type": "stream",
     "text": [
      "Training until validation scores don't improve for 200 rounds.\n",
      "[100]\ttraining's auc: 1\tvalid_1's auc: 0.95961\n",
      "[200]\ttraining's auc: 1\tvalid_1's auc: 0.963689\n",
      "Early stopping, best iteration is:\n",
      "[74]\ttraining's auc: 1\tvalid_1's auc: 0.962783\n",
      "fold n°3\n"
     ]
    },
    {
     "name": "stderr",
     "output_type": "stream",
     "text": [
      "C:\\Users\\linda\\Anaconda3\\lib\\site-packages\\lightgbm\\basic.py:1186: UserWarning: Using categorical_feature in Dataset.\n",
      "  warnings.warn('Using categorical_feature in Dataset.')\n"
     ]
    },
    {
     "name": "stdout",
     "output_type": "stream",
     "text": [
      "Training until validation scores don't improve for 200 rounds.\n",
      "[100]\ttraining's auc: 1\tvalid_1's auc: 0.933602\n",
      "[200]\ttraining's auc: 1\tvalid_1's auc: 0.93106\n",
      "Early stopping, best iteration is:\n",
      "[62]\ttraining's auc: 0.999974\tvalid_1's auc: 0.936355\n",
      "fold n°4\n"
     ]
    },
    {
     "name": "stderr",
     "output_type": "stream",
     "text": [
      "C:\\Users\\linda\\Anaconda3\\lib\\site-packages\\lightgbm\\basic.py:1186: UserWarning: Using categorical_feature in Dataset.\n",
      "  warnings.warn('Using categorical_feature in Dataset.')\n"
     ]
    },
    {
     "name": "stdout",
     "output_type": "stream",
     "text": [
      "Training until validation scores don't improve for 200 rounds.\n",
      "[100]\ttraining's auc: 1\tvalid_1's auc: 0.930874\n",
      "[200]\ttraining's auc: 1\tvalid_1's auc: 0.931641\n",
      "Early stopping, best iteration is:\n",
      "[75]\ttraining's auc: 1\tvalid_1's auc: 0.934475\n",
      "fold n°5\n"
     ]
    },
    {
     "name": "stderr",
     "output_type": "stream",
     "text": [
      "C:\\Users\\linda\\Anaconda3\\lib\\site-packages\\lightgbm\\basic.py:1186: UserWarning: Using categorical_feature in Dataset.\n",
      "  warnings.warn('Using categorical_feature in Dataset.')\n"
     ]
    },
    {
     "name": "stdout",
     "output_type": "stream",
     "text": [
      "Training until validation scores don't improve for 200 rounds.\n",
      "[100]\ttraining's auc: 1\tvalid_1's auc: 0.945681\n",
      "[200]\ttraining's auc: 1\tvalid_1's auc: 0.945822\n",
      "Early stopping, best iteration is:\n",
      "[46]\ttraining's auc: 0.999473\tvalid_1's auc: 0.949484\n",
      "fold n°6\n"
     ]
    },
    {
     "name": "stderr",
     "output_type": "stream",
     "text": [
      "C:\\Users\\linda\\Anaconda3\\lib\\site-packages\\lightgbm\\basic.py:1186: UserWarning: Using categorical_feature in Dataset.\n",
      "  warnings.warn('Using categorical_feature in Dataset.')\n"
     ]
    },
    {
     "name": "stdout",
     "output_type": "stream",
     "text": [
      "Training until validation scores don't improve for 200 rounds.\n",
      "[100]\ttraining's auc: 1\tvalid_1's auc: 0.952608\n",
      "[200]\ttraining's auc: 1\tvalid_1's auc: 0.954358\n",
      "Early stopping, best iteration is:\n",
      "[79]\ttraining's auc: 1\tvalid_1's auc: 0.95388\n",
      "fold n°7\n"
     ]
    },
    {
     "name": "stderr",
     "output_type": "stream",
     "text": [
      "C:\\Users\\linda\\Anaconda3\\lib\\site-packages\\lightgbm\\basic.py:1186: UserWarning: Using categorical_feature in Dataset.\n",
      "  warnings.warn('Using categorical_feature in Dataset.')\n"
     ]
    },
    {
     "name": "stdout",
     "output_type": "stream",
     "text": [
      "Training until validation scores don't improve for 200 rounds.\n",
      "[100]\ttraining's auc: 1\tvalid_1's auc: 0.951561\n",
      "[200]\ttraining's auc: 1\tvalid_1's auc: 0.953454\n",
      "Early stopping, best iteration is:\n",
      "[83]\ttraining's auc: 1\tvalid_1's auc: 0.949178\n",
      "fold n°8\n"
     ]
    },
    {
     "name": "stderr",
     "output_type": "stream",
     "text": [
      "C:\\Users\\linda\\Anaconda3\\lib\\site-packages\\lightgbm\\basic.py:1186: UserWarning: Using categorical_feature in Dataset.\n",
      "  warnings.warn('Using categorical_feature in Dataset.')\n"
     ]
    },
    {
     "name": "stdout",
     "output_type": "stream",
     "text": [
      "Training until validation scores don't improve for 200 rounds.\n",
      "[100]\ttraining's auc: 1\tvalid_1's auc: 0.924574\n",
      "[200]\ttraining's auc: 1\tvalid_1's auc: 0.924204\n",
      "Early stopping, best iteration is:\n",
      "[78]\ttraining's auc: 1\tvalid_1's auc: 0.921559\n",
      "fold n°9\n"
     ]
    },
    {
     "name": "stderr",
     "output_type": "stream",
     "text": [
      "C:\\Users\\linda\\Anaconda3\\lib\\site-packages\\lightgbm\\basic.py:1186: UserWarning: Using categorical_feature in Dataset.\n",
      "  warnings.warn('Using categorical_feature in Dataset.')\n"
     ]
    },
    {
     "name": "stdout",
     "output_type": "stream",
     "text": [
      "Training until validation scores don't improve for 200 rounds.\n",
      "[100]\ttraining's auc: 1\tvalid_1's auc: 0.925099\n",
      "[200]\ttraining's auc: 1\tvalid_1's auc: 0.928156\n",
      "Early stopping, best iteration is:\n",
      "[40]\ttraining's auc: 0.999167\tvalid_1's auc: 0.931114\n"
     ]
    },
    {
     "name": "stderr",
     "output_type": "stream",
     "text": [
      "\r",
      " 17%|█████████████▊                                                                     | 1/6 [02:35<12:56, 155.29s/it]"
     ]
    },
    {
     "name": "stdout",
     "output_type": "stream",
     "text": [
      "fold n°0\n"
     ]
    },
    {
     "name": "stderr",
     "output_type": "stream",
     "text": [
      "C:\\Users\\linda\\Anaconda3\\lib\\site-packages\\lightgbm\\basic.py:1186: UserWarning: Using categorical_feature in Dataset.\n",
      "  warnings.warn('Using categorical_feature in Dataset.')\n"
     ]
    },
    {
     "name": "stdout",
     "output_type": "stream",
     "text": [
      "Training until validation scores don't improve for 200 rounds.\n",
      "[100]\ttraining's auc: 0.999999\tvalid_1's auc: 0.945131\n",
      "[200]\ttraining's auc: 1\tvalid_1's auc: 0.945537\n",
      "[300]\ttraining's auc: 1\tvalid_1's auc: 0.947056\n",
      "Early stopping, best iteration is:\n",
      "[114]\ttraining's auc: 0.999999\tvalid_1's auc: 0.94731\n",
      "fold n°1\n"
     ]
    },
    {
     "name": "stderr",
     "output_type": "stream",
     "text": [
      "C:\\Users\\linda\\Anaconda3\\lib\\site-packages\\lightgbm\\basic.py:1186: UserWarning: Using categorical_feature in Dataset.\n",
      "  warnings.warn('Using categorical_feature in Dataset.')\n"
     ]
    },
    {
     "name": "stdout",
     "output_type": "stream",
     "text": [
      "Training until validation scores don't improve for 200 rounds.\n",
      "[100]\ttraining's auc: 1\tvalid_1's auc: 0.946375\n",
      "[200]\ttraining's auc: 1\tvalid_1's auc: 0.947001\n",
      "Early stopping, best iteration is:\n",
      "[75]\ttraining's auc: 1\tvalid_1's auc: 0.946948\n",
      "fold n°2\n"
     ]
    },
    {
     "name": "stderr",
     "output_type": "stream",
     "text": [
      "C:\\Users\\linda\\Anaconda3\\lib\\site-packages\\lightgbm\\basic.py:1186: UserWarning: Using categorical_feature in Dataset.\n",
      "  warnings.warn('Using categorical_feature in Dataset.')\n"
     ]
    },
    {
     "name": "stdout",
     "output_type": "stream",
     "text": [
      "Training until validation scores don't improve for 200 rounds.\n",
      "[100]\ttraining's auc: 1\tvalid_1's auc: 0.942843\n",
      "[200]\ttraining's auc: 1\tvalid_1's auc: 0.942133\n",
      "Early stopping, best iteration is:\n",
      "[71]\ttraining's auc: 1\tvalid_1's auc: 0.943116\n",
      "fold n°3\n"
     ]
    },
    {
     "name": "stderr",
     "output_type": "stream",
     "text": [
      "C:\\Users\\linda\\Anaconda3\\lib\\site-packages\\lightgbm\\basic.py:1186: UserWarning: Using categorical_feature in Dataset.\n",
      "  warnings.warn('Using categorical_feature in Dataset.')\n"
     ]
    },
    {
     "name": "stdout",
     "output_type": "stream",
     "text": [
      "Training until validation scores don't improve for 200 rounds.\n",
      "[100]\ttraining's auc: 1\tvalid_1's auc: 0.909109\n",
      "[200]\ttraining's auc: 1\tvalid_1's auc: 0.914581\n",
      "Early stopping, best iteration is:\n",
      "[73]\ttraining's auc: 1\tvalid_1's auc: 0.909464\n",
      "fold n°4\n"
     ]
    },
    {
     "name": "stderr",
     "output_type": "stream",
     "text": [
      "C:\\Users\\linda\\Anaconda3\\lib\\site-packages\\lightgbm\\basic.py:1186: UserWarning: Using categorical_feature in Dataset.\n",
      "  warnings.warn('Using categorical_feature in Dataset.')\n"
     ]
    },
    {
     "name": "stdout",
     "output_type": "stream",
     "text": [
      "Training until validation scores don't improve for 200 rounds.\n",
      "[100]\ttraining's auc: 1\tvalid_1's auc: 0.890864\n",
      "[200]\ttraining's auc: 1\tvalid_1's auc: 0.888954\n",
      "Early stopping, best iteration is:\n",
      "[12]\ttraining's auc: 0.988228\tvalid_1's auc: 0.900607\n",
      "fold n°5\n"
     ]
    },
    {
     "name": "stderr",
     "output_type": "stream",
     "text": [
      "C:\\Users\\linda\\Anaconda3\\lib\\site-packages\\lightgbm\\basic.py:1186: UserWarning: Using categorical_feature in Dataset.\n",
      "  warnings.warn('Using categorical_feature in Dataset.')\n"
     ]
    },
    {
     "name": "stdout",
     "output_type": "stream",
     "text": [
      "Training until validation scores don't improve for 200 rounds.\n",
      "[100]\ttraining's auc: 1\tvalid_1's auc: 0.920995\n",
      "[200]\ttraining's auc: 1\tvalid_1's auc: 0.925472\n",
      "Early stopping, best iteration is:\n",
      "[66]\ttraining's auc: 1\tvalid_1's auc: 0.920719\n",
      "fold n°6\n"
     ]
    },
    {
     "name": "stderr",
     "output_type": "stream",
     "text": [
      "C:\\Users\\linda\\Anaconda3\\lib\\site-packages\\lightgbm\\basic.py:1186: UserWarning: Using categorical_feature in Dataset.\n",
      "  warnings.warn('Using categorical_feature in Dataset.')\n"
     ]
    },
    {
     "name": "stdout",
     "output_type": "stream",
     "text": [
      "Training until validation scores don't improve for 200 rounds.\n",
      "[100]\ttraining's auc: 0.999996\tvalid_1's auc: 0.933344\n",
      "[200]\ttraining's auc: 1\tvalid_1's auc: 0.93441\n",
      "[300]\ttraining's auc: 1\tvalid_1's auc: 0.937127\n",
      "Early stopping, best iteration is:\n",
      "[191]\ttraining's auc: 1\tvalid_1's auc: 0.934516\n",
      "fold n°7\n"
     ]
    },
    {
     "name": "stderr",
     "output_type": "stream",
     "text": [
      "C:\\Users\\linda\\Anaconda3\\lib\\site-packages\\lightgbm\\basic.py:1186: UserWarning: Using categorical_feature in Dataset.\n",
      "  warnings.warn('Using categorical_feature in Dataset.')\n"
     ]
    },
    {
     "name": "stdout",
     "output_type": "stream",
     "text": [
      "Training until validation scores don't improve for 200 rounds.\n",
      "[100]\ttraining's auc: 1\tvalid_1's auc: 0.93583\n",
      "[200]\ttraining's auc: 1\tvalid_1's auc: 0.932296\n",
      "Early stopping, best iteration is:\n",
      "[80]\ttraining's auc: 1\tvalid_1's auc: 0.932234\n",
      "fold n°8\n"
     ]
    },
    {
     "name": "stderr",
     "output_type": "stream",
     "text": [
      "C:\\Users\\linda\\Anaconda3\\lib\\site-packages\\lightgbm\\basic.py:1186: UserWarning: Using categorical_feature in Dataset.\n",
      "  warnings.warn('Using categorical_feature in Dataset.')\n"
     ]
    },
    {
     "name": "stdout",
     "output_type": "stream",
     "text": [
      "Training until validation scores don't improve for 200 rounds.\n",
      "[100]\ttraining's auc: 1\tvalid_1's auc: 0.935104\n",
      "[200]\ttraining's auc: 1\tvalid_1's auc: 0.93079\n",
      "Early stopping, best iteration is:\n",
      "[47]\ttraining's auc: 0.999865\tvalid_1's auc: 0.938864\n",
      "fold n°9\n"
     ]
    },
    {
     "name": "stderr",
     "output_type": "stream",
     "text": [
      "C:\\Users\\linda\\Anaconda3\\lib\\site-packages\\lightgbm\\basic.py:1186: UserWarning: Using categorical_feature in Dataset.\n",
      "  warnings.warn('Using categorical_feature in Dataset.')\n"
     ]
    },
    {
     "name": "stdout",
     "output_type": "stream",
     "text": [
      "Training until validation scores don't improve for 200 rounds.\n",
      "[100]\ttraining's auc: 1\tvalid_1's auc: 0.95664\n",
      "[200]\ttraining's auc: 1\tvalid_1's auc: 0.9592\n",
      "Early stopping, best iteration is:\n",
      "[78]\ttraining's auc: 1\tvalid_1's auc: 0.955787\n"
     ]
    },
    {
     "name": "stderr",
     "output_type": "stream",
     "text": [
      "\r",
      " 33%|███████████████████████████▋                                                       | 2/6 [05:16<10:28, 157.20s/it]"
     ]
    },
    {
     "name": "stdout",
     "output_type": "stream",
     "text": [
      "fold n°0\n"
     ]
    },
    {
     "name": "stderr",
     "output_type": "stream",
     "text": [
      "C:\\Users\\linda\\Anaconda3\\lib\\site-packages\\lightgbm\\basic.py:1186: UserWarning: Using categorical_feature in Dataset.\n",
      "  warnings.warn('Using categorical_feature in Dataset.')\n"
     ]
    },
    {
     "name": "stdout",
     "output_type": "stream",
     "text": [
      "Training until validation scores don't improve for 200 rounds.\n",
      "[100]\ttraining's auc: 1\tvalid_1's auc: 0.948793\n",
      "[200]\ttraining's auc: 1\tvalid_1's auc: 0.950696\n",
      "Early stopping, best iteration is:\n",
      "[88]\ttraining's auc: 1\tvalid_1's auc: 0.949717\n",
      "fold n°1\n"
     ]
    },
    {
     "name": "stderr",
     "output_type": "stream",
     "text": [
      "C:\\Users\\linda\\Anaconda3\\lib\\site-packages\\lightgbm\\basic.py:1186: UserWarning: Using categorical_feature in Dataset.\n",
      "  warnings.warn('Using categorical_feature in Dataset.')\n"
     ]
    },
    {
     "name": "stdout",
     "output_type": "stream",
     "text": [
      "Training until validation scores don't improve for 200 rounds.\n",
      "[100]\ttraining's auc: 1\tvalid_1's auc: 0.948538\n",
      "[200]\ttraining's auc: 1\tvalid_1's auc: 0.950323\n",
      "Early stopping, best iteration is:\n",
      "[87]\ttraining's auc: 1\tvalid_1's auc: 0.950743\n",
      "fold n°2\n"
     ]
    },
    {
     "name": "stderr",
     "output_type": "stream",
     "text": [
      "C:\\Users\\linda\\Anaconda3\\lib\\site-packages\\lightgbm\\basic.py:1186: UserWarning: Using categorical_feature in Dataset.\n",
      "  warnings.warn('Using categorical_feature in Dataset.')\n"
     ]
    },
    {
     "name": "stdout",
     "output_type": "stream",
     "text": [
      "Training until validation scores don't improve for 200 rounds.\n",
      "[100]\ttraining's auc: 1\tvalid_1's auc: 0.954733\n",
      "[200]\ttraining's auc: 1\tvalid_1's auc: 0.955921\n",
      "Early stopping, best iteration is:\n",
      "[81]\ttraining's auc: 1\tvalid_1's auc: 0.954281\n",
      "fold n°3\n"
     ]
    },
    {
     "name": "stderr",
     "output_type": "stream",
     "text": [
      "C:\\Users\\linda\\Anaconda3\\lib\\site-packages\\lightgbm\\basic.py:1186: UserWarning: Using categorical_feature in Dataset.\n",
      "  warnings.warn('Using categorical_feature in Dataset.')\n"
     ]
    },
    {
     "name": "stdout",
     "output_type": "stream",
     "text": [
      "Training until validation scores don't improve for 200 rounds.\n",
      "[100]\ttraining's auc: 1\tvalid_1's auc: 0.93367\n",
      "[200]\ttraining's auc: 1\tvalid_1's auc: 0.935112\n",
      "Early stopping, best iteration is:\n",
      "[81]\ttraining's auc: 1\tvalid_1's auc: 0.93409\n",
      "fold n°4\n"
     ]
    },
    {
     "name": "stderr",
     "output_type": "stream",
     "text": [
      "C:\\Users\\linda\\Anaconda3\\lib\\site-packages\\lightgbm\\basic.py:1186: UserWarning: Using categorical_feature in Dataset.\n",
      "  warnings.warn('Using categorical_feature in Dataset.')\n"
     ]
    },
    {
     "name": "stdout",
     "output_type": "stream",
     "text": [
      "Training until validation scores don't improve for 200 rounds.\n",
      "[100]\ttraining's auc: 1\tvalid_1's auc: 0.966929\n",
      "[200]\ttraining's auc: 1\tvalid_1's auc: 0.965167\n",
      "Early stopping, best iteration is:\n",
      "[86]\ttraining's auc: 1\tvalid_1's auc: 0.96734\n",
      "fold n°5\n"
     ]
    },
    {
     "name": "stderr",
     "output_type": "stream",
     "text": [
      "C:\\Users\\linda\\Anaconda3\\lib\\site-packages\\lightgbm\\basic.py:1186: UserWarning: Using categorical_feature in Dataset.\n",
      "  warnings.warn('Using categorical_feature in Dataset.')\n"
     ]
    },
    {
     "name": "stdout",
     "output_type": "stream",
     "text": [
      "Training until validation scores don't improve for 200 rounds.\n",
      "[100]\ttraining's auc: 1\tvalid_1's auc: 0.903824\n",
      "[200]\ttraining's auc: 1\tvalid_1's auc: 0.904698\n",
      "Early stopping, best iteration is:\n",
      "[4]\ttraining's auc: 0.980231\tvalid_1's auc: 0.91043\n",
      "fold n°6\n"
     ]
    },
    {
     "name": "stderr",
     "output_type": "stream",
     "text": [
      "C:\\Users\\linda\\Anaconda3\\lib\\site-packages\\lightgbm\\basic.py:1186: UserWarning: Using categorical_feature in Dataset.\n",
      "  warnings.warn('Using categorical_feature in Dataset.')\n"
     ]
    },
    {
     "name": "stdout",
     "output_type": "stream",
     "text": [
      "Training until validation scores don't improve for 200 rounds.\n",
      "[100]\ttraining's auc: 1\tvalid_1's auc: 0.929151\n",
      "[200]\ttraining's auc: 1\tvalid_1's auc: 0.932368\n",
      "Early stopping, best iteration is:\n",
      "[83]\ttraining's auc: 1\tvalid_1's auc: 0.926705\n",
      "fold n°7\n"
     ]
    },
    {
     "name": "stderr",
     "output_type": "stream",
     "text": [
      "C:\\Users\\linda\\Anaconda3\\lib\\site-packages\\lightgbm\\basic.py:1186: UserWarning: Using categorical_feature in Dataset.\n",
      "  warnings.warn('Using categorical_feature in Dataset.')\n"
     ]
    },
    {
     "name": "stdout",
     "output_type": "stream",
     "text": [
      "Training until validation scores don't improve for 200 rounds.\n",
      "[100]\ttraining's auc: 0.999994\tvalid_1's auc: 0.960311\n",
      "[200]\ttraining's auc: 1\tvalid_1's auc: 0.962598\n",
      "Early stopping, best iteration is:\n",
      "[23]\ttraining's auc: 0.995293\tvalid_1's auc: 0.964195\n",
      "fold n°8\n"
     ]
    },
    {
     "name": "stderr",
     "output_type": "stream",
     "text": [
      "C:\\Users\\linda\\Anaconda3\\lib\\site-packages\\lightgbm\\basic.py:1186: UserWarning: Using categorical_feature in Dataset.\n",
      "  warnings.warn('Using categorical_feature in Dataset.')\n"
     ]
    },
    {
     "name": "stdout",
     "output_type": "stream",
     "text": [
      "Training until validation scores don't improve for 200 rounds.\n",
      "[100]\ttraining's auc: 1\tvalid_1's auc: 0.918653\n",
      "[200]\ttraining's auc: 1\tvalid_1's auc: 0.921974\n",
      "Early stopping, best iteration is:\n",
      "[26]\ttraining's auc: 0.996995\tvalid_1's auc: 0.929841\n",
      "fold n°9\n"
     ]
    },
    {
     "name": "stderr",
     "output_type": "stream",
     "text": [
      "C:\\Users\\linda\\Anaconda3\\lib\\site-packages\\lightgbm\\basic.py:1186: UserWarning: Using categorical_feature in Dataset.\n",
      "  warnings.warn('Using categorical_feature in Dataset.')\n"
     ]
    },
    {
     "name": "stdout",
     "output_type": "stream",
     "text": [
      "Training until validation scores don't improve for 200 rounds.\n",
      "[100]\ttraining's auc: 1\tvalid_1's auc: 0.932495\n",
      "[200]\ttraining's auc: 1\tvalid_1's auc: 0.935298\n",
      "Early stopping, best iteration is:\n",
      "[40]\ttraining's auc: 0.999271\tvalid_1's auc: 0.93573\n"
     ]
    },
    {
     "name": "stderr",
     "output_type": "stream",
     "text": [
      "\r",
      " 50%|█████████████████████████████████████████▌                                         | 3/6 [07:53<07:51, 157.11s/it]"
     ]
    },
    {
     "name": "stdout",
     "output_type": "stream",
     "text": [
      "fold n°0\n"
     ]
    },
    {
     "name": "stderr",
     "output_type": "stream",
     "text": [
      "C:\\Users\\linda\\Anaconda3\\lib\\site-packages\\lightgbm\\basic.py:1186: UserWarning: Using categorical_feature in Dataset.\n",
      "  warnings.warn('Using categorical_feature in Dataset.')\n"
     ]
    },
    {
     "name": "stdout",
     "output_type": "stream",
     "text": [
      "Training until validation scores don't improve for 200 rounds.\n",
      "[100]\ttraining's auc: 1\tvalid_1's auc: 0.954419\n",
      "[200]\ttraining's auc: 1\tvalid_1's auc: 0.953346\n",
      "Early stopping, best iteration is:\n",
      "[43]\ttraining's auc: 0.999461\tvalid_1's auc: 0.958902\n",
      "fold n°1\n"
     ]
    },
    {
     "name": "stderr",
     "output_type": "stream",
     "text": [
      "C:\\Users\\linda\\Anaconda3\\lib\\site-packages\\lightgbm\\basic.py:1186: UserWarning: Using categorical_feature in Dataset.\n",
      "  warnings.warn('Using categorical_feature in Dataset.')\n"
     ]
    },
    {
     "name": "stdout",
     "output_type": "stream",
     "text": [
      "Training until validation scores don't improve for 200 rounds.\n",
      "[100]\ttraining's auc: 1\tvalid_1's auc: 0.923077\n",
      "[200]\ttraining's auc: 1\tvalid_1's auc: 0.924858\n",
      "Early stopping, best iteration is:\n",
      "[77]\ttraining's auc: 1\tvalid_1's auc: 0.921652\n",
      "fold n°2\n"
     ]
    },
    {
     "name": "stderr",
     "output_type": "stream",
     "text": [
      "C:\\Users\\linda\\Anaconda3\\lib\\site-packages\\lightgbm\\basic.py:1186: UserWarning: Using categorical_feature in Dataset.\n",
      "  warnings.warn('Using categorical_feature in Dataset.')\n"
     ]
    },
    {
     "name": "stdout",
     "output_type": "stream",
     "text": [
      "Training until validation scores don't improve for 200 rounds.\n",
      "[100]\ttraining's auc: 1\tvalid_1's auc: 0.958942\n",
      "[200]\ttraining's auc: 1\tvalid_1's auc: 0.960952\n",
      "Early stopping, best iteration is:\n",
      "[26]\ttraining's auc: 0.996101\tvalid_1's auc: 0.963651\n",
      "fold n°3\n"
     ]
    },
    {
     "name": "stderr",
     "output_type": "stream",
     "text": [
      "C:\\Users\\linda\\Anaconda3\\lib\\site-packages\\lightgbm\\basic.py:1186: UserWarning: Using categorical_feature in Dataset.\n",
      "  warnings.warn('Using categorical_feature in Dataset.')\n"
     ]
    },
    {
     "name": "stdout",
     "output_type": "stream",
     "text": [
      "Training until validation scores don't improve for 200 rounds.\n",
      "[100]\ttraining's auc: 1\tvalid_1's auc: 0.953228\n",
      "[200]\ttraining's auc: 1\tvalid_1's auc: 0.951496\n",
      "Early stopping, best iteration is:\n",
      "[85]\ttraining's auc: 1\tvalid_1's auc: 0.952336\n",
      "fold n°4\n"
     ]
    },
    {
     "name": "stderr",
     "output_type": "stream",
     "text": [
      "C:\\Users\\linda\\Anaconda3\\lib\\site-packages\\lightgbm\\basic.py:1186: UserWarning: Using categorical_feature in Dataset.\n",
      "  warnings.warn('Using categorical_feature in Dataset.')\n"
     ]
    },
    {
     "name": "stdout",
     "output_type": "stream",
     "text": [
      "Training until validation scores don't improve for 200 rounds.\n",
      "[100]\ttraining's auc: 1\tvalid_1's auc: 0.920733\n",
      "[200]\ttraining's auc: 1\tvalid_1's auc: 0.918375\n",
      "Early stopping, best iteration is:\n",
      "[28]\ttraining's auc: 0.996951\tvalid_1's auc: 0.934458\n",
      "fold n°5\n"
     ]
    },
    {
     "name": "stderr",
     "output_type": "stream",
     "text": [
      "C:\\Users\\linda\\Anaconda3\\lib\\site-packages\\lightgbm\\basic.py:1186: UserWarning: Using categorical_feature in Dataset.\n",
      "  warnings.warn('Using categorical_feature in Dataset.')\n"
     ]
    },
    {
     "name": "stdout",
     "output_type": "stream",
     "text": [
      "Training until validation scores don't improve for 200 rounds.\n",
      "[100]\ttraining's auc: 0.999987\tvalid_1's auc: 0.920265\n",
      "[200]\ttraining's auc: 1\tvalid_1's auc: 0.922159\n",
      "Early stopping, best iteration is:\n",
      "[89]\ttraining's auc: 0.999986\tvalid_1's auc: 0.923359\n",
      "fold n°6\n"
     ]
    },
    {
     "name": "stderr",
     "output_type": "stream",
     "text": [
      "C:\\Users\\linda\\Anaconda3\\lib\\site-packages\\lightgbm\\basic.py:1186: UserWarning: Using categorical_feature in Dataset.\n",
      "  warnings.warn('Using categorical_feature in Dataset.')\n"
     ]
    },
    {
     "name": "stdout",
     "output_type": "stream",
     "text": [
      "Training until validation scores don't improve for 200 rounds.\n",
      "[100]\ttraining's auc: 1\tvalid_1's auc: 0.9367\n",
      "[200]\ttraining's auc: 1\tvalid_1's auc: 0.93623\n",
      "Early stopping, best iteration is:\n",
      "[51]\ttraining's auc: 0.999834\tvalid_1's auc: 0.939225\n",
      "fold n°7\n"
     ]
    },
    {
     "name": "stderr",
     "output_type": "stream",
     "text": [
      "C:\\Users\\linda\\Anaconda3\\lib\\site-packages\\lightgbm\\basic.py:1186: UserWarning: Using categorical_feature in Dataset.\n",
      "  warnings.warn('Using categorical_feature in Dataset.')\n"
     ]
    },
    {
     "name": "stdout",
     "output_type": "stream",
     "text": [
      "Training until validation scores don't improve for 200 rounds.\n",
      "[100]\ttraining's auc: 1\tvalid_1's auc: 0.952196\n",
      "[200]\ttraining's auc: 1\tvalid_1's auc: 0.955761\n",
      "Early stopping, best iteration is:\n",
      "[74]\ttraining's auc: 1\tvalid_1's auc: 0.951351\n",
      "fold n°8\n"
     ]
    },
    {
     "name": "stderr",
     "output_type": "stream",
     "text": [
      "C:\\Users\\linda\\Anaconda3\\lib\\site-packages\\lightgbm\\basic.py:1186: UserWarning: Using categorical_feature in Dataset.\n",
      "  warnings.warn('Using categorical_feature in Dataset.')\n"
     ]
    },
    {
     "name": "stdout",
     "output_type": "stream",
     "text": [
      "Training until validation scores don't improve for 200 rounds.\n",
      "[100]\ttraining's auc: 1\tvalid_1's auc: 0.940467\n",
      "[200]\ttraining's auc: 1\tvalid_1's auc: 0.941868\n",
      "Early stopping, best iteration is:\n",
      "[24]\ttraining's auc: 0.995718\tvalid_1's auc: 0.949233\n",
      "fold n°9\n"
     ]
    },
    {
     "name": "stderr",
     "output_type": "stream",
     "text": [
      "C:\\Users\\linda\\Anaconda3\\lib\\site-packages\\lightgbm\\basic.py:1186: UserWarning: Using categorical_feature in Dataset.\n",
      "  warnings.warn('Using categorical_feature in Dataset.')\n"
     ]
    },
    {
     "name": "stdout",
     "output_type": "stream",
     "text": [
      "Training until validation scores don't improve for 200 rounds.\n",
      "[100]\ttraining's auc: 1\tvalid_1's auc: 0.956631\n",
      "[200]\ttraining's auc: 1\tvalid_1's auc: 0.961159\n",
      "Early stopping, best iteration is:\n",
      "[72]\ttraining's auc: 1\tvalid_1's auc: 0.953807\n"
     ]
    },
    {
     "name": "stderr",
     "output_type": "stream",
     "text": [
      "\r",
      " 67%|███████████████████████████████████████████████████████▎                           | 4/6 [10:23<05:10, 155.01s/it]"
     ]
    },
    {
     "name": "stdout",
     "output_type": "stream",
     "text": [
      "fold n°0\n"
     ]
    },
    {
     "name": "stderr",
     "output_type": "stream",
     "text": [
      "C:\\Users\\linda\\Anaconda3\\lib\\site-packages\\lightgbm\\basic.py:1186: UserWarning: Using categorical_feature in Dataset.\n",
      "  warnings.warn('Using categorical_feature in Dataset.')\n"
     ]
    },
    {
     "name": "stdout",
     "output_type": "stream",
     "text": [
      "Training until validation scores don't improve for 200 rounds.\n",
      "[100]\ttraining's auc: 1\tvalid_1's auc: 0.940178\n",
      "[200]\ttraining's auc: 1\tvalid_1's auc: 0.939399\n",
      "Early stopping, best iteration is:\n",
      "[62]\ttraining's auc: 0.999992\tvalid_1's auc: 0.94428\n",
      "fold n°1\n"
     ]
    },
    {
     "name": "stderr",
     "output_type": "stream",
     "text": [
      "C:\\Users\\linda\\Anaconda3\\lib\\site-packages\\lightgbm\\basic.py:1186: UserWarning: Using categorical_feature in Dataset.\n",
      "  warnings.warn('Using categorical_feature in Dataset.')\n"
     ]
    },
    {
     "name": "stdout",
     "output_type": "stream",
     "text": [
      "Training until validation scores don't improve for 200 rounds.\n",
      "[100]\ttraining's auc: 1\tvalid_1's auc: 0.940607\n",
      "[200]\ttraining's auc: 1\tvalid_1's auc: 0.939579\n",
      "Early stopping, best iteration is:\n",
      "[41]\ttraining's auc: 0.999086\tvalid_1's auc: 0.950587\n",
      "fold n°2\n"
     ]
    },
    {
     "name": "stderr",
     "output_type": "stream",
     "text": [
      "C:\\Users\\linda\\Anaconda3\\lib\\site-packages\\lightgbm\\basic.py:1186: UserWarning: Using categorical_feature in Dataset.\n",
      "  warnings.warn('Using categorical_feature in Dataset.')\n"
     ]
    },
    {
     "name": "stdout",
     "output_type": "stream",
     "text": [
      "Training until validation scores don't improve for 200 rounds.\n",
      "[100]\ttraining's auc: 1\tvalid_1's auc: 0.966911\n",
      "[200]\ttraining's auc: 1\tvalid_1's auc: 0.969597\n",
      "Early stopping, best iteration is:\n",
      "[22]\ttraining's auc: 0.993657\tvalid_1's auc: 0.973443\n",
      "fold n°3\n"
     ]
    },
    {
     "name": "stderr",
     "output_type": "stream",
     "text": [
      "C:\\Users\\linda\\Anaconda3\\lib\\site-packages\\lightgbm\\basic.py:1186: UserWarning: Using categorical_feature in Dataset.\n",
      "  warnings.warn('Using categorical_feature in Dataset.')\n"
     ]
    },
    {
     "name": "stdout",
     "output_type": "stream",
     "text": [
      "Training until validation scores don't improve for 200 rounds.\n",
      "[100]\ttraining's auc: 1\tvalid_1's auc: 0.929519\n",
      "[200]\ttraining's auc: 1\tvalid_1's auc: 0.928856\n",
      "Early stopping, best iteration is:\n",
      "[94]\ttraining's auc: 1\tvalid_1's auc: 0.929464\n",
      "fold n°4\n"
     ]
    },
    {
     "name": "stderr",
     "output_type": "stream",
     "text": [
      "C:\\Users\\linda\\Anaconda3\\lib\\site-packages\\lightgbm\\basic.py:1186: UserWarning: Using categorical_feature in Dataset.\n",
      "  warnings.warn('Using categorical_feature in Dataset.')\n"
     ]
    },
    {
     "name": "stdout",
     "output_type": "stream",
     "text": [
      "Training until validation scores don't improve for 200 rounds.\n",
      "[100]\ttraining's auc: 1\tvalid_1's auc: 0.96554\n",
      "[200]\ttraining's auc: 1\tvalid_1's auc: 0.965931\n",
      "Early stopping, best iteration is:\n",
      "[64]\ttraining's auc: 0.999983\tvalid_1's auc: 0.96795\n",
      "fold n°5\n"
     ]
    },
    {
     "name": "stderr",
     "output_type": "stream",
     "text": [
      "C:\\Users\\linda\\Anaconda3\\lib\\site-packages\\lightgbm\\basic.py:1186: UserWarning: Using categorical_feature in Dataset.\n",
      "  warnings.warn('Using categorical_feature in Dataset.')\n"
     ]
    },
    {
     "name": "stdout",
     "output_type": "stream",
     "text": [
      "Training until validation scores don't improve for 200 rounds.\n",
      "[100]\ttraining's auc: 1\tvalid_1's auc: 0.899034\n",
      "[200]\ttraining's auc: 1\tvalid_1's auc: 0.900308\n",
      "Early stopping, best iteration is:\n",
      "[73]\ttraining's auc: 1\tvalid_1's auc: 0.901687\n",
      "fold n°6\n"
     ]
    },
    {
     "name": "stderr",
     "output_type": "stream",
     "text": [
      "C:\\Users\\linda\\Anaconda3\\lib\\site-packages\\lightgbm\\basic.py:1186: UserWarning: Using categorical_feature in Dataset.\n",
      "  warnings.warn('Using categorical_feature in Dataset.')\n"
     ]
    },
    {
     "name": "stdout",
     "output_type": "stream",
     "text": [
      "Training until validation scores don't improve for 200 rounds.\n",
      "[100]\ttraining's auc: 1\tvalid_1's auc: 0.923254\n",
      "[200]\ttraining's auc: 1\tvalid_1's auc: 0.928817\n",
      "Early stopping, best iteration is:\n",
      "[11]\ttraining's auc: 0.987212\tvalid_1's auc: 0.935089\n",
      "fold n°7\n"
     ]
    },
    {
     "name": "stderr",
     "output_type": "stream",
     "text": [
      "C:\\Users\\linda\\Anaconda3\\lib\\site-packages\\lightgbm\\basic.py:1186: UserWarning: Using categorical_feature in Dataset.\n",
      "  warnings.warn('Using categorical_feature in Dataset.')\n"
     ]
    },
    {
     "name": "stdout",
     "output_type": "stream",
     "text": [
      "Training until validation scores don't improve for 200 rounds.\n",
      "[100]\ttraining's auc: 1\tvalid_1's auc: 0.926054\n",
      "[200]\ttraining's auc: 1\tvalid_1's auc: 0.926884\n",
      "Early stopping, best iteration is:\n",
      "[76]\ttraining's auc: 1\tvalid_1's auc: 0.92567\n",
      "fold n°8\n"
     ]
    },
    {
     "name": "stderr",
     "output_type": "stream",
     "text": [
      "C:\\Users\\linda\\Anaconda3\\lib\\site-packages\\lightgbm\\basic.py:1186: UserWarning: Using categorical_feature in Dataset.\n",
      "  warnings.warn('Using categorical_feature in Dataset.')\n"
     ]
    },
    {
     "name": "stdout",
     "output_type": "stream",
     "text": [
      "Training until validation scores don't improve for 200 rounds.\n",
      "[100]\ttraining's auc: 1\tvalid_1's auc: 0.956612\n",
      "[200]\ttraining's auc: 1\tvalid_1's auc: 0.954728\n",
      "Early stopping, best iteration is:\n",
      "[45]\ttraining's auc: 0.999574\tvalid_1's auc: 0.960683\n",
      "fold n°9\n"
     ]
    },
    {
     "name": "stderr",
     "output_type": "stream",
     "text": [
      "C:\\Users\\linda\\Anaconda3\\lib\\site-packages\\lightgbm\\basic.py:1186: UserWarning: Using categorical_feature in Dataset.\n",
      "  warnings.warn('Using categorical_feature in Dataset.')\n"
     ]
    },
    {
     "name": "stdout",
     "output_type": "stream",
     "text": [
      "Training until validation scores don't improve for 200 rounds.\n",
      "[100]\ttraining's auc: 1\tvalid_1's auc: 0.944858\n",
      "[200]\ttraining's auc: 1\tvalid_1's auc: 0.945333\n",
      "Early stopping, best iteration is:\n",
      "[73]\ttraining's auc: 1\tvalid_1's auc: 0.942623\n"
     ]
    },
    {
     "name": "stderr",
     "output_type": "stream",
     "text": [
      "\r",
      " 83%|█████████████████████████████████████████████████████████████████████▏             | 5/6 [13:01<02:35, 155.69s/it]"
     ]
    },
    {
     "name": "stdout",
     "output_type": "stream",
     "text": [
      "fold n°0\n"
     ]
    },
    {
     "name": "stderr",
     "output_type": "stream",
     "text": [
      "C:\\Users\\linda\\Anaconda3\\lib\\site-packages\\lightgbm\\basic.py:1186: UserWarning: Using categorical_feature in Dataset.\n",
      "  warnings.warn('Using categorical_feature in Dataset.')\n"
     ]
    },
    {
     "name": "stdout",
     "output_type": "stream",
     "text": [
      "Training until validation scores don't improve for 200 rounds.\n",
      "[100]\ttraining's auc: 1\tvalid_1's auc: 0.962172\n",
      "[200]\ttraining's auc: 1\tvalid_1's auc: 0.960404\n",
      "Early stopping, best iteration is:\n",
      "[74]\ttraining's auc: 1\tvalid_1's auc: 0.962129\n",
      "fold n°1\n"
     ]
    },
    {
     "name": "stderr",
     "output_type": "stream",
     "text": [
      "C:\\Users\\linda\\Anaconda3\\lib\\site-packages\\lightgbm\\basic.py:1186: UserWarning: Using categorical_feature in Dataset.\n",
      "  warnings.warn('Using categorical_feature in Dataset.')\n"
     ]
    },
    {
     "name": "stdout",
     "output_type": "stream",
     "text": [
      "Training until validation scores don't improve for 200 rounds.\n",
      "[100]\ttraining's auc: 1\tvalid_1's auc: 0.919253\n",
      "[200]\ttraining's auc: 1\tvalid_1's auc: 0.920354\n",
      "Early stopping, best iteration is:\n",
      "[15]\ttraining's auc: 0.993235\tvalid_1's auc: 0.924249\n",
      "fold n°2\n"
     ]
    },
    {
     "name": "stderr",
     "output_type": "stream",
     "text": [
      "C:\\Users\\linda\\Anaconda3\\lib\\site-packages\\lightgbm\\basic.py:1186: UserWarning: Using categorical_feature in Dataset.\n",
      "  warnings.warn('Using categorical_feature in Dataset.')\n"
     ]
    },
    {
     "name": "stdout",
     "output_type": "stream",
     "text": [
      "Training until validation scores don't improve for 200 rounds.\n",
      "[100]\ttraining's auc: 1\tvalid_1's auc: 0.954282\n",
      "[200]\ttraining's auc: 1\tvalid_1's auc: 0.953111\n",
      "Early stopping, best iteration is:\n",
      "[61]\ttraining's auc: 0.999999\tvalid_1's auc: 0.95672\n",
      "fold n°3\n"
     ]
    },
    {
     "name": "stderr",
     "output_type": "stream",
     "text": [
      "C:\\Users\\linda\\Anaconda3\\lib\\site-packages\\lightgbm\\basic.py:1186: UserWarning: Using categorical_feature in Dataset.\n",
      "  warnings.warn('Using categorical_feature in Dataset.')\n"
     ]
    },
    {
     "name": "stdout",
     "output_type": "stream",
     "text": [
      "Training until validation scores don't improve for 200 rounds.\n",
      "[100]\ttraining's auc: 1\tvalid_1's auc: 0.932478\n",
      "[200]\ttraining's auc: 1\tvalid_1's auc: 0.939113\n",
      "Early stopping, best iteration is:\n",
      "[73]\ttraining's auc: 1\tvalid_1's auc: 0.930252\n",
      "fold n°4\n"
     ]
    },
    {
     "name": "stderr",
     "output_type": "stream",
     "text": [
      "C:\\Users\\linda\\Anaconda3\\lib\\site-packages\\lightgbm\\basic.py:1186: UserWarning: Using categorical_feature in Dataset.\n",
      "  warnings.warn('Using categorical_feature in Dataset.')\n"
     ]
    },
    {
     "name": "stdout",
     "output_type": "stream",
     "text": [
      "Training until validation scores don't improve for 200 rounds.\n",
      "[100]\ttraining's auc: 0.999995\tvalid_1's auc: 0.942212\n",
      "[200]\ttraining's auc: 0.999999\tvalid_1's auc: 0.941244\n",
      "Early stopping, best iteration is:\n",
      "[46]\ttraining's auc: 0.999872\tvalid_1's auc: 0.950541\n",
      "fold n°5\n"
     ]
    },
    {
     "name": "stderr",
     "output_type": "stream",
     "text": [
      "C:\\Users\\linda\\Anaconda3\\lib\\site-packages\\lightgbm\\basic.py:1186: UserWarning: Using categorical_feature in Dataset.\n",
      "  warnings.warn('Using categorical_feature in Dataset.')\n"
     ]
    },
    {
     "name": "stdout",
     "output_type": "stream",
     "text": [
      "Training until validation scores don't improve for 200 rounds.\n",
      "[100]\ttraining's auc: 1\tvalid_1's auc: 0.925343\n",
      "[200]\ttraining's auc: 1\tvalid_1's auc: 0.922962\n",
      "Early stopping, best iteration is:\n",
      "[70]\ttraining's auc: 1\tvalid_1's auc: 0.925467\n",
      "fold n°6\n"
     ]
    },
    {
     "name": "stderr",
     "output_type": "stream",
     "text": [
      "C:\\Users\\linda\\Anaconda3\\lib\\site-packages\\lightgbm\\basic.py:1186: UserWarning: Using categorical_feature in Dataset.\n",
      "  warnings.warn('Using categorical_feature in Dataset.')\n"
     ]
    },
    {
     "name": "stdout",
     "output_type": "stream",
     "text": [
      "Training until validation scores don't improve for 200 rounds.\n",
      "[100]\ttraining's auc: 1\tvalid_1's auc: 0.947926\n",
      "[200]\ttraining's auc: 1\tvalid_1's auc: 0.949188\n",
      "Early stopping, best iteration is:\n",
      "[66]\ttraining's auc: 1\tvalid_1's auc: 0.946897\n",
      "fold n°7\n"
     ]
    },
    {
     "name": "stderr",
     "output_type": "stream",
     "text": [
      "C:\\Users\\linda\\Anaconda3\\lib\\site-packages\\lightgbm\\basic.py:1186: UserWarning: Using categorical_feature in Dataset.\n",
      "  warnings.warn('Using categorical_feature in Dataset.')\n"
     ]
    },
    {
     "name": "stdout",
     "output_type": "stream",
     "text": [
      "Training until validation scores don't improve for 200 rounds.\n",
      "[100]\ttraining's auc: 1\tvalid_1's auc: 0.946116\n",
      "[200]\ttraining's auc: 1\tvalid_1's auc: 0.946789\n",
      "Early stopping, best iteration is:\n",
      "[71]\ttraining's auc: 1\tvalid_1's auc: 0.943405\n",
      "fold n°8\n"
     ]
    },
    {
     "name": "stderr",
     "output_type": "stream",
     "text": [
      "C:\\Users\\linda\\Anaconda3\\lib\\site-packages\\lightgbm\\basic.py:1186: UserWarning: Using categorical_feature in Dataset.\n",
      "  warnings.warn('Using categorical_feature in Dataset.')\n"
     ]
    },
    {
     "name": "stdout",
     "output_type": "stream",
     "text": [
      "Training until validation scores don't improve for 200 rounds.\n",
      "[100]\ttraining's auc: 1\tvalid_1's auc: 0.902285\n",
      "[200]\ttraining's auc: 1\tvalid_1's auc: 0.906268\n",
      "Early stopping, best iteration is:\n",
      "[26]\ttraining's auc: 0.998067\tvalid_1's auc: 0.90924\n",
      "fold n°9\n"
     ]
    },
    {
     "name": "stderr",
     "output_type": "stream",
     "text": [
      "C:\\Users\\linda\\Anaconda3\\lib\\site-packages\\lightgbm\\basic.py:1186: UserWarning: Using categorical_feature in Dataset.\n",
      "  warnings.warn('Using categorical_feature in Dataset.')\n"
     ]
    },
    {
     "name": "stdout",
     "output_type": "stream",
     "text": [
      "Training until validation scores don't improve for 200 rounds.\n",
      "[100]\ttraining's auc: 1\tvalid_1's auc: 0.943637\n",
      "[200]\ttraining's auc: 1\tvalid_1's auc: 0.941635\n",
      "Early stopping, best iteration is:\n",
      "[21]\ttraining's auc: 0.996399\tvalid_1's auc: 0.946364\n"
     ]
    },
    {
     "name": "stderr",
     "output_type": "stream",
     "text": [
      "100%|███████████████████████████████████████████████████████████████████████████████████| 6/6 [16:45<00:00, 176.24s/it]\n"
     ]
    }
   ],
   "source": [
    "predictions_border = np.zeros(len(df_test))\n",
    "for fr in tqdm(np.sort(df_train['Flight Regime'].unique())):\n",
    "    df_train_fr = df_train[df_train['Flight Regime'] == fr]\n",
    "    df_test_fr = df_test[df_test['Flight Regime'] == fr]\n",
    "    target_border_fr = target_border[target_border['Flight Regime'] == fr][['target_border', 'EngineID', 'EngineIndex']]\n",
    "    feature_importance_df = pd.DataFrame()\n",
    "    for fold_ in range(10):\n",
    "        print(\"fold n°{}\".format(fold_))\n",
    "        val_ID = folds_EngineID[fold_]        \n",
    "        trn_data = lgb.Dataset(df_train_fr[(~(df_train_fr['EngineID'].isin(val_ID))) &\n",
    "                                           (df_train_fr['EngineIndex'].isin(train_idx))][features],\n",
    "                               label=target_border_fr[(~(target_border_fr['EngineID'].isin(val_ID))) &\n",
    "                                               (target_border_fr['EngineIndex'].isin(train_idx))]['target_border'],\n",
    "                               categorical_feature=categorical_feats\n",
    "                               )\n",
    "        # testデータで予測するindexのみをval_dataで用いる\n",
    "        # こうすることで、val_dataとtest_dataの分布が近づくことを狙っている\n",
    "        val_data = lgb.Dataset(df_train_fr[(df_train_fr['EngineID'].isin(val_ID)) & \n",
    "                                           (df_train_fr['EngineIndex'].isin(test_lastidx))][features],\n",
    "                               label=target_border_fr[(target_border_fr['EngineID'].isin(val_ID)) &\n",
    "                                                      (target_border_fr['EngineIndex'].isin(test_lastidx))]['target_border'],\n",
    "                               categorical_feature=categorical_feats\n",
    "                               )\n",
    "        clf = lgb.train(param_border,\n",
    "                        trn_data,\n",
    "                        num_round,\n",
    "                        valid_sets=[trn_data, val_data],\n",
    "                        verbose_eval=100,\n",
    "                        early_stopping_rounds=200)\n",
    "        \n",
    "        val_pre =clf.predict(df_train_fr[(df_train_fr['EngineID'].isin(val_ID)) & \n",
    "                                         (df_train_fr['EngineIndex'].isin(test_lastidx))][features],\n",
    "                             num_iteration=clf.best_iteration)\n",
    "        \n",
    "        oof.loc[(oof['Flight Regime'] == fr) &\n",
    "                (oof['EngineID'].isin(val_ID)) & \n",
    "                (oof['EngineIndex'].isin(test_lastidx)), 'pre_border'] = val_pre\n",
    "        \n",
    "        predictions_border[df_test_fr.index] += clf.predict(df_test_fr[features], \n",
    "                                                            num_iteration=clf.best_iteration) / 10"
   ]
  },
  {
   "cell_type": "code",
   "execution_count": 14,
   "metadata": {},
   "outputs": [],
   "source": [
    "test_pre_border = predictions_border"
   ]
  },
  {
   "cell_type": "code",
   "execution_count": 15,
   "metadata": {},
   "outputs": [],
   "source": [
    "oof['target_border'] = 0\n",
    "oof.loc[oof['lifespan'] >= 100, 'target_border'] = 0\n",
    "oof.loc[oof['lifespan'] < 100, 'target_border'] = 1"
   ]
  },
  {
   "cell_type": "code",
   "execution_count": 16,
   "metadata": {},
   "outputs": [
    {
     "data": {
      "text/plain": [
       "0.9336692607529476"
      ]
     },
     "execution_count": 16,
     "metadata": {},
     "output_type": "execute_result"
    }
   ],
   "source": [
    "# f: 004, 005, 200, 201, 202, 203\n",
    "fpr, tpr, thresholds = metrics.roc_curve(oof.dropna(subset=['pre_border'])['target_border'],\n",
    "                                         oof.dropna(subset=['pre_border'])['pre_border'])\n",
    "metrics.auc(fpr, tpr)"
   ]
  },
  {
   "cell_type": "code",
   "execution_count": 18,
   "metadata": {},
   "outputs": [
    {
     "name": "stdout",
     "output_type": "stream",
     "text": [
      "Flight Regime 1 : 0.9366000029547024\n",
      "Flight Regime 2 : 0.9279637585371228\n",
      "Flight Regime 3 : 0.931893503499742\n",
      "Flight Regime 4 : 0.939491605854932\n",
      "Flight Regime 5 : 0.9333662380335314\n",
      "Flight Regime 6 : 0.9345014857463558\n"
     ]
    }
   ],
   "source": [
    "for i in np.sort(oof['Flight Regime'].unique()):\n",
    "    oof_1fr = oof[oof['Flight Regime'] == i].dropna(subset=['pre_border'])\n",
    "    fpr, tpr, thresholds = metrics.roc_curve(oof_1fr['target_border'], oof_1fr['pre_border'])\n",
    "    print('Flight Regime', i , ':', metrics.auc(fpr, tpr))"
   ]
  },
  {
   "cell_type": "code",
   "execution_count": 23,
   "metadata": {
    "scrolled": true
   },
   "outputs": [
    {
     "data": {
      "text/plain": [
       "0.18570274415874916"
      ]
     },
     "execution_count": 23,
     "metadata": {},
     "output_type": "execute_result"
    }
   ],
   "source": [
    "mean_absolute_error(oof['target_border'], oof['pre_border'])"
   ]
  },
  {
   "cell_type": "code",
   "execution_count": 22,
   "metadata": {},
   "outputs": [
    {
     "name": "stderr",
     "output_type": "stream",
     "text": [
      "C:\\Users\\linda\\Anaconda3\\lib\\site-packages\\scipy\\stats\\stats.py:1713: FutureWarning: Using a non-tuple sequence for multidimensional indexing is deprecated; use `arr[tuple(seq)]` instead of `arr[seq]`. In the future this will be interpreted as an array index, `arr[np.array(seq)]`, which will result either in an error or a different result.\n",
      "  return np.add.reduce(sorted[indexer] * weights, axis=axis) / sumval\n"
     ]
    },
    {
     "data": {
      "image/png": "[encoded data removed]",
      "text/plain": [
       "<Figure size 432x432 with 3 Axes>"
      ]
     },
     "metadata": {
      "needs_background": "light"
     },
     "output_type": "display_data"
    }
   ],
   "source": [
    "sns.jointplot(x=\"lifespan\", y=\"pre_border\", kind=\"kde\", data=oof.dropna(subset=['pre_border']));"
   ]
  },
  {
   "cell_type": "markdown",
   "metadata": {},
   "source": [
    "まあまあいい感じに見える？"
   ]
  },
  {
   "cell_type": "code",
   "execution_count": 24,
   "metadata": {},
   "outputs": [
    {
     "data": {
      "text/plain": [
       "<matplotlib.axes._subplots.AxesSubplot at 0x2328038ff98>"
      ]
     },
     "execution_count": 24,
     "metadata": {},
     "output_type": "execute_result"
    },
    {
     "data": {
      "image/png": "[encoded data removed]",
      "text/plain": [
       "<Figure size 432x288 with 1 Axes>"
      ]
     },
     "metadata": {
      "needs_background": "light"
     },
     "output_type": "display_data"
    }
   ],
   "source": [
    "oof['pre_border'].hist(bins=20)"
   ]
  },
  {
   "cell_type": "code",
   "execution_count": 26,
   "metadata": {},
   "outputs": [
    {
     "data": {
      "text/plain": [
       "[<matplotlib.lines.Line2D at 0x23281fb3da0>]"
      ]
     },
     "execution_count": 26,
     "metadata": {},
     "output_type": "execute_result"
    },
    {
     "data": {
      "image/png": "[encoded data removed]",
      "text/plain": [
       "<Figure size 432x288 with 1 Axes>"
      ]
     },
     "metadata": {
      "needs_background": "light"
     },
     "output_type": "display_data"
    }
   ],
   "source": [
    "plt.plot(oof['lifespan'], oof['pre_border'], 'o', markersize=0.2)"
   ]
  },
  {
   "cell_type": "markdown",
   "metadata": {},
   "source": [
    "=================  target < 100 のみ学習 ==============="
   ]
  },
  {
   "cell_type": "code",
   "execution_count": 27,
   "metadata": {},
   "outputs": [
    {
     "name": "stderr",
     "output_type": "stream",
     "text": [
      "C:\\Users\\linda\\Anaconda3\\lib\\site-packages\\ipykernel_launcher.py:6: SettingWithCopyWarning: \n",
      "A value is trying to be set on a copy of a slice from a DataFrame.\n",
      "Try using .loc[row_indexer,col_indexer] = value instead\n",
      "\n",
      "See the caveats in the documentation: http://pandas.pydata.org/pandas-docs/stable/indexing.html#indexing-view-versus-copy\n",
      "  \n"
     ]
    }
   ],
   "source": [
    "df_train_under = pd.concat([df_train, target['lifespan']], axis=1)\n",
    "df_train_under = df_train_under[df_train_under['lifespan'] < 100]\n",
    "\n",
    "target_under = target[target['lifespan'] < 100]\n",
    "target_under_max = target_under['lifespan'].max()\n",
    "target_under['lifespan'] = target_under['lifespan'] / target_under_max\n",
    "del df_train_under['lifespan']"
   ]
  },
  {
   "cell_type": "code",
   "execution_count": 28,
   "metadata": {},
   "outputs": [],
   "source": [
    "param = {'num_leaves': 111,\n",
    "         'min_data_in_leaf': 149,\n",
    "         'objective': 'xentropy',\n",
    "         'max_depth': 9,\n",
    "         'learning_rate': 0.050,\n",
    "         \"boosting\": \"gbdt\",\n",
    "         \"feature_fraction\": 0.7522,\n",
    "         \"bagging_freq\": 1,\n",
    "         \"bagging_fraction\": 0.7083,\n",
    "         \"bagging_seed\": 11,\n",
    "         \"metric\": 'mae',\n",
    "         \"lambda_l1\": 0.2634,\n",
    "         \"random_state\": 133,\n",
    "         \"verbosity\": -1}"
   ]
  },
  {
   "cell_type": "code",
   "execution_count": 29,
   "metadata": {},
   "outputs": [
    {
     "name": "stderr",
     "output_type": "stream",
     "text": [
      "\r",
      "  0%|                                                                                            | 0/6 [00:00<?, ?it/s]"
     ]
    },
    {
     "name": "stdout",
     "output_type": "stream",
     "text": [
      "fold n°0\n"
     ]
    },
    {
     "name": "stderr",
     "output_type": "stream",
     "text": [
      "C:\\Users\\linda\\Anaconda3\\lib\\site-packages\\lightgbm\\basic.py:1186: UserWarning: Using categorical_feature in Dataset.\n",
      "  warnings.warn('Using categorical_feature in Dataset.')\n"
     ]
    },
    {
     "name": "stdout",
     "output_type": "stream",
     "text": [
      "Training until validation scores don't improve for 200 rounds.\n",
      "[100]\ttraining's l1: 0.0611048\tvalid_1's l1: 0.0777624\n",
      "[200]\ttraining's l1: 0.0474855\tvalid_1's l1: 0.0773911\n",
      "[300]\ttraining's l1: 0.0400664\tvalid_1's l1: 0.0781129\n",
      "Early stopping, best iteration is:\n",
      "[156]\ttraining's l1: 0.0521233\tvalid_1's l1: 0.0767616\n",
      "fold n°1\n"
     ]
    },
    {
     "name": "stderr",
     "output_type": "stream",
     "text": [
      "C:\\Users\\linda\\Anaconda3\\lib\\site-packages\\lightgbm\\basic.py:1186: UserWarning: Using categorical_feature in Dataset.\n",
      "  warnings.warn('Using categorical_feature in Dataset.')\n"
     ]
    },
    {
     "name": "stdout",
     "output_type": "stream",
     "text": [
      "Training until validation scores don't improve for 200 rounds.\n",
      "[100]\ttraining's l1: 0.0604865\tvalid_1's l1: 0.0747703\n",
      "[200]\ttraining's l1: 0.0475261\tvalid_1's l1: 0.0720216\n",
      "[300]\ttraining's l1: 0.0400041\tvalid_1's l1: 0.0722141\n",
      "Early stopping, best iteration is:\n",
      "[176]\ttraining's l1: 0.049808\tvalid_1's l1: 0.0716314\n",
      "fold n°2\n"
     ]
    },
    {
     "name": "stderr",
     "output_type": "stream",
     "text": [
      "C:\\Users\\linda\\Anaconda3\\lib\\site-packages\\lightgbm\\basic.py:1186: UserWarning: Using categorical_feature in Dataset.\n",
      "  warnings.warn('Using categorical_feature in Dataset.')\n"
     ]
    },
    {
     "name": "stdout",
     "output_type": "stream",
     "text": [
      "Training until validation scores don't improve for 200 rounds.\n",
      "[100]\ttraining's l1: 0.0607552\tvalid_1's l1: 0.0699534\n",
      "[200]\ttraining's l1: 0.0474895\tvalid_1's l1: 0.0646304\n",
      "[300]\ttraining's l1: 0.0399949\tvalid_1's l1: 0.0628928\n",
      "[400]\ttraining's l1: 0.0348524\tvalid_1's l1: 0.0615913\n",
      "[500]\ttraining's l1: 0.0309336\tvalid_1's l1: 0.0613071\n",
      "[600]\ttraining's l1: 0.0277771\tvalid_1's l1: 0.0610377\n",
      "[700]\ttraining's l1: 0.0253546\tvalid_1's l1: 0.0606531\n",
      "[800]\ttraining's l1: 0.0233315\tvalid_1's l1: 0.0603387\n",
      "[900]\ttraining's l1: 0.0215664\tvalid_1's l1: 0.0604432\n",
      "[1000]\ttraining's l1: 0.0201396\tvalid_1's l1: 0.0600857\n",
      "Did not meet early stopping. Best iteration is:\n",
      "[1000]\ttraining's l1: 0.0201396\tvalid_1's l1: 0.0600857\n",
      "fold n°3\n"
     ]
    },
    {
     "name": "stderr",
     "output_type": "stream",
     "text": [
      "C:\\Users\\linda\\Anaconda3\\lib\\site-packages\\lightgbm\\basic.py:1186: UserWarning: Using categorical_feature in Dataset.\n",
      "  warnings.warn('Using categorical_feature in Dataset.')\n"
     ]
    },
    {
     "name": "stdout",
     "output_type": "stream",
     "text": [
      "Training until validation scores don't improve for 200 rounds.\n",
      "[100]\ttraining's l1: 0.0593014\tvalid_1's l1: 0.101742\n",
      "[200]\ttraining's l1: 0.0462483\tvalid_1's l1: 0.0978328\n",
      "[300]\ttraining's l1: 0.0388661\tvalid_1's l1: 0.0972702\n",
      "[400]\ttraining's l1: 0.0336914\tvalid_1's l1: 0.0973056\n",
      "[500]\ttraining's l1: 0.030012\tvalid_1's l1: 0.0970574\n",
      "[600]\ttraining's l1: 0.0270137\tvalid_1's l1: 0.0972123\n",
      "Early stopping, best iteration is:\n",
      "[460]\ttraining's l1: 0.0314504\tvalid_1's l1: 0.0965872\n",
      "fold n°4\n"
     ]
    },
    {
     "name": "stderr",
     "output_type": "stream",
     "text": [
      "C:\\Users\\linda\\Anaconda3\\lib\\site-packages\\lightgbm\\basic.py:1186: UserWarning: Using categorical_feature in Dataset.\n",
      "  warnings.warn('Using categorical_feature in Dataset.')\n"
     ]
    },
    {
     "name": "stdout",
     "output_type": "stream",
     "text": [
      "Training until validation scores don't improve for 200 rounds.\n",
      "[100]\ttraining's l1: 0.0595727\tvalid_1's l1: 0.0763179\n",
      "[200]\ttraining's l1: 0.0465157\tvalid_1's l1: 0.0770683\n",
      "Early stopping, best iteration is:\n",
      "[88]\ttraining's l1: 0.0622838\tvalid_1's l1: 0.0758252\n",
      "fold n°5\n"
     ]
    },
    {
     "name": "stderr",
     "output_type": "stream",
     "text": [
      "C:\\Users\\linda\\Anaconda3\\lib\\site-packages\\lightgbm\\basic.py:1186: UserWarning: Using categorical_feature in Dataset.\n",
      "  warnings.warn('Using categorical_feature in Dataset.')\n"
     ]
    },
    {
     "name": "stdout",
     "output_type": "stream",
     "text": [
      "Training until validation scores don't improve for 200 rounds.\n",
      "[100]\ttraining's l1: 0.059559\tvalid_1's l1: 0.0855289\n",
      "[200]\ttraining's l1: 0.0469527\tvalid_1's l1: 0.0851931\n",
      "[300]\ttraining's l1: 0.0396387\tvalid_1's l1: 0.0841271\n",
      "[400]\ttraining's l1: 0.034451\tvalid_1's l1: 0.0845937\n",
      "Early stopping, best iteration is:\n",
      "[256]\ttraining's l1: 0.0425969\tvalid_1's l1: 0.0835641\n",
      "fold n°6\n"
     ]
    },
    {
     "name": "stderr",
     "output_type": "stream",
     "text": [
      "C:\\Users\\linda\\Anaconda3\\lib\\site-packages\\lightgbm\\basic.py:1186: UserWarning: Using categorical_feature in Dataset.\n",
      "  warnings.warn('Using categorical_feature in Dataset.')\n"
     ]
    },
    {
     "name": "stdout",
     "output_type": "stream",
     "text": [
      "Training until validation scores don't improve for 200 rounds.\n",
      "[100]\ttraining's l1: 0.0602453\tvalid_1's l1: 0.080025\n",
      "[200]\ttraining's l1: 0.0468462\tvalid_1's l1: 0.0760077\n",
      "[300]\ttraining's l1: 0.0395014\tvalid_1's l1: 0.0741038\n",
      "[400]\ttraining's l1: 0.034179\tvalid_1's l1: 0.0741612\n",
      "[500]\ttraining's l1: 0.0302727\tvalid_1's l1: 0.0743438\n",
      "[600]\ttraining's l1: 0.0272605\tvalid_1's l1: 0.0742002\n",
      "[700]\ttraining's l1: 0.0248292\tvalid_1's l1: 0.0743693\n",
      "Early stopping, best iteration is:\n",
      "[554]\ttraining's l1: 0.0285468\tvalid_1's l1: 0.0738183\n",
      "fold n°7\n"
     ]
    },
    {
     "name": "stderr",
     "output_type": "stream",
     "text": [
      "C:\\Users\\linda\\Anaconda3\\lib\\site-packages\\lightgbm\\basic.py:1186: UserWarning: Using categorical_feature in Dataset.\n",
      "  warnings.warn('Using categorical_feature in Dataset.')\n"
     ]
    },
    {
     "name": "stdout",
     "output_type": "stream",
     "text": [
      "Training until validation scores don't improve for 200 rounds.\n",
      "[100]\ttraining's l1: 0.0604434\tvalid_1's l1: 0.0835232\n",
      "[200]\ttraining's l1: 0.0473117\tvalid_1's l1: 0.0825356\n",
      "[300]\ttraining's l1: 0.0399169\tvalid_1's l1: 0.0830604\n",
      "Early stopping, best iteration is:\n",
      "[192]\ttraining's l1: 0.04812\tvalid_1's l1: 0.0821315\n",
      "fold n°8\n"
     ]
    },
    {
     "name": "stderr",
     "output_type": "stream",
     "text": [
      "C:\\Users\\linda\\Anaconda3\\lib\\site-packages\\lightgbm\\basic.py:1186: UserWarning: Using categorical_feature in Dataset.\n",
      "  warnings.warn('Using categorical_feature in Dataset.')\n"
     ]
    },
    {
     "name": "stdout",
     "output_type": "stream",
     "text": [
      "Training until validation scores don't improve for 200 rounds.\n",
      "[100]\ttraining's l1: 0.0602477\tvalid_1's l1: 0.0756935\n",
      "[200]\ttraining's l1: 0.0468544\tvalid_1's l1: 0.07504\n",
      "[300]\ttraining's l1: 0.0394039\tvalid_1's l1: 0.0760975\n",
      "Early stopping, best iteration is:\n",
      "[160]\ttraining's l1: 0.0512255\tvalid_1's l1: 0.0747492\n",
      "fold n°9\n"
     ]
    },
    {
     "name": "stderr",
     "output_type": "stream",
     "text": [
      "C:\\Users\\linda\\Anaconda3\\lib\\site-packages\\lightgbm\\basic.py:1186: UserWarning: Using categorical_feature in Dataset.\n",
      "  warnings.warn('Using categorical_feature in Dataset.')\n"
     ]
    },
    {
     "name": "stdout",
     "output_type": "stream",
     "text": [
      "Training until validation scores don't improve for 200 rounds.\n",
      "[100]\ttraining's l1: 0.0601189\tvalid_1's l1: 0.0913121\n",
      "[200]\ttraining's l1: 0.0467424\tvalid_1's l1: 0.0891515\n",
      "[300]\ttraining's l1: 0.0393005\tvalid_1's l1: 0.0884543\n",
      "[400]\ttraining's l1: 0.0341485\tvalid_1's l1: 0.0887344\n",
      "[500]\ttraining's l1: 0.030249\tvalid_1's l1: 0.0889847\n",
      "Early stopping, best iteration is:\n",
      "[310]\ttraining's l1: 0.0386571\tvalid_1's l1: 0.0883321\n"
     ]
    },
    {
     "name": "stderr",
     "output_type": "stream",
     "text": [
      "\r",
      " 17%|██████████████                                                                      | 1/6 [01:34<07:50, 94.05s/it]"
     ]
    },
    {
     "name": "stdout",
     "output_type": "stream",
     "text": [
      "fold n°0\n"
     ]
    },
    {
     "name": "stderr",
     "output_type": "stream",
     "text": [
      "C:\\Users\\linda\\Anaconda3\\lib\\site-packages\\lightgbm\\basic.py:1186: UserWarning: Using categorical_feature in Dataset.\n",
      "  warnings.warn('Using categorical_feature in Dataset.')\n"
     ]
    },
    {
     "name": "stdout",
     "output_type": "stream",
     "text": [
      "Training until validation scores don't improve for 200 rounds.\n",
      "[100]\ttraining's l1: 0.0601601\tvalid_1's l1: 0.0665438\n",
      "[200]\ttraining's l1: 0.0463871\tvalid_1's l1: 0.0654449\n",
      "[300]\ttraining's l1: 0.0389757\tvalid_1's l1: 0.0663825\n",
      "Early stopping, best iteration is:\n",
      "[153]\ttraining's l1: 0.0511815\tvalid_1's l1: 0.0647649\n",
      "fold n°1\n"
     ]
    },
    {
     "name": "stderr",
     "output_type": "stream",
     "text": [
      "C:\\Users\\linda\\Anaconda3\\lib\\site-packages\\lightgbm\\basic.py:1186: UserWarning: Using categorical_feature in Dataset.\n",
      "  warnings.warn('Using categorical_feature in Dataset.')\n"
     ]
    },
    {
     "name": "stdout",
     "output_type": "stream",
     "text": [
      "Training until validation scores don't improve for 200 rounds.\n",
      "[100]\ttraining's l1: 0.0601521\tvalid_1's l1: 0.0795437\n",
      "[200]\ttraining's l1: 0.046391\tvalid_1's l1: 0.0764252\n",
      "[300]\ttraining's l1: 0.0393094\tvalid_1's l1: 0.0763876\n",
      "[400]\ttraining's l1: 0.034381\tvalid_1's l1: 0.0766192\n",
      "[500]\ttraining's l1: 0.0305602\tvalid_1's l1: 0.0771583\n",
      "Early stopping, best iteration is:\n",
      "[329]\ttraining's l1: 0.0377197\tvalid_1's l1: 0.0761799\n",
      "fold n°2\n"
     ]
    },
    {
     "name": "stderr",
     "output_type": "stream",
     "text": [
      "C:\\Users\\linda\\Anaconda3\\lib\\site-packages\\lightgbm\\basic.py:1186: UserWarning: Using categorical_feature in Dataset.\n",
      "  warnings.warn('Using categorical_feature in Dataset.')\n"
     ]
    },
    {
     "name": "stdout",
     "output_type": "stream",
     "text": [
      "Training until validation scores don't improve for 200 rounds.\n",
      "[100]\ttraining's l1: 0.0605074\tvalid_1's l1: 0.0783636\n",
      "[200]\ttraining's l1: 0.0468001\tvalid_1's l1: 0.0747763\n",
      "[300]\ttraining's l1: 0.0392663\tvalid_1's l1: 0.0757496\n",
      "Early stopping, best iteration is:\n",
      "[195]\ttraining's l1: 0.0472971\tvalid_1's l1: 0.0747106\n",
      "fold n°3\n"
     ]
    },
    {
     "name": "stderr",
     "output_type": "stream",
     "text": [
      "C:\\Users\\linda\\Anaconda3\\lib\\site-packages\\lightgbm\\basic.py:1186: UserWarning: Using categorical_feature in Dataset.\n",
      "  warnings.warn('Using categorical_feature in Dataset.')\n"
     ]
    },
    {
     "name": "stdout",
     "output_type": "stream",
     "text": [
      "Training until validation scores don't improve for 200 rounds.\n",
      "[100]\ttraining's l1: 0.060058\tvalid_1's l1: 0.0853957\n",
      "[200]\ttraining's l1: 0.0464001\tvalid_1's l1: 0.0825026\n",
      "[300]\ttraining's l1: 0.0392195\tvalid_1's l1: 0.0824817\n",
      "[400]\ttraining's l1: 0.0339638\tvalid_1's l1: 0.0819352\n",
      "[500]\ttraining's l1: 0.0302471\tvalid_1's l1: 0.0822312\n",
      "[600]\ttraining's l1: 0.0273184\tvalid_1's l1: 0.0825254\n",
      "Early stopping, best iteration is:\n",
      "[407]\ttraining's l1: 0.0336783\tvalid_1's l1: 0.0817409\n",
      "fold n°4\n"
     ]
    },
    {
     "name": "stderr",
     "output_type": "stream",
     "text": [
      "C:\\Users\\linda\\Anaconda3\\lib\\site-packages\\lightgbm\\basic.py:1186: UserWarning: Using categorical_feature in Dataset.\n",
      "  warnings.warn('Using categorical_feature in Dataset.')\n"
     ]
    },
    {
     "name": "stdout",
     "output_type": "stream",
     "text": [
      "Training until validation scores don't improve for 200 rounds.\n",
      "[100]\ttraining's l1: 0.0592406\tvalid_1's l1: 0.0837686\n",
      "[200]\ttraining's l1: 0.0452346\tvalid_1's l1: 0.0825439\n",
      "[300]\ttraining's l1: 0.0378661\tvalid_1's l1: 0.0829609\n",
      "Early stopping, best iteration is:\n",
      "[158]\ttraining's l1: 0.0497586\tvalid_1's l1: 0.0816476\n",
      "fold n°5\n"
     ]
    },
    {
     "name": "stderr",
     "output_type": "stream",
     "text": [
      "C:\\Users\\linda\\Anaconda3\\lib\\site-packages\\lightgbm\\basic.py:1186: UserWarning: Using categorical_feature in Dataset.\n",
      "  warnings.warn('Using categorical_feature in Dataset.')\n"
     ]
    },
    {
     "name": "stdout",
     "output_type": "stream",
     "text": [
      "Training until validation scores don't improve for 200 rounds.\n",
      "[100]\ttraining's l1: 0.0593907\tvalid_1's l1: 0.0817639\n",
      "[200]\ttraining's l1: 0.0459387\tvalid_1's l1: 0.0788348\n",
      "[300]\ttraining's l1: 0.038934\tvalid_1's l1: 0.0781108\n",
      "[400]\ttraining's l1: 0.0339088\tvalid_1's l1: 0.0780292\n",
      "[500]\ttraining's l1: 0.0302565\tvalid_1's l1: 0.0775253\n",
      "[600]\ttraining's l1: 0.0272444\tvalid_1's l1: 0.0772166\n",
      "[700]\ttraining's l1: 0.024826\tvalid_1's l1: 0.0775523\n",
      "Early stopping, best iteration is:\n",
      "[594]\ttraining's l1: 0.0274124\tvalid_1's l1: 0.0771547\n",
      "fold n°6\n"
     ]
    },
    {
     "name": "stderr",
     "output_type": "stream",
     "text": [
      "C:\\Users\\linda\\Anaconda3\\lib\\site-packages\\lightgbm\\basic.py:1186: UserWarning: Using categorical_feature in Dataset.\n",
      "  warnings.warn('Using categorical_feature in Dataset.')\n"
     ]
    },
    {
     "name": "stdout",
     "output_type": "stream",
     "text": [
      "Training until validation scores don't improve for 200 rounds.\n",
      "[100]\ttraining's l1: 0.0604167\tvalid_1's l1: 0.0874252\n",
      "[200]\ttraining's l1: 0.0468299\tvalid_1's l1: 0.0835011\n",
      "[300]\ttraining's l1: 0.0394883\tvalid_1's l1: 0.083161\n",
      "[400]\ttraining's l1: 0.0343841\tvalid_1's l1: 0.0835652\n",
      "[500]\ttraining's l1: 0.0305597\tvalid_1's l1: 0.0839616\n",
      "Early stopping, best iteration is:\n",
      "[344]\ttraining's l1: 0.0370845\tvalid_1's l1: 0.0828248\n",
      "fold n°7\n"
     ]
    },
    {
     "name": "stderr",
     "output_type": "stream",
     "text": [
      "C:\\Users\\linda\\Anaconda3\\lib\\site-packages\\lightgbm\\basic.py:1186: UserWarning: Using categorical_feature in Dataset.\n",
      "  warnings.warn('Using categorical_feature in Dataset.')\n"
     ]
    },
    {
     "name": "stdout",
     "output_type": "stream",
     "text": [
      "Training until validation scores don't improve for 200 rounds.\n",
      "[100]\ttraining's l1: 0.0602594\tvalid_1's l1: 0.0713499\n",
      "[200]\ttraining's l1: 0.0469306\tvalid_1's l1: 0.0700401\n",
      "[300]\ttraining's l1: 0.0397784\tvalid_1's l1: 0.0696886\n",
      "[400]\ttraining's l1: 0.0345303\tvalid_1's l1: 0.070152\n",
      "Early stopping, best iteration is:\n",
      "[292]\ttraining's l1: 0.0402108\tvalid_1's l1: 0.0694417\n",
      "fold n°8\n"
     ]
    },
    {
     "name": "stderr",
     "output_type": "stream",
     "text": [
      "C:\\Users\\linda\\Anaconda3\\lib\\site-packages\\lightgbm\\basic.py:1186: UserWarning: Using categorical_feature in Dataset.\n",
      "  warnings.warn('Using categorical_feature in Dataset.')\n"
     ]
    },
    {
     "name": "stdout",
     "output_type": "stream",
     "text": [
      "Training until validation scores don't improve for 200 rounds.\n",
      "[100]\ttraining's l1: 0.0595688\tvalid_1's l1: 0.0771054\n",
      "[200]\ttraining's l1: 0.0458005\tvalid_1's l1: 0.0791505\n",
      "Early stopping, best iteration is:\n",
      "[84]\ttraining's l1: 0.0637884\tvalid_1's l1: 0.076269\n",
      "fold n°9\n"
     ]
    },
    {
     "name": "stderr",
     "output_type": "stream",
     "text": [
      "C:\\Users\\linda\\Anaconda3\\lib\\site-packages\\lightgbm\\basic.py:1186: UserWarning: Using categorical_feature in Dataset.\n",
      "  warnings.warn('Using categorical_feature in Dataset.')\n"
     ]
    },
    {
     "name": "stdout",
     "output_type": "stream",
     "text": [
      "Training until validation scores don't improve for 200 rounds.\n",
      "[100]\ttraining's l1: 0.0602895\tvalid_1's l1: 0.0828375\n",
      "[200]\ttraining's l1: 0.046625\tvalid_1's l1: 0.0815247\n",
      "[300]\ttraining's l1: 0.0392896\tvalid_1's l1: 0.0822227\n",
      "Early stopping, best iteration is:\n",
      "[184]\ttraining's l1: 0.0481625\tvalid_1's l1: 0.0809924\n"
     ]
    },
    {
     "name": "stderr",
     "output_type": "stream",
     "text": [
      "\r",
      " 33%|████████████████████████████                                                        | 2/6 [03:00<06:06, 91.62s/it]"
     ]
    },
    {
     "name": "stdout",
     "output_type": "stream",
     "text": [
      "fold n°0\n"
     ]
    },
    {
     "name": "stderr",
     "output_type": "stream",
     "text": [
      "C:\\Users\\linda\\Anaconda3\\lib\\site-packages\\lightgbm\\basic.py:1186: UserWarning: Using categorical_feature in Dataset.\n",
      "  warnings.warn('Using categorical_feature in Dataset.')\n"
     ]
    },
    {
     "name": "stdout",
     "output_type": "stream",
     "text": [
      "Training until validation scores don't improve for 200 rounds.\n",
      "[100]\ttraining's l1: 0.0601138\tvalid_1's l1: 0.0679545\n",
      "[200]\ttraining's l1: 0.0464937\tvalid_1's l1: 0.0669276\n",
      "[300]\ttraining's l1: 0.0389216\tvalid_1's l1: 0.0670232\n",
      "[400]\ttraining's l1: 0.0340338\tvalid_1's l1: 0.0673707\n",
      "Early stopping, best iteration is:\n",
      "[255]\ttraining's l1: 0.0419472\tvalid_1's l1: 0.0663985\n",
      "fold n°1\n"
     ]
    },
    {
     "name": "stderr",
     "output_type": "stream",
     "text": [
      "C:\\Users\\linda\\Anaconda3\\lib\\site-packages\\lightgbm\\basic.py:1186: UserWarning: Using categorical_feature in Dataset.\n",
      "  warnings.warn('Using categorical_feature in Dataset.')\n"
     ]
    },
    {
     "name": "stdout",
     "output_type": "stream",
     "text": [
      "Training until validation scores don't improve for 200 rounds.\n",
      "[100]\ttraining's l1: 0.0599782\tvalid_1's l1: 0.0686979\n",
      "[200]\ttraining's l1: 0.0463748\tvalid_1's l1: 0.0661165\n",
      "[300]\ttraining's l1: 0.0388569\tvalid_1's l1: 0.0670445\n",
      "[400]\ttraining's l1: 0.0336963\tvalid_1's l1: 0.068092\n",
      "Early stopping, best iteration is:\n",
      "[203]\ttraining's l1: 0.0460458\tvalid_1's l1: 0.0660284\n",
      "fold n°2\n"
     ]
    },
    {
     "name": "stderr",
     "output_type": "stream",
     "text": [
      "C:\\Users\\linda\\Anaconda3\\lib\\site-packages\\lightgbm\\basic.py:1186: UserWarning: Using categorical_feature in Dataset.\n",
      "  warnings.warn('Using categorical_feature in Dataset.')\n"
     ]
    },
    {
     "name": "stdout",
     "output_type": "stream",
     "text": [
      "Training until validation scores don't improve for 200 rounds.\n",
      "[100]\ttraining's l1: 0.0601326\tvalid_1's l1: 0.0762237\n",
      "[200]\ttraining's l1: 0.0465264\tvalid_1's l1: 0.0727845\n",
      "[300]\ttraining's l1: 0.0390328\tvalid_1's l1: 0.0704021\n",
      "[400]\ttraining's l1: 0.033818\tvalid_1's l1: 0.0700356\n",
      "[500]\ttraining's l1: 0.0300175\tvalid_1's l1: 0.0711608\n",
      "Early stopping, best iteration is:\n",
      "[392]\ttraining's l1: 0.034208\tvalid_1's l1: 0.0699228\n",
      "fold n°3\n"
     ]
    },
    {
     "name": "stderr",
     "output_type": "stream",
     "text": [
      "C:\\Users\\linda\\Anaconda3\\lib\\site-packages\\lightgbm\\basic.py:1186: UserWarning: Using categorical_feature in Dataset.\n",
      "  warnings.warn('Using categorical_feature in Dataset.')\n"
     ]
    },
    {
     "name": "stdout",
     "output_type": "stream",
     "text": [
      "Training until validation scores don't improve for 200 rounds.\n",
      "[100]\ttraining's l1: 0.0588672\tvalid_1's l1: 0.0917584\n",
      "[200]\ttraining's l1: 0.0458815\tvalid_1's l1: 0.0921492\n",
      "[300]\ttraining's l1: 0.0385198\tvalid_1's l1: 0.0916511\n",
      "[400]\ttraining's l1: 0.0336437\tvalid_1's l1: 0.0916096\n",
      "Early stopping, best iteration is:\n",
      "[263]\ttraining's l1: 0.0408717\tvalid_1's l1: 0.0910015\n",
      "fold n°4\n"
     ]
    },
    {
     "name": "stderr",
     "output_type": "stream",
     "text": [
      "C:\\Users\\linda\\Anaconda3\\lib\\site-packages\\lightgbm\\basic.py:1186: UserWarning: Using categorical_feature in Dataset.\n",
      "  warnings.warn('Using categorical_feature in Dataset.')\n"
     ]
    },
    {
     "name": "stdout",
     "output_type": "stream",
     "text": [
      "Training until validation scores don't improve for 200 rounds.\n",
      "[100]\ttraining's l1: 0.0594896\tvalid_1's l1: 0.0770866\n",
      "[200]\ttraining's l1: 0.0458391\tvalid_1's l1: 0.0778494\n",
      "Early stopping, best iteration is:\n",
      "[84]\ttraining's l1: 0.0635817\tvalid_1's l1: 0.0763496\n",
      "fold n°5\n"
     ]
    },
    {
     "name": "stderr",
     "output_type": "stream",
     "text": [
      "C:\\Users\\linda\\Anaconda3\\lib\\site-packages\\lightgbm\\basic.py:1186: UserWarning: Using categorical_feature in Dataset.\n",
      "  warnings.warn('Using categorical_feature in Dataset.')\n"
     ]
    },
    {
     "name": "stdout",
     "output_type": "stream",
     "text": [
      "Training until validation scores don't improve for 200 rounds.\n",
      "[100]\ttraining's l1: 0.0586366\tvalid_1's l1: 0.0929785\n",
      "[200]\ttraining's l1: 0.0456146\tvalid_1's l1: 0.0901576\n",
      "[300]\ttraining's l1: 0.0384653\tvalid_1's l1: 0.0895384\n",
      "[400]\ttraining's l1: 0.0333704\tvalid_1's l1: 0.0908959\n",
      "Early stopping, best iteration is:\n",
      "[275]\ttraining's l1: 0.0399624\tvalid_1's l1: 0.0893386\n",
      "fold n°6\n"
     ]
    },
    {
     "name": "stderr",
     "output_type": "stream",
     "text": [
      "C:\\Users\\linda\\Anaconda3\\lib\\site-packages\\lightgbm\\basic.py:1186: UserWarning: Using categorical_feature in Dataset.\n",
      "  warnings.warn('Using categorical_feature in Dataset.')\n"
     ]
    },
    {
     "name": "stdout",
     "output_type": "stream",
     "text": [
      "Training until validation scores don't improve for 200 rounds.\n",
      "[100]\ttraining's l1: 0.0595635\tvalid_1's l1: 0.0774867\n",
      "[200]\ttraining's l1: 0.0456834\tvalid_1's l1: 0.0731899\n",
      "[300]\ttraining's l1: 0.0385562\tvalid_1's l1: 0.0721445\n",
      "[400]\ttraining's l1: 0.0335376\tvalid_1's l1: 0.0721848\n",
      "[500]\ttraining's l1: 0.0297672\tvalid_1's l1: 0.0717438\n",
      "[600]\ttraining's l1: 0.0268128\tvalid_1's l1: 0.071279\n",
      "[700]\ttraining's l1: 0.0243795\tvalid_1's l1: 0.0709833\n",
      "[800]\ttraining's l1: 0.0223313\tvalid_1's l1: 0.0710418\n",
      "[900]\ttraining's l1: 0.0206321\tvalid_1's l1: 0.0709752\n",
      "[1000]\ttraining's l1: 0.0192949\tvalid_1's l1: 0.070711\n",
      "Did not meet early stopping. Best iteration is:\n",
      "[1000]\ttraining's l1: 0.0192949\tvalid_1's l1: 0.070711\n",
      "fold n°7\n"
     ]
    },
    {
     "name": "stderr",
     "output_type": "stream",
     "text": [
      "C:\\Users\\linda\\Anaconda3\\lib\\site-packages\\lightgbm\\basic.py:1186: UserWarning: Using categorical_feature in Dataset.\n",
      "  warnings.warn('Using categorical_feature in Dataset.')\n"
     ]
    },
    {
     "name": "stdout",
     "output_type": "stream",
     "text": [
      "Training until validation scores don't improve for 200 rounds.\n",
      "[100]\ttraining's l1: 0.0602611\tvalid_1's l1: 0.080673\n",
      "[200]\ttraining's l1: 0.0469701\tvalid_1's l1: 0.0753795\n",
      "[300]\ttraining's l1: 0.0393835\tvalid_1's l1: 0.0738937\n",
      "[400]\ttraining's l1: 0.0342813\tvalid_1's l1: 0.0736773\n",
      "[500]\ttraining's l1: 0.0303912\tvalid_1's l1: 0.0730402\n",
      "[600]\ttraining's l1: 0.027355\tvalid_1's l1: 0.0725118\n",
      "[700]\ttraining's l1: 0.0249015\tvalid_1's l1: 0.072139\n",
      "[800]\ttraining's l1: 0.0228175\tvalid_1's l1: 0.0716886\n",
      "[900]\ttraining's l1: 0.0211413\tvalid_1's l1: 0.0713632\n",
      "[1000]\ttraining's l1: 0.0196608\tvalid_1's l1: 0.0709955\n",
      "Did not meet early stopping. Best iteration is:\n",
      "[1000]\ttraining's l1: 0.0196608\tvalid_1's l1: 0.0709955\n",
      "fold n°8\n"
     ]
    },
    {
     "name": "stderr",
     "output_type": "stream",
     "text": [
      "C:\\Users\\linda\\Anaconda3\\lib\\site-packages\\lightgbm\\basic.py:1186: UserWarning: Using categorical_feature in Dataset.\n",
      "  warnings.warn('Using categorical_feature in Dataset.')\n"
     ]
    },
    {
     "name": "stdout",
     "output_type": "stream",
     "text": [
      "Training until validation scores don't improve for 200 rounds.\n",
      "[100]\ttraining's l1: 0.0589846\tvalid_1's l1: 0.0875204\n",
      "[200]\ttraining's l1: 0.0460168\tvalid_1's l1: 0.0843411\n",
      "[300]\ttraining's l1: 0.0387268\tvalid_1's l1: 0.084057\n",
      "[400]\ttraining's l1: 0.033827\tvalid_1's l1: 0.0846049\n",
      "Early stopping, best iteration is:\n",
      "[216]\ttraining's l1: 0.0446553\tvalid_1's l1: 0.0838334\n",
      "fold n°9\n"
     ]
    },
    {
     "name": "stderr",
     "output_type": "stream",
     "text": [
      "C:\\Users\\linda\\Anaconda3\\lib\\site-packages\\lightgbm\\basic.py:1186: UserWarning: Using categorical_feature in Dataset.\n",
      "  warnings.warn('Using categorical_feature in Dataset.')\n"
     ]
    },
    {
     "name": "stdout",
     "output_type": "stream",
     "text": [
      "Training until validation scores don't improve for 200 rounds.\n",
      "[100]\ttraining's l1: 0.0601777\tvalid_1's l1: 0.0767484\n",
      "[200]\ttraining's l1: 0.0461837\tvalid_1's l1: 0.0753311\n",
      "[300]\ttraining's l1: 0.0389585\tvalid_1's l1: 0.0743841\n",
      "[400]\ttraining's l1: 0.0337634\tvalid_1's l1: 0.0741976\n",
      "[500]\ttraining's l1: 0.0300945\tvalid_1's l1: 0.0741806\n",
      "[600]\ttraining's l1: 0.0271135\tvalid_1's l1: 0.0740492\n",
      "Early stopping, best iteration is:\n",
      "[432]\ttraining's l1: 0.0324991\tvalid_1's l1: 0.0737808\n"
     ]
    },
    {
     "name": "stderr",
     "output_type": "stream",
     "text": [
      "\r",
      " 50%|██████████████████████████████████████████                                          | 3/6 [04:43<04:45, 95.13s/it]"
     ]
    },
    {
     "name": "stdout",
     "output_type": "stream",
     "text": [
      "fold n°0\n"
     ]
    },
    {
     "name": "stderr",
     "output_type": "stream",
     "text": [
      "C:\\Users\\linda\\Anaconda3\\lib\\site-packages\\lightgbm\\basic.py:1186: UserWarning: Using categorical_feature in Dataset.\n",
      "  warnings.warn('Using categorical_feature in Dataset.')\n"
     ]
    },
    {
     "name": "stdout",
     "output_type": "stream",
     "text": [
      "Training until validation scores don't improve for 200 rounds.\n",
      "[100]\ttraining's l1: 0.0604769\tvalid_1's l1: 0.0883875\n",
      "[200]\ttraining's l1: 0.0462194\tvalid_1's l1: 0.0873451\n",
      "[300]\ttraining's l1: 0.0390339\tvalid_1's l1: 0.0868831\n",
      "[400]\ttraining's l1: 0.0338879\tvalid_1's l1: 0.0873474\n",
      "Early stopping, best iteration is:\n",
      "[266]\ttraining's l1: 0.0410849\tvalid_1's l1: 0.0865527\n",
      "fold n°1\n"
     ]
    },
    {
     "name": "stderr",
     "output_type": "stream",
     "text": [
      "C:\\Users\\linda\\Anaconda3\\lib\\site-packages\\lightgbm\\basic.py:1186: UserWarning: Using categorical_feature in Dataset.\n",
      "  warnings.warn('Using categorical_feature in Dataset.')\n"
     ]
    },
    {
     "name": "stdout",
     "output_type": "stream",
     "text": [
      "Training until validation scores don't improve for 200 rounds.\n",
      "[100]\ttraining's l1: 0.0613692\tvalid_1's l1: 0.0783186\n",
      "[200]\ttraining's l1: 0.0472911\tvalid_1's l1: 0.0778568\n",
      "[300]\ttraining's l1: 0.0395413\tvalid_1's l1: 0.0799193\n",
      "Early stopping, best iteration is:\n",
      "[135]\ttraining's l1: 0.055132\tvalid_1's l1: 0.077535\n",
      "fold n°2\n"
     ]
    },
    {
     "name": "stderr",
     "output_type": "stream",
     "text": [
      "C:\\Users\\linda\\Anaconda3\\lib\\site-packages\\lightgbm\\basic.py:1186: UserWarning: Using categorical_feature in Dataset.\n",
      "  warnings.warn('Using categorical_feature in Dataset.')\n"
     ]
    },
    {
     "name": "stdout",
     "output_type": "stream",
     "text": [
      "Training until validation scores don't improve for 200 rounds.\n",
      "[100]\ttraining's l1: 0.060372\tvalid_1's l1: 0.0801793\n",
      "[200]\ttraining's l1: 0.0466832\tvalid_1's l1: 0.0784916\n",
      "[300]\ttraining's l1: 0.0389491\tvalid_1's l1: 0.0779956\n",
      "[400]\ttraining's l1: 0.0336928\tvalid_1's l1: 0.0779048\n",
      "[500]\ttraining's l1: 0.0297796\tvalid_1's l1: 0.0780114\n",
      "[600]\ttraining's l1: 0.0267331\tvalid_1's l1: 0.0784215\n",
      "Early stopping, best iteration is:\n",
      "[410]\ttraining's l1: 0.0332926\tvalid_1's l1: 0.0777147\n",
      "fold n°3\n"
     ]
    },
    {
     "name": "stderr",
     "output_type": "stream",
     "text": [
      "C:\\Users\\linda\\Anaconda3\\lib\\site-packages\\lightgbm\\basic.py:1186: UserWarning: Using categorical_feature in Dataset.\n",
      "  warnings.warn('Using categorical_feature in Dataset.')\n"
     ]
    },
    {
     "name": "stdout",
     "output_type": "stream",
     "text": [
      "Training until validation scores don't improve for 200 rounds.\n",
      "[100]\ttraining's l1: 0.0601199\tvalid_1's l1: 0.0919618\n",
      "[200]\ttraining's l1: 0.0460186\tvalid_1's l1: 0.0899192\n",
      "[300]\ttraining's l1: 0.0382298\tvalid_1's l1: 0.0911085\n",
      "Early stopping, best iteration is:\n",
      "[185]\ttraining's l1: 0.0475827\tvalid_1's l1: 0.0895959\n",
      "fold n°4\n"
     ]
    },
    {
     "name": "stderr",
     "output_type": "stream",
     "text": [
      "C:\\Users\\linda\\Anaconda3\\lib\\site-packages\\lightgbm\\basic.py:1186: UserWarning: Using categorical_feature in Dataset.\n",
      "  warnings.warn('Using categorical_feature in Dataset.')\n"
     ]
    },
    {
     "name": "stdout",
     "output_type": "stream",
     "text": [
      "Training until validation scores don't improve for 200 rounds.\n",
      "[100]\ttraining's l1: 0.0604482\tvalid_1's l1: 0.0839945\n",
      "[200]\ttraining's l1: 0.0461468\tvalid_1's l1: 0.084331\n",
      "[300]\ttraining's l1: 0.0385593\tvalid_1's l1: 0.0853544\n",
      "Early stopping, best iteration is:\n",
      "[161]\ttraining's l1: 0.050682\tvalid_1's l1: 0.0834337\n",
      "fold n°5\n"
     ]
    },
    {
     "name": "stderr",
     "output_type": "stream",
     "text": [
      "C:\\Users\\linda\\Anaconda3\\lib\\site-packages\\lightgbm\\basic.py:1186: UserWarning: Using categorical_feature in Dataset.\n",
      "  warnings.warn('Using categorical_feature in Dataset.')\n"
     ]
    },
    {
     "name": "stdout",
     "output_type": "stream",
     "text": [
      "Training until validation scores don't improve for 200 rounds.\n",
      "[100]\ttraining's l1: 0.0601914\tvalid_1's l1: 0.0902133\n",
      "[200]\ttraining's l1: 0.0464926\tvalid_1's l1: 0.0882004\n",
      "[300]\ttraining's l1: 0.0388788\tvalid_1's l1: 0.087248\n",
      "[400]\ttraining's l1: 0.0337613\tvalid_1's l1: 0.0873717\n",
      "Early stopping, best iteration is:\n",
      "[283]\ttraining's l1: 0.0399271\tvalid_1's l1: 0.0869771\n",
      "fold n°6\n"
     ]
    },
    {
     "name": "stderr",
     "output_type": "stream",
     "text": [
      "C:\\Users\\linda\\Anaconda3\\lib\\site-packages\\lightgbm\\basic.py:1186: UserWarning: Using categorical_feature in Dataset.\n",
      "  warnings.warn('Using categorical_feature in Dataset.')\n"
     ]
    },
    {
     "name": "stdout",
     "output_type": "stream",
     "text": [
      "Training until validation scores don't improve for 200 rounds.\n",
      "[100]\ttraining's l1: 0.0617973\tvalid_1's l1: 0.0846681\n",
      "[200]\ttraining's l1: 0.047666\tvalid_1's l1: 0.0832738\n",
      "[300]\ttraining's l1: 0.0401592\tvalid_1's l1: 0.0823785\n",
      "[400]\ttraining's l1: 0.0346537\tvalid_1's l1: 0.0815479\n",
      "[500]\ttraining's l1: 0.0306149\tvalid_1's l1: 0.0818188\n",
      "Early stopping, best iteration is:\n",
      "[396]\ttraining's l1: 0.0348427\tvalid_1's l1: 0.0813298\n",
      "fold n°7\n"
     ]
    },
    {
     "name": "stderr",
     "output_type": "stream",
     "text": [
      "C:\\Users\\linda\\Anaconda3\\lib\\site-packages\\lightgbm\\basic.py:1186: UserWarning: Using categorical_feature in Dataset.\n",
      "  warnings.warn('Using categorical_feature in Dataset.')\n"
     ]
    },
    {
     "name": "stdout",
     "output_type": "stream",
     "text": [
      "Training until validation scores don't improve for 200 rounds.\n",
      "[100]\ttraining's l1: 0.0612012\tvalid_1's l1: 0.0880615\n",
      "[200]\ttraining's l1: 0.0469007\tvalid_1's l1: 0.0834969\n",
      "[300]\ttraining's l1: 0.0393172\tvalid_1's l1: 0.0827649\n",
      "[400]\ttraining's l1: 0.0341524\tvalid_1's l1: 0.0819738\n",
      "[500]\ttraining's l1: 0.0303511\tvalid_1's l1: 0.0812601\n",
      "[600]\ttraining's l1: 0.0273183\tvalid_1's l1: 0.0812442\n",
      "[700]\ttraining's l1: 0.0248768\tvalid_1's l1: 0.080769\n",
      "[800]\ttraining's l1: 0.0228342\tvalid_1's l1: 0.080671\n",
      "[900]\ttraining's l1: 0.0211076\tvalid_1's l1: 0.0809001\n",
      "[1000]\ttraining's l1: 0.0196559\tvalid_1's l1: 0.0810494\n",
      "Did not meet early stopping. Best iteration is:\n",
      "[1000]\ttraining's l1: 0.0196559\tvalid_1's l1: 0.0810494\n",
      "fold n°8\n"
     ]
    },
    {
     "name": "stderr",
     "output_type": "stream",
     "text": [
      "C:\\Users\\linda\\Anaconda3\\lib\\site-packages\\lightgbm\\basic.py:1186: UserWarning: Using categorical_feature in Dataset.\n",
      "  warnings.warn('Using categorical_feature in Dataset.')\n"
     ]
    },
    {
     "name": "stdout",
     "output_type": "stream",
     "text": [
      "Training until validation scores don't improve for 200 rounds.\n",
      "[100]\ttraining's l1: 0.0609653\tvalid_1's l1: 0.0712607\n",
      "[200]\ttraining's l1: 0.0471687\tvalid_1's l1: 0.0688153\n",
      "[300]\ttraining's l1: 0.0393591\tvalid_1's l1: 0.0687359\n",
      "[400]\ttraining's l1: 0.0339506\tvalid_1's l1: 0.0689867\n",
      "Early stopping, best iteration is:\n",
      "[242]\ttraining's l1: 0.0435015\tvalid_1's l1: 0.0675513\n",
      "fold n°9\n"
     ]
    },
    {
     "name": "stderr",
     "output_type": "stream",
     "text": [
      "C:\\Users\\linda\\Anaconda3\\lib\\site-packages\\lightgbm\\basic.py:1186: UserWarning: Using categorical_feature in Dataset.\n",
      "  warnings.warn('Using categorical_feature in Dataset.')\n"
     ]
    },
    {
     "name": "stdout",
     "output_type": "stream",
     "text": [
      "Training until validation scores don't improve for 200 rounds.\n",
      "[100]\ttraining's l1: 0.0609971\tvalid_1's l1: 0.0789349\n",
      "[200]\ttraining's l1: 0.0466\tvalid_1's l1: 0.0756749\n",
      "[300]\ttraining's l1: 0.0388701\tvalid_1's l1: 0.0761898\n",
      "Early stopping, best iteration is:\n",
      "[198]\ttraining's l1: 0.046796\tvalid_1's l1: 0.0756131\n"
     ]
    },
    {
     "name": "stderr",
     "output_type": "stream",
     "text": [
      "\r",
      " 67%|████████████████████████████████████████████████████████                            | 4/6 [06:17<03:09, 94.88s/it]"
     ]
    },
    {
     "name": "stdout",
     "output_type": "stream",
     "text": [
      "fold n°0\n"
     ]
    },
    {
     "name": "stderr",
     "output_type": "stream",
     "text": [
      "C:\\Users\\linda\\Anaconda3\\lib\\site-packages\\lightgbm\\basic.py:1186: UserWarning: Using categorical_feature in Dataset.\n",
      "  warnings.warn('Using categorical_feature in Dataset.')\n"
     ]
    },
    {
     "name": "stdout",
     "output_type": "stream",
     "text": [
      "Training until validation scores don't improve for 200 rounds.\n",
      "[100]\ttraining's l1: 0.0618907\tvalid_1's l1: 0.066983\n",
      "[200]\ttraining's l1: 0.047155\tvalid_1's l1: 0.0653675\n",
      "[300]\ttraining's l1: 0.0391112\tvalid_1's l1: 0.0658021\n",
      "Early stopping, best iteration is:\n",
      "[172]\ttraining's l1: 0.0502274\tvalid_1's l1: 0.0647272\n",
      "fold n°1\n"
     ]
    },
    {
     "name": "stderr",
     "output_type": "stream",
     "text": [
      "C:\\Users\\linda\\Anaconda3\\lib\\site-packages\\lightgbm\\basic.py:1186: UserWarning: Using categorical_feature in Dataset.\n",
      "  warnings.warn('Using categorical_feature in Dataset.')\n"
     ]
    },
    {
     "name": "stdout",
     "output_type": "stream",
     "text": [
      "Training until validation scores don't improve for 200 rounds.\n",
      "[100]\ttraining's l1: 0.0605888\tvalid_1's l1: 0.0825845\n",
      "[200]\ttraining's l1: 0.046631\tvalid_1's l1: 0.0775344\n",
      "[300]\ttraining's l1: 0.0389534\tvalid_1's l1: 0.0768906\n",
      "[400]\ttraining's l1: 0.0337397\tvalid_1's l1: 0.0765223\n",
      "[500]\ttraining's l1: 0.0298385\tvalid_1's l1: 0.0756939\n",
      "[600]\ttraining's l1: 0.0267955\tvalid_1's l1: 0.0748904\n",
      "[700]\ttraining's l1: 0.0243602\tvalid_1's l1: 0.0753642\n",
      "[800]\ttraining's l1: 0.0223143\tvalid_1's l1: 0.075685\n",
      "Early stopping, best iteration is:\n",
      "[603]\ttraining's l1: 0.0267114\tvalid_1's l1: 0.0747756\n",
      "fold n°2\n"
     ]
    },
    {
     "name": "stderr",
     "output_type": "stream",
     "text": [
      "C:\\Users\\linda\\Anaconda3\\lib\\site-packages\\lightgbm\\basic.py:1186: UserWarning: Using categorical_feature in Dataset.\n",
      "  warnings.warn('Using categorical_feature in Dataset.')\n"
     ]
    },
    {
     "name": "stdout",
     "output_type": "stream",
     "text": [
      "Training until validation scores don't improve for 200 rounds.\n",
      "[100]\ttraining's l1: 0.0610121\tvalid_1's l1: 0.0775264\n",
      "[200]\ttraining's l1: 0.0463819\tvalid_1's l1: 0.0743936\n",
      "[300]\ttraining's l1: 0.0383634\tvalid_1's l1: 0.0735265\n",
      "[400]\ttraining's l1: 0.0331635\tvalid_1's l1: 0.0731056\n",
      "[500]\ttraining's l1: 0.0292318\tvalid_1's l1: 0.0724954\n",
      "[600]\ttraining's l1: 0.0262296\tvalid_1's l1: 0.0728415\n",
      "[700]\ttraining's l1: 0.0238239\tvalid_1's l1: 0.0734398\n",
      "Early stopping, best iteration is:\n",
      "[517]\ttraining's l1: 0.0286577\tvalid_1's l1: 0.0721155\n",
      "fold n°3\n"
     ]
    },
    {
     "name": "stderr",
     "output_type": "stream",
     "text": [
      "C:\\Users\\linda\\Anaconda3\\lib\\site-packages\\lightgbm\\basic.py:1186: UserWarning: Using categorical_feature in Dataset.\n",
      "  warnings.warn('Using categorical_feature in Dataset.')\n"
     ]
    },
    {
     "name": "stdout",
     "output_type": "stream",
     "text": [
      "Training until validation scores don't improve for 200 rounds.\n",
      "[100]\ttraining's l1: 0.0591455\tvalid_1's l1: 0.0990201\n",
      "[200]\ttraining's l1: 0.0454037\tvalid_1's l1: 0.100202\n",
      "Early stopping, best iteration is:\n",
      "[90]\ttraining's l1: 0.0616783\tvalid_1's l1: 0.0983317\n",
      "fold n°4\n"
     ]
    },
    {
     "name": "stderr",
     "output_type": "stream",
     "text": [
      "C:\\Users\\linda\\Anaconda3\\lib\\site-packages\\lightgbm\\basic.py:1186: UserWarning: Using categorical_feature in Dataset.\n",
      "  warnings.warn('Using categorical_feature in Dataset.')\n"
     ]
    },
    {
     "name": "stdout",
     "output_type": "stream",
     "text": [
      "Training until validation scores don't improve for 200 rounds.\n",
      "[100]\ttraining's l1: 0.0603028\tvalid_1's l1: 0.0857277\n",
      "[200]\ttraining's l1: 0.0463535\tvalid_1's l1: 0.0865255\n",
      "Early stopping, best iteration is:\n",
      "[84]\ttraining's l1: 0.0645125\tvalid_1's l1: 0.0852576\n",
      "fold n°5\n"
     ]
    },
    {
     "name": "stderr",
     "output_type": "stream",
     "text": [
      "C:\\Users\\linda\\Anaconda3\\lib\\site-packages\\lightgbm\\basic.py:1186: UserWarning: Using categorical_feature in Dataset.\n",
      "  warnings.warn('Using categorical_feature in Dataset.')\n"
     ]
    },
    {
     "name": "stdout",
     "output_type": "stream",
     "text": [
      "Training until validation scores don't improve for 200 rounds.\n",
      "[100]\ttraining's l1: 0.0598647\tvalid_1's l1: 0.092231\n",
      "[200]\ttraining's l1: 0.0458732\tvalid_1's l1: 0.0912896\n",
      "[300]\ttraining's l1: 0.0385738\tvalid_1's l1: 0.0896595\n",
      "[400]\ttraining's l1: 0.0334594\tvalid_1's l1: 0.0903125\n",
      "Early stopping, best iteration is:\n",
      "[296]\ttraining's l1: 0.0388482\tvalid_1's l1: 0.0896031\n",
      "fold n°6\n"
     ]
    },
    {
     "name": "stderr",
     "output_type": "stream",
     "text": [
      "C:\\Users\\linda\\Anaconda3\\lib\\site-packages\\lightgbm\\basic.py:1186: UserWarning: Using categorical_feature in Dataset.\n",
      "  warnings.warn('Using categorical_feature in Dataset.')\n"
     ]
    },
    {
     "name": "stdout",
     "output_type": "stream",
     "text": [
      "Training until validation scores don't improve for 200 rounds.\n",
      "[100]\ttraining's l1: 0.0606172\tvalid_1's l1: 0.0877261\n",
      "[200]\ttraining's l1: 0.0462931\tvalid_1's l1: 0.0846628\n",
      "[300]\ttraining's l1: 0.0385831\tvalid_1's l1: 0.0822187\n",
      "[400]\ttraining's l1: 0.0332038\tvalid_1's l1: 0.0816418\n",
      "[500]\ttraining's l1: 0.0292331\tvalid_1's l1: 0.0816977\n",
      "Early stopping, best iteration is:\n",
      "[362]\ttraining's l1: 0.0349909\tvalid_1's l1: 0.0812692\n",
      "fold n°7\n"
     ]
    },
    {
     "name": "stderr",
     "output_type": "stream",
     "text": [
      "C:\\Users\\linda\\Anaconda3\\lib\\site-packages\\lightgbm\\basic.py:1186: UserWarning: Using categorical_feature in Dataset.\n",
      "  warnings.warn('Using categorical_feature in Dataset.')\n"
     ]
    },
    {
     "name": "stdout",
     "output_type": "stream",
     "text": [
      "Training until validation scores don't improve for 200 rounds.\n",
      "[100]\ttraining's l1: 0.0603633\tvalid_1's l1: 0.0843973\n",
      "[200]\ttraining's l1: 0.0462295\tvalid_1's l1: 0.0816169\n",
      "[300]\ttraining's l1: 0.038774\tvalid_1's l1: 0.0814566\n",
      "[400]\ttraining's l1: 0.0332853\tvalid_1's l1: 0.080826\n",
      "[500]\ttraining's l1: 0.0295192\tvalid_1's l1: 0.0806054\n",
      "[600]\ttraining's l1: 0.0262961\tvalid_1's l1: 0.0803514\n",
      "[700]\ttraining's l1: 0.0238433\tvalid_1's l1: 0.0807289\n",
      "Early stopping, best iteration is:\n",
      "[579]\ttraining's l1: 0.0269367\tvalid_1's l1: 0.0801995\n",
      "fold n°8\n"
     ]
    },
    {
     "name": "stderr",
     "output_type": "stream",
     "text": [
      "C:\\Users\\linda\\Anaconda3\\lib\\site-packages\\lightgbm\\basic.py:1186: UserWarning: Using categorical_feature in Dataset.\n",
      "  warnings.warn('Using categorical_feature in Dataset.')\n"
     ]
    },
    {
     "name": "stdout",
     "output_type": "stream",
     "text": [
      "Training until validation scores don't improve for 200 rounds.\n",
      "[100]\ttraining's l1: 0.060114\tvalid_1's l1: 0.0840664\n",
      "[200]\ttraining's l1: 0.0460065\tvalid_1's l1: 0.0804796\n",
      "[300]\ttraining's l1: 0.0382301\tvalid_1's l1: 0.0803506\n",
      "[400]\ttraining's l1: 0.0329941\tvalid_1's l1: 0.0800619\n",
      "[500]\ttraining's l1: 0.0290307\tvalid_1's l1: 0.0802701\n",
      "[600]\ttraining's l1: 0.026067\tvalid_1's l1: 0.0808721\n",
      "Early stopping, best iteration is:\n",
      "[426]\ttraining's l1: 0.0318406\tvalid_1's l1: 0.079705\n",
      "fold n°9\n"
     ]
    },
    {
     "name": "stderr",
     "output_type": "stream",
     "text": [
      "C:\\Users\\linda\\Anaconda3\\lib\\site-packages\\lightgbm\\basic.py:1186: UserWarning: Using categorical_feature in Dataset.\n",
      "  warnings.warn('Using categorical_feature in Dataset.')\n"
     ]
    },
    {
     "name": "stdout",
     "output_type": "stream",
     "text": [
      "Training until validation scores don't improve for 200 rounds.\n",
      "[100]\ttraining's l1: 0.0616021\tvalid_1's l1: 0.0689499\n",
      "[200]\ttraining's l1: 0.0467884\tvalid_1's l1: 0.066754\n",
      "[300]\ttraining's l1: 0.0389298\tvalid_1's l1: 0.0663322\n",
      "[400]\ttraining's l1: 0.0335764\tvalid_1's l1: 0.0652132\n",
      "[500]\ttraining's l1: 0.0297751\tvalid_1's l1: 0.0648263\n",
      "[600]\ttraining's l1: 0.0267542\tvalid_1's l1: 0.0653284\n",
      "Early stopping, best iteration is:\n",
      "[462]\ttraining's l1: 0.0310561\tvalid_1's l1: 0.0647097\n"
     ]
    },
    {
     "name": "stderr",
     "output_type": "stream",
     "text": [
      "\r",
      " 83%|██████████████████████████████████████████████████████████████████████              | 5/6 [07:56<01:36, 96.11s/it]"
     ]
    },
    {
     "name": "stdout",
     "output_type": "stream",
     "text": [
      "fold n°0\n"
     ]
    },
    {
     "name": "stderr",
     "output_type": "stream",
     "text": [
      "C:\\Users\\linda\\Anaconda3\\lib\\site-packages\\lightgbm\\basic.py:1186: UserWarning: Using categorical_feature in Dataset.\n",
      "  warnings.warn('Using categorical_feature in Dataset.')\n"
     ]
    },
    {
     "name": "stdout",
     "output_type": "stream",
     "text": [
      "Training until validation scores don't improve for 200 rounds.\n",
      "[100]\ttraining's l1: 0.0538629\tvalid_1's l1: 0.0728949\n",
      "[200]\ttraining's l1: 0.0409794\tvalid_1's l1: 0.071607\n",
      "[300]\ttraining's l1: 0.0336469\tvalid_1's l1: 0.0717887\n",
      "Early stopping, best iteration is:\n",
      "[172]\ttraining's l1: 0.0435135\tvalid_1's l1: 0.0713374\n",
      "fold n°1\n"
     ]
    },
    {
     "name": "stderr",
     "output_type": "stream",
     "text": [
      "C:\\Users\\linda\\Anaconda3\\lib\\site-packages\\lightgbm\\basic.py:1186: UserWarning: Using categorical_feature in Dataset.\n",
      "  warnings.warn('Using categorical_feature in Dataset.')\n"
     ]
    },
    {
     "name": "stdout",
     "output_type": "stream",
     "text": [
      "Training until validation scores don't improve for 200 rounds.\n",
      "[100]\ttraining's l1: 0.0537498\tvalid_1's l1: 0.072757\n",
      "[200]\ttraining's l1: 0.0404878\tvalid_1's l1: 0.0707626\n",
      "[300]\ttraining's l1: 0.0333683\tvalid_1's l1: 0.070571\n",
      "[400]\ttraining's l1: 0.0287074\tvalid_1's l1: 0.0695999\n",
      "[500]\ttraining's l1: 0.0252291\tvalid_1's l1: 0.0696723\n",
      "[600]\ttraining's l1: 0.022503\tvalid_1's l1: 0.070016\n",
      "Early stopping, best iteration is:\n",
      "[448]\ttraining's l1: 0.0268789\tvalid_1's l1: 0.0693671\n",
      "fold n°2\n"
     ]
    },
    {
     "name": "stderr",
     "output_type": "stream",
     "text": [
      "C:\\Users\\linda\\Anaconda3\\lib\\site-packages\\lightgbm\\basic.py:1186: UserWarning: Using categorical_feature in Dataset.\n",
      "  warnings.warn('Using categorical_feature in Dataset.')\n"
     ]
    },
    {
     "name": "stdout",
     "output_type": "stream",
     "text": [
      "Training until validation scores don't improve for 200 rounds.\n",
      "[100]\ttraining's l1: 0.0539853\tvalid_1's l1: 0.0777143\n",
      "[200]\ttraining's l1: 0.0410874\tvalid_1's l1: 0.075933\n",
      "[300]\ttraining's l1: 0.0339534\tvalid_1's l1: 0.0761876\n",
      "[400]\ttraining's l1: 0.0289888\tvalid_1's l1: 0.0764567\n",
      "Early stopping, best iteration is:\n",
      "[205]\ttraining's l1: 0.0406085\tvalid_1's l1: 0.0758676\n",
      "fold n°3\n"
     ]
    },
    {
     "name": "stderr",
     "output_type": "stream",
     "text": [
      "C:\\Users\\linda\\Anaconda3\\lib\\site-packages\\lightgbm\\basic.py:1186: UserWarning: Using categorical_feature in Dataset.\n",
      "  warnings.warn('Using categorical_feature in Dataset.')\n"
     ]
    },
    {
     "name": "stdout",
     "output_type": "stream",
     "text": [
      "Training until validation scores don't improve for 200 rounds.\n",
      "[100]\ttraining's l1: 0.0533153\tvalid_1's l1: 0.095053\n",
      "[200]\ttraining's l1: 0.0405065\tvalid_1's l1: 0.095849\n",
      "[300]\ttraining's l1: 0.0333583\tvalid_1's l1: 0.0956294\n",
      "Early stopping, best iteration is:\n",
      "[159]\ttraining's l1: 0.0447425\tvalid_1's l1: 0.0947284\n",
      "fold n°4\n"
     ]
    },
    {
     "name": "stderr",
     "output_type": "stream",
     "text": [
      "C:\\Users\\linda\\Anaconda3\\lib\\site-packages\\lightgbm\\basic.py:1186: UserWarning: Using categorical_feature in Dataset.\n",
      "  warnings.warn('Using categorical_feature in Dataset.')\n"
     ]
    },
    {
     "name": "stdout",
     "output_type": "stream",
     "text": [
      "Training until validation scores don't improve for 200 rounds.\n",
      "[100]\ttraining's l1: 0.0537973\tvalid_1's l1: 0.0771396\n",
      "[200]\ttraining's l1: 0.0405838\tvalid_1's l1: 0.0750577\n",
      "[300]\ttraining's l1: 0.0332956\tvalid_1's l1: 0.0747306\n",
      "[400]\ttraining's l1: 0.0285963\tvalid_1's l1: 0.07414\n",
      "[500]\ttraining's l1: 0.0252328\tvalid_1's l1: 0.0748015\n",
      "Early stopping, best iteration is:\n",
      "[336]\ttraining's l1: 0.0312315\tvalid_1's l1: 0.0739338\n",
      "fold n°5\n"
     ]
    },
    {
     "name": "stderr",
     "output_type": "stream",
     "text": [
      "C:\\Users\\linda\\Anaconda3\\lib\\site-packages\\lightgbm\\basic.py:1186: UserWarning: Using categorical_feature in Dataset.\n",
      "  warnings.warn('Using categorical_feature in Dataset.')\n"
     ]
    },
    {
     "name": "stdout",
     "output_type": "stream",
     "text": [
      "Training until validation scores don't improve for 200 rounds.\n",
      "[100]\ttraining's l1: 0.0528889\tvalid_1's l1: 0.0842533\n",
      "[200]\ttraining's l1: 0.0402992\tvalid_1's l1: 0.0838119\n",
      "[300]\ttraining's l1: 0.0330949\tvalid_1's l1: 0.0843037\n",
      "Early stopping, best iteration is:\n",
      "[156]\ttraining's l1: 0.0446359\tvalid_1's l1: 0.0832392\n",
      "fold n°6\n"
     ]
    },
    {
     "name": "stderr",
     "output_type": "stream",
     "text": [
      "C:\\Users\\linda\\Anaconda3\\lib\\site-packages\\lightgbm\\basic.py:1186: UserWarning: Using categorical_feature in Dataset.\n",
      "  warnings.warn('Using categorical_feature in Dataset.')\n"
     ]
    },
    {
     "name": "stdout",
     "output_type": "stream",
     "text": [
      "Training until validation scores don't improve for 200 rounds.\n",
      "[100]\ttraining's l1: 0.0535557\tvalid_1's l1: 0.084433\n",
      "[200]\ttraining's l1: 0.0403978\tvalid_1's l1: 0.0810212\n",
      "[300]\ttraining's l1: 0.0331895\tvalid_1's l1: 0.0800819\n",
      "[400]\ttraining's l1: 0.0283731\tvalid_1's l1: 0.0797224\n",
      "[500]\ttraining's l1: 0.0249608\tvalid_1's l1: 0.078986\n",
      "[600]\ttraining's l1: 0.0222694\tvalid_1's l1: 0.0786641\n",
      "[700]\ttraining's l1: 0.0202119\tvalid_1's l1: 0.0785323\n",
      "[800]\ttraining's l1: 0.0185089\tvalid_1's l1: 0.0784602\n",
      "[900]\ttraining's l1: 0.0170247\tvalid_1's l1: 0.0787742\n",
      "Early stopping, best iteration is:\n",
      "[771]\ttraining's l1: 0.0189895\tvalid_1's l1: 0.078355\n",
      "fold n°7\n"
     ]
    },
    {
     "name": "stderr",
     "output_type": "stream",
     "text": [
      "C:\\Users\\linda\\Anaconda3\\lib\\site-packages\\lightgbm\\basic.py:1186: UserWarning: Using categorical_feature in Dataset.\n",
      "  warnings.warn('Using categorical_feature in Dataset.')\n"
     ]
    },
    {
     "name": "stdout",
     "output_type": "stream",
     "text": [
      "Training until validation scores don't improve for 200 rounds.\n",
      "[100]\ttraining's l1: 0.0540383\tvalid_1's l1: 0.0834661\n",
      "[200]\ttraining's l1: 0.0410067\tvalid_1's l1: 0.0807418\n",
      "[300]\ttraining's l1: 0.0337453\tvalid_1's l1: 0.0807073\n",
      "[400]\ttraining's l1: 0.0288886\tvalid_1's l1: 0.0807208\n",
      "Early stopping, best iteration is:\n",
      "[281]\ttraining's l1: 0.0350462\tvalid_1's l1: 0.0803225\n",
      "fold n°8\n"
     ]
    },
    {
     "name": "stderr",
     "output_type": "stream",
     "text": [
      "C:\\Users\\linda\\Anaconda3\\lib\\site-packages\\lightgbm\\basic.py:1186: UserWarning: Using categorical_feature in Dataset.\n",
      "  warnings.warn('Using categorical_feature in Dataset.')\n"
     ]
    },
    {
     "name": "stdout",
     "output_type": "stream",
     "text": [
      "Training until validation scores don't improve for 200 rounds.\n",
      "[100]\ttraining's l1: 0.0532735\tvalid_1's l1: 0.0859231\n",
      "[200]\ttraining's l1: 0.0400686\tvalid_1's l1: 0.0838388\n",
      "[300]\ttraining's l1: 0.0332717\tvalid_1's l1: 0.0830293\n",
      "[400]\ttraining's l1: 0.0286426\tvalid_1's l1: 0.0830906\n",
      "[500]\ttraining's l1: 0.0250217\tvalid_1's l1: 0.0835464\n",
      "Early stopping, best iteration is:\n",
      "[377]\ttraining's l1: 0.0295091\tvalid_1's l1: 0.0828265\n",
      "fold n°9\n"
     ]
    },
    {
     "name": "stderr",
     "output_type": "stream",
     "text": [
      "C:\\Users\\linda\\Anaconda3\\lib\\site-packages\\lightgbm\\basic.py:1186: UserWarning: Using categorical_feature in Dataset.\n",
      "  warnings.warn('Using categorical_feature in Dataset.')\n"
     ]
    },
    {
     "name": "stdout",
     "output_type": "stream",
     "text": [
      "Training until validation scores don't improve for 200 rounds.\n",
      "[100]\ttraining's l1: 0.0539256\tvalid_1's l1: 0.0837898\n",
      "[200]\ttraining's l1: 0.040024\tvalid_1's l1: 0.0860026\n",
      "[300]\ttraining's l1: 0.0331475\tvalid_1's l1: 0.0861324\n",
      "Early stopping, best iteration is:\n",
      "[101]\ttraining's l1: 0.053648\tvalid_1's l1: 0.0835537\n"
     ]
    },
    {
     "name": "stderr",
     "output_type": "stream",
     "text": [
      "100%|███████████████████████████████████████████████████████████████████████████████████| 6/6 [10:14<00:00, 108.72s/it]\n"
     ]
    }
   ],
   "source": [
    "predictions_under = np.zeros(len(df_test))\n",
    "for fr in tqdm(np.sort(df_train['Flight Regime'].unique())):\n",
    "    df_train_fr = df_train_under[df_train_under['Flight Regime'] == fr]\n",
    "    df_test_fr = df_test[df_test['Flight Regime'] == fr]\n",
    "    target_fr = target_under[target_under['Flight Regime'] == fr][['lifespan', 'EngineID', 'EngineIndex']]\n",
    "    feature_importance_df = pd.DataFrame()\n",
    "    for fold_ in range(10):\n",
    "        print(\"fold n°{}\".format(fold_))\n",
    "        val_ID = folds_EngineID[fold_]        \n",
    "        trn_data = lgb.Dataset(df_train_fr[(~(df_train_fr['EngineID'].isin(val_ID))) &\n",
    "                                           (df_train_fr['EngineIndex'].isin(train_idx))][features],\n",
    "                               label=target_fr[(~(target_fr['EngineID'].isin(val_ID))) &\n",
    "                                               (target_fr['EngineIndex'].isin(train_idx))]['lifespan'],\n",
    "                               categorical_feature=categorical_feats\n",
    "                               )\n",
    "        # testデータで予測するindexのみをval_dataで用いる\n",
    "        # こうすることで、val_dataとtest_dataの分布が近づくことを狙っている\n",
    "        val_data = lgb.Dataset(df_train_fr[(df_train_fr['EngineID'].isin(val_ID)) & \n",
    "                                           (df_train_fr['EngineIndex'].isin(test_lastidx))][features],\n",
    "                               label=target_fr[target_fr['EngineID'].isin(val_ID) &\n",
    "                                               target_fr['EngineIndex'].isin(test_lastidx)]['lifespan'],\n",
    "                               categorical_feature=categorical_feats\n",
    "                               )\n",
    "        clf = lgb.train(param,\n",
    "                        trn_data,\n",
    "                        num_round,\n",
    "                        valid_sets=[trn_data, val_data],\n",
    "                        verbose_eval=100,\n",
    "                        early_stopping_rounds=200)\n",
    "        \n",
    "        val_pre =clf.predict(df_train[(df_train['Flight Regime'] == fr)&\n",
    "                                      (df_train['EngineID'].isin(val_ID)) & \n",
    "                                      (df_train['EngineIndex'].isin(test_lastidx))][features],\n",
    "                             num_iteration=clf.best_iteration)\n",
    "        \n",
    "        oof.loc[(oof['Flight Regime'] == fr) &\n",
    "                (oof['EngineID'].isin(val_ID)) & \n",
    "                (oof['EngineIndex'].isin(test_lastidx)), 'pre_lifespan_under100'] = val_pre\n",
    "        \n",
    "        predictions_under[df_test_fr.index] += clf.predict(df_test_fr[features], num_iteration=clf.best_iteration) / 10"
   ]
  },
  {
   "cell_type": "code",
   "execution_count": 30,
   "metadata": {},
   "outputs": [],
   "source": [
    "test_pre_under = predictions_under"
   ]
  },
  {
   "cell_type": "code",
   "execution_count": 31,
   "metadata": {},
   "outputs": [
    {
     "data": {
      "text/plain": [
       "7.769488621139207"
      ]
     },
     "execution_count": 31,
     "metadata": {},
     "output_type": "execute_result"
    }
   ],
   "source": [
    "oof_under = oof[oof['lifespan'] < 100]\n",
    "mean_absolute_error(oof_under['pre_lifespan_under100']*target_under_max, oof_under['lifespan'])"
   ]
  },
  {
   "cell_type": "markdown",
   "metadata": {},
   "source": [
    "=========== lifespan >= 100 ================"
   ]
  },
  {
   "cell_type": "code",
   "execution_count": 32,
   "metadata": {},
   "outputs": [
    {
     "name": "stdout",
     "output_type": "stream",
     "text": [
      "../features/train__200__important_columns.pkl\n",
      "../features/train__201__rolling_mean_per_FlightRegime.pkl\n",
      "../features/train__202__diff_from_first_some_data.pkl\n",
      "../features/train__004__cumsum_per_FlightRegime.pkl\n",
      "../features/train__005__count_FlightRegime.pkl\n"
     ]
    }
   ],
   "source": [
    "df_train_over = pd.DataFrame()\n",
    "train_features_path = ['../features/train__200__important_columns.pkl',\n",
    "                       '../features/train__201__rolling_mean_per_FlightRegime.pkl',\n",
    "                       '../features/train__202__diff_from_first_some_data.pkl',\n",
    "                       '../features/train__004__cumsum_per_FlightRegime.pkl',\n",
    "                       '../features/train__005__count_FlightRegime.pkl'\n",
    "                       ]\n",
    "for file_path in train_features_path:\n",
    "    print(file_path)\n",
    "    df_tmp = pd.read_pickle(file_path)\n",
    "    df_train_over = pd.concat([df_train_over, df_tmp], axis=1)"
   ]
  },
  {
   "cell_type": "code",
   "execution_count": 33,
   "metadata": {},
   "outputs": [],
   "source": [
    "df_test_over = pd.DataFrame()\n",
    "test_features_path = ['../features/test__200__important_columns.pkl',\n",
    "                       '../features/test__201__rolling_mean_per_FlightRegime.pkl',\n",
    "                       '../features/test__202__diff_from_first_some_data.pkl',\n",
    "                       '../features/test__004__cumsum_per_FlightRegime.pkl',\n",
    "                       '../features/test__005__count_FlightRegime.pkl'\n",
    "                       ]\n",
    "for file_path in test_features_path:\n",
    "    df_tmp = pd.read_pickle(file_path)\n",
    "    df_test_over = pd.concat([df_test_over, df_tmp], axis=1)"
   ]
  },
  {
   "cell_type": "code",
   "execution_count": 37,
   "metadata": {},
   "outputs": [
    {
     "name": "stderr",
     "output_type": "stream",
     "text": [
      "C:\\Users\\linda\\Anaconda3\\lib\\site-packages\\ipykernel_launcher.py:6: SettingWithCopyWarning: \n",
      "A value is trying to be set on a copy of a slice from a DataFrame.\n",
      "Try using .loc[row_indexer,col_indexer] = value instead\n",
      "\n",
      "See the caveats in the documentation: http://pandas.pydata.org/pandas-docs/stable/indexing.html#indexing-view-versus-copy\n",
      "  \n"
     ]
    }
   ],
   "source": [
    "df_train_over = pd.concat([df_train_over, target['lifespan']], axis=1)\n",
    "df_train_over = df_train_over[df_train_over['lifespan'] >= 100]\n",
    "\n",
    "target_over = target[target['lifespan'] >= 100]\n",
    "target_over_max = target_over['lifespan'].max()\n",
    "target_over['lifespan'] = target_over['lifespan'] / target_over_max\n",
    "del df_train_over['lifespan']"
   ]
  },
  {
   "cell_type": "code",
   "execution_count": 38,
   "metadata": {},
   "outputs": [],
   "source": [
    "features = [c for c in df_train_over.columns if c not in ['Flight Regime', 'EngineID', 'EngineIndex']]\n",
    "categorical_feats = []"
   ]
  },
  {
   "cell_type": "code",
   "execution_count": 39,
   "metadata": {},
   "outputs": [
    {
     "name": "stderr",
     "output_type": "stream",
     "text": [
      "\r",
      "  0%|                                                                                            | 0/6 [00:00<?, ?it/s]"
     ]
    },
    {
     "name": "stdout",
     "output_type": "stream",
     "text": [
      "fold n°0\n"
     ]
    },
    {
     "name": "stderr",
     "output_type": "stream",
     "text": [
      "C:\\Users\\linda\\Anaconda3\\lib\\site-packages\\lightgbm\\basic.py:1186: UserWarning: Using categorical_feature in Dataset.\n",
      "  warnings.warn('Using categorical_feature in Dataset.')\n"
     ]
    },
    {
     "name": "stdout",
     "output_type": "stream",
     "text": [
      "Training until validation scores don't improve for 200 rounds.\n",
      "[100]\ttraining's l1: 0.0572546\tvalid_1's l1: 0.0918539\n",
      "[200]\ttraining's l1: 0.0465862\tvalid_1's l1: 0.0940629\n",
      "Early stopping, best iteration is:\n",
      "[26]\ttraining's l1: 0.074651\tvalid_1's l1: 0.084418\n",
      "fold n°1\n"
     ]
    },
    {
     "name": "stderr",
     "output_type": "stream",
     "text": [
      "C:\\Users\\linda\\Anaconda3\\lib\\site-packages\\lightgbm\\basic.py:1186: UserWarning: Using categorical_feature in Dataset.\n",
      "  warnings.warn('Using categorical_feature in Dataset.')\n"
     ]
    },
    {
     "name": "stdout",
     "output_type": "stream",
     "text": [
      "Training until validation scores don't improve for 200 rounds.\n",
      "[100]\ttraining's l1: 0.059087\tvalid_1's l1: 0.0707472\n",
      "[200]\ttraining's l1: 0.0475177\tvalid_1's l1: 0.0687344\n",
      "[300]\ttraining's l1: 0.0398314\tvalid_1's l1: 0.0695161\n",
      "[400]\ttraining's l1: 0.0346918\tvalid_1's l1: 0.0694167\n",
      "Early stopping, best iteration is:\n",
      "[222]\ttraining's l1: 0.0456077\tvalid_1's l1: 0.068663\n",
      "fold n°2\n"
     ]
    },
    {
     "name": "stderr",
     "output_type": "stream",
     "text": [
      "C:\\Users\\linda\\Anaconda3\\lib\\site-packages\\lightgbm\\basic.py:1186: UserWarning: Using categorical_feature in Dataset.\n",
      "  warnings.warn('Using categorical_feature in Dataset.')\n"
     ]
    },
    {
     "name": "stdout",
     "output_type": "stream",
     "text": [
      "Training until validation scores don't improve for 200 rounds.\n",
      "[100]\ttraining's l1: 0.0570045\tvalid_1's l1: 0.0839953\n",
      "[200]\ttraining's l1: 0.0455353\tvalid_1's l1: 0.08968\n",
      "Early stopping, best iteration is:\n",
      "[50]\ttraining's l1: 0.0664015\tvalid_1's l1: 0.079394\n",
      "fold n°3\n"
     ]
    },
    {
     "name": "stderr",
     "output_type": "stream",
     "text": [
      "C:\\Users\\linda\\Anaconda3\\lib\\site-packages\\lightgbm\\basic.py:1186: UserWarning: Using categorical_feature in Dataset.\n",
      "  warnings.warn('Using categorical_feature in Dataset.')\n"
     ]
    },
    {
     "name": "stdout",
     "output_type": "stream",
     "text": [
      "Training until validation scores don't improve for 200 rounds.\n",
      "[100]\ttraining's l1: 0.0590808\tvalid_1's l1: 0.0861256\n",
      "[200]\ttraining's l1: 0.0474841\tvalid_1's l1: 0.0880757\n",
      "Early stopping, best iteration is:\n",
      "[79]\ttraining's l1: 0.0622909\tvalid_1's l1: 0.0850242\n",
      "fold n°4\n"
     ]
    },
    {
     "name": "stderr",
     "output_type": "stream",
     "text": [
      "C:\\Users\\linda\\Anaconda3\\lib\\site-packages\\lightgbm\\basic.py:1186: UserWarning: Using categorical_feature in Dataset.\n",
      "  warnings.warn('Using categorical_feature in Dataset.')\n"
     ]
    },
    {
     "name": "stdout",
     "output_type": "stream",
     "text": [
      "Training until validation scores don't improve for 200 rounds.\n",
      "[100]\ttraining's l1: 0.0578739\tvalid_1's l1: 0.0807669\n",
      "[200]\ttraining's l1: 0.0462088\tvalid_1's l1: 0.0839719\n",
      "Early stopping, best iteration is:\n",
      "[45]\ttraining's l1: 0.0685887\tvalid_1's l1: 0.0784995\n",
      "fold n°5\n"
     ]
    },
    {
     "name": "stderr",
     "output_type": "stream",
     "text": [
      "C:\\Users\\linda\\Anaconda3\\lib\\site-packages\\lightgbm\\basic.py:1186: UserWarning: Using categorical_feature in Dataset.\n",
      "  warnings.warn('Using categorical_feature in Dataset.')\n"
     ]
    },
    {
     "name": "stdout",
     "output_type": "stream",
     "text": [
      "Training until validation scores don't improve for 200 rounds.\n",
      "[100]\ttraining's l1: 0.0590482\tvalid_1's l1: 0.0713917\n",
      "[200]\ttraining's l1: 0.047354\tvalid_1's l1: 0.0721319\n",
      "[300]\ttraining's l1: 0.0394629\tvalid_1's l1: 0.072406\n",
      "Early stopping, best iteration is:\n",
      "[120]\ttraining's l1: 0.0562194\tvalid_1's l1: 0.0709118\n",
      "fold n°6\n"
     ]
    },
    {
     "name": "stderr",
     "output_type": "stream",
     "text": [
      "C:\\Users\\linda\\Anaconda3\\lib\\site-packages\\lightgbm\\basic.py:1186: UserWarning: Using categorical_feature in Dataset.\n",
      "  warnings.warn('Using categorical_feature in Dataset.')\n"
     ]
    },
    {
     "name": "stdout",
     "output_type": "stream",
     "text": [
      "Training until validation scores don't improve for 200 rounds.\n",
      "[100]\ttraining's l1: 0.0589328\tvalid_1's l1: 0.0724069\n",
      "[200]\ttraining's l1: 0.0475411\tvalid_1's l1: 0.0729283\n",
      "[300]\ttraining's l1: 0.040178\tvalid_1's l1: 0.0741408\n",
      "Early stopping, best iteration is:\n",
      "[170]\ttraining's l1: 0.0504448\tvalid_1's l1: 0.0718324\n",
      "fold n°7\n"
     ]
    },
    {
     "name": "stderr",
     "output_type": "stream",
     "text": [
      "C:\\Users\\linda\\Anaconda3\\lib\\site-packages\\lightgbm\\basic.py:1186: UserWarning: Using categorical_feature in Dataset.\n",
      "  warnings.warn('Using categorical_feature in Dataset.')\n"
     ]
    },
    {
     "name": "stdout",
     "output_type": "stream",
     "text": [
      "Training until validation scores don't improve for 200 rounds.\n",
      "[100]\ttraining's l1: 0.0579979\tvalid_1's l1: 0.0826066\n",
      "[200]\ttraining's l1: 0.0463663\tvalid_1's l1: 0.0841745\n",
      "Early stopping, best iteration is:\n",
      "[47]\ttraining's l1: 0.0681163\tvalid_1's l1: 0.0804903\n",
      "fold n°8\n"
     ]
    },
    {
     "name": "stderr",
     "output_type": "stream",
     "text": [
      "C:\\Users\\linda\\Anaconda3\\lib\\site-packages\\lightgbm\\basic.py:1186: UserWarning: Using categorical_feature in Dataset.\n",
      "  warnings.warn('Using categorical_feature in Dataset.')\n"
     ]
    },
    {
     "name": "stdout",
     "output_type": "stream",
     "text": [
      "Training until validation scores don't improve for 200 rounds.\n",
      "[100]\ttraining's l1: 0.0591824\tvalid_1's l1: 0.0745338\n",
      "[200]\ttraining's l1: 0.0474212\tvalid_1's l1: 0.0778652\n",
      "Early stopping, best iteration is:\n",
      "[67]\ttraining's l1: 0.0646828\tvalid_1's l1: 0.0724633\n",
      "fold n°9\n"
     ]
    },
    {
     "name": "stderr",
     "output_type": "stream",
     "text": [
      "C:\\Users\\linda\\Anaconda3\\lib\\site-packages\\lightgbm\\basic.py:1186: UserWarning: Using categorical_feature in Dataset.\n",
      "  warnings.warn('Using categorical_feature in Dataset.')\n"
     ]
    },
    {
     "name": "stdout",
     "output_type": "stream",
     "text": [
      "Training until validation scores don't improve for 200 rounds.\n",
      "[100]\ttraining's l1: 0.0583714\tvalid_1's l1: 0.081998\n",
      "[200]\ttraining's l1: 0.047069\tvalid_1's l1: 0.0832072\n",
      "Early stopping, best iteration is:\n",
      "[26]\ttraining's l1: 0.075671\tvalid_1's l1: 0.0764932\n"
     ]
    },
    {
     "name": "stderr",
     "output_type": "stream",
     "text": [
      "\r",
      " 17%|██████████████                                                                      | 1/6 [00:38<03:13, 38.71s/it]"
     ]
    },
    {
     "name": "stdout",
     "output_type": "stream",
     "text": [
      "fold n°0\n"
     ]
    },
    {
     "name": "stderr",
     "output_type": "stream",
     "text": [
      "C:\\Users\\linda\\Anaconda3\\lib\\site-packages\\lightgbm\\basic.py:1186: UserWarning: Using categorical_feature in Dataset.\n",
      "  warnings.warn('Using categorical_feature in Dataset.')\n"
     ]
    },
    {
     "name": "stdout",
     "output_type": "stream",
     "text": [
      "Training until validation scores don't improve for 200 rounds.\n",
      "[100]\ttraining's l1: 0.0602496\tvalid_1's l1: 0.0967881\n",
      "[200]\ttraining's l1: 0.0480219\tvalid_1's l1: 0.0964844\n",
      "[300]\ttraining's l1: 0.0402102\tvalid_1's l1: 0.0969028\n",
      "Early stopping, best iteration is:\n",
      "[136]\ttraining's l1: 0.0550469\tvalid_1's l1: 0.0958994\n",
      "fold n°1\n"
     ]
    },
    {
     "name": "stderr",
     "output_type": "stream",
     "text": [
      "C:\\Users\\linda\\Anaconda3\\lib\\site-packages\\lightgbm\\basic.py:1186: UserWarning: Using categorical_feature in Dataset.\n",
      "  warnings.warn('Using categorical_feature in Dataset.')\n"
     ]
    },
    {
     "name": "stdout",
     "output_type": "stream",
     "text": [
      "Training until validation scores don't improve for 200 rounds.\n",
      "[100]\ttraining's l1: 0.0602236\tvalid_1's l1: 0.0964312\n",
      "[200]\ttraining's l1: 0.0481415\tvalid_1's l1: 0.0972135\n",
      "Early stopping, best iteration is:\n",
      "[65]\ttraining's l1: 0.0664513\tvalid_1's l1: 0.0947862\n",
      "fold n°2\n"
     ]
    },
    {
     "name": "stderr",
     "output_type": "stream",
     "text": [
      "C:\\Users\\linda\\Anaconda3\\lib\\site-packages\\lightgbm\\basic.py:1186: UserWarning: Using categorical_feature in Dataset.\n",
      "  warnings.warn('Using categorical_feature in Dataset.')\n"
     ]
    },
    {
     "name": "stdout",
     "output_type": "stream",
     "text": [
      "Training until validation scores don't improve for 200 rounds.\n",
      "[100]\ttraining's l1: 0.0599044\tvalid_1's l1: 0.10093\n",
      "[200]\ttraining's l1: 0.0479445\tvalid_1's l1: 0.103379\n",
      "Early stopping, best iteration is:\n",
      "[59]\ttraining's l1: 0.0672006\tvalid_1's l1: 0.0982639\n",
      "fold n°3\n"
     ]
    },
    {
     "name": "stderr",
     "output_type": "stream",
     "text": [
      "C:\\Users\\linda\\Anaconda3\\lib\\site-packages\\lightgbm\\basic.py:1186: UserWarning: Using categorical_feature in Dataset.\n",
      "  warnings.warn('Using categorical_feature in Dataset.')\n"
     ]
    },
    {
     "name": "stdout",
     "output_type": "stream",
     "text": [
      "Training until validation scores don't improve for 200 rounds.\n",
      "[100]\ttraining's l1: 0.0599128\tvalid_1's l1: 0.0844433\n",
      "[200]\ttraining's l1: 0.0473904\tvalid_1's l1: 0.0877173\n",
      "Early stopping, best iteration is:\n",
      "[26]\ttraining's l1: 0.0773934\tvalid_1's l1: 0.0807935\n",
      "fold n°4\n"
     ]
    },
    {
     "name": "stderr",
     "output_type": "stream",
     "text": [
      "C:\\Users\\linda\\Anaconda3\\lib\\site-packages\\lightgbm\\basic.py:1186: UserWarning: Using categorical_feature in Dataset.\n",
      "  warnings.warn('Using categorical_feature in Dataset.')\n"
     ]
    },
    {
     "name": "stdout",
     "output_type": "stream",
     "text": [
      "Training until validation scores don't improve for 200 rounds.\n",
      "[100]\ttraining's l1: 0.0608931\tvalid_1's l1: 0.0892612\n",
      "[200]\ttraining's l1: 0.0485857\tvalid_1's l1: 0.0923649\n",
      "Early stopping, best iteration is:\n",
      "[39]\ttraining's l1: 0.0731509\tvalid_1's l1: 0.0870271\n",
      "fold n°5\n"
     ]
    },
    {
     "name": "stderr",
     "output_type": "stream",
     "text": [
      "C:\\Users\\linda\\Anaconda3\\lib\\site-packages\\lightgbm\\basic.py:1186: UserWarning: Using categorical_feature in Dataset.\n",
      "  warnings.warn('Using categorical_feature in Dataset.')\n"
     ]
    },
    {
     "name": "stdout",
     "output_type": "stream",
     "text": [
      "Training until validation scores don't improve for 200 rounds.\n",
      "[100]\ttraining's l1: 0.058933\tvalid_1's l1: 0.0972686\n",
      "[200]\ttraining's l1: 0.0467556\tvalid_1's l1: 0.100337\n",
      "Early stopping, best iteration is:\n",
      "[14]\ttraining's l1: 0.0819613\tvalid_1's l1: 0.0916054\n",
      "fold n°6\n"
     ]
    },
    {
     "name": "stderr",
     "output_type": "stream",
     "text": [
      "C:\\Users\\linda\\Anaconda3\\lib\\site-packages\\lightgbm\\basic.py:1186: UserWarning: Using categorical_feature in Dataset.\n",
      "  warnings.warn('Using categorical_feature in Dataset.')\n"
     ]
    },
    {
     "name": "stdout",
     "output_type": "stream",
     "text": [
      "Training until validation scores don't improve for 200 rounds.\n",
      "[100]\ttraining's l1: 0.0601596\tvalid_1's l1: 0.0797328\n",
      "[200]\ttraining's l1: 0.0482037\tvalid_1's l1: 0.0827254\n",
      "Early stopping, best iteration is:\n",
      "[48]\ttraining's l1: 0.0706959\tvalid_1's l1: 0.0773652\n",
      "fold n°7\n"
     ]
    },
    {
     "name": "stderr",
     "output_type": "stream",
     "text": [
      "C:\\Users\\linda\\Anaconda3\\lib\\site-packages\\lightgbm\\basic.py:1186: UserWarning: Using categorical_feature in Dataset.\n",
      "  warnings.warn('Using categorical_feature in Dataset.')\n"
     ]
    },
    {
     "name": "stdout",
     "output_type": "stream",
     "text": [
      "Training until validation scores don't improve for 200 rounds.\n",
      "[100]\ttraining's l1: 0.0601464\tvalid_1's l1: 0.0836049\n",
      "[200]\ttraining's l1: 0.047866\tvalid_1's l1: 0.0856075\n",
      "Early stopping, best iteration is:\n",
      "[25]\ttraining's l1: 0.0786924\tvalid_1's l1: 0.0816749\n",
      "fold n°8\n"
     ]
    },
    {
     "name": "stderr",
     "output_type": "stream",
     "text": [
      "C:\\Users\\linda\\Anaconda3\\lib\\site-packages\\lightgbm\\basic.py:1186: UserWarning: Using categorical_feature in Dataset.\n",
      "  warnings.warn('Using categorical_feature in Dataset.')\n"
     ]
    },
    {
     "name": "stdout",
     "output_type": "stream",
     "text": [
      "Training until validation scores don't improve for 200 rounds.\n",
      "[100]\ttraining's l1: 0.0617302\tvalid_1's l1: 0.0717067\n",
      "[200]\ttraining's l1: 0.0491855\tvalid_1's l1: 0.0707379\n",
      "[300]\ttraining's l1: 0.0414944\tvalid_1's l1: 0.069281\n",
      "[400]\ttraining's l1: 0.0356629\tvalid_1's l1: 0.0684354\n",
      "[500]\ttraining's l1: 0.0313926\tvalid_1's l1: 0.0683342\n",
      "[600]\ttraining's l1: 0.0281208\tvalid_1's l1: 0.0680631\n",
      "[700]\ttraining's l1: 0.0254705\tvalid_1's l1: 0.0679781\n",
      "[800]\ttraining's l1: 0.0233133\tvalid_1's l1: 0.0675665\n",
      "[900]\ttraining's l1: 0.0214201\tvalid_1's l1: 0.0673847\n",
      "[1000]\ttraining's l1: 0.019833\tvalid_1's l1: 0.0672993\n",
      "Did not meet early stopping. Best iteration is:\n",
      "[1000]\ttraining's l1: 0.019833\tvalid_1's l1: 0.0672993\n",
      "fold n°9\n"
     ]
    },
    {
     "name": "stderr",
     "output_type": "stream",
     "text": [
      "C:\\Users\\linda\\Anaconda3\\lib\\site-packages\\lightgbm\\basic.py:1186: UserWarning: Using categorical_feature in Dataset.\n",
      "  warnings.warn('Using categorical_feature in Dataset.')\n"
     ]
    },
    {
     "name": "stdout",
     "output_type": "stream",
     "text": [
      "Training until validation scores don't improve for 200 rounds.\n",
      "[100]\ttraining's l1: 0.0607083\tvalid_1's l1: 0.0830562\n",
      "[200]\ttraining's l1: 0.047936\tvalid_1's l1: 0.0860673\n",
      "Early stopping, best iteration is:\n",
      "[51]\ttraining's l1: 0.0704644\tvalid_1's l1: 0.0805472\n"
     ]
    },
    {
     "name": "stderr",
     "output_type": "stream",
     "text": [
      "\r",
      " 33%|████████████████████████████                                                        | 2/6 [01:22<02:40, 40.21s/it]"
     ]
    },
    {
     "name": "stdout",
     "output_type": "stream",
     "text": [
      "fold n°0\n"
     ]
    },
    {
     "name": "stderr",
     "output_type": "stream",
     "text": [
      "C:\\Users\\linda\\Anaconda3\\lib\\site-packages\\lightgbm\\basic.py:1186: UserWarning: Using categorical_feature in Dataset.\n",
      "  warnings.warn('Using categorical_feature in Dataset.')\n"
     ]
    },
    {
     "name": "stdout",
     "output_type": "stream",
     "text": [
      "Training until validation scores don't improve for 200 rounds.\n",
      "[100]\ttraining's l1: 0.0593962\tvalid_1's l1: 0.0908085\n",
      "[200]\ttraining's l1: 0.0472798\tvalid_1's l1: 0.0909832\n",
      "Early stopping, best iteration is:\n",
      "[92]\ttraining's l1: 0.0606694\tvalid_1's l1: 0.0900644\n",
      "fold n°1\n"
     ]
    },
    {
     "name": "stderr",
     "output_type": "stream",
     "text": [
      "C:\\Users\\linda\\Anaconda3\\lib\\site-packages\\lightgbm\\basic.py:1186: UserWarning: Using categorical_feature in Dataset.\n",
      "  warnings.warn('Using categorical_feature in Dataset.')\n"
     ]
    },
    {
     "name": "stdout",
     "output_type": "stream",
     "text": [
      "Training until validation scores don't improve for 200 rounds.\n",
      "[100]\ttraining's l1: 0.0598859\tvalid_1's l1: 0.0979768\n",
      "[200]\ttraining's l1: 0.0478736\tvalid_1's l1: 0.100319\n",
      "Early stopping, best iteration is:\n",
      "[41]\ttraining's l1: 0.0726835\tvalid_1's l1: 0.0971405\n",
      "fold n°2\n"
     ]
    },
    {
     "name": "stderr",
     "output_type": "stream",
     "text": [
      "C:\\Users\\linda\\Anaconda3\\lib\\site-packages\\lightgbm\\basic.py:1186: UserWarning: Using categorical_feature in Dataset.\n",
      "  warnings.warn('Using categorical_feature in Dataset.')\n"
     ]
    },
    {
     "name": "stdout",
     "output_type": "stream",
     "text": [
      "Training until validation scores don't improve for 200 rounds.\n",
      "[100]\ttraining's l1: 0.0603027\tvalid_1's l1: 0.0801346\n",
      "[200]\ttraining's l1: 0.0481597\tvalid_1's l1: 0.0808618\n",
      "[300]\ttraining's l1: 0.040405\tvalid_1's l1: 0.0809247\n",
      "Early stopping, best iteration is:\n",
      "[138]\ttraining's l1: 0.0547381\tvalid_1's l1: 0.0794667\n",
      "fold n°3\n"
     ]
    },
    {
     "name": "stderr",
     "output_type": "stream",
     "text": [
      "C:\\Users\\linda\\Anaconda3\\lib\\site-packages\\lightgbm\\basic.py:1186: UserWarning: Using categorical_feature in Dataset.\n",
      "  warnings.warn('Using categorical_feature in Dataset.')\n"
     ]
    },
    {
     "name": "stdout",
     "output_type": "stream",
     "text": [
      "Training until validation scores don't improve for 200 rounds.\n",
      "[100]\ttraining's l1: 0.0604708\tvalid_1's l1: 0.0780699\n",
      "[200]\ttraining's l1: 0.0475327\tvalid_1's l1: 0.0795275\n",
      "Early stopping, best iteration is:\n",
      "[78]\ttraining's l1: 0.0647759\tvalid_1's l1: 0.0774747\n",
      "fold n°4\n"
     ]
    },
    {
     "name": "stderr",
     "output_type": "stream",
     "text": [
      "C:\\Users\\linda\\Anaconda3\\lib\\site-packages\\lightgbm\\basic.py:1186: UserWarning: Using categorical_feature in Dataset.\n",
      "  warnings.warn('Using categorical_feature in Dataset.')\n"
     ]
    },
    {
     "name": "stdout",
     "output_type": "stream",
     "text": [
      "Training until validation scores don't improve for 200 rounds.\n",
      "[100]\ttraining's l1: 0.0596771\tvalid_1's l1: 0.0772713\n",
      "[200]\ttraining's l1: 0.0471415\tvalid_1's l1: 0.0807484\n",
      "Early stopping, best iteration is:\n",
      "[77]\ttraining's l1: 0.064105\tvalid_1's l1: 0.0764584\n",
      "fold n°5\n"
     ]
    },
    {
     "name": "stderr",
     "output_type": "stream",
     "text": [
      "C:\\Users\\linda\\Anaconda3\\lib\\site-packages\\lightgbm\\basic.py:1186: UserWarning: Using categorical_feature in Dataset.\n",
      "  warnings.warn('Using categorical_feature in Dataset.')\n"
     ]
    },
    {
     "name": "stdout",
     "output_type": "stream",
     "text": [
      "Training until validation scores don't improve for 200 rounds.\n",
      "[100]\ttraining's l1: 0.0584362\tvalid_1's l1: 0.0950486\n",
      "[200]\ttraining's l1: 0.0456519\tvalid_1's l1: 0.0980031\n",
      "Early stopping, best iteration is:\n",
      "[12]\ttraining's l1: 0.0842574\tvalid_1's l1: 0.0901169\n",
      "fold n°6\n"
     ]
    },
    {
     "name": "stderr",
     "output_type": "stream",
     "text": [
      "C:\\Users\\linda\\Anaconda3\\lib\\site-packages\\lightgbm\\basic.py:1186: UserWarning: Using categorical_feature in Dataset.\n",
      "  warnings.warn('Using categorical_feature in Dataset.')\n"
     ]
    },
    {
     "name": "stdout",
     "output_type": "stream",
     "text": [
      "Training until validation scores don't improve for 200 rounds.\n",
      "[100]\ttraining's l1: 0.0602762\tvalid_1's l1: 0.0801366\n",
      "[200]\ttraining's l1: 0.0475413\tvalid_1's l1: 0.081588\n",
      "Early stopping, best iteration is:\n",
      "[60]\ttraining's l1: 0.0680838\tvalid_1's l1: 0.0778089\n",
      "fold n°7\n"
     ]
    },
    {
     "name": "stderr",
     "output_type": "stream",
     "text": [
      "C:\\Users\\linda\\Anaconda3\\lib\\site-packages\\lightgbm\\basic.py:1186: UserWarning: Using categorical_feature in Dataset.\n",
      "  warnings.warn('Using categorical_feature in Dataset.')\n"
     ]
    },
    {
     "name": "stdout",
     "output_type": "stream",
     "text": [
      "Training until validation scores don't improve for 200 rounds.\n",
      "[100]\ttraining's l1: 0.0601329\tvalid_1's l1: 0.077168\n",
      "[200]\ttraining's l1: 0.0473683\tvalid_1's l1: 0.0812451\n",
      "Early stopping, best iteration is:\n",
      "[64]\ttraining's l1: 0.0673705\tvalid_1's l1: 0.0755669\n",
      "fold n°8\n"
     ]
    },
    {
     "name": "stderr",
     "output_type": "stream",
     "text": [
      "C:\\Users\\linda\\Anaconda3\\lib\\site-packages\\lightgbm\\basic.py:1186: UserWarning: Using categorical_feature in Dataset.\n",
      "  warnings.warn('Using categorical_feature in Dataset.')\n"
     ]
    },
    {
     "name": "stdout",
     "output_type": "stream",
     "text": [
      "Training until validation scores don't improve for 200 rounds.\n",
      "[100]\ttraining's l1: 0.0608274\tvalid_1's l1: 0.0761477\n",
      "[200]\ttraining's l1: 0.0482492\tvalid_1's l1: 0.0780702\n",
      "Early stopping, best iteration is:\n",
      "[68]\ttraining's l1: 0.0672125\tvalid_1's l1: 0.0750418\n",
      "fold n°9\n"
     ]
    },
    {
     "name": "stderr",
     "output_type": "stream",
     "text": [
      "C:\\Users\\linda\\Anaconda3\\lib\\site-packages\\lightgbm\\basic.py:1186: UserWarning: Using categorical_feature in Dataset.\n",
      "  warnings.warn('Using categorical_feature in Dataset.')\n"
     ]
    },
    {
     "name": "stdout",
     "output_type": "stream",
     "text": [
      "Training until validation scores don't improve for 200 rounds.\n",
      "[100]\ttraining's l1: 0.0605893\tvalid_1's l1: 0.0731334\n",
      "[200]\ttraining's l1: 0.0480569\tvalid_1's l1: 0.0740212\n",
      "[300]\ttraining's l1: 0.0404096\tvalid_1's l1: 0.0745015\n",
      "Early stopping, best iteration is:\n",
      "[103]\ttraining's l1: 0.0600059\tvalid_1's l1: 0.0730788\n"
     ]
    },
    {
     "name": "stderr",
     "output_type": "stream",
     "text": [
      "\r",
      " 50%|██████████████████████████████████████████                                          | 3/6 [01:59<01:57, 39.31s/it]"
     ]
    },
    {
     "name": "stdout",
     "output_type": "stream",
     "text": [
      "fold n°0\n"
     ]
    },
    {
     "name": "stderr",
     "output_type": "stream",
     "text": [
      "C:\\Users\\linda\\Anaconda3\\lib\\site-packages\\lightgbm\\basic.py:1186: UserWarning: Using categorical_feature in Dataset.\n",
      "  warnings.warn('Using categorical_feature in Dataset.')\n"
     ]
    },
    {
     "name": "stdout",
     "output_type": "stream",
     "text": [
      "Training until validation scores don't improve for 200 rounds.\n",
      "[100]\ttraining's l1: 0.0577844\tvalid_1's l1: 0.0882232\n",
      "[200]\ttraining's l1: 0.0463346\tvalid_1's l1: 0.089731\n",
      "Early stopping, best iteration is:\n",
      "[63]\ttraining's l1: 0.064042\tvalid_1's l1: 0.0871045\n",
      "fold n°1\n"
     ]
    },
    {
     "name": "stderr",
     "output_type": "stream",
     "text": [
      "C:\\Users\\linda\\Anaconda3\\lib\\site-packages\\lightgbm\\basic.py:1186: UserWarning: Using categorical_feature in Dataset.\n",
      "  warnings.warn('Using categorical_feature in Dataset.')\n"
     ]
    },
    {
     "name": "stdout",
     "output_type": "stream",
     "text": [
      "Training until validation scores don't improve for 200 rounds.\n",
      "[100]\ttraining's l1: 0.0584546\tvalid_1's l1: 0.098847\n",
      "[200]\ttraining's l1: 0.0472349\tvalid_1's l1: 0.100869\n",
      "Early stopping, best iteration is:\n",
      "[19]\ttraining's l1: 0.0780882\tvalid_1's l1: 0.0963045\n",
      "fold n°2\n"
     ]
    },
    {
     "name": "stderr",
     "output_type": "stream",
     "text": [
      "C:\\Users\\linda\\Anaconda3\\lib\\site-packages\\lightgbm\\basic.py:1186: UserWarning: Using categorical_feature in Dataset.\n",
      "  warnings.warn('Using categorical_feature in Dataset.')\n"
     ]
    },
    {
     "name": "stdout",
     "output_type": "stream",
     "text": [
      "Training until validation scores don't improve for 200 rounds.\n",
      "[100]\ttraining's l1: 0.0585588\tvalid_1's l1: 0.0825888\n",
      "[200]\ttraining's l1: 0.047687\tvalid_1's l1: 0.0826925\n",
      "[300]\ttraining's l1: 0.0402547\tvalid_1's l1: 0.083362\n",
      "Early stopping, best iteration is:\n",
      "[125]\ttraining's l1: 0.0552168\tvalid_1's l1: 0.0817169\n",
      "fold n°3\n"
     ]
    },
    {
     "name": "stderr",
     "output_type": "stream",
     "text": [
      "C:\\Users\\linda\\Anaconda3\\lib\\site-packages\\lightgbm\\basic.py:1186: UserWarning: Using categorical_feature in Dataset.\n",
      "  warnings.warn('Using categorical_feature in Dataset.')\n"
     ]
    },
    {
     "name": "stdout",
     "output_type": "stream",
     "text": [
      "Training until validation scores don't improve for 200 rounds.\n",
      "[100]\ttraining's l1: 0.0584659\tvalid_1's l1: 0.0894468\n",
      "[200]\ttraining's l1: 0.0470252\tvalid_1's l1: 0.0925554\n",
      "Early stopping, best iteration is:\n",
      "[36]\ttraining's l1: 0.0716469\tvalid_1's l1: 0.0878904\n",
      "fold n°4\n"
     ]
    },
    {
     "name": "stderr",
     "output_type": "stream",
     "text": [
      "C:\\Users\\linda\\Anaconda3\\lib\\site-packages\\lightgbm\\basic.py:1186: UserWarning: Using categorical_feature in Dataset.\n",
      "  warnings.warn('Using categorical_feature in Dataset.')\n"
     ]
    },
    {
     "name": "stdout",
     "output_type": "stream",
     "text": [
      "Training until validation scores don't improve for 200 rounds.\n",
      "[100]\ttraining's l1: 0.0584556\tvalid_1's l1: 0.0790197\n",
      "[200]\ttraining's l1: 0.0474374\tvalid_1's l1: 0.07897\n",
      "Early stopping, best iteration is:\n",
      "[76]\ttraining's l1: 0.0622445\tvalid_1's l1: 0.0784939\n",
      "fold n°5\n"
     ]
    },
    {
     "name": "stderr",
     "output_type": "stream",
     "text": [
      "C:\\Users\\linda\\Anaconda3\\lib\\site-packages\\lightgbm\\basic.py:1186: UserWarning: Using categorical_feature in Dataset.\n",
      "  warnings.warn('Using categorical_feature in Dataset.')\n"
     ]
    },
    {
     "name": "stdout",
     "output_type": "stream",
     "text": [
      "Training until validation scores don't improve for 200 rounds.\n",
      "[100]\ttraining's l1: 0.0580175\tvalid_1's l1: 0.0809496\n",
      "[200]\ttraining's l1: 0.0465963\tvalid_1's l1: 0.0843877\n",
      "Early stopping, best iteration is:\n",
      "[40]\ttraining's l1: 0.0695679\tvalid_1's l1: 0.0785499\n",
      "fold n°6\n"
     ]
    },
    {
     "name": "stderr",
     "output_type": "stream",
     "text": [
      "C:\\Users\\linda\\Anaconda3\\lib\\site-packages\\lightgbm\\basic.py:1186: UserWarning: Using categorical_feature in Dataset.\n",
      "  warnings.warn('Using categorical_feature in Dataset.')\n"
     ]
    },
    {
     "name": "stdout",
     "output_type": "stream",
     "text": [
      "Training until validation scores don't improve for 200 rounds.\n",
      "[100]\ttraining's l1: 0.0594171\tvalid_1's l1: 0.0756352\n",
      "[200]\ttraining's l1: 0.0478736\tvalid_1's l1: 0.0819723\n",
      "Early stopping, best iteration is:\n",
      "[66]\ttraining's l1: 0.0652263\tvalid_1's l1: 0.0730542\n",
      "fold n°7\n"
     ]
    },
    {
     "name": "stderr",
     "output_type": "stream",
     "text": [
      "C:\\Users\\linda\\Anaconda3\\lib\\site-packages\\lightgbm\\basic.py:1186: UserWarning: Using categorical_feature in Dataset.\n",
      "  warnings.warn('Using categorical_feature in Dataset.')\n"
     ]
    },
    {
     "name": "stdout",
     "output_type": "stream",
     "text": [
      "Training until validation scores don't improve for 200 rounds.\n",
      "[100]\ttraining's l1: 0.0588847\tvalid_1's l1: 0.0821592\n",
      "[200]\ttraining's l1: 0.0470432\tvalid_1's l1: 0.0885873\n",
      "Early stopping, best iteration is:\n",
      "[29]\ttraining's l1: 0.0739464\tvalid_1's l1: 0.0794968\n",
      "fold n°8\n"
     ]
    },
    {
     "name": "stderr",
     "output_type": "stream",
     "text": [
      "C:\\Users\\linda\\Anaconda3\\lib\\site-packages\\lightgbm\\basic.py:1186: UserWarning: Using categorical_feature in Dataset.\n",
      "  warnings.warn('Using categorical_feature in Dataset.')\n"
     ]
    },
    {
     "name": "stdout",
     "output_type": "stream",
     "text": [
      "Training until validation scores don't improve for 200 rounds.\n",
      "[100]\ttraining's l1: 0.0583637\tvalid_1's l1: 0.0792666\n",
      "[200]\ttraining's l1: 0.0472761\tvalid_1's l1: 0.0820099\n",
      "Early stopping, best iteration is:\n",
      "[40]\ttraining's l1: 0.070768\tvalid_1's l1: 0.0748104\n",
      "fold n°9\n"
     ]
    },
    {
     "name": "stderr",
     "output_type": "stream",
     "text": [
      "C:\\Users\\linda\\Anaconda3\\lib\\site-packages\\lightgbm\\basic.py:1186: UserWarning: Using categorical_feature in Dataset.\n",
      "  warnings.warn('Using categorical_feature in Dataset.')\n"
     ]
    },
    {
     "name": "stdout",
     "output_type": "stream",
     "text": [
      "Training until validation scores don't improve for 200 rounds.\n",
      "[100]\ttraining's l1: 0.0598475\tvalid_1's l1: 0.0732394\n",
      "[200]\ttraining's l1: 0.0482894\tvalid_1's l1: 0.0728489\n",
      "Early stopping, best iteration is:\n",
      "[55]\ttraining's l1: 0.0676219\tvalid_1's l1: 0.0713918\n"
     ]
    },
    {
     "name": "stderr",
     "output_type": "stream",
     "text": [
      "\r",
      " 67%|████████████████████████████████████████████████████████                            | 4/6 [02:33<01:15, 37.77s/it]"
     ]
    },
    {
     "name": "stdout",
     "output_type": "stream",
     "text": [
      "fold n°0\n"
     ]
    },
    {
     "name": "stderr",
     "output_type": "stream",
     "text": [
      "C:\\Users\\linda\\Anaconda3\\lib\\site-packages\\lightgbm\\basic.py:1186: UserWarning: Using categorical_feature in Dataset.\n",
      "  warnings.warn('Using categorical_feature in Dataset.')\n"
     ]
    },
    {
     "name": "stdout",
     "output_type": "stream",
     "text": [
      "Training until validation scores don't improve for 200 rounds.\n",
      "[100]\ttraining's l1: 0.0575749\tvalid_1's l1: 0.10511\n",
      "[200]\ttraining's l1: 0.0460582\tvalid_1's l1: 0.106078\n",
      "Early stopping, best iteration is:\n",
      "[25]\ttraining's l1: 0.0746831\tvalid_1's l1: 0.101705\n",
      "fold n°1\n"
     ]
    },
    {
     "name": "stderr",
     "output_type": "stream",
     "text": [
      "C:\\Users\\linda\\Anaconda3\\lib\\site-packages\\lightgbm\\basic.py:1186: UserWarning: Using categorical_feature in Dataset.\n",
      "  warnings.warn('Using categorical_feature in Dataset.')\n"
     ]
    },
    {
     "name": "stdout",
     "output_type": "stream",
     "text": [
      "Training until validation scores don't improve for 200 rounds.\n",
      "[100]\ttraining's l1: 0.0578793\tvalid_1's l1: 0.0991289\n",
      "[200]\ttraining's l1: 0.0458159\tvalid_1's l1: 0.0985758\n",
      "Early stopping, best iteration is:\n",
      "[39]\ttraining's l1: 0.0709215\tvalid_1's l1: 0.0959612\n",
      "fold n°2\n"
     ]
    },
    {
     "name": "stderr",
     "output_type": "stream",
     "text": [
      "C:\\Users\\linda\\Anaconda3\\lib\\site-packages\\lightgbm\\basic.py:1186: UserWarning: Using categorical_feature in Dataset.\n",
      "  warnings.warn('Using categorical_feature in Dataset.')\n"
     ]
    },
    {
     "name": "stdout",
     "output_type": "stream",
     "text": [
      "Training until validation scores don't improve for 200 rounds.\n",
      "[100]\ttraining's l1: 0.0585219\tvalid_1's l1: 0.0870007\n",
      "[200]\ttraining's l1: 0.0463458\tvalid_1's l1: 0.0882566\n",
      "Early stopping, best iteration is:\n",
      "[94]\ttraining's l1: 0.0596637\tvalid_1's l1: 0.0862422\n",
      "fold n°3\n"
     ]
    },
    {
     "name": "stderr",
     "output_type": "stream",
     "text": [
      "C:\\Users\\linda\\Anaconda3\\lib\\site-packages\\lightgbm\\basic.py:1186: UserWarning: Using categorical_feature in Dataset.\n",
      "  warnings.warn('Using categorical_feature in Dataset.')\n"
     ]
    },
    {
     "name": "stdout",
     "output_type": "stream",
     "text": [
      "Training until validation scores don't improve for 200 rounds.\n",
      "[100]\ttraining's l1: 0.0581383\tvalid_1's l1: 0.0876774\n",
      "[200]\ttraining's l1: 0.0465834\tvalid_1's l1: 0.0866043\n",
      "Early stopping, best iteration is:\n",
      "[45]\ttraining's l1: 0.0698744\tvalid_1's l1: 0.0853327\n",
      "fold n°4\n"
     ]
    },
    {
     "name": "stderr",
     "output_type": "stream",
     "text": [
      "C:\\Users\\linda\\Anaconda3\\lib\\site-packages\\lightgbm\\basic.py:1186: UserWarning: Using categorical_feature in Dataset.\n",
      "  warnings.warn('Using categorical_feature in Dataset.')\n"
     ]
    },
    {
     "name": "stdout",
     "output_type": "stream",
     "text": [
      "Training until validation scores don't improve for 200 rounds.\n",
      "[100]\ttraining's l1: 0.0588554\tvalid_1's l1: 0.0803779\n",
      "[200]\ttraining's l1: 0.0464508\tvalid_1's l1: 0.080273\n",
      "[300]\ttraining's l1: 0.0392586\tvalid_1's l1: 0.0804819\n",
      "Early stopping, best iteration is:\n",
      "[180]\ttraining's l1: 0.048335\tvalid_1's l1: 0.0789195\n",
      "fold n°5\n"
     ]
    },
    {
     "name": "stderr",
     "output_type": "stream",
     "text": [
      "C:\\Users\\linda\\Anaconda3\\lib\\site-packages\\lightgbm\\basic.py:1186: UserWarning: Using categorical_feature in Dataset.\n",
      "  warnings.warn('Using categorical_feature in Dataset.')\n"
     ]
    },
    {
     "name": "stdout",
     "output_type": "stream",
     "text": [
      "Training until validation scores don't improve for 200 rounds.\n",
      "[100]\ttraining's l1: 0.0581516\tvalid_1's l1: 0.074592\n",
      "[200]\ttraining's l1: 0.0462628\tvalid_1's l1: 0.0754292\n",
      "[300]\ttraining's l1: 0.0386513\tvalid_1's l1: 0.0762642\n",
      "Early stopping, best iteration is:\n",
      "[108]\ttraining's l1: 0.0568462\tvalid_1's l1: 0.0742098\n",
      "fold n°6\n"
     ]
    },
    {
     "name": "stderr",
     "output_type": "stream",
     "text": [
      "C:\\Users\\linda\\Anaconda3\\lib\\site-packages\\lightgbm\\basic.py:1186: UserWarning: Using categorical_feature in Dataset.\n",
      "  warnings.warn('Using categorical_feature in Dataset.')\n"
     ]
    },
    {
     "name": "stdout",
     "output_type": "stream",
     "text": [
      "Training until validation scores don't improve for 200 rounds.\n",
      "[100]\ttraining's l1: 0.0588272\tvalid_1's l1: 0.0757594\n",
      "[200]\ttraining's l1: 0.0471793\tvalid_1's l1: 0.0793485\n",
      "Early stopping, best iteration is:\n",
      "[17]\ttraining's l1: 0.0805014\tvalid_1's l1: 0.0715566\n",
      "fold n°7\n"
     ]
    },
    {
     "name": "stderr",
     "output_type": "stream",
     "text": [
      "C:\\Users\\linda\\Anaconda3\\lib\\site-packages\\lightgbm\\basic.py:1186: UserWarning: Using categorical_feature in Dataset.\n",
      "  warnings.warn('Using categorical_feature in Dataset.')\n"
     ]
    },
    {
     "name": "stdout",
     "output_type": "stream",
     "text": [
      "Training until validation scores don't improve for 200 rounds.\n",
      "[100]\ttraining's l1: 0.0593708\tvalid_1's l1: 0.0729202\n",
      "[200]\ttraining's l1: 0.0476695\tvalid_1's l1: 0.0727413\n",
      "[300]\ttraining's l1: 0.0397847\tvalid_1's l1: 0.0746652\n",
      "Early stopping, best iteration is:\n",
      "[141]\ttraining's l1: 0.0537183\tvalid_1's l1: 0.0724172\n",
      "fold n°8\n"
     ]
    },
    {
     "name": "stderr",
     "output_type": "stream",
     "text": [
      "C:\\Users\\linda\\Anaconda3\\lib\\site-packages\\lightgbm\\basic.py:1186: UserWarning: Using categorical_feature in Dataset.\n",
      "  warnings.warn('Using categorical_feature in Dataset.')\n"
     ]
    },
    {
     "name": "stdout",
     "output_type": "stream",
     "text": [
      "Training until validation scores don't improve for 200 rounds.\n",
      "[100]\ttraining's l1: 0.0589742\tvalid_1's l1: 0.0828421\n",
      "[200]\ttraining's l1: 0.0462182\tvalid_1's l1: 0.0882647\n",
      "Early stopping, best iteration is:\n",
      "[28]\ttraining's l1: 0.0761164\tvalid_1's l1: 0.0737423\n",
      "fold n°9\n"
     ]
    },
    {
     "name": "stderr",
     "output_type": "stream",
     "text": [
      "C:\\Users\\linda\\Anaconda3\\lib\\site-packages\\lightgbm\\basic.py:1186: UserWarning: Using categorical_feature in Dataset.\n",
      "  warnings.warn('Using categorical_feature in Dataset.')\n"
     ]
    },
    {
     "name": "stdout",
     "output_type": "stream",
     "text": [
      "Training until validation scores don't improve for 200 rounds.\n",
      "[100]\ttraining's l1: 0.0590289\tvalid_1's l1: 0.0729826\n",
      "[200]\ttraining's l1: 0.0468124\tvalid_1's l1: 0.0765741\n",
      "Early stopping, best iteration is:\n",
      "[57]\ttraining's l1: 0.0672041\tvalid_1's l1: 0.0707422\n"
     ]
    },
    {
     "name": "stderr",
     "output_type": "stream",
     "text": [
      "\r",
      " 83%|██████████████████████████████████████████████████████████████████████              | 5/6 [03:11<00:37, 37.68s/it]"
     ]
    },
    {
     "name": "stdout",
     "output_type": "stream",
     "text": [
      "fold n°0\n"
     ]
    },
    {
     "name": "stderr",
     "output_type": "stream",
     "text": [
      "C:\\Users\\linda\\Anaconda3\\lib\\site-packages\\lightgbm\\basic.py:1186: UserWarning: Using categorical_feature in Dataset.\n",
      "  warnings.warn('Using categorical_feature in Dataset.')\n"
     ]
    },
    {
     "name": "stdout",
     "output_type": "stream",
     "text": [
      "Training until validation scores don't improve for 200 rounds.\n",
      "[100]\ttraining's l1: 0.0474964\tvalid_1's l1: 0.0871364\n",
      "[200]\ttraining's l1: 0.0341379\tvalid_1's l1: 0.0876658\n",
      "Early stopping, best iteration is:\n",
      "[39]\ttraining's l1: 0.0657483\tvalid_1's l1: 0.0863022\n",
      "fold n°1\n"
     ]
    },
    {
     "name": "stderr",
     "output_type": "stream",
     "text": [
      "C:\\Users\\linda\\Anaconda3\\lib\\site-packages\\lightgbm\\basic.py:1186: UserWarning: Using categorical_feature in Dataset.\n",
      "  warnings.warn('Using categorical_feature in Dataset.')\n"
     ]
    },
    {
     "name": "stdout",
     "output_type": "stream",
     "text": [
      "Training until validation scores don't improve for 200 rounds.\n",
      "[100]\ttraining's l1: 0.0489157\tvalid_1's l1: 0.0859144\n",
      "[200]\ttraining's l1: 0.0356901\tvalid_1's l1: 0.0878977\n",
      "Early stopping, best iteration is:\n",
      "[24]\ttraining's l1: 0.0740532\tvalid_1's l1: 0.0814115\n",
      "fold n°2\n"
     ]
    },
    {
     "name": "stderr",
     "output_type": "stream",
     "text": [
      "C:\\Users\\linda\\Anaconda3\\lib\\site-packages\\lightgbm\\basic.py:1186: UserWarning: Using categorical_feature in Dataset.\n",
      "  warnings.warn('Using categorical_feature in Dataset.')\n"
     ]
    },
    {
     "name": "stdout",
     "output_type": "stream",
     "text": [
      "Training until validation scores don't improve for 200 rounds.\n",
      "[100]\ttraining's l1: 0.0486316\tvalid_1's l1: 0.0917065\n",
      "[200]\ttraining's l1: 0.0353586\tvalid_1's l1: 0.0929972\n",
      "Early stopping, best iteration is:\n",
      "[23]\ttraining's l1: 0.0735855\tvalid_1's l1: 0.0882036\n",
      "fold n°3\n"
     ]
    },
    {
     "name": "stderr",
     "output_type": "stream",
     "text": [
      "C:\\Users\\linda\\Anaconda3\\lib\\site-packages\\lightgbm\\basic.py:1186: UserWarning: Using categorical_feature in Dataset.\n",
      "  warnings.warn('Using categorical_feature in Dataset.')\n"
     ]
    },
    {
     "name": "stdout",
     "output_type": "stream",
     "text": [
      "Training until validation scores don't improve for 200 rounds.\n",
      "[100]\ttraining's l1: 0.0499571\tvalid_1's l1: 0.0805217\n",
      "[200]\ttraining's l1: 0.0364961\tvalid_1's l1: 0.0778295\n",
      "[300]\ttraining's l1: 0.0291143\tvalid_1's l1: 0.0776281\n",
      "[400]\ttraining's l1: 0.024322\tvalid_1's l1: 0.0774285\n",
      "[500]\ttraining's l1: 0.021219\tvalid_1's l1: 0.0775474\n",
      "[600]\ttraining's l1: 0.0186927\tvalid_1's l1: 0.0774163\n",
      "Early stopping, best iteration is:\n",
      "[429]\ttraining's l1: 0.0233065\tvalid_1's l1: 0.0771944\n",
      "fold n°4\n"
     ]
    },
    {
     "name": "stderr",
     "output_type": "stream",
     "text": [
      "C:\\Users\\linda\\Anaconda3\\lib\\site-packages\\lightgbm\\basic.py:1186: UserWarning: Using categorical_feature in Dataset.\n",
      "  warnings.warn('Using categorical_feature in Dataset.')\n"
     ]
    },
    {
     "name": "stdout",
     "output_type": "stream",
     "text": [
      "Training until validation scores don't improve for 200 rounds.\n",
      "[100]\ttraining's l1: 0.0474888\tvalid_1's l1: 0.0975434\n",
      "[200]\ttraining's l1: 0.0347534\tvalid_1's l1: 0.100796\n",
      "Early stopping, best iteration is:\n",
      "[21]\ttraining's l1: 0.0753349\tvalid_1's l1: 0.0905535\n",
      "fold n°5\n"
     ]
    },
    {
     "name": "stderr",
     "output_type": "stream",
     "text": [
      "C:\\Users\\linda\\Anaconda3\\lib\\site-packages\\lightgbm\\basic.py:1186: UserWarning: Using categorical_feature in Dataset.\n",
      "  warnings.warn('Using categorical_feature in Dataset.')\n"
     ]
    },
    {
     "name": "stdout",
     "output_type": "stream",
     "text": [
      "Training until validation scores don't improve for 200 rounds.\n",
      "[100]\ttraining's l1: 0.0490302\tvalid_1's l1: 0.0976891\n",
      "[200]\ttraining's l1: 0.0351017\tvalid_1's l1: 0.0994494\n",
      "Early stopping, best iteration is:\n",
      "[28]\ttraining's l1: 0.0708479\tvalid_1's l1: 0.095512\n",
      "fold n°6\n"
     ]
    },
    {
     "name": "stderr",
     "output_type": "stream",
     "text": [
      "C:\\Users\\linda\\Anaconda3\\lib\\site-packages\\lightgbm\\basic.py:1186: UserWarning: Using categorical_feature in Dataset.\n",
      "  warnings.warn('Using categorical_feature in Dataset.')\n"
     ]
    },
    {
     "name": "stdout",
     "output_type": "stream",
     "text": [
      "Training until validation scores don't improve for 200 rounds.\n",
      "[100]\ttraining's l1: 0.0488445\tvalid_1's l1: 0.0859257\n",
      "[200]\ttraining's l1: 0.0355228\tvalid_1's l1: 0.0857413\n",
      "[300]\ttraining's l1: 0.0285324\tvalid_1's l1: 0.0856354\n",
      "Early stopping, best iteration is:\n",
      "[179]\ttraining's l1: 0.0375213\tvalid_1's l1: 0.0849173\n",
      "fold n°7\n"
     ]
    },
    {
     "name": "stderr",
     "output_type": "stream",
     "text": [
      "C:\\Users\\linda\\Anaconda3\\lib\\site-packages\\lightgbm\\basic.py:1186: UserWarning: Using categorical_feature in Dataset.\n",
      "  warnings.warn('Using categorical_feature in Dataset.')\n"
     ]
    },
    {
     "name": "stdout",
     "output_type": "stream",
     "text": [
      "Training until validation scores don't improve for 200 rounds.\n",
      "[100]\ttraining's l1: 0.0495162\tvalid_1's l1: 0.0776097\n",
      "[200]\ttraining's l1: 0.0359308\tvalid_1's l1: 0.0781659\n",
      "Early stopping, best iteration is:\n",
      "[51]\ttraining's l1: 0.0624279\tvalid_1's l1: 0.0763744\n",
      "fold n°8\n"
     ]
    },
    {
     "name": "stderr",
     "output_type": "stream",
     "text": [
      "C:\\Users\\linda\\Anaconda3\\lib\\site-packages\\lightgbm\\basic.py:1186: UserWarning: Using categorical_feature in Dataset.\n",
      "  warnings.warn('Using categorical_feature in Dataset.')\n"
     ]
    },
    {
     "name": "stdout",
     "output_type": "stream",
     "text": [
      "Training until validation scores don't improve for 200 rounds.\n",
      "[100]\ttraining's l1: 0.0505572\tvalid_1's l1: 0.0707804\n",
      "[200]\ttraining's l1: 0.037025\tvalid_1's l1: 0.0697159\n",
      "[300]\ttraining's l1: 0.0297164\tvalid_1's l1: 0.0695345\n",
      "[400]\ttraining's l1: 0.0249518\tvalid_1's l1: 0.0696327\n",
      "Early stopping, best iteration is:\n",
      "[257]\ttraining's l1: 0.0325743\tvalid_1's l1: 0.0690105\n",
      "fold n°9\n"
     ]
    },
    {
     "name": "stderr",
     "output_type": "stream",
     "text": [
      "C:\\Users\\linda\\Anaconda3\\lib\\site-packages\\lightgbm\\basic.py:1186: UserWarning: Using categorical_feature in Dataset.\n",
      "  warnings.warn('Using categorical_feature in Dataset.')\n"
     ]
    },
    {
     "name": "stdout",
     "output_type": "stream",
     "text": [
      "Training until validation scores don't improve for 200 rounds.\n",
      "[100]\ttraining's l1: 0.0493601\tvalid_1's l1: 0.0801714\n",
      "[200]\ttraining's l1: 0.0358448\tvalid_1's l1: 0.0795302\n",
      "Early stopping, best iteration is:\n",
      "[28]\ttraining's l1: 0.0725693\tvalid_1's l1: 0.0743128\n"
     ]
    },
    {
     "name": "stderr",
     "output_type": "stream",
     "text": [
      "100%|████████████████████████████████████████████████████████████████████████████████████| 6/6 [04:16<00:00, 45.84s/it]\n"
     ]
    }
   ],
   "source": [
    "predictions_over = np.zeros(len(df_test))\n",
    "for fr in tqdm(np.sort(df_train['Flight Regime'].unique())):\n",
    "    df_train_fr = df_train_over[df_train_over['Flight Regime'] == fr]\n",
    "    df_test_fr = df_test_over[df_test_over['Flight Regime'] == fr]\n",
    "    target_fr = target_over[target_over['Flight Regime'] == fr][['lifespan', 'EngineID', 'EngineIndex']]\n",
    "    feature_importance_df = pd.DataFrame()\n",
    "    for fold_ in range(10):\n",
    "        print(\"fold n°{}\".format(fold_))\n",
    "        val_ID = folds_EngineID[fold_]        \n",
    "        trn_data = lgb.Dataset(df_train_fr[(~(df_train_fr['EngineID'].isin(val_ID))) &\n",
    "                                           (df_train_fr['EngineIndex'].isin(train_idx))][features],\n",
    "                               label=target_fr[(~(target_fr['EngineID'].isin(val_ID))) &\n",
    "                                               (target_fr['EngineIndex'].isin(train_idx))]['lifespan'],\n",
    "                               categorical_feature=categorical_feats\n",
    "                               )\n",
    "        # testデータで予測するindexのみをval_dataで用いる\n",
    "        # こうすることで、val_dataとtest_dataの分布が近づくことを狙っている\n",
    "        val_data = lgb.Dataset(df_train_fr[(df_train_fr['EngineID'].isin(val_ID)) & \n",
    "                                           (df_train_fr['EngineIndex'].isin(test_lastidx))][features],\n",
    "                               label=target_fr[target_fr['EngineID'].isin(val_ID) &\n",
    "                                               target_fr['EngineIndex'].isin(test_lastidx)]['lifespan'],\n",
    "                               categorical_feature=categorical_feats\n",
    "                               )\n",
    "        clf = lgb.train(param,\n",
    "                        trn_data,\n",
    "                        num_round,\n",
    "                        valid_sets=[trn_data, val_data],\n",
    "                        verbose_eval=100,\n",
    "                        early_stopping_rounds=200)\n",
    "        \n",
    "        val_pre =clf.predict(df_train[(df_train['Flight Regime'] == fr)&\n",
    "                                      (df_train['EngineID'].isin(val_ID)) & \n",
    "                                      (df_train['EngineIndex'].isin(test_lastidx))][features],\n",
    "                             num_iteration=clf.best_iteration)\n",
    "        \n",
    "        oof.loc[(oof['Flight Regime'] == fr) &\n",
    "                (oof['EngineID'].isin(val_ID)) & \n",
    "                (oof['EngineIndex'].isin(test_lastidx)), 'pre_lifespan_over100'] = val_pre\n",
    "        \n",
    "        predictions_over[df_test_fr.index] += clf.predict(df_test_fr[features], num_iteration=clf.best_iteration) / 10"
   ]
  },
  {
   "cell_type": "code",
   "execution_count": 40,
   "metadata": {},
   "outputs": [],
   "source": [
    "test_pre_over = predictions_over"
   ]
  },
  {
   "cell_type": "code",
   "execution_count": 41,
   "metadata": {},
   "outputs": [
    {
     "data": {
      "text/plain": [
       "30.757355976016214"
      ]
     },
     "execution_count": 41,
     "metadata": {},
     "output_type": "execute_result"
    }
   ],
   "source": [
    "oof_over = oof[oof['lifespan'] >= 100]\n",
    "mean_absolute_error(oof_over['lifespan'], oof_over['pre_lifespan_over100']*target_over_max)"
   ]
  },
  {
   "cell_type": "code",
   "execution_count": 42,
   "metadata": {},
   "outputs": [],
   "source": [
    "oof['pre_lifespan_over100'] = oof['pre_lifespan_over100'] * target_over_max\n",
    "oof['pre_lifespan_under100'] = oof['pre_lifespan_under100'] * target_under_max"
   ]
  },
  {
   "cell_type": "code",
   "execution_count": 43,
   "metadata": {},
   "outputs": [
    {
     "data": {
      "text/html": [
       "<div>\n",
       "<style scoped>\n",
       "    .dataframe tbody tr th:only-of-type {\n",
       "        vertical-align: middle;\n",
       "    }\n",
       "\n",
       "    .dataframe tbody tr th {\n",
       "        vertical-align: top;\n",
       "    }\n",
       "\n",
       "    .dataframe thead th {\n",
       "        text-align: right;\n",
       "    }\n",
       "</style>\n",
       "<table border=\"1\" class=\"dataframe\">\n",
       "  <thead>\n",
       "    <tr style=\"text-align: right;\">\n",
       "      <th></th>\n",
       "      <th>EngineID</th>\n",
       "      <th>EngineIndex</th>\n",
       "      <th>Flight Regime</th>\n",
       "      <th>lifespan</th>\n",
       "      <th>pre_lifespan_over100</th>\n",
       "      <th>pre_lifespan_under100</th>\n",
       "      <th>pre_border</th>\n",
       "      <th>pre_all</th>\n",
       "      <th>target_border</th>\n",
       "    </tr>\n",
       "  </thead>\n",
       "  <tbody>\n",
       "    <tr>\n",
       "      <th>20</th>\n",
       "      <td>Train_Engine_001</td>\n",
       "      <td>20</td>\n",
       "      <td>6</td>\n",
       "      <td>128</td>\n",
       "      <td>175.163554</td>\n",
       "      <td>90.841864</td>\n",
       "      <td>0.001650</td>\n",
       "      <td>NaN</td>\n",
       "      <td>0</td>\n",
       "    </tr>\n",
       "    <tr>\n",
       "      <th>21</th>\n",
       "      <td>Train_Engine_001</td>\n",
       "      <td>21</td>\n",
       "      <td>6</td>\n",
       "      <td>127</td>\n",
       "      <td>178.732690</td>\n",
       "      <td>92.683021</td>\n",
       "      <td>0.001436</td>\n",
       "      <td>NaN</td>\n",
       "      <td>0</td>\n",
       "    </tr>\n",
       "    <tr>\n",
       "      <th>22</th>\n",
       "      <td>Train_Engine_001</td>\n",
       "      <td>22</td>\n",
       "      <td>6</td>\n",
       "      <td>126</td>\n",
       "      <td>180.190256</td>\n",
       "      <td>93.135863</td>\n",
       "      <td>0.001544</td>\n",
       "      <td>NaN</td>\n",
       "      <td>0</td>\n",
       "    </tr>\n",
       "    <tr>\n",
       "      <th>30</th>\n",
       "      <td>Train_Engine_001</td>\n",
       "      <td>30</td>\n",
       "      <td>2</td>\n",
       "      <td>118</td>\n",
       "      <td>172.103627</td>\n",
       "      <td>91.416272</td>\n",
       "      <td>0.001055</td>\n",
       "      <td>NaN</td>\n",
       "      <td>0</td>\n",
       "    </tr>\n",
       "    <tr>\n",
       "      <th>42</th>\n",
       "      <td>Train_Engine_001</td>\n",
       "      <td>42</td>\n",
       "      <td>6</td>\n",
       "      <td>106</td>\n",
       "      <td>161.863235</td>\n",
       "      <td>90.805481</td>\n",
       "      <td>0.005134</td>\n",
       "      <td>NaN</td>\n",
       "      <td>0</td>\n",
       "    </tr>\n",
       "    <tr>\n",
       "      <th>43</th>\n",
       "      <td>Train_Engine_001</td>\n",
       "      <td>43</td>\n",
       "      <td>1</td>\n",
       "      <td>105</td>\n",
       "      <td>160.672546</td>\n",
       "      <td>84.223483</td>\n",
       "      <td>0.147843</td>\n",
       "      <td>NaN</td>\n",
       "      <td>0</td>\n",
       "    </tr>\n",
       "    <tr>\n",
       "      <th>49</th>\n",
       "      <td>Train_Engine_001</td>\n",
       "      <td>49</td>\n",
       "      <td>5</td>\n",
       "      <td>99</td>\n",
       "      <td>151.570023</td>\n",
       "      <td>89.342559</td>\n",
       "      <td>0.031048</td>\n",
       "      <td>NaN</td>\n",
       "      <td>1</td>\n",
       "    </tr>\n",
       "    <tr>\n",
       "      <th>51</th>\n",
       "      <td>Train_Engine_001</td>\n",
       "      <td>51</td>\n",
       "      <td>6</td>\n",
       "      <td>97</td>\n",
       "      <td>151.239625</td>\n",
       "      <td>88.574327</td>\n",
       "      <td>0.047390</td>\n",
       "      <td>NaN</td>\n",
       "      <td>1</td>\n",
       "    </tr>\n",
       "    <tr>\n",
       "      <th>54</th>\n",
       "      <td>Train_Engine_001</td>\n",
       "      <td>54</td>\n",
       "      <td>1</td>\n",
       "      <td>94</td>\n",
       "      <td>147.530205</td>\n",
       "      <td>82.592412</td>\n",
       "      <td>0.179749</td>\n",
       "      <td>NaN</td>\n",
       "      <td>1</td>\n",
       "    </tr>\n",
       "    <tr>\n",
       "      <th>57</th>\n",
       "      <td>Train_Engine_001</td>\n",
       "      <td>57</td>\n",
       "      <td>5</td>\n",
       "      <td>91</td>\n",
       "      <td>146.311911</td>\n",
       "      <td>87.851831</td>\n",
       "      <td>0.250168</td>\n",
       "      <td>NaN</td>\n",
       "      <td>1</td>\n",
       "    </tr>\n",
       "    <tr>\n",
       "      <th>60</th>\n",
       "      <td>Train_Engine_001</td>\n",
       "      <td>60</td>\n",
       "      <td>3</td>\n",
       "      <td>88</td>\n",
       "      <td>136.664808</td>\n",
       "      <td>87.834320</td>\n",
       "      <td>0.223910</td>\n",
       "      <td>NaN</td>\n",
       "      <td>1</td>\n",
       "    </tr>\n",
       "    <tr>\n",
       "      <th>62</th>\n",
       "      <td>Train_Engine_001</td>\n",
       "      <td>62</td>\n",
       "      <td>6</td>\n",
       "      <td>86</td>\n",
       "      <td>144.378282</td>\n",
       "      <td>81.984432</td>\n",
       "      <td>0.255088</td>\n",
       "      <td>NaN</td>\n",
       "      <td>1</td>\n",
       "    </tr>\n",
       "    <tr>\n",
       "      <th>63</th>\n",
       "      <td>Train_Engine_001</td>\n",
       "      <td>63</td>\n",
       "      <td>5</td>\n",
       "      <td>85</td>\n",
       "      <td>142.436632</td>\n",
       "      <td>87.789955</td>\n",
       "      <td>0.139336</td>\n",
       "      <td>NaN</td>\n",
       "      <td>1</td>\n",
       "    </tr>\n",
       "    <tr>\n",
       "      <th>64</th>\n",
       "      <td>Train_Engine_001</td>\n",
       "      <td>64</td>\n",
       "      <td>1</td>\n",
       "      <td>84</td>\n",
       "      <td>142.142573</td>\n",
       "      <td>76.646777</td>\n",
       "      <td>0.297366</td>\n",
       "      <td>NaN</td>\n",
       "      <td>1</td>\n",
       "    </tr>\n",
       "    <tr>\n",
       "      <th>67</th>\n",
       "      <td>Train_Engine_001</td>\n",
       "      <td>67</td>\n",
       "      <td>1</td>\n",
       "      <td>81</td>\n",
       "      <td>137.528259</td>\n",
       "      <td>66.682287</td>\n",
       "      <td>0.475427</td>\n",
       "      <td>NaN</td>\n",
       "      <td>1</td>\n",
       "    </tr>\n",
       "    <tr>\n",
       "      <th>69</th>\n",
       "      <td>Train_Engine_001</td>\n",
       "      <td>69</td>\n",
       "      <td>6</td>\n",
       "      <td>79</td>\n",
       "      <td>143.500335</td>\n",
       "      <td>82.340132</td>\n",
       "      <td>0.515207</td>\n",
       "      <td>NaN</td>\n",
       "      <td>1</td>\n",
       "    </tr>\n",
       "    <tr>\n",
       "      <th>70</th>\n",
       "      <td>Train_Engine_001</td>\n",
       "      <td>70</td>\n",
       "      <td>3</td>\n",
       "      <td>78</td>\n",
       "      <td>140.589047</td>\n",
       "      <td>85.059412</td>\n",
       "      <td>0.771828</td>\n",
       "      <td>NaN</td>\n",
       "      <td>1</td>\n",
       "    </tr>\n",
       "    <tr>\n",
       "      <th>72</th>\n",
       "      <td>Train_Engine_001</td>\n",
       "      <td>72</td>\n",
       "      <td>4</td>\n",
       "      <td>76</td>\n",
       "      <td>139.137179</td>\n",
       "      <td>85.262278</td>\n",
       "      <td>0.562060</td>\n",
       "      <td>NaN</td>\n",
       "      <td>1</td>\n",
       "    </tr>\n",
       "    <tr>\n",
       "      <th>73</th>\n",
       "      <td>Train_Engine_001</td>\n",
       "      <td>73</td>\n",
       "      <td>3</td>\n",
       "      <td>75</td>\n",
       "      <td>144.231378</td>\n",
       "      <td>80.947597</td>\n",
       "      <td>0.804744</td>\n",
       "      <td>NaN</td>\n",
       "      <td>1</td>\n",
       "    </tr>\n",
       "    <tr>\n",
       "      <th>74</th>\n",
       "      <td>Train_Engine_001</td>\n",
       "      <td>74</td>\n",
       "      <td>4</td>\n",
       "      <td>74</td>\n",
       "      <td>141.758145</td>\n",
       "      <td>84.791684</td>\n",
       "      <td>0.541313</td>\n",
       "      <td>NaN</td>\n",
       "      <td>1</td>\n",
       "    </tr>\n",
       "    <tr>\n",
       "      <th>75</th>\n",
       "      <td>Train_Engine_001</td>\n",
       "      <td>75</td>\n",
       "      <td>4</td>\n",
       "      <td>73</td>\n",
       "      <td>138.701787</td>\n",
       "      <td>87.124872</td>\n",
       "      <td>0.327559</td>\n",
       "      <td>NaN</td>\n",
       "      <td>1</td>\n",
       "    </tr>\n",
       "    <tr>\n",
       "      <th>77</th>\n",
       "      <td>Train_Engine_001</td>\n",
       "      <td>77</td>\n",
       "      <td>4</td>\n",
       "      <td>71</td>\n",
       "      <td>140.466924</td>\n",
       "      <td>87.383840</td>\n",
       "      <td>0.242787</td>\n",
       "      <td>NaN</td>\n",
       "      <td>1</td>\n",
       "    </tr>\n",
       "    <tr>\n",
       "      <th>78</th>\n",
       "      <td>Train_Engine_001</td>\n",
       "      <td>78</td>\n",
       "      <td>6</td>\n",
       "      <td>70</td>\n",
       "      <td>140.823736</td>\n",
       "      <td>90.450683</td>\n",
       "      <td>0.079910</td>\n",
       "      <td>NaN</td>\n",
       "      <td>1</td>\n",
       "    </tr>\n",
       "    <tr>\n",
       "      <th>79</th>\n",
       "      <td>Train_Engine_001</td>\n",
       "      <td>79</td>\n",
       "      <td>6</td>\n",
       "      <td>69</td>\n",
       "      <td>140.660043</td>\n",
       "      <td>87.894188</td>\n",
       "      <td>0.135829</td>\n",
       "      <td>NaN</td>\n",
       "      <td>1</td>\n",
       "    </tr>\n",
       "    <tr>\n",
       "      <th>80</th>\n",
       "      <td>Train_Engine_001</td>\n",
       "      <td>80</td>\n",
       "      <td>3</td>\n",
       "      <td>68</td>\n",
       "      <td>139.615093</td>\n",
       "      <td>82.217759</td>\n",
       "      <td>0.164791</td>\n",
       "      <td>NaN</td>\n",
       "      <td>1</td>\n",
       "    </tr>\n",
       "    <tr>\n",
       "      <th>83</th>\n",
       "      <td>Train_Engine_001</td>\n",
       "      <td>83</td>\n",
       "      <td>6</td>\n",
       "      <td>65</td>\n",
       "      <td>142.156146</td>\n",
       "      <td>74.702075</td>\n",
       "      <td>0.865098</td>\n",
       "      <td>NaN</td>\n",
       "      <td>1</td>\n",
       "    </tr>\n",
       "    <tr>\n",
       "      <th>85</th>\n",
       "      <td>Train_Engine_001</td>\n",
       "      <td>85</td>\n",
       "      <td>6</td>\n",
       "      <td>63</td>\n",
       "      <td>141.848341</td>\n",
       "      <td>70.245094</td>\n",
       "      <td>0.927796</td>\n",
       "      <td>NaN</td>\n",
       "      <td>1</td>\n",
       "    </tr>\n",
       "    <tr>\n",
       "      <th>87</th>\n",
       "      <td>Train_Engine_001</td>\n",
       "      <td>87</td>\n",
       "      <td>5</td>\n",
       "      <td>61</td>\n",
       "      <td>133.223246</td>\n",
       "      <td>66.939522</td>\n",
       "      <td>0.837407</td>\n",
       "      <td>NaN</td>\n",
       "      <td>1</td>\n",
       "    </tr>\n",
       "    <tr>\n",
       "      <th>89</th>\n",
       "      <td>Train_Engine_001</td>\n",
       "      <td>89</td>\n",
       "      <td>1</td>\n",
       "      <td>59</td>\n",
       "      <td>131.025875</td>\n",
       "      <td>62.839050</td>\n",
       "      <td>0.683802</td>\n",
       "      <td>NaN</td>\n",
       "      <td>1</td>\n",
       "    </tr>\n",
       "    <tr>\n",
       "      <th>94</th>\n",
       "      <td>Train_Engine_001</td>\n",
       "      <td>94</td>\n",
       "      <td>5</td>\n",
       "      <td>54</td>\n",
       "      <td>131.731596</td>\n",
       "      <td>66.123000</td>\n",
       "      <td>0.951416</td>\n",
       "      <td>NaN</td>\n",
       "      <td>1</td>\n",
       "    </tr>\n",
       "    <tr>\n",
       "      <th>...</th>\n",
       "      <td>...</td>\n",
       "      <td>...</td>\n",
       "      <td>...</td>\n",
       "      <td>...</td>\n",
       "      <td>...</td>\n",
       "      <td>...</td>\n",
       "      <td>...</td>\n",
       "      <td>...</td>\n",
       "      <td>...</td>\n",
       "    </tr>\n",
       "    <tr>\n",
       "      <th>53589</th>\n",
       "      <td>Train_Engine_260</td>\n",
       "      <td>146</td>\n",
       "      <td>6</td>\n",
       "      <td>169</td>\n",
       "      <td>156.336886</td>\n",
       "      <td>94.237765</td>\n",
       "      <td>0.015886</td>\n",
       "      <td>NaN</td>\n",
       "      <td>0</td>\n",
       "    </tr>\n",
       "    <tr>\n",
       "      <th>53590</th>\n",
       "      <td>Train_Engine_260</td>\n",
       "      <td>147</td>\n",
       "      <td>5</td>\n",
       "      <td>168</td>\n",
       "      <td>146.838240</td>\n",
       "      <td>91.008858</td>\n",
       "      <td>0.201871</td>\n",
       "      <td>NaN</td>\n",
       "      <td>0</td>\n",
       "    </tr>\n",
       "    <tr>\n",
       "      <th>53591</th>\n",
       "      <td>Train_Engine_260</td>\n",
       "      <td>148</td>\n",
       "      <td>5</td>\n",
       "      <td>167</td>\n",
       "      <td>145.427715</td>\n",
       "      <td>91.488122</td>\n",
       "      <td>0.201871</td>\n",
       "      <td>NaN</td>\n",
       "      <td>0</td>\n",
       "    </tr>\n",
       "    <tr>\n",
       "      <th>53592</th>\n",
       "      <td>Train_Engine_260</td>\n",
       "      <td>149</td>\n",
       "      <td>6</td>\n",
       "      <td>166</td>\n",
       "      <td>163.795279</td>\n",
       "      <td>94.172217</td>\n",
       "      <td>0.032940</td>\n",
       "      <td>NaN</td>\n",
       "      <td>0</td>\n",
       "    </tr>\n",
       "    <tr>\n",
       "      <th>53597</th>\n",
       "      <td>Train_Engine_260</td>\n",
       "      <td>154</td>\n",
       "      <td>6</td>\n",
       "      <td>161</td>\n",
       "      <td>165.441301</td>\n",
       "      <td>94.420309</td>\n",
       "      <td>0.012862</td>\n",
       "      <td>NaN</td>\n",
       "      <td>0</td>\n",
       "    </tr>\n",
       "    <tr>\n",
       "      <th>53598</th>\n",
       "      <td>Train_Engine_260</td>\n",
       "      <td>155</td>\n",
       "      <td>2</td>\n",
       "      <td>160</td>\n",
       "      <td>141.046664</td>\n",
       "      <td>91.057279</td>\n",
       "      <td>0.025376</td>\n",
       "      <td>NaN</td>\n",
       "      <td>0</td>\n",
       "    </tr>\n",
       "    <tr>\n",
       "      <th>53600</th>\n",
       "      <td>Train_Engine_260</td>\n",
       "      <td>157</td>\n",
       "      <td>6</td>\n",
       "      <td>158</td>\n",
       "      <td>161.633102</td>\n",
       "      <td>93.576057</td>\n",
       "      <td>0.025496</td>\n",
       "      <td>NaN</td>\n",
       "      <td>0</td>\n",
       "    </tr>\n",
       "    <tr>\n",
       "      <th>53603</th>\n",
       "      <td>Train_Engine_260</td>\n",
       "      <td>160</td>\n",
       "      <td>4</td>\n",
       "      <td>155</td>\n",
       "      <td>140.161210</td>\n",
       "      <td>92.285843</td>\n",
       "      <td>0.106185</td>\n",
       "      <td>NaN</td>\n",
       "      <td>0</td>\n",
       "    </tr>\n",
       "    <tr>\n",
       "      <th>53604</th>\n",
       "      <td>Train_Engine_260</td>\n",
       "      <td>161</td>\n",
       "      <td>1</td>\n",
       "      <td>154</td>\n",
       "      <td>190.942984</td>\n",
       "      <td>93.607281</td>\n",
       "      <td>0.025667</td>\n",
       "      <td>NaN</td>\n",
       "      <td>0</td>\n",
       "    </tr>\n",
       "    <tr>\n",
       "      <th>53605</th>\n",
       "      <td>Train_Engine_260</td>\n",
       "      <td>162</td>\n",
       "      <td>5</td>\n",
       "      <td>153</td>\n",
       "      <td>144.447790</td>\n",
       "      <td>91.330782</td>\n",
       "      <td>0.490977</td>\n",
       "      <td>NaN</td>\n",
       "      <td>0</td>\n",
       "    </tr>\n",
       "    <tr>\n",
       "      <th>53606</th>\n",
       "      <td>Train_Engine_260</td>\n",
       "      <td>163</td>\n",
       "      <td>2</td>\n",
       "      <td>152</td>\n",
       "      <td>137.307960</td>\n",
       "      <td>89.099919</td>\n",
       "      <td>0.061136</td>\n",
       "      <td>NaN</td>\n",
       "      <td>0</td>\n",
       "    </tr>\n",
       "    <tr>\n",
       "      <th>53607</th>\n",
       "      <td>Train_Engine_260</td>\n",
       "      <td>164</td>\n",
       "      <td>4</td>\n",
       "      <td>151</td>\n",
       "      <td>137.984693</td>\n",
       "      <td>91.651087</td>\n",
       "      <td>0.189392</td>\n",
       "      <td>NaN</td>\n",
       "      <td>0</td>\n",
       "    </tr>\n",
       "    <tr>\n",
       "      <th>53608</th>\n",
       "      <td>Train_Engine_260</td>\n",
       "      <td>165</td>\n",
       "      <td>2</td>\n",
       "      <td>150</td>\n",
       "      <td>135.652401</td>\n",
       "      <td>91.200266</td>\n",
       "      <td>0.050628</td>\n",
       "      <td>NaN</td>\n",
       "      <td>0</td>\n",
       "    </tr>\n",
       "    <tr>\n",
       "      <th>53612</th>\n",
       "      <td>Train_Engine_260</td>\n",
       "      <td>169</td>\n",
       "      <td>4</td>\n",
       "      <td>146</td>\n",
       "      <td>132.473062</td>\n",
       "      <td>90.691114</td>\n",
       "      <td>0.197607</td>\n",
       "      <td>NaN</td>\n",
       "      <td>0</td>\n",
       "    </tr>\n",
       "    <tr>\n",
       "      <th>53613</th>\n",
       "      <td>Train_Engine_260</td>\n",
       "      <td>170</td>\n",
       "      <td>3</td>\n",
       "      <td>145</td>\n",
       "      <td>150.598980</td>\n",
       "      <td>94.251924</td>\n",
       "      <td>0.018425</td>\n",
       "      <td>NaN</td>\n",
       "      <td>0</td>\n",
       "    </tr>\n",
       "    <tr>\n",
       "      <th>53616</th>\n",
       "      <td>Train_Engine_260</td>\n",
       "      <td>173</td>\n",
       "      <td>2</td>\n",
       "      <td>142</td>\n",
       "      <td>131.191920</td>\n",
       "      <td>85.041996</td>\n",
       "      <td>0.116154</td>\n",
       "      <td>NaN</td>\n",
       "      <td>0</td>\n",
       "    </tr>\n",
       "    <tr>\n",
       "      <th>53622</th>\n",
       "      <td>Train_Engine_260</td>\n",
       "      <td>179</td>\n",
       "      <td>2</td>\n",
       "      <td>136</td>\n",
       "      <td>130.323065</td>\n",
       "      <td>87.117555</td>\n",
       "      <td>0.254457</td>\n",
       "      <td>NaN</td>\n",
       "      <td>0</td>\n",
       "    </tr>\n",
       "    <tr>\n",
       "      <th>53624</th>\n",
       "      <td>Train_Engine_260</td>\n",
       "      <td>181</td>\n",
       "      <td>4</td>\n",
       "      <td>134</td>\n",
       "      <td>128.635036</td>\n",
       "      <td>85.168004</td>\n",
       "      <td>0.682162</td>\n",
       "      <td>NaN</td>\n",
       "      <td>0</td>\n",
       "    </tr>\n",
       "    <tr>\n",
       "      <th>53625</th>\n",
       "      <td>Train_Engine_260</td>\n",
       "      <td>182</td>\n",
       "      <td>4</td>\n",
       "      <td>133</td>\n",
       "      <td>124.613758</td>\n",
       "      <td>87.757687</td>\n",
       "      <td>0.432980</td>\n",
       "      <td>NaN</td>\n",
       "      <td>0</td>\n",
       "    </tr>\n",
       "    <tr>\n",
       "      <th>53626</th>\n",
       "      <td>Train_Engine_260</td>\n",
       "      <td>183</td>\n",
       "      <td>6</td>\n",
       "      <td>132</td>\n",
       "      <td>137.701771</td>\n",
       "      <td>90.054338</td>\n",
       "      <td>0.106867</td>\n",
       "      <td>NaN</td>\n",
       "      <td>0</td>\n",
       "    </tr>\n",
       "    <tr>\n",
       "      <th>53629</th>\n",
       "      <td>Train_Engine_260</td>\n",
       "      <td>186</td>\n",
       "      <td>3</td>\n",
       "      <td>129</td>\n",
       "      <td>137.266819</td>\n",
       "      <td>89.705994</td>\n",
       "      <td>0.285483</td>\n",
       "      <td>NaN</td>\n",
       "      <td>0</td>\n",
       "    </tr>\n",
       "    <tr>\n",
       "      <th>53638</th>\n",
       "      <td>Train_Engine_260</td>\n",
       "      <td>195</td>\n",
       "      <td>3</td>\n",
       "      <td>120</td>\n",
       "      <td>132.259087</td>\n",
       "      <td>89.578126</td>\n",
       "      <td>0.165121</td>\n",
       "      <td>NaN</td>\n",
       "      <td>0</td>\n",
       "    </tr>\n",
       "    <tr>\n",
       "      <th>53641</th>\n",
       "      <td>Train_Engine_260</td>\n",
       "      <td>198</td>\n",
       "      <td>3</td>\n",
       "      <td>117</td>\n",
       "      <td>126.404912</td>\n",
       "      <td>89.131741</td>\n",
       "      <td>0.200924</td>\n",
       "      <td>NaN</td>\n",
       "      <td>0</td>\n",
       "    </tr>\n",
       "    <tr>\n",
       "      <th>53642</th>\n",
       "      <td>Train_Engine_260</td>\n",
       "      <td>199</td>\n",
       "      <td>6</td>\n",
       "      <td>116</td>\n",
       "      <td>129.689408</td>\n",
       "      <td>89.968697</td>\n",
       "      <td>0.018171</td>\n",
       "      <td>NaN</td>\n",
       "      <td>0</td>\n",
       "    </tr>\n",
       "    <tr>\n",
       "      <th>53660</th>\n",
       "      <td>Train_Engine_260</td>\n",
       "      <td>217</td>\n",
       "      <td>4</td>\n",
       "      <td>98</td>\n",
       "      <td>121.078050</td>\n",
       "      <td>84.724547</td>\n",
       "      <td>0.565928</td>\n",
       "      <td>NaN</td>\n",
       "      <td>1</td>\n",
       "    </tr>\n",
       "    <tr>\n",
       "      <th>53677</th>\n",
       "      <td>Train_Engine_260</td>\n",
       "      <td>234</td>\n",
       "      <td>2</td>\n",
       "      <td>81</td>\n",
       "      <td>122.599378</td>\n",
       "      <td>73.585850</td>\n",
       "      <td>0.948443</td>\n",
       "      <td>NaN</td>\n",
       "      <td>1</td>\n",
       "    </tr>\n",
       "    <tr>\n",
       "      <th>53691</th>\n",
       "      <td>Train_Engine_260</td>\n",
       "      <td>248</td>\n",
       "      <td>1</td>\n",
       "      <td>67</td>\n",
       "      <td>119.493261</td>\n",
       "      <td>70.565867</td>\n",
       "      <td>0.550266</td>\n",
       "      <td>NaN</td>\n",
       "      <td>1</td>\n",
       "    </tr>\n",
       "    <tr>\n",
       "      <th>53696</th>\n",
       "      <td>Train_Engine_260</td>\n",
       "      <td>253</td>\n",
       "      <td>6</td>\n",
       "      <td>62</td>\n",
       "      <td>110.735459</td>\n",
       "      <td>76.162482</td>\n",
       "      <td>0.961671</td>\n",
       "      <td>NaN</td>\n",
       "      <td>1</td>\n",
       "    </tr>\n",
       "    <tr>\n",
       "      <th>53704</th>\n",
       "      <td>Train_Engine_260</td>\n",
       "      <td>261</td>\n",
       "      <td>6</td>\n",
       "      <td>54</td>\n",
       "      <td>110.453008</td>\n",
       "      <td>71.162234</td>\n",
       "      <td>0.994373</td>\n",
       "      <td>NaN</td>\n",
       "      <td>1</td>\n",
       "    </tr>\n",
       "    <tr>\n",
       "      <th>53748</th>\n",
       "      <td>Train_Engine_260</td>\n",
       "      <td>305</td>\n",
       "      <td>1</td>\n",
       "      <td>10</td>\n",
       "      <td>105.864627</td>\n",
       "      <td>9.986383</td>\n",
       "      <td>0.998560</td>\n",
       "      <td>NaN</td>\n",
       "      <td>1</td>\n",
       "    </tr>\n",
       "  </tbody>\n",
       "</table>\n",
       "<p>17823 rows × 9 columns</p>\n",
       "</div>"
      ],
      "text/plain": [
       "               EngineID  EngineIndex  Flight Regime  lifespan  \\\n",
       "20     Train_Engine_001           20              6       128   \n",
       "21     Train_Engine_001           21              6       127   \n",
       "22     Train_Engine_001           22              6       126   \n",
       "30     Train_Engine_001           30              2       118   \n",
       "42     Train_Engine_001           42              6       106   \n",
       "43     Train_Engine_001           43              1       105   \n",
       "49     Train_Engine_001           49              5        99   \n",
       "51     Train_Engine_001           51              6        97   \n",
       "54     Train_Engine_001           54              1        94   \n",
       "57     Train_Engine_001           57              5        91   \n",
       "60     Train_Engine_001           60              3        88   \n",
       "62     Train_Engine_001           62              6        86   \n",
       "63     Train_Engine_001           63              5        85   \n",
       "64     Train_Engine_001           64              1        84   \n",
       "67     Train_Engine_001           67              1        81   \n",
       "69     Train_Engine_001           69              6        79   \n",
       "70     Train_Engine_001           70              3        78   \n",
       "72     Train_Engine_001           72              4        76   \n",
       "73     Train_Engine_001           73              3        75   \n",
       "74     Train_Engine_001           74              4        74   \n",
       "75     Train_Engine_001           75              4        73   \n",
       "77     Train_Engine_001           77              4        71   \n",
       "78     Train_Engine_001           78              6        70   \n",
       "79     Train_Engine_001           79              6        69   \n",
       "80     Train_Engine_001           80              3        68   \n",
       "83     Train_Engine_001           83              6        65   \n",
       "85     Train_Engine_001           85              6        63   \n",
       "87     Train_Engine_001           87              5        61   \n",
       "89     Train_Engine_001           89              1        59   \n",
       "94     Train_Engine_001           94              5        54   \n",
       "...                 ...          ...            ...       ...   \n",
       "53589  Train_Engine_260          146              6       169   \n",
       "53590  Train_Engine_260          147              5       168   \n",
       "53591  Train_Engine_260          148              5       167   \n",
       "53592  Train_Engine_260          149              6       166   \n",
       "53597  Train_Engine_260          154              6       161   \n",
       "53598  Train_Engine_260          155              2       160   \n",
       "53600  Train_Engine_260          157              6       158   \n",
       "53603  Train_Engine_260          160              4       155   \n",
       "53604  Train_Engine_260          161              1       154   \n",
       "53605  Train_Engine_260          162              5       153   \n",
       "53606  Train_Engine_260          163              2       152   \n",
       "53607  Train_Engine_260          164              4       151   \n",
       "53608  Train_Engine_260          165              2       150   \n",
       "53612  Train_Engine_260          169              4       146   \n",
       "53613  Train_Engine_260          170              3       145   \n",
       "53616  Train_Engine_260          173              2       142   \n",
       "53622  Train_Engine_260          179              2       136   \n",
       "53624  Train_Engine_260          181              4       134   \n",
       "53625  Train_Engine_260          182              4       133   \n",
       "53626  Train_Engine_260          183              6       132   \n",
       "53629  Train_Engine_260          186              3       129   \n",
       "53638  Train_Engine_260          195              3       120   \n",
       "53641  Train_Engine_260          198              3       117   \n",
       "53642  Train_Engine_260          199              6       116   \n",
       "53660  Train_Engine_260          217              4        98   \n",
       "53677  Train_Engine_260          234              2        81   \n",
       "53691  Train_Engine_260          248              1        67   \n",
       "53696  Train_Engine_260          253              6        62   \n",
       "53704  Train_Engine_260          261              6        54   \n",
       "53748  Train_Engine_260          305              1        10   \n",
       "\n",
       "       pre_lifespan_over100  pre_lifespan_under100  pre_border  pre_all  \\\n",
       "20               175.163554              90.841864    0.001650      NaN   \n",
       "21               178.732690              92.683021    0.001436      NaN   \n",
       "22               180.190256              93.135863    0.001544      NaN   \n",
       "30               172.103627              91.416272    0.001055      NaN   \n",
       "42               161.863235              90.805481    0.005134      NaN   \n",
       "43               160.672546              84.223483    0.147843      NaN   \n",
       "49               151.570023              89.342559    0.031048      NaN   \n",
       "51               151.239625              88.574327    0.047390      NaN   \n",
       "54               147.530205              82.592412    0.179749      NaN   \n",
       "57               146.311911              87.851831    0.250168      NaN   \n",
       "60               136.664808              87.834320    0.223910      NaN   \n",
       "62               144.378282              81.984432    0.255088      NaN   \n",
       "63               142.436632              87.789955    0.139336      NaN   \n",
       "64               142.142573              76.646777    0.297366      NaN   \n",
       "67               137.528259              66.682287    0.475427      NaN   \n",
       "69               143.500335              82.340132    0.515207      NaN   \n",
       "70               140.589047              85.059412    0.771828      NaN   \n",
       "72               139.137179              85.262278    0.562060      NaN   \n",
       "73               144.231378              80.947597    0.804744      NaN   \n",
       "74               141.758145              84.791684    0.541313      NaN   \n",
       "75               138.701787              87.124872    0.327559      NaN   \n",
       "77               140.466924              87.383840    0.242787      NaN   \n",
       "78               140.823736              90.450683    0.079910      NaN   \n",
       "79               140.660043              87.894188    0.135829      NaN   \n",
       "80               139.615093              82.217759    0.164791      NaN   \n",
       "83               142.156146              74.702075    0.865098      NaN   \n",
       "85               141.848341              70.245094    0.927796      NaN   \n",
       "87               133.223246              66.939522    0.837407      NaN   \n",
       "89               131.025875              62.839050    0.683802      NaN   \n",
       "94               131.731596              66.123000    0.951416      NaN   \n",
       "...                     ...                    ...         ...      ...   \n",
       "53589            156.336886              94.237765    0.015886      NaN   \n",
       "53590            146.838240              91.008858    0.201871      NaN   \n",
       "53591            145.427715              91.488122    0.201871      NaN   \n",
       "53592            163.795279              94.172217    0.032940      NaN   \n",
       "53597            165.441301              94.420309    0.012862      NaN   \n",
       "53598            141.046664              91.057279    0.025376      NaN   \n",
       "53600            161.633102              93.576057    0.025496      NaN   \n",
       "53603            140.161210              92.285843    0.106185      NaN   \n",
       "53604            190.942984              93.607281    0.025667      NaN   \n",
       "53605            144.447790              91.330782    0.490977      NaN   \n",
       "53606            137.307960              89.099919    0.061136      NaN   \n",
       "53607            137.984693              91.651087    0.189392      NaN   \n",
       "53608            135.652401              91.200266    0.050628      NaN   \n",
       "53612            132.473062              90.691114    0.197607      NaN   \n",
       "53613            150.598980              94.251924    0.018425      NaN   \n",
       "53616            131.191920              85.041996    0.116154      NaN   \n",
       "53622            130.323065              87.117555    0.254457      NaN   \n",
       "53624            128.635036              85.168004    0.682162      NaN   \n",
       "53625            124.613758              87.757687    0.432980      NaN   \n",
       "53626            137.701771              90.054338    0.106867      NaN   \n",
       "53629            137.266819              89.705994    0.285483      NaN   \n",
       "53638            132.259087              89.578126    0.165121      NaN   \n",
       "53641            126.404912              89.131741    0.200924      NaN   \n",
       "53642            129.689408              89.968697    0.018171      NaN   \n",
       "53660            121.078050              84.724547    0.565928      NaN   \n",
       "53677            122.599378              73.585850    0.948443      NaN   \n",
       "53691            119.493261              70.565867    0.550266      NaN   \n",
       "53696            110.735459              76.162482    0.961671      NaN   \n",
       "53704            110.453008              71.162234    0.994373      NaN   \n",
       "53748            105.864627               9.986383    0.998560      NaN   \n",
       "\n",
       "       target_border  \n",
       "20                 0  \n",
       "21                 0  \n",
       "22                 0  \n",
       "30                 0  \n",
       "42                 0  \n",
       "43                 0  \n",
       "49                 1  \n",
       "51                 1  \n",
       "54                 1  \n",
       "57                 1  \n",
       "60                 1  \n",
       "62                 1  \n",
       "63                 1  \n",
       "64                 1  \n",
       "67                 1  \n",
       "69                 1  \n",
       "70                 1  \n",
       "72                 1  \n",
       "73                 1  \n",
       "74                 1  \n",
       "75                 1  \n",
       "77                 1  \n",
       "78                 1  \n",
       "79                 1  \n",
       "80                 1  \n",
       "83                 1  \n",
       "85                 1  \n",
       "87                 1  \n",
       "89                 1  \n",
       "94                 1  \n",
       "...              ...  \n",
       "53589              0  \n",
       "53590              0  \n",
       "53591              0  \n",
       "53592              0  \n",
       "53597              0  \n",
       "53598              0  \n",
       "53600              0  \n",
       "53603              0  \n",
       "53604              0  \n",
       "53605              0  \n",
       "53606              0  \n",
       "53607              0  \n",
       "53608              0  \n",
       "53612              0  \n",
       "53613              0  \n",
       "53616              0  \n",
       "53622              0  \n",
       "53624              0  \n",
       "53625              0  \n",
       "53626              0  \n",
       "53629              0  \n",
       "53638              0  \n",
       "53641              0  \n",
       "53642              0  \n",
       "53660              1  \n",
       "53677              1  \n",
       "53691              1  \n",
       "53696              1  \n",
       "53704              1  \n",
       "53748              1  \n",
       "\n",
       "[17823 rows x 9 columns]"
      ]
     },
     "execution_count": 43,
     "metadata": {},
     "output_type": "execute_result"
    }
   ],
   "source": [
    "oof"
   ]
  },
  {
   "cell_type": "code",
   "execution_count": 44,
   "metadata": {},
   "outputs": [],
   "source": [
    "oof['pre_target'] = oof['pre_lifespan_over100'] * (1 - oof['pre_border']) + oof['pre_lifespan_under100'] * oof['pre_border']"
   ]
  },
  {
   "cell_type": "code",
   "execution_count": 45,
   "metadata": {},
   "outputs": [
    {
     "name": "stdout",
     "output_type": "stream",
     "text": [
      "Flight Regime 1 :  21.418850566296943\n",
      "Flight Regime 2 :  24.016655129508106\n",
      "Flight Regime 3 :  23.35439064151237\n",
      "Flight Regime 4 :  22.409158195854058\n",
      "Flight Regime 5 :  23.462859769026487\n",
      "Flight Regime 6 :  23.321620970705716\n"
     ]
    }
   ],
   "source": [
    "for fr in np.sort(oof['Flight Regime'].unique()):\n",
    "    oof_fr = oof[oof['Flight Regime'] == fr]\n",
    "    print('Flight Regime', fr, ': ', mean_absolute_error(oof_fr['lifespan'], oof_fr['pre_target']))"
   ]
  },
  {
   "cell_type": "code",
   "execution_count": 46,
   "metadata": {},
   "outputs": [
    {
     "data": {
      "text/plain": [
       "23.023031949103427"
      ]
     },
     "execution_count": 46,
     "metadata": {},
     "output_type": "execute_result"
    }
   ],
   "source": [
    "mean_absolute_error(oof['lifespan'], oof['pre_target'])"
   ]
  },
  {
   "cell_type": "code",
   "execution_count": null,
   "metadata": {},
   "outputs": [],
   "source": []
  },
  {
   "cell_type": "code",
   "execution_count": 47,
   "metadata": {},
   "outputs": [
    {
     "name": "stderr",
     "output_type": "stream",
     "text": [
      "C:\\Users\\linda\\Anaconda3\\lib\\site-packages\\scipy\\stats\\stats.py:1713: FutureWarning: Using a non-tuple sequence for multidimensional indexing is deprecated; use `arr[tuple(seq)]` instead of `arr[seq]`. In the future this will be interpreted as an array index, `arr[np.array(seq)]`, which will result either in an error or a different result.\n",
      "  return np.add.reduce(sorted[indexer] * weights, axis=axis) / sumval\n"
     ]
    },
    {
     "data": {
      "image/png": "[encoded data removed]",
      "text/plain": [
       "<Figure size 432x432 with 3 Axes>"
      ]
     },
     "metadata": {
      "needs_background": "light"
     },
     "output_type": "display_data"
    }
   ],
   "source": [
    "sns.jointplot(x=\"lifespan\", y=\"pre_target\", kind=\"kde\", data=oof);"
   ]
  },
  {
   "cell_type": "code",
   "execution_count": null,
   "metadata": {},
   "outputs": [],
   "source": []
  },
  {
   "cell_type": "code",
   "execution_count": 48,
   "metadata": {},
   "outputs": [
    {
     "data": {
      "image/png": "[encoded data removed]",
      "text/plain": [
       "<Figure size 360x360 with 1 Axes>"
      ]
     },
     "metadata": {
      "needs_background": "light"
     },
     "output_type": "display_data"
    }
   ],
   "source": [
    "plt.figure(figsize=(5,5))\n",
    "plt.plot(oof['lifespan'], oof['pre_target'], 'o')\n",
    "plt.plot(np.array([0,350]), np.array([0,350]), c='red')\n",
    "plt.xlabel('lifespan')\n",
    "plt.ylabel('val_predicion')\n",
    "plt.xlim([-10, 360])\n",
    "plt.ylim([-10, 360]);"
   ]
  },
  {
   "cell_type": "code",
   "execution_count": null,
   "metadata": {},
   "outputs": [],
   "source": []
  },
  {
   "cell_type": "code",
   "execution_count": 70,
   "metadata": {},
   "outputs": [],
   "source": [
    "# submit\n",
    "sub_df = pd.DataFrame({'EngineID': df_test['EngineID'],\n",
    "                       'EngineIndex': df_test['EngineIndex'],\n",
    "                       'pre_border': test_pre_border,\n",
    "                       'pre_lifespan_under100': test_pre_under * target_under_max,\n",
    "                       'pre_lifespan_over100': test_pre_over * target_over_max})\n",
    "\n",
    "sub_df['Predicted RUL'] = sub_df['pre_lifespan_over100'] * (1 - sub_df['pre_border']) + sub_df['pre_lifespan_under100'] * sub_df['pre_border']\n",
    "sub_df.to_csv('C0003_07_05_2019_pre.csv', index=False)\n",
    "\n",
    "# 必要なのは各エンジンの最後の行のみ\n",
    "sub_df = sub_df[sub_df['EngineID'].astype('category').cat.codes.diff(-1) != 0]\n",
    "sub_df['Predicted RUL'].to_csv('C0003_07_05_2019.csv', index=False)"
   ]
  },
  {
   "cell_type": "code",
   "execution_count": 66,
   "metadata": {},
   "outputs": [],
   "source": [
    "oof.to_csv('C0003_07_05_2019_oof.csv', index=False)"
   ]
  },
  {
   "cell_type": "code",
   "execution_count": 72,
   "metadata": {},
   "outputs": [
    {
     "data": {
      "text/html": [
       "<div>\n",
       "<style scoped>\n",
       "    .dataframe tbody tr th:only-of-type {\n",
       "        vertical-align: middle;\n",
       "    }\n",
       "\n",
       "    .dataframe tbody tr th {\n",
       "        vertical-align: top;\n",
       "    }\n",
       "\n",
       "    .dataframe thead th {\n",
       "        text-align: right;\n",
       "    }\n",
       "</style>\n",
       "<table border=\"1\" class=\"dataframe\">\n",
       "  <thead>\n",
       "    <tr style=\"text-align: right;\">\n",
       "      <th></th>\n",
       "      <th>EngineID</th>\n",
       "      <th>EngineIndex</th>\n",
       "      <th>pre_border</th>\n",
       "      <th>pre_lifespan_under100</th>\n",
       "      <th>pre_lifespan_over100</th>\n",
       "      <th>Predicted RUL</th>\n",
       "    </tr>\n",
       "  </thead>\n",
       "  <tbody>\n",
       "    <tr>\n",
       "      <th>57</th>\n",
       "      <td>Test_Engine_001</td>\n",
       "      <td>57</td>\n",
       "      <td>0.312675</td>\n",
       "      <td>87.618897</td>\n",
       "      <td>139.653326</td>\n",
       "      <td>123.383454</td>\n",
       "    </tr>\n",
       "    <tr>\n",
       "      <th>253</th>\n",
       "      <td>Test_Engine_002</td>\n",
       "      <td>195</td>\n",
       "      <td>0.988220</td>\n",
       "      <td>30.443045</td>\n",
       "      <td>121.097204</td>\n",
       "      <td>31.510975</td>\n",
       "    </tr>\n",
       "    <tr>\n",
       "      <th>378</th>\n",
       "      <td>Test_Engine_003</td>\n",
       "      <td>124</td>\n",
       "      <td>0.200450</td>\n",
       "      <td>87.296893</td>\n",
       "      <td>144.548390</td>\n",
       "      <td>133.072310</td>\n",
       "    </tr>\n",
       "    <tr>\n",
       "      <th>428</th>\n",
       "      <td>Test_Engine_004</td>\n",
       "      <td>49</td>\n",
       "      <td>0.040425</td>\n",
       "      <td>90.833110</td>\n",
       "      <td>172.321886</td>\n",
       "      <td>169.027735</td>\n",
       "    </tr>\n",
       "    <tr>\n",
       "      <th>591</th>\n",
       "      <td>Test_Engine_005</td>\n",
       "      <td>162</td>\n",
       "      <td>0.979256</td>\n",
       "      <td>6.161653</td>\n",
       "      <td>124.832794</td>\n",
       "      <td>8.623388</td>\n",
       "    </tr>\n",
       "    <tr>\n",
       "      <th>654</th>\n",
       "      <td>Test_Engine_006</td>\n",
       "      <td>62</td>\n",
       "      <td>0.395704</td>\n",
       "      <td>85.171224</td>\n",
       "      <td>136.619731</td>\n",
       "      <td>116.261355</td>\n",
       "    </tr>\n",
       "    <tr>\n",
       "      <th>825</th>\n",
       "      <td>Test_Engine_007</td>\n",
       "      <td>170</td>\n",
       "      <td>0.958761</td>\n",
       "      <td>5.836303</td>\n",
       "      <td>120.225824</td>\n",
       "      <td>10.553555</td>\n",
       "    </tr>\n",
       "    <tr>\n",
       "      <th>893</th>\n",
       "      <td>Test_Engine_008</td>\n",
       "      <td>67</td>\n",
       "      <td>0.037433</td>\n",
       "      <td>92.234076</td>\n",
       "      <td>146.519117</td>\n",
       "      <td>144.487082</td>\n",
       "    </tr>\n",
       "    <tr>\n",
       "      <th>979</th>\n",
       "      <td>Test_Engine_009</td>\n",
       "      <td>85</td>\n",
       "      <td>0.933256</td>\n",
       "      <td>60.897981</td>\n",
       "      <td>121.303229</td>\n",
       "      <td>64.929652</td>\n",
       "    </tr>\n",
       "    <tr>\n",
       "      <th>1128</th>\n",
       "      <td>Test_Engine_010</td>\n",
       "      <td>148</td>\n",
       "      <td>0.984590</td>\n",
       "      <td>33.892175</td>\n",
       "      <td>123.334834</td>\n",
       "      <td>35.270457</td>\n",
       "    </tr>\n",
       "    <tr>\n",
       "      <th>1209</th>\n",
       "      <td>Test_Engine_011</td>\n",
       "      <td>80</td>\n",
       "      <td>0.560226</td>\n",
       "      <td>79.762037</td>\n",
       "      <td>141.964228</td>\n",
       "      <td>107.116958</td>\n",
       "    </tr>\n",
       "    <tr>\n",
       "      <th>1259</th>\n",
       "      <td>Test_Engine_012</td>\n",
       "      <td>49</td>\n",
       "      <td>0.179940</td>\n",
       "      <td>88.848810</td>\n",
       "      <td>132.447529</td>\n",
       "      <td>124.602394</td>\n",
       "    </tr>\n",
       "    <tr>\n",
       "      <th>1443</th>\n",
       "      <td>Test_Engine_013</td>\n",
       "      <td>183</td>\n",
       "      <td>0.979248</td>\n",
       "      <td>9.126228</td>\n",
       "      <td>116.430409</td>\n",
       "      <td>11.353047</td>\n",
       "    </tr>\n",
       "    <tr>\n",
       "      <th>1498</th>\n",
       "      <td>Test_Engine_014</td>\n",
       "      <td>54</td>\n",
       "      <td>0.036339</td>\n",
       "      <td>92.151298</td>\n",
       "      <td>143.504698</td>\n",
       "      <td>141.638570</td>\n",
       "    </tr>\n",
       "    <tr>\n",
       "      <th>1598</th>\n",
       "      <td>Test_Engine_015</td>\n",
       "      <td>99</td>\n",
       "      <td>0.876451</td>\n",
       "      <td>74.568294</td>\n",
       "      <td>129.639293</td>\n",
       "      <td>81.372238</td>\n",
       "    </tr>\n",
       "    <tr>\n",
       "      <th>1671</th>\n",
       "      <td>Test_Engine_016</td>\n",
       "      <td>72</td>\n",
       "      <td>0.046584</td>\n",
       "      <td>91.724117</td>\n",
       "      <td>153.820432</td>\n",
       "      <td>150.927759</td>\n",
       "    </tr>\n",
       "    <tr>\n",
       "      <th>1826</th>\n",
       "      <td>Test_Engine_017</td>\n",
       "      <td>154</td>\n",
       "      <td>0.976684</td>\n",
       "      <td>7.110651</td>\n",
       "      <td>121.050573</td>\n",
       "      <td>9.767288</td>\n",
       "    </tr>\n",
       "    <tr>\n",
       "      <th>1984</th>\n",
       "      <td>Test_Engine_018</td>\n",
       "      <td>157</td>\n",
       "      <td>0.469103</td>\n",
       "      <td>80.726205</td>\n",
       "      <td>136.028228</td>\n",
       "      <td>110.085864</td>\n",
       "    </tr>\n",
       "    <tr>\n",
       "      <th>2131</th>\n",
       "      <td>Test_Engine_019</td>\n",
       "      <td>146</td>\n",
       "      <td>0.833811</td>\n",
       "      <td>77.826762</td>\n",
       "      <td>143.919894</td>\n",
       "      <td>88.810687</td>\n",
       "    </tr>\n",
       "    <tr>\n",
       "      <th>2313</th>\n",
       "      <td>Test_Engine_020</td>\n",
       "      <td>181</td>\n",
       "      <td>0.978831</td>\n",
       "      <td>6.587029</td>\n",
       "      <td>122.197155</td>\n",
       "      <td>9.034419</td>\n",
       "    </tr>\n",
       "    <tr>\n",
       "      <th>2477</th>\n",
       "      <td>Test_Engine_021</td>\n",
       "      <td>163</td>\n",
       "      <td>0.979204</td>\n",
       "      <td>11.665469</td>\n",
       "      <td>121.300209</td>\n",
       "      <td>13.945466</td>\n",
       "    </tr>\n",
       "    <tr>\n",
       "      <th>2657</th>\n",
       "      <td>Test_Engine_022</td>\n",
       "      <td>179</td>\n",
       "      <td>0.979226</td>\n",
       "      <td>8.953699</td>\n",
       "      <td>119.367050</td>\n",
       "      <td>11.247417</td>\n",
       "    </tr>\n",
       "    <tr>\n",
       "      <th>2823</th>\n",
       "      <td>Test_Engine_023</td>\n",
       "      <td>165</td>\n",
       "      <td>0.942192</td>\n",
       "      <td>70.502520</td>\n",
       "      <td>120.405092</td>\n",
       "      <td>73.387295</td>\n",
       "    </tr>\n",
       "    <tr>\n",
       "      <th>2988</th>\n",
       "      <td>Test_Engine_024</td>\n",
       "      <td>164</td>\n",
       "      <td>0.335040</td>\n",
       "      <td>86.554358</td>\n",
       "      <td>148.464546</td>\n",
       "      <td>127.722180</td>\n",
       "    </tr>\n",
       "    <tr>\n",
       "      <th>3063</th>\n",
       "      <td>Test_Engine_025</td>\n",
       "      <td>74</td>\n",
       "      <td>0.510195</td>\n",
       "      <td>84.460512</td>\n",
       "      <td>137.804673</td>\n",
       "      <td>110.588724</td>\n",
       "    </tr>\n",
       "    <tr>\n",
       "      <th>3159</th>\n",
       "      <td>Test_Engine_026</td>\n",
       "      <td>95</td>\n",
       "      <td>0.767747</td>\n",
       "      <td>82.561241</td>\n",
       "      <td>136.443490</td>\n",
       "      <td>95.075545</td>\n",
       "    </tr>\n",
       "    <tr>\n",
       "      <th>3324</th>\n",
       "      <td>Test_Engine_027</td>\n",
       "      <td>164</td>\n",
       "      <td>0.981773</td>\n",
       "      <td>46.628983</td>\n",
       "      <td>122.276439</td>\n",
       "      <td>48.007842</td>\n",
       "    </tr>\n",
       "    <tr>\n",
       "      <th>3487</th>\n",
       "      <td>Test_Engine_028</td>\n",
       "      <td>162</td>\n",
       "      <td>0.896255</td>\n",
       "      <td>71.945880</td>\n",
       "      <td>117.985898</td>\n",
       "      <td>76.722315</td>\n",
       "    </tr>\n",
       "    <tr>\n",
       "      <th>3749</th>\n",
       "      <td>Test_Engine_029</td>\n",
       "      <td>261</td>\n",
       "      <td>0.935927</td>\n",
       "      <td>75.286775</td>\n",
       "      <td>123.664310</td>\n",
       "      <td>78.386482</td>\n",
       "    </tr>\n",
       "    <tr>\n",
       "      <th>3949</th>\n",
       "      <td>Test_Engine_030</td>\n",
       "      <td>199</td>\n",
       "      <td>0.979300</td>\n",
       "      <td>3.914979</td>\n",
       "      <td>118.014838</td>\n",
       "      <td>6.276879</td>\n",
       "    </tr>\n",
       "    <tr>\n",
       "      <th>...</th>\n",
       "      <td>...</td>\n",
       "      <td>...</td>\n",
       "      <td>...</td>\n",
       "      <td>...</td>\n",
       "      <td>...</td>\n",
       "      <td>...</td>\n",
       "    </tr>\n",
       "    <tr>\n",
       "      <th>9007</th>\n",
       "      <td>Test_Engine_071</td>\n",
       "      <td>134</td>\n",
       "      <td>0.933115</td>\n",
       "      <td>60.277156</td>\n",
       "      <td>132.635766</td>\n",
       "      <td>65.116891</td>\n",
       "    </tr>\n",
       "    <tr>\n",
       "      <th>9374</th>\n",
       "      <td>Test_Engine_072</td>\n",
       "      <td>366</td>\n",
       "      <td>0.986240</td>\n",
       "      <td>5.510850</td>\n",
       "      <td>120.457689</td>\n",
       "      <td>7.092509</td>\n",
       "    </tr>\n",
       "    <tr>\n",
       "      <th>9522</th>\n",
       "      <td>Test_Engine_073</td>\n",
       "      <td>147</td>\n",
       "      <td>0.979318</td>\n",
       "      <td>16.492272</td>\n",
       "      <td>120.958929</td>\n",
       "      <td>18.652863</td>\n",
       "    </tr>\n",
       "    <tr>\n",
       "      <th>9771</th>\n",
       "      <td>Test_Engine_074</td>\n",
       "      <td>248</td>\n",
       "      <td>0.957962</td>\n",
       "      <td>5.150177</td>\n",
       "      <td>118.936856</td>\n",
       "      <td>9.933572</td>\n",
       "    </tr>\n",
       "    <tr>\n",
       "      <th>9912</th>\n",
       "      <td>Test_Engine_075</td>\n",
       "      <td>140</td>\n",
       "      <td>0.325388</td>\n",
       "      <td>88.910027</td>\n",
       "      <td>125.360160</td>\n",
       "      <td>113.499724</td>\n",
       "    </tr>\n",
       "    <tr>\n",
       "      <th>9935</th>\n",
       "      <td>Test_Engine_076</td>\n",
       "      <td>22</td>\n",
       "      <td>0.024110</td>\n",
       "      <td>93.548320</td>\n",
       "      <td>177.008295</td>\n",
       "      <td>174.996078</td>\n",
       "    </tr>\n",
       "    <tr>\n",
       "      <th>10023</th>\n",
       "      <td>Test_Engine_077</td>\n",
       "      <td>87</td>\n",
       "      <td>0.484470</td>\n",
       "      <td>81.346832</td>\n",
       "      <td>134.832186</td>\n",
       "      <td>108.920144</td>\n",
       "    </tr>\n",
       "    <tr>\n",
       "      <th>10147</th>\n",
       "      <td>Test_Engine_078</td>\n",
       "      <td>123</td>\n",
       "      <td>0.954911</td>\n",
       "      <td>59.556282</td>\n",
       "      <td>122.305086</td>\n",
       "      <td>62.385594</td>\n",
       "    </tr>\n",
       "    <tr>\n",
       "      <th>10218</th>\n",
       "      <td>Test_Engine_079</td>\n",
       "      <td>70</td>\n",
       "      <td>0.148955</td>\n",
       "      <td>86.191018</td>\n",
       "      <td>142.777755</td>\n",
       "      <td>134.348892</td>\n",
       "    </tr>\n",
       "    <tr>\n",
       "      <th>10379</th>\n",
       "      <td>Test_Engine_080</td>\n",
       "      <td>160</td>\n",
       "      <td>0.985086</td>\n",
       "      <td>8.525527</td>\n",
       "      <td>112.279073</td>\n",
       "      <td>10.072879</td>\n",
       "    </tr>\n",
       "    <tr>\n",
       "      <th>10685</th>\n",
       "      <td>Test_Engine_081</td>\n",
       "      <td>305</td>\n",
       "      <td>0.955599</td>\n",
       "      <td>56.870456</td>\n",
       "      <td>118.535729</td>\n",
       "      <td>59.608448</td>\n",
       "    </tr>\n",
       "    <tr>\n",
       "      <th>10740</th>\n",
       "      <td>Test_Engine_082</td>\n",
       "      <td>54</td>\n",
       "      <td>0.195214</td>\n",
       "      <td>90.292697</td>\n",
       "      <td>156.100967</td>\n",
       "      <td>143.254252</td>\n",
       "    </tr>\n",
       "    <tr>\n",
       "      <th>10914</th>\n",
       "      <td>Test_Engine_083</td>\n",
       "      <td>173</td>\n",
       "      <td>0.982817</td>\n",
       "      <td>34.899202</td>\n",
       "      <td>115.614571</td>\n",
       "      <td>36.286106</td>\n",
       "    </tr>\n",
       "    <tr>\n",
       "      <th>10966</th>\n",
       "      <td>Test_Engine_084</td>\n",
       "      <td>51</td>\n",
       "      <td>0.050528</td>\n",
       "      <td>88.129135</td>\n",
       "      <td>184.945518</td>\n",
       "      <td>180.053602</td>\n",
       "    </tr>\n",
       "    <tr>\n",
       "      <th>11089</th>\n",
       "      <td>Test_Engine_085</td>\n",
       "      <td>122</td>\n",
       "      <td>0.896947</td>\n",
       "      <td>75.467393</td>\n",
       "      <td>129.766010</td>\n",
       "      <td>81.063050</td>\n",
       "    </tr>\n",
       "    <tr>\n",
       "      <th>11307</th>\n",
       "      <td>Test_Engine_086</td>\n",
       "      <td>217</td>\n",
       "      <td>0.960565</td>\n",
       "      <td>61.297392</td>\n",
       "      <td>128.119943</td>\n",
       "      <td>63.932525</td>\n",
       "    </tr>\n",
       "    <tr>\n",
       "      <th>11450</th>\n",
       "      <td>Test_Engine_087</td>\n",
       "      <td>142</td>\n",
       "      <td>0.983696</td>\n",
       "      <td>50.134362</td>\n",
       "      <td>120.115011</td>\n",
       "      <td>51.275312</td>\n",
       "    </tr>\n",
       "    <tr>\n",
       "      <th>11589</th>\n",
       "      <td>Test_Engine_088</td>\n",
       "      <td>138</td>\n",
       "      <td>0.984732</td>\n",
       "      <td>31.842485</td>\n",
       "      <td>114.548627</td>\n",
       "      <td>33.105284</td>\n",
       "    </tr>\n",
       "    <tr>\n",
       "      <th>11730</th>\n",
       "      <td>Test_Engine_089</td>\n",
       "      <td>140</td>\n",
       "      <td>0.273274</td>\n",
       "      <td>91.514045</td>\n",
       "      <td>135.674397</td>\n",
       "      <td>123.606505</td>\n",
       "    </tr>\n",
       "    <tr>\n",
       "      <th>11840</th>\n",
       "      <td>Test_Engine_090</td>\n",
       "      <td>109</td>\n",
       "      <td>0.531932</td>\n",
       "      <td>84.636244</td>\n",
       "      <td>143.951869</td>\n",
       "      <td>112.399989</td>\n",
       "    </tr>\n",
       "    <tr>\n",
       "      <th>11918</th>\n",
       "      <td>Test_Engine_091</td>\n",
       "      <td>77</td>\n",
       "      <td>0.223047</td>\n",
       "      <td>90.145572</td>\n",
       "      <td>144.238634</td>\n",
       "      <td>132.173354</td>\n",
       "    </tr>\n",
       "    <tr>\n",
       "      <th>11994</th>\n",
       "      <td>Test_Engine_092</td>\n",
       "      <td>75</td>\n",
       "      <td>0.274332</td>\n",
       "      <td>89.882948</td>\n",
       "      <td>140.645879</td>\n",
       "      <td>126.720005</td>\n",
       "    </tr>\n",
       "    <tr>\n",
       "      <th>12093</th>\n",
       "      <td>Test_Engine_093</td>\n",
       "      <td>98</td>\n",
       "      <td>0.727946</td>\n",
       "      <td>81.465682</td>\n",
       "      <td>144.213552</td>\n",
       "      <td>98.536479</td>\n",
       "    </tr>\n",
       "    <tr>\n",
       "      <th>12242</th>\n",
       "      <td>Test_Engine_094</td>\n",
       "      <td>148</td>\n",
       "      <td>0.958420</td>\n",
       "      <td>26.950406</td>\n",
       "      <td>116.504981</td>\n",
       "      <td>30.674071</td>\n",
       "    </tr>\n",
       "    <tr>\n",
       "      <th>12273</th>\n",
       "      <td>Test_Engine_095</td>\n",
       "      <td>30</td>\n",
       "      <td>0.064692</td>\n",
       "      <td>87.201577</td>\n",
       "      <td>144.954207</td>\n",
       "      <td>141.218049</td>\n",
       "    </tr>\n",
       "    <tr>\n",
       "      <th>12443</th>\n",
       "      <td>Test_Engine_096</td>\n",
       "      <td>169</td>\n",
       "      <td>0.988396</td>\n",
       "      <td>11.003914</td>\n",
       "      <td>119.221819</td>\n",
       "      <td>12.259652</td>\n",
       "    </tr>\n",
       "    <tr>\n",
       "      <th>12552</th>\n",
       "      <td>Test_Engine_097</td>\n",
       "      <td>108</td>\n",
       "      <td>0.623797</td>\n",
       "      <td>82.382394</td>\n",
       "      <td>136.763828</td>\n",
       "      <td>102.840866</td>\n",
       "    </tr>\n",
       "    <tr>\n",
       "      <th>12689</th>\n",
       "      <td>Test_Engine_098</td>\n",
       "      <td>136</td>\n",
       "      <td>0.979060</td>\n",
       "      <td>23.484674</td>\n",
       "      <td>121.198010</td>\n",
       "      <td>25.530779</td>\n",
       "    </tr>\n",
       "    <tr>\n",
       "      <th>12795</th>\n",
       "      <td>Test_Engine_099</td>\n",
       "      <td>105</td>\n",
       "      <td>0.474273</td>\n",
       "      <td>81.433478</td>\n",
       "      <td>147.763677</td>\n",
       "      <td>116.305046</td>\n",
       "    </tr>\n",
       "    <tr>\n",
       "      <th>12816</th>\n",
       "      <td>Test_Engine_100</td>\n",
       "      <td>20</td>\n",
       "      <td>0.022922</td>\n",
       "      <td>93.315120</td>\n",
       "      <td>178.271779</td>\n",
       "      <td>176.324394</td>\n",
       "    </tr>\n",
       "  </tbody>\n",
       "</table>\n",
       "<p>100 rows × 6 columns</p>\n",
       "</div>"
      ],
      "text/plain": [
       "              EngineID  EngineIndex  pre_border  pre_lifespan_under100  \\\n",
       "57     Test_Engine_001           57    0.312675              87.618897   \n",
       "253    Test_Engine_002          195    0.988220              30.443045   \n",
       "378    Test_Engine_003          124    0.200450              87.296893   \n",
       "428    Test_Engine_004           49    0.040425              90.833110   \n",
       "591    Test_Engine_005          162    0.979256               6.161653   \n",
       "654    Test_Engine_006           62    0.395704              85.171224   \n",
       "825    Test_Engine_007          170    0.958761               5.836303   \n",
       "893    Test_Engine_008           67    0.037433              92.234076   \n",
       "979    Test_Engine_009           85    0.933256              60.897981   \n",
       "1128   Test_Engine_010          148    0.984590              33.892175   \n",
       "1209   Test_Engine_011           80    0.560226              79.762037   \n",
       "1259   Test_Engine_012           49    0.179940              88.848810   \n",
       "1443   Test_Engine_013          183    0.979248               9.126228   \n",
       "1498   Test_Engine_014           54    0.036339              92.151298   \n",
       "1598   Test_Engine_015           99    0.876451              74.568294   \n",
       "1671   Test_Engine_016           72    0.046584              91.724117   \n",
       "1826   Test_Engine_017          154    0.976684               7.110651   \n",
       "1984   Test_Engine_018          157    0.469103              80.726205   \n",
       "2131   Test_Engine_019          146    0.833811              77.826762   \n",
       "2313   Test_Engine_020          181    0.978831               6.587029   \n",
       "2477   Test_Engine_021          163    0.979204              11.665469   \n",
       "2657   Test_Engine_022          179    0.979226               8.953699   \n",
       "2823   Test_Engine_023          165    0.942192              70.502520   \n",
       "2988   Test_Engine_024          164    0.335040              86.554358   \n",
       "3063   Test_Engine_025           74    0.510195              84.460512   \n",
       "3159   Test_Engine_026           95    0.767747              82.561241   \n",
       "3324   Test_Engine_027          164    0.981773              46.628983   \n",
       "3487   Test_Engine_028          162    0.896255              71.945880   \n",
       "3749   Test_Engine_029          261    0.935927              75.286775   \n",
       "3949   Test_Engine_030          199    0.979300               3.914979   \n",
       "...                ...          ...         ...                    ...   \n",
       "9007   Test_Engine_071          134    0.933115              60.277156   \n",
       "9374   Test_Engine_072          366    0.986240               5.510850   \n",
       "9522   Test_Engine_073          147    0.979318              16.492272   \n",
       "9771   Test_Engine_074          248    0.957962               5.150177   \n",
       "9912   Test_Engine_075          140    0.325388              88.910027   \n",
       "9935   Test_Engine_076           22    0.024110              93.548320   \n",
       "10023  Test_Engine_077           87    0.484470              81.346832   \n",
       "10147  Test_Engine_078          123    0.954911              59.556282   \n",
       "10218  Test_Engine_079           70    0.148955              86.191018   \n",
       "10379  Test_Engine_080          160    0.985086               8.525527   \n",
       "10685  Test_Engine_081          305    0.955599              56.870456   \n",
       "10740  Test_Engine_082           54    0.195214              90.292697   \n",
       "10914  Test_Engine_083          173    0.982817              34.899202   \n",
       "10966  Test_Engine_084           51    0.050528              88.129135   \n",
       "11089  Test_Engine_085          122    0.896947              75.467393   \n",
       "11307  Test_Engine_086          217    0.960565              61.297392   \n",
       "11450  Test_Engine_087          142    0.983696              50.134362   \n",
       "11589  Test_Engine_088          138    0.984732              31.842485   \n",
       "11730  Test_Engine_089          140    0.273274              91.514045   \n",
       "11840  Test_Engine_090          109    0.531932              84.636244   \n",
       "11918  Test_Engine_091           77    0.223047              90.145572   \n",
       "11994  Test_Engine_092           75    0.274332              89.882948   \n",
       "12093  Test_Engine_093           98    0.727946              81.465682   \n",
       "12242  Test_Engine_094          148    0.958420              26.950406   \n",
       "12273  Test_Engine_095           30    0.064692              87.201577   \n",
       "12443  Test_Engine_096          169    0.988396              11.003914   \n",
       "12552  Test_Engine_097          108    0.623797              82.382394   \n",
       "12689  Test_Engine_098          136    0.979060              23.484674   \n",
       "12795  Test_Engine_099          105    0.474273              81.433478   \n",
       "12816  Test_Engine_100           20    0.022922              93.315120   \n",
       "\n",
       "       pre_lifespan_over100  Predicted RUL  \n",
       "57               139.653326     123.383454  \n",
       "253              121.097204      31.510975  \n",
       "378              144.548390     133.072310  \n",
       "428              172.321886     169.027735  \n",
       "591              124.832794       8.623388  \n",
       "654              136.619731     116.261355  \n",
       "825              120.225824      10.553555  \n",
       "893              146.519117     144.487082  \n",
       "979              121.303229      64.929652  \n",
       "1128             123.334834      35.270457  \n",
       "1209             141.964228     107.116958  \n",
       "1259             132.447529     124.602394  \n",
       "1443             116.430409      11.353047  \n",
       "1498             143.504698     141.638570  \n",
       "1598             129.639293      81.372238  \n",
       "1671             153.820432     150.927759  \n",
       "1826             121.050573       9.767288  \n",
       "1984             136.028228     110.085864  \n",
       "2131             143.919894      88.810687  \n",
       "2313             122.197155       9.034419  \n",
       "2477             121.300209      13.945466  \n",
       "2657             119.367050      11.247417  \n",
       "2823             120.405092      73.387295  \n",
       "2988             148.464546     127.722180  \n",
       "3063             137.804673     110.588724  \n",
       "3159             136.443490      95.075545  \n",
       "3324             122.276439      48.007842  \n",
       "3487             117.985898      76.722315  \n",
       "3749             123.664310      78.386482  \n",
       "3949             118.014838       6.276879  \n",
       "...                     ...            ...  \n",
       "9007             132.635766      65.116891  \n",
       "9374             120.457689       7.092509  \n",
       "9522             120.958929      18.652863  \n",
       "9771             118.936856       9.933572  \n",
       "9912             125.360160     113.499724  \n",
       "9935             177.008295     174.996078  \n",
       "10023            134.832186     108.920144  \n",
       "10147            122.305086      62.385594  \n",
       "10218            142.777755     134.348892  \n",
       "10379            112.279073      10.072879  \n",
       "10685            118.535729      59.608448  \n",
       "10740            156.100967     143.254252  \n",
       "10914            115.614571      36.286106  \n",
       "10966            184.945518     180.053602  \n",
       "11089            129.766010      81.063050  \n",
       "11307            128.119943      63.932525  \n",
       "11450            120.115011      51.275312  \n",
       "11589            114.548627      33.105284  \n",
       "11730            135.674397     123.606505  \n",
       "11840            143.951869     112.399989  \n",
       "11918            144.238634     132.173354  \n",
       "11994            140.645879     126.720005  \n",
       "12093            144.213552      98.536479  \n",
       "12242            116.504981      30.674071  \n",
       "12273            144.954207     141.218049  \n",
       "12443            119.221819      12.259652  \n",
       "12552            136.763828     102.840866  \n",
       "12689            121.198010      25.530779  \n",
       "12795            147.763677     116.305046  \n",
       "12816            178.271779     176.324394  \n",
       "\n",
       "[100 rows x 6 columns]"
      ]
     },
     "execution_count": 72,
     "metadata": {},
     "output_type": "execute_result"
    }
   ],
   "source": [
    "sub_df"
   ]
  },
  {
   "cell_type": "code",
   "execution_count": null,
   "metadata": {},
   "outputs": [],
   "source": []
  }
 ],
 "metadata": {
  "kernelspec": {
   "display_name": "Python 3",
   "language": "python",
   "name": "python3"
  },
  "language_info": {
   "codemirror_mode": {
    "name": "ipython",
    "version": 3
   },
   "file_extension": ".py",
   "mimetype": "text/x-python",
   "name": "python",
   "nbconvert_exporter": "python",
   "pygments_lexer": "ipython3",
   "version": "3.7.1"
  }
 },
 "nbformat": 4,
 "nbformat_minor": 2
}
