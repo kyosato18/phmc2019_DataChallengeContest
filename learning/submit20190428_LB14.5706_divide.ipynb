{
 "cells": [
  {
   "cell_type": "code",
   "execution_count": 1,
   "metadata": {},
   "outputs": [],
   "source": [
    "import pandas as pd\n",
    "import glob\n",
    "import time\n",
    "import numpy as np\n",
    "import lightgbm as lgb\n",
    "from sklearn.model_selection import KFold\n",
    "from sklearn.metrics import mean_absolute_error\n",
    "import seaborn as sns\n",
    "import matplotlib.pyplot as plt\n",
    "from tqdm import tqdm\n",
    "from datetime import datetime\n",
    "import matplotlib.pyplot as plt\n",
    "from sklearn import metrics"
   ]
  },
  {
   "cell_type": "markdown",
   "metadata": {},
   "source": [
    "- 入力データが、寿命100未満か100以上かを二値分類(出力A)\n",
    "- 寿命が100未満と100以上を別々に学習(出力B, C)\n",
    "- 出力B, C をAで重みをつけて、スコアとする"
   ]
  },
  {
   "cell_type": "code",
   "execution_count": 2,
   "metadata": {},
   "outputs": [
    {
     "name": "stdout",
     "output_type": "stream",
     "text": [
      "../features/train__200__important_columns.pkl\n",
      "../features/train__201__rolling_mean_per_FlightRegime.pkl\n",
      "../features/train__004__cumsum_per_FlightRegime.pkl\n",
      "../features/train__005__count_FlightRegime.pkl\n"
     ]
    }
   ],
   "source": [
    "df_train = pd.DataFrame()\n",
    "train_features_path = ['../features/train__200__important_columns.pkl',\n",
    "                       '../features/train__201__rolling_mean_per_FlightRegime.pkl',\n",
    "                       '../features/train__004__cumsum_per_FlightRegime.pkl',\n",
    "                       '../features/train__005__count_FlightRegime.pkl'\n",
    "                       ]\n",
    "for file_path in train_features_path:\n",
    "    print(file_path)\n",
    "    df_tmp = pd.read_pickle(file_path)\n",
    "    df_train = pd.concat([df_train, df_tmp], axis=1)"
   ]
  },
  {
   "cell_type": "code",
   "execution_count": 3,
   "metadata": {},
   "outputs": [],
   "source": [
    "df_test = pd.DataFrame()\n",
    "test_features_path = ['../features/test__200__important_columns.pkl',\n",
    "                       '../features/test__201__rolling_mean_per_FlightRegime.pkl',\n",
    "                       '../features/test__004__cumsum_per_FlightRegime.pkl',\n",
    "                       '../features/test__005__count_FlightRegime.pkl'\n",
    "                       ]\n",
    "for file_path in test_features_path:\n",
    "    df_tmp = pd.read_pickle(file_path)\n",
    "    df_test = pd.concat([df_test, df_tmp], axis=1)"
   ]
  },
  {
   "cell_type": "code",
   "execution_count": 4,
   "metadata": {},
   "outputs": [],
   "source": [
    "target = pd.read_pickle('../features/target__000__raw_data.pkl')"
   ]
  },
  {
   "cell_type": "code",
   "execution_count": 5,
   "metadata": {},
   "outputs": [],
   "source": [
    "Engine_list_sort_by_length = list(df_train.EngineID.value_counts().index)\n",
    "folds_EngineID = []\n",
    "folds_EngineID.append(Engine_list_sort_by_length[0::10])\n",
    "folds_EngineID.append(Engine_list_sort_by_length[1::10])\n",
    "folds_EngineID.append(Engine_list_sort_by_length[2::10])\n",
    "folds_EngineID.append(Engine_list_sort_by_length[3::10])\n",
    "folds_EngineID.append(Engine_list_sort_by_length[4::10])\n",
    "folds_EngineID.append(Engine_list_sort_by_length[5::10])\n",
    "folds_EngineID.append(Engine_list_sort_by_length[6::10])\n",
    "folds_EngineID.append(Engine_list_sort_by_length[7::10])\n",
    "folds_EngineID.append(Engine_list_sort_by_length[8::10])\n",
    "folds_EngineID.append(Engine_list_sort_by_length[9::10])"
   ]
  },
  {
   "cell_type": "code",
   "execution_count": 6,
   "metadata": {},
   "outputs": [],
   "source": [
    "test_lastidx = df_test.groupby('EngineID').count().iloc[:, 0].values - 1\n",
    "test_lastidx = list(test_lastidx)"
   ]
  },
  {
   "cell_type": "code",
   "execution_count": 7,
   "metadata": {},
   "outputs": [
    {
     "name": "stdout",
     "output_type": "stream",
     "text": [
      "0\n",
      "1\n",
      "2\n",
      "3\n",
      "4\n",
      "5\n",
      "6\n",
      "7\n",
      "8\n",
      "9\n"
     ]
    }
   ],
   "source": [
    "train_idx = []\n",
    "for i in range(10):\n",
    "    print(i)\n",
    "    train_lastidx = df_test.groupby('EngineID').count().iloc[:, 0].values - i\n",
    "    train_idx.extend(list(train_lastidx))\n",
    "    train_lastidx = df_test.groupby('EngineID').count().iloc[:, 0].values + i\n",
    "    train_idx.extend(list(train_lastidx))\n",
    "train_idx = set(train_idx)"
   ]
  },
  {
   "cell_type": "code",
   "execution_count": 8,
   "metadata": {},
   "outputs": [],
   "source": [
    "oof = df_train[['EngineID', 'EngineIndex', 'Flight Regime']]\n",
    "oof = pd.concat([oof, target[['lifespan']]], axis=1)\n",
    "oof['pre_start'] = np.nan\n",
    "oof['pre_end'] = np.nan\n",
    "oof['pre_border'] = np.nan\n",
    "oof['pre_all'] = np.nan\n",
    "oof = oof[oof['EngineIndex'].isin(test_lastidx)]"
   ]
  },
  {
   "cell_type": "code",
   "execution_count": 9,
   "metadata": {},
   "outputs": [
    {
     "data": {
      "text/html": [
       "<div>\n",
       "<style scoped>\n",
       "    .dataframe tbody tr th:only-of-type {\n",
       "        vertical-align: middle;\n",
       "    }\n",
       "\n",
       "    .dataframe tbody tr th {\n",
       "        vertical-align: top;\n",
       "    }\n",
       "\n",
       "    .dataframe thead th {\n",
       "        text-align: right;\n",
       "    }\n",
       "</style>\n",
       "<table border=\"1\" class=\"dataframe\">\n",
       "  <thead>\n",
       "    <tr style=\"text-align: right;\">\n",
       "      <th></th>\n",
       "      <th>EngineID</th>\n",
       "      <th>EngineIndex</th>\n",
       "      <th>Flight Regime</th>\n",
       "      <th>lifespan</th>\n",
       "      <th>pre_start</th>\n",
       "      <th>pre_end</th>\n",
       "      <th>pre_border</th>\n",
       "      <th>pre_all</th>\n",
       "    </tr>\n",
       "  </thead>\n",
       "  <tbody>\n",
       "    <tr>\n",
       "      <th>20</th>\n",
       "      <td>Train_Engine_001</td>\n",
       "      <td>20</td>\n",
       "      <td>6</td>\n",
       "      <td>128</td>\n",
       "      <td>NaN</td>\n",
       "      <td>NaN</td>\n",
       "      <td>NaN</td>\n",
       "      <td>NaN</td>\n",
       "    </tr>\n",
       "    <tr>\n",
       "      <th>21</th>\n",
       "      <td>Train_Engine_001</td>\n",
       "      <td>21</td>\n",
       "      <td>6</td>\n",
       "      <td>127</td>\n",
       "      <td>NaN</td>\n",
       "      <td>NaN</td>\n",
       "      <td>NaN</td>\n",
       "      <td>NaN</td>\n",
       "    </tr>\n",
       "    <tr>\n",
       "      <th>22</th>\n",
       "      <td>Train_Engine_001</td>\n",
       "      <td>22</td>\n",
       "      <td>6</td>\n",
       "      <td>126</td>\n",
       "      <td>NaN</td>\n",
       "      <td>NaN</td>\n",
       "      <td>NaN</td>\n",
       "      <td>NaN</td>\n",
       "    </tr>\n",
       "    <tr>\n",
       "      <th>30</th>\n",
       "      <td>Train_Engine_001</td>\n",
       "      <td>30</td>\n",
       "      <td>2</td>\n",
       "      <td>118</td>\n",
       "      <td>NaN</td>\n",
       "      <td>NaN</td>\n",
       "      <td>NaN</td>\n",
       "      <td>NaN</td>\n",
       "    </tr>\n",
       "    <tr>\n",
       "      <th>42</th>\n",
       "      <td>Train_Engine_001</td>\n",
       "      <td>42</td>\n",
       "      <td>6</td>\n",
       "      <td>106</td>\n",
       "      <td>NaN</td>\n",
       "      <td>NaN</td>\n",
       "      <td>NaN</td>\n",
       "      <td>NaN</td>\n",
       "    </tr>\n",
       "  </tbody>\n",
       "</table>\n",
       "</div>"
      ],
      "text/plain": [
       "            EngineID  EngineIndex  Flight Regime  lifespan  pre_start  \\\n",
       "20  Train_Engine_001           20              6       128        NaN   \n",
       "21  Train_Engine_001           21              6       127        NaN   \n",
       "22  Train_Engine_001           22              6       126        NaN   \n",
       "30  Train_Engine_001           30              2       118        NaN   \n",
       "42  Train_Engine_001           42              6       106        NaN   \n",
       "\n",
       "    pre_end  pre_border  pre_all  \n",
       "20      NaN         NaN      NaN  \n",
       "21      NaN         NaN      NaN  \n",
       "22      NaN         NaN      NaN  \n",
       "30      NaN         NaN      NaN  \n",
       "42      NaN         NaN      NaN  "
      ]
     },
     "execution_count": 9,
     "metadata": {},
     "output_type": "execute_result"
    }
   ],
   "source": [
    "oof.head()"
   ]
  },
  {
   "cell_type": "markdown",
   "metadata": {},
   "source": [
    "----------- lifespan が100以上 or 100未満を学習-----------  \n",
    "100以上:0, 100未満:1"
   ]
  },
  {
   "cell_type": "code",
   "execution_count": 10,
   "metadata": {},
   "outputs": [],
   "source": [
    "target_border = target[['lifespan', 'EngineID', 'EngineIndex', 'Flight Regime']].copy()\n",
    "target_border['target_border'] = np.nan\n",
    "target_border.loc[target_border['lifespan'] >= 100, 'target_border'] = 0\n",
    "target_border.loc[target_border['lifespan'] < 100, 'target_border'] = 1\n",
    "del target_border['lifespan']"
   ]
  },
  {
   "cell_type": "code",
   "execution_count": 11,
   "metadata": {},
   "outputs": [],
   "source": [
    "features = [c for c in df_train.columns if c not in ['Flight Regime', 'EngineID', 'EngineIndex']]\n",
    "categorical_feats = []"
   ]
  },
  {
   "cell_type": "code",
   "execution_count": 12,
   "metadata": {},
   "outputs": [],
   "source": [
    "param_border = {'num_leaves': 200,\n",
    "         'min_data_in_leaf': 60, \n",
    "         'objective':'binary',\n",
    "         'max_depth': -1,\n",
    "         'learning_rate': 0.1,\n",
    "         \"min_child_samples\": 20,\n",
    "         \"boosting\": \"gbdt\",\n",
    "         \"feature_fraction\": 0.8,\n",
    "         \"bagging_freq\": 1,\n",
    "         \"bagging_fraction\": 0.8 ,\n",
    "         \"bagging_seed\": 17,\n",
    "         \"metric\": 'auc',\n",
    "         \"lambda_l1\": 0.1,\n",
    "         \"verbosity\": -1,\n",
    "         \"random_state\": 133,\n",
    "         \"n_jobs\":-1}\n",
    "num_round = 1000\n",
    "predictions = np.zeros(len(df_test))\n",
    "start = time.time()\n",
    "feature_importance_list = []"
   ]
  },
  {
   "cell_type": "code",
   "execution_count": 13,
   "metadata": {},
   "outputs": [
    {
     "name": "stderr",
     "output_type": "stream",
     "text": [
      "\r",
      "  0%|                                                                                            | 0/6 [00:00<?, ?it/s]"
     ]
    },
    {
     "name": "stdout",
     "output_type": "stream",
     "text": [
      "fold n°0\n"
     ]
    },
    {
     "name": "stderr",
     "output_type": "stream",
     "text": [
      "C:\\Users\\linda\\Anaconda3\\lib\\site-packages\\lightgbm\\basic.py:1186: UserWarning: Using categorical_feature in Dataset.\n",
      "  warnings.warn('Using categorical_feature in Dataset.')\n"
     ]
    },
    {
     "name": "stdout",
     "output_type": "stream",
     "text": [
      "Training until validation scores don't improve for 200 rounds.\n",
      "[100]\ttraining's auc: 1\tvalid_1's auc: 0.949373\n",
      "[200]\ttraining's auc: 1\tvalid_1's auc: 0.948415\n",
      "Early stopping, best iteration is:\n",
      "[50]\ttraining's auc: 0.999193\tvalid_1's auc: 0.953779\n",
      "fold n°1\n"
     ]
    },
    {
     "name": "stderr",
     "output_type": "stream",
     "text": [
      "C:\\Users\\linda\\Anaconda3\\lib\\site-packages\\lightgbm\\basic.py:1186: UserWarning: Using categorical_feature in Dataset.\n",
      "  warnings.warn('Using categorical_feature in Dataset.')\n"
     ]
    },
    {
     "name": "stdout",
     "output_type": "stream",
     "text": [
      "Training until validation scores don't improve for 200 rounds.\n",
      "[100]\ttraining's auc: 1\tvalid_1's auc: 0.909397\n",
      "[200]\ttraining's auc: 1\tvalid_1's auc: 0.906467\n",
      "Early stopping, best iteration is:\n",
      "[76]\ttraining's auc: 0.999999\tvalid_1's auc: 0.911892\n",
      "fold n°2\n"
     ]
    },
    {
     "name": "stderr",
     "output_type": "stream",
     "text": [
      "C:\\Users\\linda\\Anaconda3\\lib\\site-packages\\lightgbm\\basic.py:1186: UserWarning: Using categorical_feature in Dataset.\n",
      "  warnings.warn('Using categorical_feature in Dataset.')\n"
     ]
    },
    {
     "name": "stdout",
     "output_type": "stream",
     "text": [
      "Training until validation scores don't improve for 200 rounds.\n",
      "[100]\ttraining's auc: 1\tvalid_1's auc: 0.930644\n",
      "[200]\ttraining's auc: 1\tvalid_1's auc: 0.93646\n",
      "Early stopping, best iteration is:\n",
      "[99]\ttraining's auc: 1\tvalid_1's auc: 0.931018\n",
      "fold n°3\n"
     ]
    },
    {
     "name": "stderr",
     "output_type": "stream",
     "text": [
      "C:\\Users\\linda\\Anaconda3\\lib\\site-packages\\lightgbm\\basic.py:1186: UserWarning: Using categorical_feature in Dataset.\n",
      "  warnings.warn('Using categorical_feature in Dataset.')\n"
     ]
    },
    {
     "name": "stdout",
     "output_type": "stream",
     "text": [
      "Training until validation scores don't improve for 200 rounds.\n",
      "[100]\ttraining's auc: 0.999999\tvalid_1's auc: 0.948794\n",
      "[200]\ttraining's auc: 1\tvalid_1's auc: 0.947876\n",
      "[300]\ttraining's auc: 1\tvalid_1's auc: 0.945408\n",
      "Early stopping, best iteration is:\n",
      "[104]\ttraining's auc: 1\tvalid_1's auc: 0.950287\n",
      "fold n°4\n"
     ]
    },
    {
     "name": "stderr",
     "output_type": "stream",
     "text": [
      "C:\\Users\\linda\\Anaconda3\\lib\\site-packages\\lightgbm\\basic.py:1186: UserWarning: Using categorical_feature in Dataset.\n",
      "  warnings.warn('Using categorical_feature in Dataset.')\n"
     ]
    },
    {
     "name": "stdout",
     "output_type": "stream",
     "text": [
      "Training until validation scores don't improve for 200 rounds.\n",
      "[100]\ttraining's auc: 1\tvalid_1's auc: 0.894284\n",
      "[200]\ttraining's auc: 1\tvalid_1's auc: 0.896039\n",
      "Early stopping, best iteration is:\n",
      "[38]\ttraining's auc: 0.996388\tvalid_1's auc: 0.901415\n",
      "fold n°5\n"
     ]
    },
    {
     "name": "stderr",
     "output_type": "stream",
     "text": [
      "C:\\Users\\linda\\Anaconda3\\lib\\site-packages\\lightgbm\\basic.py:1186: UserWarning: Using categorical_feature in Dataset.\n",
      "  warnings.warn('Using categorical_feature in Dataset.')\n"
     ]
    },
    {
     "name": "stdout",
     "output_type": "stream",
     "text": [
      "Training until validation scores don't improve for 200 rounds.\n",
      "[100]\ttraining's auc: 1\tvalid_1's auc: 0.920497\n",
      "[200]\ttraining's auc: 1\tvalid_1's auc: 0.919947\n",
      "Early stopping, best iteration is:\n",
      "[48]\ttraining's auc: 0.99906\tvalid_1's auc: 0.922559\n",
      "fold n°6\n"
     ]
    },
    {
     "name": "stderr",
     "output_type": "stream",
     "text": [
      "C:\\Users\\linda\\Anaconda3\\lib\\site-packages\\lightgbm\\basic.py:1186: UserWarning: Using categorical_feature in Dataset.\n",
      "  warnings.warn('Using categorical_feature in Dataset.')\n"
     ]
    },
    {
     "name": "stdout",
     "output_type": "stream",
     "text": [
      "Training until validation scores don't improve for 200 rounds.\n",
      "[100]\ttraining's auc: 1\tvalid_1's auc: 0.927422\n",
      "[200]\ttraining's auc: 1\tvalid_1's auc: 0.926388\n",
      "Early stopping, best iteration is:\n",
      "[96]\ttraining's auc: 1\tvalid_1's auc: 0.92633\n",
      "fold n°7\n"
     ]
    },
    {
     "name": "stderr",
     "output_type": "stream",
     "text": [
      "C:\\Users\\linda\\Anaconda3\\lib\\site-packages\\lightgbm\\basic.py:1186: UserWarning: Using categorical_feature in Dataset.\n",
      "  warnings.warn('Using categorical_feature in Dataset.')\n"
     ]
    },
    {
     "name": "stdout",
     "output_type": "stream",
     "text": [
      "Training until validation scores don't improve for 200 rounds.\n",
      "[100]\ttraining's auc: 1\tvalid_1's auc: 0.91273\n",
      "[200]\ttraining's auc: 1\tvalid_1's auc: 0.913692\n",
      "Early stopping, best iteration is:\n",
      "[86]\ttraining's auc: 1\tvalid_1's auc: 0.914353\n",
      "fold n°8\n"
     ]
    },
    {
     "name": "stderr",
     "output_type": "stream",
     "text": [
      "C:\\Users\\linda\\Anaconda3\\lib\\site-packages\\lightgbm\\basic.py:1186: UserWarning: Using categorical_feature in Dataset.\n",
      "  warnings.warn('Using categorical_feature in Dataset.')\n"
     ]
    },
    {
     "name": "stdout",
     "output_type": "stream",
     "text": [
      "Training until validation scores don't improve for 200 rounds.\n",
      "[100]\ttraining's auc: 0.999999\tvalid_1's auc: 0.914318\n",
      "[200]\ttraining's auc: 1\tvalid_1's auc: 0.914573\n",
      "[300]\ttraining's auc: 1\tvalid_1's auc: 0.913194\n",
      "Early stopping, best iteration is:\n",
      "[120]\ttraining's auc: 1\tvalid_1's auc: 0.915441\n",
      "fold n°9\n"
     ]
    },
    {
     "name": "stderr",
     "output_type": "stream",
     "text": [
      "C:\\Users\\linda\\Anaconda3\\lib\\site-packages\\lightgbm\\basic.py:1186: UserWarning: Using categorical_feature in Dataset.\n",
      "  warnings.warn('Using categorical_feature in Dataset.')\n"
     ]
    },
    {
     "name": "stdout",
     "output_type": "stream",
     "text": [
      "Training until validation scores don't improve for 200 rounds.\n",
      "[100]\ttraining's auc: 1\tvalid_1's auc: 0.909977\n",
      "[200]\ttraining's auc: 1\tvalid_1's auc: 0.906677\n",
      "Early stopping, best iteration is:\n",
      "[46]\ttraining's auc: 0.998661\tvalid_1's auc: 0.915979\n"
     ]
    },
    {
     "name": "stderr",
     "output_type": "stream",
     "text": [
      "\r",
      " 17%|██████████████                                                                      | 1/6 [01:35<07:59, 95.93s/it]"
     ]
    },
    {
     "name": "stdout",
     "output_type": "stream",
     "text": [
      "fold n°0\n"
     ]
    },
    {
     "name": "stderr",
     "output_type": "stream",
     "text": [
      "C:\\Users\\linda\\Anaconda3\\lib\\site-packages\\lightgbm\\basic.py:1186: UserWarning: Using categorical_feature in Dataset.\n",
      "  warnings.warn('Using categorical_feature in Dataset.')\n"
     ]
    },
    {
     "name": "stdout",
     "output_type": "stream",
     "text": [
      "Training until validation scores don't improve for 200 rounds.\n",
      "[100]\ttraining's auc: 1\tvalid_1's auc: 0.949241\n",
      "[200]\ttraining's auc: 1\tvalid_1's auc: 0.947542\n",
      "Early stopping, best iteration is:\n",
      "[62]\ttraining's auc: 0.999943\tvalid_1's auc: 0.952888\n",
      "fold n°1\n"
     ]
    },
    {
     "name": "stderr",
     "output_type": "stream",
     "text": [
      "C:\\Users\\linda\\Anaconda3\\lib\\site-packages\\lightgbm\\basic.py:1186: UserWarning: Using categorical_feature in Dataset.\n",
      "  warnings.warn('Using categorical_feature in Dataset.')\n"
     ]
    },
    {
     "name": "stdout",
     "output_type": "stream",
     "text": [
      "Training until validation scores don't improve for 200 rounds.\n",
      "[100]\ttraining's auc: 1\tvalid_1's auc: 0.953275\n",
      "[200]\ttraining's auc: 1\tvalid_1's auc: 0.952282\n",
      "Early stopping, best iteration is:\n",
      "[88]\ttraining's auc: 1\tvalid_1's auc: 0.95114\n",
      "fold n°2\n"
     ]
    },
    {
     "name": "stderr",
     "output_type": "stream",
     "text": [
      "C:\\Users\\linda\\Anaconda3\\lib\\site-packages\\lightgbm\\basic.py:1186: UserWarning: Using categorical_feature in Dataset.\n",
      "  warnings.warn('Using categorical_feature in Dataset.')\n"
     ]
    },
    {
     "name": "stdout",
     "output_type": "stream",
     "text": [
      "Training until validation scores don't improve for 200 rounds.\n",
      "[100]\ttraining's auc: 1\tvalid_1's auc: 0.895362\n",
      "[200]\ttraining's auc: 1\tvalid_1's auc: 0.89508\n",
      "Early stopping, best iteration is:\n",
      "[82]\ttraining's auc: 1\tvalid_1's auc: 0.89463\n",
      "fold n°3\n"
     ]
    },
    {
     "name": "stderr",
     "output_type": "stream",
     "text": [
      "C:\\Users\\linda\\Anaconda3\\lib\\site-packages\\lightgbm\\basic.py:1186: UserWarning: Using categorical_feature in Dataset.\n",
      "  warnings.warn('Using categorical_feature in Dataset.')\n"
     ]
    },
    {
     "name": "stdout",
     "output_type": "stream",
     "text": [
      "Training until validation scores don't improve for 200 rounds.\n",
      "[100]\ttraining's auc: 1\tvalid_1's auc: 0.892391\n",
      "[200]\ttraining's auc: 1\tvalid_1's auc: 0.892965\n",
      "Early stopping, best iteration is:\n",
      "[84]\ttraining's auc: 1\tvalid_1's auc: 0.894583\n",
      "fold n°4\n"
     ]
    },
    {
     "name": "stderr",
     "output_type": "stream",
     "text": [
      "C:\\Users\\linda\\Anaconda3\\lib\\site-packages\\lightgbm\\basic.py:1186: UserWarning: Using categorical_feature in Dataset.\n",
      "  warnings.warn('Using categorical_feature in Dataset.')\n"
     ]
    },
    {
     "name": "stdout",
     "output_type": "stream",
     "text": [
      "Training until validation scores don't improve for 200 rounds.\n",
      "[100]\ttraining's auc: 0.999928\tvalid_1's auc: 0.889885\n",
      "[200]\ttraining's auc: 0.999992\tvalid_1's auc: 0.887845\n",
      "Early stopping, best iteration is:\n",
      "[16]\ttraining's auc: 0.985382\tvalid_1's auc: 0.90422\n",
      "fold n°5\n"
     ]
    },
    {
     "name": "stderr",
     "output_type": "stream",
     "text": [
      "C:\\Users\\linda\\Anaconda3\\lib\\site-packages\\lightgbm\\basic.py:1186: UserWarning: Using categorical_feature in Dataset.\n",
      "  warnings.warn('Using categorical_feature in Dataset.')\n"
     ]
    },
    {
     "name": "stdout",
     "output_type": "stream",
     "text": [
      "Training until validation scores don't improve for 200 rounds.\n",
      "[100]\ttraining's auc: 1\tvalid_1's auc: 0.90016\n",
      "[200]\ttraining's auc: 1\tvalid_1's auc: 0.900837\n",
      "Early stopping, best iteration is:\n",
      "[59]\ttraining's auc: 0.999853\tvalid_1's auc: 0.904035\n",
      "fold n°6\n"
     ]
    },
    {
     "name": "stderr",
     "output_type": "stream",
     "text": [
      "C:\\Users\\linda\\Anaconda3\\lib\\site-packages\\lightgbm\\basic.py:1186: UserWarning: Using categorical_feature in Dataset.\n",
      "  warnings.warn('Using categorical_feature in Dataset.')\n"
     ]
    },
    {
     "name": "stdout",
     "output_type": "stream",
     "text": [
      "Training until validation scores don't improve for 200 rounds.\n",
      "[100]\ttraining's auc: 1\tvalid_1's auc: 0.909694\n",
      "[200]\ttraining's auc: 1\tvalid_1's auc: 0.907256\n",
      "Early stopping, best iteration is:\n",
      "[73]\ttraining's auc: 0.999986\tvalid_1's auc: 0.915476\n",
      "fold n°7\n"
     ]
    },
    {
     "name": "stderr",
     "output_type": "stream",
     "text": [
      "C:\\Users\\linda\\Anaconda3\\lib\\site-packages\\lightgbm\\basic.py:1186: UserWarning: Using categorical_feature in Dataset.\n",
      "  warnings.warn('Using categorical_feature in Dataset.')\n"
     ]
    },
    {
     "name": "stdout",
     "output_type": "stream",
     "text": [
      "Training until validation scores don't improve for 200 rounds.\n",
      "[100]\ttraining's auc: 1\tvalid_1's auc: 0.913635\n",
      "[200]\ttraining's auc: 1\tvalid_1's auc: 0.907036\n",
      "Early stopping, best iteration is:\n",
      "[85]\ttraining's auc: 1\tvalid_1's auc: 0.91819\n",
      "fold n°8\n"
     ]
    },
    {
     "name": "stderr",
     "output_type": "stream",
     "text": [
      "C:\\Users\\linda\\Anaconda3\\lib\\site-packages\\lightgbm\\basic.py:1186: UserWarning: Using categorical_feature in Dataset.\n",
      "  warnings.warn('Using categorical_feature in Dataset.')\n"
     ]
    },
    {
     "name": "stdout",
     "output_type": "stream",
     "text": [
      "Training until validation scores don't improve for 200 rounds.\n",
      "[100]\ttraining's auc: 1\tvalid_1's auc: 0.946572\n",
      "[200]\ttraining's auc: 1\tvalid_1's auc: 0.945059\n",
      "Early stopping, best iteration is:\n",
      "[82]\ttraining's auc: 1\tvalid_1's auc: 0.9418\n",
      "fold n°9\n"
     ]
    },
    {
     "name": "stderr",
     "output_type": "stream",
     "text": [
      "C:\\Users\\linda\\Anaconda3\\lib\\site-packages\\lightgbm\\basic.py:1186: UserWarning: Using categorical_feature in Dataset.\n",
      "  warnings.warn('Using categorical_feature in Dataset.')\n"
     ]
    },
    {
     "name": "stdout",
     "output_type": "stream",
     "text": [
      "Training until validation scores don't improve for 200 rounds.\n",
      "[100]\ttraining's auc: 1\tvalid_1's auc: 0.901507\n",
      "[200]\ttraining's auc: 1\tvalid_1's auc: 0.90579\n",
      "Early stopping, best iteration is:\n",
      "[94]\ttraining's auc: 1\tvalid_1's auc: 0.901222\n"
     ]
    },
    {
     "name": "stderr",
     "output_type": "stream",
     "text": [
      "\r",
      " 33%|████████████████████████████                                                        | 2/6 [03:16<06:29, 97.26s/it]"
     ]
    },
    {
     "name": "stdout",
     "output_type": "stream",
     "text": [
      "fold n°0\n"
     ]
    },
    {
     "name": "stderr",
     "output_type": "stream",
     "text": [
      "C:\\Users\\linda\\Anaconda3\\lib\\site-packages\\lightgbm\\basic.py:1186: UserWarning: Using categorical_feature in Dataset.\n",
      "  warnings.warn('Using categorical_feature in Dataset.')\n"
     ]
    },
    {
     "name": "stdout",
     "output_type": "stream",
     "text": [
      "Training until validation scores don't improve for 200 rounds.\n",
      "[100]\ttraining's auc: 1\tvalid_1's auc: 0.939697\n",
      "[200]\ttraining's auc: 1\tvalid_1's auc: 0.943908\n",
      "Early stopping, best iteration is:\n",
      "[87]\ttraining's auc: 1\tvalid_1's auc: 0.939023\n",
      "fold n°1\n"
     ]
    },
    {
     "name": "stderr",
     "output_type": "stream",
     "text": [
      "C:\\Users\\linda\\Anaconda3\\lib\\site-packages\\lightgbm\\basic.py:1186: UserWarning: Using categorical_feature in Dataset.\n",
      "  warnings.warn('Using categorical_feature in Dataset.')\n"
     ]
    },
    {
     "name": "stdout",
     "output_type": "stream",
     "text": [
      "Training until validation scores don't improve for 200 rounds.\n",
      "[100]\ttraining's auc: 1\tvalid_1's auc: 0.924628\n",
      "[200]\ttraining's auc: 1\tvalid_1's auc: 0.92561\n",
      "Early stopping, best iteration is:\n",
      "[62]\ttraining's auc: 0.999896\tvalid_1's auc: 0.932072\n",
      "fold n°2\n"
     ]
    },
    {
     "name": "stderr",
     "output_type": "stream",
     "text": [
      "C:\\Users\\linda\\Anaconda3\\lib\\site-packages\\lightgbm\\basic.py:1186: UserWarning: Using categorical_feature in Dataset.\n",
      "  warnings.warn('Using categorical_feature in Dataset.')\n"
     ]
    },
    {
     "name": "stdout",
     "output_type": "stream",
     "text": [
      "Training until validation scores don't improve for 200 rounds.\n",
      "[100]\ttraining's auc: 0.999999\tvalid_1's auc: 0.895936\n",
      "[200]\ttraining's auc: 1\tvalid_1's auc: 0.8949\n",
      "Early stopping, best iteration is:\n",
      "[48]\ttraining's auc: 0.999139\tvalid_1's auc: 0.905376\n",
      "fold n°3\n"
     ]
    },
    {
     "name": "stderr",
     "output_type": "stream",
     "text": [
      "C:\\Users\\linda\\Anaconda3\\lib\\site-packages\\lightgbm\\basic.py:1186: UserWarning: Using categorical_feature in Dataset.\n",
      "  warnings.warn('Using categorical_feature in Dataset.')\n"
     ]
    },
    {
     "name": "stdout",
     "output_type": "stream",
     "text": [
      "Training until validation scores don't improve for 200 rounds.\n",
      "[100]\ttraining's auc: 1\tvalid_1's auc: 0.908866\n",
      "[200]\ttraining's auc: 1\tvalid_1's auc: 0.908128\n",
      "Early stopping, best iteration is:\n",
      "[46]\ttraining's auc: 0.999023\tvalid_1's auc: 0.914875\n",
      "fold n°4\n"
     ]
    },
    {
     "name": "stderr",
     "output_type": "stream",
     "text": [
      "C:\\Users\\linda\\Anaconda3\\lib\\site-packages\\lightgbm\\basic.py:1186: UserWarning: Using categorical_feature in Dataset.\n",
      "  warnings.warn('Using categorical_feature in Dataset.')\n"
     ]
    },
    {
     "name": "stdout",
     "output_type": "stream",
     "text": [
      "Training until validation scores don't improve for 200 rounds.\n",
      "[100]\ttraining's auc: 1\tvalid_1's auc: 0.895157\n",
      "[200]\ttraining's auc: 1\tvalid_1's auc: 0.891798\n",
      "Early stopping, best iteration is:\n",
      "[46]\ttraining's auc: 0.99905\tvalid_1's auc: 0.905489\n",
      "fold n°5\n"
     ]
    },
    {
     "name": "stderr",
     "output_type": "stream",
     "text": [
      "C:\\Users\\linda\\Anaconda3\\lib\\site-packages\\lightgbm\\basic.py:1186: UserWarning: Using categorical_feature in Dataset.\n",
      "  warnings.warn('Using categorical_feature in Dataset.')\n"
     ]
    },
    {
     "name": "stdout",
     "output_type": "stream",
     "text": [
      "Training until validation scores don't improve for 200 rounds.\n",
      "[100]\ttraining's auc: 1\tvalid_1's auc: 0.859365\n",
      "[200]\ttraining's auc: 1\tvalid_1's auc: 0.863155\n",
      "Early stopping, best iteration is:\n",
      "[17]\ttraining's auc: 0.985351\tvalid_1's auc: 0.866332\n",
      "fold n°6\n"
     ]
    },
    {
     "name": "stderr",
     "output_type": "stream",
     "text": [
      "C:\\Users\\linda\\Anaconda3\\lib\\site-packages\\lightgbm\\basic.py:1186: UserWarning: Using categorical_feature in Dataset.\n",
      "  warnings.warn('Using categorical_feature in Dataset.')\n"
     ]
    },
    {
     "name": "stdout",
     "output_type": "stream",
     "text": [
      "Training until validation scores don't improve for 200 rounds.\n",
      "[100]\ttraining's auc: 1\tvalid_1's auc: 0.878581\n",
      "[200]\ttraining's auc: 1\tvalid_1's auc: 0.87954\n",
      "Early stopping, best iteration is:\n",
      "[29]\ttraining's auc: 0.993934\tvalid_1's auc: 0.897698\n",
      "fold n°7\n"
     ]
    },
    {
     "name": "stderr",
     "output_type": "stream",
     "text": [
      "C:\\Users\\linda\\Anaconda3\\lib\\site-packages\\lightgbm\\basic.py:1186: UserWarning: Using categorical_feature in Dataset.\n",
      "  warnings.warn('Using categorical_feature in Dataset.')\n"
     ]
    },
    {
     "name": "stdout",
     "output_type": "stream",
     "text": [
      "Training until validation scores don't improve for 200 rounds.\n",
      "[100]\ttraining's auc: 1\tvalid_1's auc: 0.913487\n",
      "[200]\ttraining's auc: 1\tvalid_1's auc: 0.918743\n",
      "Early stopping, best iteration is:\n",
      "[40]\ttraining's auc: 0.997785\tvalid_1's auc: 0.923683\n",
      "fold n°8\n"
     ]
    },
    {
     "name": "stderr",
     "output_type": "stream",
     "text": [
      "C:\\Users\\linda\\Anaconda3\\lib\\site-packages\\lightgbm\\basic.py:1186: UserWarning: Using categorical_feature in Dataset.\n",
      "  warnings.warn('Using categorical_feature in Dataset.')\n"
     ]
    },
    {
     "name": "stdout",
     "output_type": "stream",
     "text": [
      "Training until validation scores don't improve for 200 rounds.\n",
      "[100]\ttraining's auc: 1\tvalid_1's auc: 0.927814\n",
      "[200]\ttraining's auc: 1\tvalid_1's auc: 0.924479\n",
      "Early stopping, best iteration is:\n",
      "[37]\ttraining's auc: 0.997293\tvalid_1's auc: 0.93109\n",
      "fold n°9\n"
     ]
    },
    {
     "name": "stderr",
     "output_type": "stream",
     "text": [
      "C:\\Users\\linda\\Anaconda3\\lib\\site-packages\\lightgbm\\basic.py:1186: UserWarning: Using categorical_feature in Dataset.\n",
      "  warnings.warn('Using categorical_feature in Dataset.')\n"
     ]
    },
    {
     "name": "stdout",
     "output_type": "stream",
     "text": [
      "Training until validation scores don't improve for 200 rounds.\n",
      "[100]\ttraining's auc: 1\tvalid_1's auc: 0.907814\n",
      "[200]\ttraining's auc: 1\tvalid_1's auc: 0.908764\n",
      "Early stopping, best iteration is:\n",
      "[30]\ttraining's auc: 0.994571\tvalid_1's auc: 0.91514\n"
     ]
    },
    {
     "name": "stderr",
     "output_type": "stream",
     "text": [
      "\r",
      " 50%|██████████████████████████████████████████                                          | 3/6 [04:51<04:50, 96.73s/it]"
     ]
    },
    {
     "name": "stdout",
     "output_type": "stream",
     "text": [
      "fold n°0\n"
     ]
    },
    {
     "name": "stderr",
     "output_type": "stream",
     "text": [
      "C:\\Users\\linda\\Anaconda3\\lib\\site-packages\\lightgbm\\basic.py:1186: UserWarning: Using categorical_feature in Dataset.\n",
      "  warnings.warn('Using categorical_feature in Dataset.')\n"
     ]
    },
    {
     "name": "stdout",
     "output_type": "stream",
     "text": [
      "Training until validation scores don't improve for 200 rounds.\n",
      "[100]\ttraining's auc: 1\tvalid_1's auc: 0.931327\n",
      "[200]\ttraining's auc: 1\tvalid_1's auc: 0.930333\n",
      "Early stopping, best iteration is:\n",
      "[29]\ttraining's auc: 0.992805\tvalid_1's auc: 0.938574\n",
      "fold n°1\n"
     ]
    },
    {
     "name": "stderr",
     "output_type": "stream",
     "text": [
      "C:\\Users\\linda\\Anaconda3\\lib\\site-packages\\lightgbm\\basic.py:1186: UserWarning: Using categorical_feature in Dataset.\n",
      "  warnings.warn('Using categorical_feature in Dataset.')\n"
     ]
    },
    {
     "name": "stdout",
     "output_type": "stream",
     "text": [
      "Training until validation scores don't improve for 200 rounds.\n",
      "[100]\ttraining's auc: 1\tvalid_1's auc: 0.918035\n",
      "[200]\ttraining's auc: 1\tvalid_1's auc: 0.916247\n",
      "Early stopping, best iteration is:\n",
      "[85]\ttraining's auc: 0.999999\tvalid_1's auc: 0.920683\n",
      "fold n°2\n"
     ]
    },
    {
     "name": "stderr",
     "output_type": "stream",
     "text": [
      "C:\\Users\\linda\\Anaconda3\\lib\\site-packages\\lightgbm\\basic.py:1186: UserWarning: Using categorical_feature in Dataset.\n",
      "  warnings.warn('Using categorical_feature in Dataset.')\n"
     ]
    },
    {
     "name": "stdout",
     "output_type": "stream",
     "text": [
      "Training until validation scores don't improve for 200 rounds.\n",
      "[100]\ttraining's auc: 1\tvalid_1's auc: 0.907486\n",
      "[200]\ttraining's auc: 1\tvalid_1's auc: 0.909771\n",
      "Early stopping, best iteration is:\n",
      "[16]\ttraining's auc: 0.984172\tvalid_1's auc: 0.913371\n",
      "fold n°3\n"
     ]
    },
    {
     "name": "stderr",
     "output_type": "stream",
     "text": [
      "C:\\Users\\linda\\Anaconda3\\lib\\site-packages\\lightgbm\\basic.py:1186: UserWarning: Using categorical_feature in Dataset.\n",
      "  warnings.warn('Using categorical_feature in Dataset.')\n"
     ]
    },
    {
     "name": "stdout",
     "output_type": "stream",
     "text": [
      "Training until validation scores don't improve for 200 rounds.\n",
      "[100]\ttraining's auc: 1\tvalid_1's auc: 0.914152\n",
      "[200]\ttraining's auc: 1\tvalid_1's auc: 0.916837\n",
      "Early stopping, best iteration is:\n",
      "[83]\ttraining's auc: 1\tvalid_1's auc: 0.91324\n",
      "fold n°4\n"
     ]
    },
    {
     "name": "stderr",
     "output_type": "stream",
     "text": [
      "C:\\Users\\linda\\Anaconda3\\lib\\site-packages\\lightgbm\\basic.py:1186: UserWarning: Using categorical_feature in Dataset.\n",
      "  warnings.warn('Using categorical_feature in Dataset.')\n"
     ]
    },
    {
     "name": "stdout",
     "output_type": "stream",
     "text": [
      "Training until validation scores don't improve for 200 rounds.\n",
      "[100]\ttraining's auc: 1\tvalid_1's auc: 0.884401\n",
      "[200]\ttraining's auc: 1\tvalid_1's auc: 0.886817\n",
      "Early stopping, best iteration is:\n",
      "[13]\ttraining's auc: 0.980926\tvalid_1's auc: 0.907169\n",
      "fold n°5\n"
     ]
    },
    {
     "name": "stderr",
     "output_type": "stream",
     "text": [
      "C:\\Users\\linda\\Anaconda3\\lib\\site-packages\\lightgbm\\basic.py:1186: UserWarning: Using categorical_feature in Dataset.\n",
      "  warnings.warn('Using categorical_feature in Dataset.')\n"
     ]
    },
    {
     "name": "stdout",
     "output_type": "stream",
     "text": [
      "Training until validation scores don't improve for 200 rounds.\n",
      "[100]\ttraining's auc: 1\tvalid_1's auc: 0.86331\n",
      "[200]\ttraining's auc: 1\tvalid_1's auc: 0.867302\n",
      "Early stopping, best iteration is:\n",
      "[29]\ttraining's auc: 0.992453\tvalid_1's auc: 0.870951\n",
      "fold n°6\n"
     ]
    },
    {
     "name": "stderr",
     "output_type": "stream",
     "text": [
      "C:\\Users\\linda\\Anaconda3\\lib\\site-packages\\lightgbm\\basic.py:1186: UserWarning: Using categorical_feature in Dataset.\n",
      "  warnings.warn('Using categorical_feature in Dataset.')\n"
     ]
    },
    {
     "name": "stdout",
     "output_type": "stream",
     "text": [
      "Training until validation scores don't improve for 200 rounds.\n",
      "[100]\ttraining's auc: 1\tvalid_1's auc: 0.900223\n",
      "[200]\ttraining's auc: 1\tvalid_1's auc: 0.90269\n",
      "Early stopping, best iteration is:\n",
      "[37]\ttraining's auc: 0.996687\tvalid_1's auc: 0.909443\n",
      "fold n°7\n"
     ]
    },
    {
     "name": "stderr",
     "output_type": "stream",
     "text": [
      "C:\\Users\\linda\\Anaconda3\\lib\\site-packages\\lightgbm\\basic.py:1186: UserWarning: Using categorical_feature in Dataset.\n",
      "  warnings.warn('Using categorical_feature in Dataset.')\n"
     ]
    },
    {
     "name": "stdout",
     "output_type": "stream",
     "text": [
      "Training until validation scores don't improve for 200 rounds.\n",
      "[100]\ttraining's auc: 1\tvalid_1's auc: 0.893061\n",
      "[200]\ttraining's auc: 1\tvalid_1's auc: 0.893116\n",
      "[300]\ttraining's auc: 1\tvalid_1's auc: 0.894214\n",
      "Early stopping, best iteration is:\n",
      "[104]\ttraining's auc: 1\tvalid_1's auc: 0.892512\n",
      "fold n°8\n"
     ]
    },
    {
     "name": "stderr",
     "output_type": "stream",
     "text": [
      "C:\\Users\\linda\\Anaconda3\\lib\\site-packages\\lightgbm\\basic.py:1186: UserWarning: Using categorical_feature in Dataset.\n",
      "  warnings.warn('Using categorical_feature in Dataset.')\n"
     ]
    },
    {
     "name": "stdout",
     "output_type": "stream",
     "text": [
      "Training until validation scores don't improve for 200 rounds.\n",
      "[100]\ttraining's auc: 1\tvalid_1's auc: 0.936159\n",
      "[200]\ttraining's auc: 1\tvalid_1's auc: 0.933477\n",
      "Early stopping, best iteration is:\n",
      "[82]\ttraining's auc: 1\tvalid_1's auc: 0.935984\n",
      "fold n°9\n"
     ]
    },
    {
     "name": "stderr",
     "output_type": "stream",
     "text": [
      "C:\\Users\\linda\\Anaconda3\\lib\\site-packages\\lightgbm\\basic.py:1186: UserWarning: Using categorical_feature in Dataset.\n",
      "  warnings.warn('Using categorical_feature in Dataset.')\n"
     ]
    },
    {
     "name": "stdout",
     "output_type": "stream",
     "text": [
      "Training until validation scores don't improve for 200 rounds.\n",
      "[100]\ttraining's auc: 1\tvalid_1's auc: 0.928722\n",
      "[200]\ttraining's auc: 1\tvalid_1's auc: 0.934496\n",
      "Early stopping, best iteration is:\n",
      "[9]\ttraining's auc: 0.976494\tvalid_1's auc: 0.940692\n"
     ]
    },
    {
     "name": "stderr",
     "output_type": "stream",
     "text": [
      "\r",
      " 67%|████████████████████████████████████████████████████████                            | 4/6 [06:30<03:14, 97.34s/it]"
     ]
    },
    {
     "name": "stdout",
     "output_type": "stream",
     "text": [
      "fold n°0\n"
     ]
    },
    {
     "name": "stderr",
     "output_type": "stream",
     "text": [
      "C:\\Users\\linda\\Anaconda3\\lib\\site-packages\\lightgbm\\basic.py:1186: UserWarning: Using categorical_feature in Dataset.\n",
      "  warnings.warn('Using categorical_feature in Dataset.')\n"
     ]
    },
    {
     "name": "stdout",
     "output_type": "stream",
     "text": [
      "Training until validation scores don't improve for 200 rounds.\n",
      "[100]\ttraining's auc: 1\tvalid_1's auc: 0.933815\n",
      "[200]\ttraining's auc: 1\tvalid_1's auc: 0.933639\n",
      "Early stopping, best iteration is:\n",
      "[51]\ttraining's auc: 0.999407\tvalid_1's auc: 0.943681\n",
      "fold n°1\n"
     ]
    },
    {
     "name": "stderr",
     "output_type": "stream",
     "text": [
      "C:\\Users\\linda\\Anaconda3\\lib\\site-packages\\lightgbm\\basic.py:1186: UserWarning: Using categorical_feature in Dataset.\n",
      "  warnings.warn('Using categorical_feature in Dataset.')\n"
     ]
    },
    {
     "name": "stdout",
     "output_type": "stream",
     "text": [
      "Training until validation scores don't improve for 200 rounds.\n",
      "[100]\ttraining's auc: 1\tvalid_1's auc: 0.920487\n",
      "[200]\ttraining's auc: 1\tvalid_1's auc: 0.917719\n",
      "Early stopping, best iteration is:\n",
      "[93]\ttraining's auc: 1\tvalid_1's auc: 0.920266\n",
      "fold n°2\n"
     ]
    },
    {
     "name": "stderr",
     "output_type": "stream",
     "text": [
      "C:\\Users\\linda\\Anaconda3\\lib\\site-packages\\lightgbm\\basic.py:1186: UserWarning: Using categorical_feature in Dataset.\n",
      "  warnings.warn('Using categorical_feature in Dataset.')\n"
     ]
    },
    {
     "name": "stdout",
     "output_type": "stream",
     "text": [
      "Training until validation scores don't improve for 200 rounds.\n",
      "[100]\ttraining's auc: 0.999963\tvalid_1's auc: 0.924163\n",
      "[200]\ttraining's auc: 1\tvalid_1's auc: 0.923892\n",
      "[300]\ttraining's auc: 1\tvalid_1's auc: 0.920755\n",
      "Early stopping, best iteration is:\n",
      "[139]\ttraining's auc: 0.999998\tvalid_1's auc: 0.924812\n",
      "fold n°3\n"
     ]
    },
    {
     "name": "stderr",
     "output_type": "stream",
     "text": [
      "C:\\Users\\linda\\Anaconda3\\lib\\site-packages\\lightgbm\\basic.py:1186: UserWarning: Using categorical_feature in Dataset.\n",
      "  warnings.warn('Using categorical_feature in Dataset.')\n"
     ]
    },
    {
     "name": "stdout",
     "output_type": "stream",
     "text": [
      "Training until validation scores don't improve for 200 rounds.\n",
      "[100]\ttraining's auc: 1\tvalid_1's auc: 0.91572\n",
      "[200]\ttraining's auc: 1\tvalid_1's auc: 0.916536\n",
      "Early stopping, best iteration is:\n",
      "[67]\ttraining's auc: 0.999969\tvalid_1's auc: 0.921781\n",
      "fold n°4\n"
     ]
    },
    {
     "name": "stderr",
     "output_type": "stream",
     "text": [
      "C:\\Users\\linda\\Anaconda3\\lib\\site-packages\\lightgbm\\basic.py:1186: UserWarning: Using categorical_feature in Dataset.\n",
      "  warnings.warn('Using categorical_feature in Dataset.')\n"
     ]
    },
    {
     "name": "stdout",
     "output_type": "stream",
     "text": [
      "Training until validation scores don't improve for 200 rounds.\n",
      "[100]\ttraining's auc: 1\tvalid_1's auc: 0.920135\n",
      "[200]\ttraining's auc: 1\tvalid_1's auc: 0.913823\n",
      "Early stopping, best iteration is:\n",
      "[34]\ttraining's auc: 0.994963\tvalid_1's auc: 0.931446\n",
      "fold n°5\n"
     ]
    },
    {
     "name": "stderr",
     "output_type": "stream",
     "text": [
      "C:\\Users\\linda\\Anaconda3\\lib\\site-packages\\lightgbm\\basic.py:1186: UserWarning: Using categorical_feature in Dataset.\n",
      "  warnings.warn('Using categorical_feature in Dataset.')\n"
     ]
    },
    {
     "name": "stdout",
     "output_type": "stream",
     "text": [
      "Training until validation scores don't improve for 200 rounds.\n",
      "[100]\ttraining's auc: 1\tvalid_1's auc: 0.902366\n",
      "[200]\ttraining's auc: 1\tvalid_1's auc: 0.904543\n",
      "Early stopping, best iteration is:\n",
      "[88]\ttraining's auc: 1\tvalid_1's auc: 0.899541\n",
      "fold n°6\n"
     ]
    },
    {
     "name": "stderr",
     "output_type": "stream",
     "text": [
      "C:\\Users\\linda\\Anaconda3\\lib\\site-packages\\lightgbm\\basic.py:1186: UserWarning: Using categorical_feature in Dataset.\n",
      "  warnings.warn('Using categorical_feature in Dataset.')\n"
     ]
    },
    {
     "name": "stdout",
     "output_type": "stream",
     "text": [
      "Training until validation scores don't improve for 200 rounds.\n",
      "[100]\ttraining's auc: 1\tvalid_1's auc: 0.860172\n",
      "[200]\ttraining's auc: 1\tvalid_1's auc: 0.858718\n",
      "Early stopping, best iteration is:\n",
      "[9]\ttraining's auc: 0.973375\tvalid_1's auc: 0.890131\n",
      "fold n°7\n"
     ]
    },
    {
     "name": "stderr",
     "output_type": "stream",
     "text": [
      "C:\\Users\\linda\\Anaconda3\\lib\\site-packages\\lightgbm\\basic.py:1186: UserWarning: Using categorical_feature in Dataset.\n",
      "  warnings.warn('Using categorical_feature in Dataset.')\n"
     ]
    },
    {
     "name": "stdout",
     "output_type": "stream",
     "text": [
      "Training until validation scores don't improve for 200 rounds.\n",
      "[100]\ttraining's auc: 0.999996\tvalid_1's auc: 0.920734\n",
      "[200]\ttraining's auc: 1\tvalid_1's auc: 0.92005\n",
      "[300]\ttraining's auc: 1\tvalid_1's auc: 0.923073\n",
      "Early stopping, best iteration is:\n",
      "[138]\ttraining's auc: 1\tvalid_1's auc: 0.920963\n",
      "fold n°8\n"
     ]
    },
    {
     "name": "stderr",
     "output_type": "stream",
     "text": [
      "C:\\Users\\linda\\Anaconda3\\lib\\site-packages\\lightgbm\\basic.py:1186: UserWarning: Using categorical_feature in Dataset.\n",
      "  warnings.warn('Using categorical_feature in Dataset.')\n"
     ]
    },
    {
     "name": "stdout",
     "output_type": "stream",
     "text": [
      "Training until validation scores don't improve for 200 rounds.\n",
      "[100]\ttraining's auc: 1\tvalid_1's auc: 0.920481\n",
      "[200]\ttraining's auc: 1\tvalid_1's auc: 0.922772\n",
      "Early stopping, best iteration is:\n",
      "[47]\ttraining's auc: 0.998963\tvalid_1's auc: 0.924786\n",
      "fold n°9\n"
     ]
    },
    {
     "name": "stderr",
     "output_type": "stream",
     "text": [
      "C:\\Users\\linda\\Anaconda3\\lib\\site-packages\\lightgbm\\basic.py:1186: UserWarning: Using categorical_feature in Dataset.\n",
      "  warnings.warn('Using categorical_feature in Dataset.')\n"
     ]
    },
    {
     "name": "stdout",
     "output_type": "stream",
     "text": [
      "Training until validation scores don't improve for 200 rounds.\n",
      "[100]\ttraining's auc: 0.999959\tvalid_1's auc: 0.911765\n",
      "[200]\ttraining's auc: 1\tvalid_1's auc: 0.908396\n",
      "Early stopping, best iteration is:\n",
      "[38]\ttraining's auc: 0.996889\tvalid_1's auc: 0.914228\n"
     ]
    },
    {
     "name": "stderr",
     "output_type": "stream",
     "text": [
      "\r",
      " 83%|██████████████████████████████████████████████████████████████████████              | 5/6 [08:11<01:38, 98.54s/it]"
     ]
    },
    {
     "name": "stdout",
     "output_type": "stream",
     "text": [
      "fold n°0\n"
     ]
    },
    {
     "name": "stderr",
     "output_type": "stream",
     "text": [
      "C:\\Users\\linda\\Anaconda3\\lib\\site-packages\\lightgbm\\basic.py:1186: UserWarning: Using categorical_feature in Dataset.\n",
      "  warnings.warn('Using categorical_feature in Dataset.')\n"
     ]
    },
    {
     "name": "stdout",
     "output_type": "stream",
     "text": [
      "Training until validation scores don't improve for 200 rounds.\n",
      "[100]\ttraining's auc: 1\tvalid_1's auc: 0.923627\n",
      "[200]\ttraining's auc: 1\tvalid_1's auc: 0.921611\n",
      "Early stopping, best iteration is:\n",
      "[66]\ttraining's auc: 0.999994\tvalid_1's auc: 0.928062\n",
      "fold n°1\n"
     ]
    },
    {
     "name": "stderr",
     "output_type": "stream",
     "text": [
      "C:\\Users\\linda\\Anaconda3\\lib\\site-packages\\lightgbm\\basic.py:1186: UserWarning: Using categorical_feature in Dataset.\n",
      "  warnings.warn('Using categorical_feature in Dataset.')\n"
     ]
    },
    {
     "name": "stdout",
     "output_type": "stream",
     "text": [
      "Training until validation scores don't improve for 200 rounds.\n",
      "[100]\ttraining's auc: 1\tvalid_1's auc: 0.906916\n",
      "[200]\ttraining's auc: 1\tvalid_1's auc: 0.90708\n",
      "Early stopping, best iteration is:\n",
      "[33]\ttraining's auc: 0.997797\tvalid_1's auc: 0.916805\n",
      "fold n°2\n"
     ]
    },
    {
     "name": "stderr",
     "output_type": "stream",
     "text": [
      "C:\\Users\\linda\\Anaconda3\\lib\\site-packages\\lightgbm\\basic.py:1186: UserWarning: Using categorical_feature in Dataset.\n",
      "  warnings.warn('Using categorical_feature in Dataset.')\n"
     ]
    },
    {
     "name": "stdout",
     "output_type": "stream",
     "text": [
      "Training until validation scores don't improve for 200 rounds.\n",
      "[100]\ttraining's auc: 1\tvalid_1's auc: 0.914782\n",
      "[200]\ttraining's auc: 1\tvalid_1's auc: 0.911189\n",
      "Early stopping, best iteration is:\n",
      "[81]\ttraining's auc: 1\tvalid_1's auc: 0.918315\n",
      "fold n°3\n"
     ]
    },
    {
     "name": "stderr",
     "output_type": "stream",
     "text": [
      "C:\\Users\\linda\\Anaconda3\\lib\\site-packages\\lightgbm\\basic.py:1186: UserWarning: Using categorical_feature in Dataset.\n",
      "  warnings.warn('Using categorical_feature in Dataset.')\n"
     ]
    },
    {
     "name": "stdout",
     "output_type": "stream",
     "text": [
      "Training until validation scores don't improve for 200 rounds.\n",
      "[100]\ttraining's auc: 1\tvalid_1's auc: 0.935676\n",
      "[200]\ttraining's auc: 1\tvalid_1's auc: 0.939025\n",
      "Early stopping, best iteration is:\n",
      "[38]\ttraining's auc: 0.998832\tvalid_1's auc: 0.939516\n",
      "fold n°4\n"
     ]
    },
    {
     "name": "stderr",
     "output_type": "stream",
     "text": [
      "C:\\Users\\linda\\Anaconda3\\lib\\site-packages\\lightgbm\\basic.py:1186: UserWarning: Using categorical_feature in Dataset.\n",
      "  warnings.warn('Using categorical_feature in Dataset.')\n"
     ]
    },
    {
     "name": "stdout",
     "output_type": "stream",
     "text": [
      "Training until validation scores don't improve for 200 rounds.\n",
      "[100]\ttraining's auc: 1\tvalid_1's auc: 0.91254\n",
      "[200]\ttraining's auc: 1\tvalid_1's auc: 0.912179\n",
      "Early stopping, best iteration is:\n",
      "[44]\ttraining's auc: 0.999515\tvalid_1's auc: 0.917971\n",
      "fold n°5\n"
     ]
    },
    {
     "name": "stderr",
     "output_type": "stream",
     "text": [
      "C:\\Users\\linda\\Anaconda3\\lib\\site-packages\\lightgbm\\basic.py:1186: UserWarning: Using categorical_feature in Dataset.\n",
      "  warnings.warn('Using categorical_feature in Dataset.')\n"
     ]
    },
    {
     "name": "stdout",
     "output_type": "stream",
     "text": [
      "Training until validation scores don't improve for 200 rounds.\n",
      "[100]\ttraining's auc: 1\tvalid_1's auc: 0.896444\n",
      "[200]\ttraining's auc: 1\tvalid_1's auc: 0.902634\n",
      "Early stopping, best iteration is:\n",
      "[92]\ttraining's auc: 1\tvalid_1's auc: 0.897084\n",
      "fold n°6\n"
     ]
    },
    {
     "name": "stderr",
     "output_type": "stream",
     "text": [
      "C:\\Users\\linda\\Anaconda3\\lib\\site-packages\\lightgbm\\basic.py:1186: UserWarning: Using categorical_feature in Dataset.\n",
      "  warnings.warn('Using categorical_feature in Dataset.')\n"
     ]
    },
    {
     "name": "stdout",
     "output_type": "stream",
     "text": [
      "Training until validation scores don't improve for 200 rounds.\n",
      "[100]\ttraining's auc: 1\tvalid_1's auc: 0.9078\n",
      "[200]\ttraining's auc: 1\tvalid_1's auc: 0.905474\n",
      "Early stopping, best iteration is:\n",
      "[23]\ttraining's auc: 0.994341\tvalid_1's auc: 0.924752\n",
      "fold n°7\n"
     ]
    },
    {
     "name": "stderr",
     "output_type": "stream",
     "text": [
      "C:\\Users\\linda\\Anaconda3\\lib\\site-packages\\lightgbm\\basic.py:1186: UserWarning: Using categorical_feature in Dataset.\n",
      "  warnings.warn('Using categorical_feature in Dataset.')\n"
     ]
    },
    {
     "name": "stdout",
     "output_type": "stream",
     "text": [
      "Training until validation scores don't improve for 200 rounds.\n",
      "[100]\ttraining's auc: 1\tvalid_1's auc: 0.880152\n",
      "[200]\ttraining's auc: 1\tvalid_1's auc: 0.881627\n",
      "Early stopping, best iteration is:\n",
      "[49]\ttraining's auc: 0.999769\tvalid_1's auc: 0.88734\n",
      "fold n°8\n"
     ]
    },
    {
     "name": "stderr",
     "output_type": "stream",
     "text": [
      "C:\\Users\\linda\\Anaconda3\\lib\\site-packages\\lightgbm\\basic.py:1186: UserWarning: Using categorical_feature in Dataset.\n",
      "  warnings.warn('Using categorical_feature in Dataset.')\n"
     ]
    },
    {
     "name": "stdout",
     "output_type": "stream",
     "text": [
      "Training until validation scores don't improve for 200 rounds.\n",
      "[100]\ttraining's auc: 1\tvalid_1's auc: 0.912684\n",
      "[200]\ttraining's auc: 1\tvalid_1's auc: 0.912703\n",
      "Early stopping, best iteration is:\n",
      "[56]\ttraining's auc: 0.999893\tvalid_1's auc: 0.916772\n",
      "fold n°9\n"
     ]
    },
    {
     "name": "stderr",
     "output_type": "stream",
     "text": [
      "C:\\Users\\linda\\Anaconda3\\lib\\site-packages\\lightgbm\\basic.py:1186: UserWarning: Using categorical_feature in Dataset.\n",
      "  warnings.warn('Using categorical_feature in Dataset.')\n"
     ]
    },
    {
     "name": "stdout",
     "output_type": "stream",
     "text": [
      "Training until validation scores don't improve for 200 rounds.\n",
      "[100]\ttraining's auc: 1\tvalid_1's auc: 0.91462\n",
      "[200]\ttraining's auc: 1\tvalid_1's auc: 0.912366\n",
      "Early stopping, best iteration is:\n",
      "[14]\ttraining's auc: 0.988692\tvalid_1's auc: 0.920766\n"
     ]
    },
    {
     "name": "stderr",
     "output_type": "stream",
     "text": [
      "100%|███████████████████████████████████████████████████████████████████████████████████| 6/6 [10:39<00:00, 113.12s/it]\n"
     ]
    }
   ],
   "source": [
    "predictions = np.zeros(len(df_test))\n",
    "for fr in tqdm(np.sort(df_train['Flight Regime'].unique())):\n",
    "    df_train_fr = df_train[df_train['Flight Regime'] == fr]\n",
    "    df_test_fr = df_test[df_test['Flight Regime'] == fr]\n",
    "    target_border_fr = target_border[target_border['Flight Regime'] == fr][['target_border', 'EngineID', 'EngineIndex']]\n",
    "    feature_importance_df = pd.DataFrame()\n",
    "    for fold_ in range(10):\n",
    "        print(\"fold n°{}\".format(fold_))\n",
    "        val_ID = folds_EngineID[fold_]        \n",
    "        trn_data = lgb.Dataset(df_train_fr[(~(df_train_fr['EngineID'].isin(val_ID))) &\n",
    "                                           (df_train_fr['EngineIndex'].isin(train_idx))][features],\n",
    "                               label=target_border_fr[(~(target_border_fr['EngineID'].isin(val_ID))) &\n",
    "                                               (target_border_fr['EngineIndex'].isin(train_idx))]['target_border'],\n",
    "                               categorical_feature=categorical_feats\n",
    "                               )\n",
    "        # testデータで予測するindexのみをval_dataで用いる\n",
    "        # こうすることで、val_dataとtest_dataの分布が近づくことを狙っている\n",
    "        val_data = lgb.Dataset(df_train_fr[(df_train_fr['EngineID'].isin(val_ID)) & \n",
    "                                           (df_train_fr['EngineIndex'].isin(test_lastidx))][features],\n",
    "                               label=target_border_fr[(target_border_fr['EngineID'].isin(val_ID)) &\n",
    "                                                      (target_border_fr['EngineIndex'].isin(test_lastidx))]['target_border'],\n",
    "                               categorical_feature=categorical_feats\n",
    "                               )\n",
    "        clf = lgb.train(param_border,\n",
    "                        trn_data,\n",
    "                        num_round,\n",
    "                        valid_sets=[trn_data, val_data],\n",
    "                        verbose_eval=100,\n",
    "                        early_stopping_rounds=200)\n",
    "        \n",
    "        val_pre =clf.predict(df_train_fr[(df_train_fr['EngineID'].isin(val_ID)) & \n",
    "                                         (df_train_fr['EngineIndex'].isin(test_lastidx))][features],\n",
    "                             num_iteration=clf.best_iteration)\n",
    "        \n",
    "        oof.loc[(oof['Flight Regime'] == fr) &\n",
    "                (oof['EngineID'].isin(val_ID)) & \n",
    "                (oof['EngineIndex'].isin(test_lastidx)), 'pre_border'] = val_pre\n",
    "        \n",
    "        predictions[df_test_fr.index] += clf.predict(df_test_fr[features], num_iteration=clf.best_iteration) / 10"
   ]
  },
  {
   "cell_type": "code",
   "execution_count": 14,
   "metadata": {},
   "outputs": [],
   "source": [
    "test_pre_border = predictions"
   ]
  },
  {
   "cell_type": "code",
   "execution_count": 15,
   "metadata": {},
   "outputs": [],
   "source": [
    "oof['target_border'] = 0\n",
    "oof.loc[oof['lifespan'] >= 100, 'target_border'] = 0\n",
    "oof.loc[oof['lifespan'] < 100, 'target_border'] = 1"
   ]
  },
  {
   "cell_type": "code",
   "execution_count": 16,
   "metadata": {},
   "outputs": [
    {
     "data": {
      "text/plain": [
       "0.9105670752983416"
      ]
     },
     "execution_count": 16,
     "metadata": {},
     "output_type": "execute_result"
    }
   ],
   "source": [
    "fpr, tpr, thresholds = metrics.roc_curve(oof['target_border'], oof['pre_border'])\n",
    "metrics.auc(fpr, tpr)"
   ]
  },
  {
   "cell_type": "code",
   "execution_count": 17,
   "metadata": {},
   "outputs": [
    {
     "name": "stdout",
     "output_type": "stream",
     "text": [
      "Flight Regime 1 : 0.9218106626764115\n",
      "Flight Regime 2 : 0.9142916942057723\n",
      "Flight Regime 3 : 0.9102483661933312\n",
      "Flight Regime 4 : 0.8998358628946731\n",
      "Flight Regime 5 : 0.9103826537582573\n",
      "Flight Regime 6 : 0.9098983278463444\n"
     ]
    }
   ],
   "source": [
    "for i in np.sort(oof['Flight Regime'].unique()):\n",
    "    oof_1fr = oof[oof['Flight Regime'] == i]\n",
    "    fpr, tpr, thresholds = metrics.roc_curve(oof_1fr['target_border'], oof_1fr['pre_border'])\n",
    "    print('Flight Regime', i , ':', metrics.auc(fpr, tpr))"
   ]
  },
  {
   "cell_type": "code",
   "execution_count": 18,
   "metadata": {},
   "outputs": [
    {
     "data": {
      "text/plain": [
       "0.22094411422051885"
      ]
     },
     "execution_count": 18,
     "metadata": {},
     "output_type": "execute_result"
    }
   ],
   "source": [
    "mean_absolute_error(oof['target_border'], oof['pre_border'])"
   ]
  },
  {
   "cell_type": "code",
   "execution_count": 19,
   "metadata": {},
   "outputs": [
    {
     "name": "stderr",
     "output_type": "stream",
     "text": [
      "C:\\Users\\linda\\Anaconda3\\lib\\site-packages\\scipy\\stats\\stats.py:1713: FutureWarning: Using a non-tuple sequence for multidimensional indexing is deprecated; use `arr[tuple(seq)]` instead of `arr[seq]`. In the future this will be interpreted as an array index, `arr[np.array(seq)]`, which will result either in an error or a different result.\n",
      "  return np.add.reduce(sorted[indexer] * weights, axis=axis) / sumval\n"
     ]
    },
    {
     "data": {
      "image/png": "[encoded data removed]",
      "text/plain": [
       "<Figure size 432x432 with 3 Axes>"
      ]
     },
     "metadata": {
      "needs_background": "light"
     },
     "output_type": "display_data"
    }
   ],
   "source": [
    "sns.jointplot(x=\"lifespan\", y=\"pre_border\", kind=\"kde\", data=oof);"
   ]
  },
  {
   "cell_type": "markdown",
   "metadata": {},
   "source": [
    "まあまあいい感じに見える？"
   ]
  },
  {
   "cell_type": "code",
   "execution_count": 20,
   "metadata": {},
   "outputs": [
    {
     "data": {
      "text/plain": [
       "<matplotlib.axes._subplots.AxesSubplot at 0x21cdc9a6550>"
      ]
     },
     "execution_count": 20,
     "metadata": {},
     "output_type": "execute_result"
    },
    {
     "data": {
      "image/png": "[encoded data removed]",
      "text/plain": [
       "<Figure size 432x288 with 1 Axes>"
      ]
     },
     "metadata": {
      "needs_background": "light"
     },
     "output_type": "display_data"
    }
   ],
   "source": [
    "oof['pre_border'].hist()"
   ]
  },
  {
   "cell_type": "code",
   "execution_count": null,
   "metadata": {},
   "outputs": [],
   "source": []
  },
  {
   "cell_type": "markdown",
   "metadata": {},
   "source": [
    "=================  target < 100 のみ学習 ==============="
   ]
  },
  {
   "cell_type": "code",
   "execution_count": 21,
   "metadata": {},
   "outputs": [],
   "source": [
    "df_train_end = pd.concat([df_train, target['lifespan']], axis=1)\n",
    "df_train_end = df_train_end[df_train_end['lifespan'] < 100]\n",
    "target_end = target[target['lifespan'] < 100]\n",
    "del df_train_end['lifespan']"
   ]
  },
  {
   "cell_type": "code",
   "execution_count": 22,
   "metadata": {},
   "outputs": [],
   "source": [
    "param = {'num_leaves': 111,\n",
    "         'min_data_in_leaf': 149,\n",
    "         'objective': 'regression',\n",
    "         'max_depth': 9,\n",
    "         'learning_rate': 0.050,\n",
    "         \"boosting\": \"gbdt\",\n",
    "         \"feature_fraction\": 0.7522,\n",
    "         \"bagging_freq\": 1,\n",
    "         \"bagging_fraction\": 0.7083,\n",
    "         \"bagging_seed\": 11,\n",
    "         \"metric\": 'mae',\n",
    "         \"lambda_l1\": 0.2634,\n",
    "         \"random_state\": 133,\n",
    "         \"verbosity\": -1}"
   ]
  },
  {
   "cell_type": "code",
   "execution_count": 23,
   "metadata": {},
   "outputs": [
    {
     "name": "stderr",
     "output_type": "stream",
     "text": [
      "\r",
      "  0%|                                                                                            | 0/6 [00:00<?, ?it/s]"
     ]
    },
    {
     "name": "stdout",
     "output_type": "stream",
     "text": [
      "fold n°0\n"
     ]
    },
    {
     "name": "stderr",
     "output_type": "stream",
     "text": [
      "C:\\Users\\linda\\Anaconda3\\lib\\site-packages\\lightgbm\\basic.py:1186: UserWarning: Using categorical_feature in Dataset.\n",
      "  warnings.warn('Using categorical_feature in Dataset.')\n"
     ]
    },
    {
     "name": "stdout",
     "output_type": "stream",
     "text": [
      "Training until validation scores don't improve for 200 rounds.\n",
      "[100]\ttraining's l1: 7.32033\tvalid_1's l1: 9.01817\n",
      "[200]\ttraining's l1: 6.02253\tvalid_1's l1: 9.02538\n",
      "[300]\ttraining's l1: 5.2833\tvalid_1's l1: 9.17613\n",
      "Early stopping, best iteration is:\n",
      "[133]\ttraining's l1: 6.75976\tvalid_1's l1: 8.92392\n",
      "fold n°1\n"
     ]
    },
    {
     "name": "stderr",
     "output_type": "stream",
     "text": [
      "C:\\Users\\linda\\Anaconda3\\lib\\site-packages\\lightgbm\\basic.py:1186: UserWarning: Using categorical_feature in Dataset.\n",
      "  warnings.warn('Using categorical_feature in Dataset.')\n"
     ]
    },
    {
     "name": "stdout",
     "output_type": "stream",
     "text": [
      "Training until validation scores don't improve for 200 rounds.\n",
      "[100]\ttraining's l1: 7.26526\tvalid_1's l1: 9.13987\n",
      "[200]\ttraining's l1: 5.99365\tvalid_1's l1: 8.98652\n",
      "[300]\ttraining's l1: 5.27691\tvalid_1's l1: 9.02368\n",
      "Early stopping, best iteration is:\n",
      "[123]\ttraining's l1: 6.8556\tvalid_1's l1: 8.92475\n",
      "fold n°2\n"
     ]
    },
    {
     "name": "stderr",
     "output_type": "stream",
     "text": [
      "C:\\Users\\linda\\Anaconda3\\lib\\site-packages\\lightgbm\\basic.py:1186: UserWarning: Using categorical_feature in Dataset.\n",
      "  warnings.warn('Using categorical_feature in Dataset.')\n"
     ]
    },
    {
     "name": "stdout",
     "output_type": "stream",
     "text": [
      "Training until validation scores don't improve for 200 rounds.\n",
      "[100]\ttraining's l1: 7.32313\tvalid_1's l1: 9.0469\n",
      "[200]\ttraining's l1: 6.04869\tvalid_1's l1: 8.68816\n",
      "[300]\ttraining's l1: 5.31592\tvalid_1's l1: 8.69975\n",
      "Early stopping, best iteration is:\n",
      "[163]\ttraining's l1: 6.41999\tvalid_1's l1: 8.62995\n",
      "fold n°3\n"
     ]
    },
    {
     "name": "stderr",
     "output_type": "stream",
     "text": [
      "C:\\Users\\linda\\Anaconda3\\lib\\site-packages\\lightgbm\\basic.py:1186: UserWarning: Using categorical_feature in Dataset.\n",
      "  warnings.warn('Using categorical_feature in Dataset.')\n"
     ]
    },
    {
     "name": "stdout",
     "output_type": "stream",
     "text": [
      "Training until validation scores don't improve for 200 rounds.\n",
      "[100]\ttraining's l1: 7.36479\tvalid_1's l1: 9.13468\n",
      "[200]\ttraining's l1: 6.06322\tvalid_1's l1: 8.57008\n",
      "[300]\ttraining's l1: 5.27962\tvalid_1's l1: 8.60335\n",
      "[400]\ttraining's l1: 4.7024\tvalid_1's l1: 8.65921\n",
      "Early stopping, best iteration is:\n",
      "[225]\ttraining's l1: 5.83753\tvalid_1's l1: 8.5317\n",
      "fold n°4\n"
     ]
    },
    {
     "name": "stderr",
     "output_type": "stream",
     "text": [
      "C:\\Users\\linda\\Anaconda3\\lib\\site-packages\\lightgbm\\basic.py:1186: UserWarning: Using categorical_feature in Dataset.\n",
      "  warnings.warn('Using categorical_feature in Dataset.')\n"
     ]
    },
    {
     "name": "stdout",
     "output_type": "stream",
     "text": [
      "Training until validation scores don't improve for 200 rounds.\n",
      "[100]\ttraining's l1: 7.148\tvalid_1's l1: 11.2797\n",
      "[200]\ttraining's l1: 5.93246\tvalid_1's l1: 10.9836\n",
      "[300]\ttraining's l1: 5.20543\tvalid_1's l1: 10.9161\n",
      "[400]\ttraining's l1: 4.68365\tvalid_1's l1: 10.9323\n",
      "Early stopping, best iteration is:\n",
      "[253]\ttraining's l1: 5.51462\tvalid_1's l1: 10.8735\n",
      "fold n°5\n"
     ]
    },
    {
     "name": "stderr",
     "output_type": "stream",
     "text": [
      "C:\\Users\\linda\\Anaconda3\\lib\\site-packages\\lightgbm\\basic.py:1186: UserWarning: Using categorical_feature in Dataset.\n",
      "  warnings.warn('Using categorical_feature in Dataset.')\n"
     ]
    },
    {
     "name": "stdout",
     "output_type": "stream",
     "text": [
      "Training until validation scores don't improve for 200 rounds.\n",
      "[100]\ttraining's l1: 7.31058\tvalid_1's l1: 9.66969\n",
      "[200]\ttraining's l1: 6.0707\tvalid_1's l1: 9.36689\n",
      "[300]\ttraining's l1: 5.3318\tvalid_1's l1: 9.21909\n",
      "[400]\ttraining's l1: 4.80928\tvalid_1's l1: 9.19062\n",
      "[500]\ttraining's l1: 4.37229\tvalid_1's l1: 9.23572\n",
      "[600]\ttraining's l1: 4.00249\tvalid_1's l1: 9.31833\n",
      "Early stopping, best iteration is:\n",
      "[403]\ttraining's l1: 4.79629\tvalid_1's l1: 9.17537\n",
      "fold n°6\n"
     ]
    },
    {
     "name": "stderr",
     "output_type": "stream",
     "text": [
      "C:\\Users\\linda\\Anaconda3\\lib\\site-packages\\lightgbm\\basic.py:1186: UserWarning: Using categorical_feature in Dataset.\n",
      "  warnings.warn('Using categorical_feature in Dataset.')\n"
     ]
    },
    {
     "name": "stdout",
     "output_type": "stream",
     "text": [
      "Training until validation scores don't improve for 200 rounds.\n",
      "[100]\ttraining's l1: 7.2838\tvalid_1's l1: 8.90476\n",
      "[200]\ttraining's l1: 6.00129\tvalid_1's l1: 8.7194\n",
      "[300]\ttraining's l1: 5.26599\tvalid_1's l1: 8.78491\n",
      "Early stopping, best iteration is:\n",
      "[160]\ttraining's l1: 6.40815\tvalid_1's l1: 8.60236\n",
      "fold n°7\n"
     ]
    },
    {
     "name": "stderr",
     "output_type": "stream",
     "text": [
      "C:\\Users\\linda\\Anaconda3\\lib\\site-packages\\lightgbm\\basic.py:1186: UserWarning: Using categorical_feature in Dataset.\n",
      "  warnings.warn('Using categorical_feature in Dataset.')\n"
     ]
    },
    {
     "name": "stdout",
     "output_type": "stream",
     "text": [
      "Training until validation scores don't improve for 200 rounds.\n",
      "[100]\ttraining's l1: 7.23126\tvalid_1's l1: 9.07883\n",
      "[200]\ttraining's l1: 5.96527\tvalid_1's l1: 9.25305\n",
      "[300]\ttraining's l1: 5.25599\tvalid_1's l1: 9.28536\n",
      "Early stopping, best iteration is:\n",
      "[114]\ttraining's l1: 6.97491\tvalid_1's l1: 9.0127\n",
      "fold n°8\n"
     ]
    },
    {
     "name": "stderr",
     "output_type": "stream",
     "text": [
      "C:\\Users\\linda\\Anaconda3\\lib\\site-packages\\lightgbm\\basic.py:1186: UserWarning: Using categorical_feature in Dataset.\n",
      "  warnings.warn('Using categorical_feature in Dataset.')\n"
     ]
    },
    {
     "name": "stdout",
     "output_type": "stream",
     "text": [
      "Training until validation scores don't improve for 200 rounds.\n",
      "[100]\ttraining's l1: 7.18692\tvalid_1's l1: 9.56273\n",
      "[200]\ttraining's l1: 5.91657\tvalid_1's l1: 9.69862\n",
      "Early stopping, best iteration is:\n",
      "[98]\ttraining's l1: 7.22617\tvalid_1's l1: 9.51855\n",
      "fold n°9\n"
     ]
    },
    {
     "name": "stderr",
     "output_type": "stream",
     "text": [
      "C:\\Users\\linda\\Anaconda3\\lib\\site-packages\\lightgbm\\basic.py:1186: UserWarning: Using categorical_feature in Dataset.\n",
      "  warnings.warn('Using categorical_feature in Dataset.')\n"
     ]
    },
    {
     "name": "stdout",
     "output_type": "stream",
     "text": [
      "Training until validation scores don't improve for 200 rounds.\n",
      "[100]\ttraining's l1: 7.29183\tvalid_1's l1: 8.57343\n",
      "[200]\ttraining's l1: 5.98537\tvalid_1's l1: 8.42834\n",
      "[300]\ttraining's l1: 5.26665\tvalid_1's l1: 8.40432\n",
      "[400]\ttraining's l1: 4.72871\tvalid_1's l1: 8.44677\n",
      "Early stopping, best iteration is:\n",
      "[283]\ttraining's l1: 5.37995\tvalid_1's l1: 8.36062\n"
     ]
    },
    {
     "name": "stderr",
     "output_type": "stream",
     "text": [
      "\r",
      " 17%|██████████████                                                                      | 1/6 [01:03<05:15, 63.06s/it]"
     ]
    },
    {
     "name": "stdout",
     "output_type": "stream",
     "text": [
      "fold n°0\n"
     ]
    },
    {
     "name": "stderr",
     "output_type": "stream",
     "text": [
      "C:\\Users\\linda\\Anaconda3\\lib\\site-packages\\lightgbm\\basic.py:1186: UserWarning: Using categorical_feature in Dataset.\n",
      "  warnings.warn('Using categorical_feature in Dataset.')\n"
     ]
    },
    {
     "name": "stdout",
     "output_type": "stream",
     "text": [
      "Training until validation scores don't improve for 200 rounds.\n",
      "[100]\ttraining's l1: 7.69166\tvalid_1's l1: 9.29588\n",
      "[200]\ttraining's l1: 6.24558\tvalid_1's l1: 9.06691\n",
      "[300]\ttraining's l1: 5.40953\tvalid_1's l1: 9.06897\n",
      "[400]\ttraining's l1: 4.81709\tvalid_1's l1: 8.9955\n",
      "[500]\ttraining's l1: 4.34266\tvalid_1's l1: 8.96939\n",
      "[600]\ttraining's l1: 3.95384\tvalid_1's l1: 8.98995\n",
      "Early stopping, best iteration is:\n",
      "[421]\ttraining's l1: 4.71058\tvalid_1's l1: 8.94641\n",
      "fold n°1\n"
     ]
    },
    {
     "name": "stderr",
     "output_type": "stream",
     "text": [
      "C:\\Users\\linda\\Anaconda3\\lib\\site-packages\\lightgbm\\basic.py:1186: UserWarning: Using categorical_feature in Dataset.\n",
      "  warnings.warn('Using categorical_feature in Dataset.')\n"
     ]
    },
    {
     "name": "stdout",
     "output_type": "stream",
     "text": [
      "Training until validation scores don't improve for 200 rounds.\n",
      "[100]\ttraining's l1: 7.64201\tvalid_1's l1: 9.90674\n",
      "[200]\ttraining's l1: 6.25684\tvalid_1's l1: 9.68573\n",
      "[300]\ttraining's l1: 5.46519\tvalid_1's l1: 9.45808\n",
      "[400]\ttraining's l1: 4.87103\tvalid_1's l1: 9.35921\n",
      "[500]\ttraining's l1: 4.41145\tvalid_1's l1: 9.33239\n",
      "[600]\ttraining's l1: 4.02326\tvalid_1's l1: 9.33575\n",
      "[700]\ttraining's l1: 3.69834\tvalid_1's l1: 9.28943\n",
      "Early stopping, best iteration is:\n",
      "[539]\ttraining's l1: 4.25439\tvalid_1's l1: 9.26318\n",
      "fold n°2\n"
     ]
    },
    {
     "name": "stderr",
     "output_type": "stream",
     "text": [
      "C:\\Users\\linda\\Anaconda3\\lib\\site-packages\\lightgbm\\basic.py:1186: UserWarning: Using categorical_feature in Dataset.\n",
      "  warnings.warn('Using categorical_feature in Dataset.')\n"
     ]
    },
    {
     "name": "stdout",
     "output_type": "stream",
     "text": [
      "Training until validation scores don't improve for 200 rounds.\n",
      "[100]\ttraining's l1: 7.77461\tvalid_1's l1: 8.91317\n",
      "[200]\ttraining's l1: 6.2925\tvalid_1's l1: 8.5333\n",
      "[300]\ttraining's l1: 5.43573\tvalid_1's l1: 8.58247\n",
      "Early stopping, best iteration is:\n",
      "[180]\ttraining's l1: 6.50075\tvalid_1's l1: 8.49772\n",
      "fold n°3\n"
     ]
    },
    {
     "name": "stderr",
     "output_type": "stream",
     "text": [
      "C:\\Users\\linda\\Anaconda3\\lib\\site-packages\\lightgbm\\basic.py:1186: UserWarning: Using categorical_feature in Dataset.\n",
      "  warnings.warn('Using categorical_feature in Dataset.')\n"
     ]
    },
    {
     "name": "stdout",
     "output_type": "stream",
     "text": [
      "Training until validation scores don't improve for 200 rounds.\n",
      "[100]\ttraining's l1: 7.75726\tvalid_1's l1: 8.98854\n",
      "[200]\ttraining's l1: 6.35343\tvalid_1's l1: 8.43127\n",
      "[300]\ttraining's l1: 5.52462\tvalid_1's l1: 8.16594\n",
      "[400]\ttraining's l1: 4.92815\tvalid_1's l1: 8.01757\n",
      "[500]\ttraining's l1: 4.4662\tvalid_1's l1: 7.90153\n",
      "[600]\ttraining's l1: 4.084\tvalid_1's l1: 7.86678\n",
      "[700]\ttraining's l1: 3.75713\tvalid_1's l1: 7.91224\n",
      "[800]\ttraining's l1: 3.46802\tvalid_1's l1: 7.88622\n",
      "[900]\ttraining's l1: 3.22579\tvalid_1's l1: 7.85687\n",
      "[1000]\ttraining's l1: 3.00674\tvalid_1's l1: 7.81645\n",
      "Did not meet early stopping. Best iteration is:\n",
      "[1000]\ttraining's l1: 3.00674\tvalid_1's l1: 7.81645\n",
      "fold n°4\n"
     ]
    },
    {
     "name": "stderr",
     "output_type": "stream",
     "text": [
      "C:\\Users\\linda\\Anaconda3\\lib\\site-packages\\lightgbm\\basic.py:1186: UserWarning: Using categorical_feature in Dataset.\n",
      "  warnings.warn('Using categorical_feature in Dataset.')\n"
     ]
    },
    {
     "name": "stdout",
     "output_type": "stream",
     "text": [
      "Training until validation scores don't improve for 200 rounds.\n",
      "[100]\ttraining's l1: 7.4689\tvalid_1's l1: 11.3502\n",
      "[200]\ttraining's l1: 6.12061\tvalid_1's l1: 11.0925\n",
      "[300]\ttraining's l1: 5.3486\tvalid_1's l1: 11.1585\n",
      "Early stopping, best iteration is:\n",
      "[124]\ttraining's l1: 7.03893\tvalid_1's l1: 11.0412\n",
      "fold n°5\n"
     ]
    },
    {
     "name": "stderr",
     "output_type": "stream",
     "text": [
      "C:\\Users\\linda\\Anaconda3\\lib\\site-packages\\lightgbm\\basic.py:1186: UserWarning: Using categorical_feature in Dataset.\n",
      "  warnings.warn('Using categorical_feature in Dataset.')\n"
     ]
    },
    {
     "name": "stdout",
     "output_type": "stream",
     "text": [
      "Training until validation scores don't improve for 200 rounds.\n",
      "[100]\ttraining's l1: 7.59326\tvalid_1's l1: 10.6977\n",
      "[200]\ttraining's l1: 6.15528\tvalid_1's l1: 10.565\n",
      "[300]\ttraining's l1: 5.31805\tvalid_1's l1: 10.8309\n",
      "Early stopping, best iteration is:\n",
      "[156]\ttraining's l1: 6.6646\tvalid_1's l1: 10.4059\n",
      "fold n°6\n"
     ]
    },
    {
     "name": "stderr",
     "output_type": "stream",
     "text": [
      "C:\\Users\\linda\\Anaconda3\\lib\\site-packages\\lightgbm\\basic.py:1186: UserWarning: Using categorical_feature in Dataset.\n",
      "  warnings.warn('Using categorical_feature in Dataset.')\n"
     ]
    },
    {
     "name": "stdout",
     "output_type": "stream",
     "text": [
      "Training until validation scores don't improve for 200 rounds.\n",
      "[100]\ttraining's l1: 7.63943\tvalid_1's l1: 10.4683\n",
      "[200]\ttraining's l1: 6.24705\tvalid_1's l1: 9.92717\n",
      "[300]\ttraining's l1: 5.43172\tvalid_1's l1: 9.82709\n",
      "[400]\ttraining's l1: 4.84499\tvalid_1's l1: 9.87662\n",
      "[500]\ttraining's l1: 4.37333\tvalid_1's l1: 9.87517\n",
      "Early stopping, best iteration is:\n",
      "[331]\ttraining's l1: 5.23929\tvalid_1's l1: 9.8107\n",
      "fold n°7\n"
     ]
    },
    {
     "name": "stderr",
     "output_type": "stream",
     "text": [
      "C:\\Users\\linda\\Anaconda3\\lib\\site-packages\\lightgbm\\basic.py:1186: UserWarning: Using categorical_feature in Dataset.\n",
      "  warnings.warn('Using categorical_feature in Dataset.')\n"
     ]
    },
    {
     "name": "stdout",
     "output_type": "stream",
     "text": [
      "Training until validation scores don't improve for 200 rounds.\n",
      "[100]\ttraining's l1: 7.71488\tvalid_1's l1: 8.33438\n",
      "[200]\ttraining's l1: 6.33496\tvalid_1's l1: 8.0354\n",
      "[300]\ttraining's l1: 5.49425\tvalid_1's l1: 8.08212\n",
      "[400]\ttraining's l1: 4.88606\tvalid_1's l1: 8.08509\n",
      "Early stopping, best iteration is:\n",
      "[225]\ttraining's l1: 6.10006\tvalid_1's l1: 7.96622\n",
      "fold n°8\n"
     ]
    },
    {
     "name": "stderr",
     "output_type": "stream",
     "text": [
      "C:\\Users\\linda\\Anaconda3\\lib\\site-packages\\lightgbm\\basic.py:1186: UserWarning: Using categorical_feature in Dataset.\n",
      "  warnings.warn('Using categorical_feature in Dataset.')\n"
     ]
    },
    {
     "name": "stdout",
     "output_type": "stream",
     "text": [
      "Training until validation scores don't improve for 200 rounds.\n",
      "[100]\ttraining's l1: 7.65195\tvalid_1's l1: 9.79603\n",
      "[200]\ttraining's l1: 6.1635\tvalid_1's l1: 9.71461\n",
      "[300]\ttraining's l1: 5.33845\tvalid_1's l1: 9.68147\n",
      "[400]\ttraining's l1: 4.74493\tvalid_1's l1: 9.85611\n",
      "Early stopping, best iteration is:\n",
      "[298]\ttraining's l1: 5.3532\tvalid_1's l1: 9.66413\n",
      "fold n°9\n"
     ]
    },
    {
     "name": "stderr",
     "output_type": "stream",
     "text": [
      "C:\\Users\\linda\\Anaconda3\\lib\\site-packages\\lightgbm\\basic.py:1186: UserWarning: Using categorical_feature in Dataset.\n",
      "  warnings.warn('Using categorical_feature in Dataset.')\n"
     ]
    },
    {
     "name": "stdout",
     "output_type": "stream",
     "text": [
      "Training until validation scores don't improve for 200 rounds.\n",
      "[100]\ttraining's l1: 7.66003\tvalid_1's l1: 9.09804\n",
      "[200]\ttraining's l1: 6.28159\tvalid_1's l1: 8.7468\n",
      "[300]\ttraining's l1: 5.44646\tvalid_1's l1: 8.78403\n",
      "Early stopping, best iteration is:\n",
      "[162]\ttraining's l1: 6.68295\tvalid_1's l1: 8.698\n"
     ]
    },
    {
     "name": "stderr",
     "output_type": "stream",
     "text": [
      "\r",
      " 33%|████████████████████████████                                                        | 2/6 [02:13<04:20, 65.15s/it]"
     ]
    },
    {
     "name": "stdout",
     "output_type": "stream",
     "text": [
      "fold n°0\n"
     ]
    },
    {
     "name": "stderr",
     "output_type": "stream",
     "text": [
      "C:\\Users\\linda\\Anaconda3\\lib\\site-packages\\lightgbm\\basic.py:1186: UserWarning: Using categorical_feature in Dataset.\n",
      "  warnings.warn('Using categorical_feature in Dataset.')\n"
     ]
    },
    {
     "name": "stdout",
     "output_type": "stream",
     "text": [
      "Training until validation scores don't improve for 200 rounds.\n",
      "[100]\ttraining's l1: 7.95711\tvalid_1's l1: 8.34799\n",
      "[200]\ttraining's l1: 6.49182\tvalid_1's l1: 8.1641\n",
      "[300]\ttraining's l1: 5.65959\tvalid_1's l1: 8.20453\n",
      "Early stopping, best iteration is:\n",
      "[194]\ttraining's l1: 6.55481\tvalid_1's l1: 8.12293\n",
      "fold n°1\n"
     ]
    },
    {
     "name": "stderr",
     "output_type": "stream",
     "text": [
      "C:\\Users\\linda\\Anaconda3\\lib\\site-packages\\lightgbm\\basic.py:1186: UserWarning: Using categorical_feature in Dataset.\n",
      "  warnings.warn('Using categorical_feature in Dataset.')\n"
     ]
    },
    {
     "name": "stdout",
     "output_type": "stream",
     "text": [
      "Training until validation scores don't improve for 200 rounds.\n",
      "[100]\ttraining's l1: 7.84994\tvalid_1's l1: 9.80028\n",
      "[200]\ttraining's l1: 6.42956\tvalid_1's l1: 9.86747\n",
      "Early stopping, best iteration is:\n",
      "[94]\ttraining's l1: 7.9834\tvalid_1's l1: 9.73351\n",
      "fold n°2\n"
     ]
    },
    {
     "name": "stderr",
     "output_type": "stream",
     "text": [
      "C:\\Users\\linda\\Anaconda3\\lib\\site-packages\\lightgbm\\basic.py:1186: UserWarning: Using categorical_feature in Dataset.\n",
      "  warnings.warn('Using categorical_feature in Dataset.')\n"
     ]
    },
    {
     "name": "stdout",
     "output_type": "stream",
     "text": [
      "Training until validation scores don't improve for 200 rounds.\n",
      "[100]\ttraining's l1: 7.94225\tvalid_1's l1: 10.2762\n",
      "[200]\ttraining's l1: 6.5568\tvalid_1's l1: 9.79772\n",
      "[300]\ttraining's l1: 5.70815\tvalid_1's l1: 9.72475\n",
      "[400]\ttraining's l1: 5.08905\tvalid_1's l1: 9.5838\n",
      "[500]\ttraining's l1: 4.59069\tvalid_1's l1: 9.65693\n",
      "[600]\ttraining's l1: 4.18622\tvalid_1's l1: 9.68621\n",
      "Early stopping, best iteration is:\n",
      "[446]\ttraining's l1: 4.84269\tvalid_1's l1: 9.57078\n",
      "fold n°3\n"
     ]
    },
    {
     "name": "stderr",
     "output_type": "stream",
     "text": [
      "C:\\Users\\linda\\Anaconda3\\lib\\site-packages\\lightgbm\\basic.py:1186: UserWarning: Using categorical_feature in Dataset.\n",
      "  warnings.warn('Using categorical_feature in Dataset.')\n"
     ]
    },
    {
     "name": "stdout",
     "output_type": "stream",
     "text": [
      "Training until validation scores don't improve for 200 rounds.\n",
      "[100]\ttraining's l1: 7.92355\tvalid_1's l1: 9.90635\n",
      "[200]\ttraining's l1: 6.49674\tvalid_1's l1: 9.62666\n",
      "[300]\ttraining's l1: 5.66332\tvalid_1's l1: 9.53249\n",
      "[400]\ttraining's l1: 5.04825\tvalid_1's l1: 9.56739\n",
      "[500]\ttraining's l1: 4.56604\tvalid_1's l1: 9.64321\n",
      "Early stopping, best iteration is:\n",
      "[362]\ttraining's l1: 5.26038\tvalid_1's l1: 9.49018\n",
      "fold n°4\n"
     ]
    },
    {
     "name": "stderr",
     "output_type": "stream",
     "text": [
      "C:\\Users\\linda\\Anaconda3\\lib\\site-packages\\lightgbm\\basic.py:1186: UserWarning: Using categorical_feature in Dataset.\n",
      "  warnings.warn('Using categorical_feature in Dataset.')\n"
     ]
    },
    {
     "name": "stdout",
     "output_type": "stream",
     "text": [
      "Training until validation scores don't improve for 200 rounds.\n",
      "[100]\ttraining's l1: 7.82047\tvalid_1's l1: 10.4835\n",
      "[200]\ttraining's l1: 6.40097\tvalid_1's l1: 10.2247\n",
      "[300]\ttraining's l1: 5.60075\tvalid_1's l1: 10.2265\n",
      "[400]\ttraining's l1: 4.98557\tvalid_1's l1: 10.15\n",
      "Early stopping, best iteration is:\n",
      "[237]\ttraining's l1: 6.08829\tvalid_1's l1: 10.124\n",
      "fold n°5\n"
     ]
    },
    {
     "name": "stderr",
     "output_type": "stream",
     "text": [
      "C:\\Users\\linda\\Anaconda3\\lib\\site-packages\\lightgbm\\basic.py:1186: UserWarning: Using categorical_feature in Dataset.\n",
      "  warnings.warn('Using categorical_feature in Dataset.')\n"
     ]
    },
    {
     "name": "stdout",
     "output_type": "stream",
     "text": [
      "Training until validation scores don't improve for 200 rounds.\n",
      "[100]\ttraining's l1: 7.77898\tvalid_1's l1: 11.4266\n",
      "[200]\ttraining's l1: 6.37089\tvalid_1's l1: 11.0145\n",
      "[300]\ttraining's l1: 5.56324\tvalid_1's l1: 10.856\n",
      "[400]\ttraining's l1: 4.94056\tvalid_1's l1: 10.8803\n",
      "[500]\ttraining's l1: 4.45658\tvalid_1's l1: 11.0366\n",
      "Early stopping, best iteration is:\n",
      "[345]\ttraining's l1: 5.26709\tvalid_1's l1: 10.8121\n",
      "fold n°6\n"
     ]
    },
    {
     "name": "stderr",
     "output_type": "stream",
     "text": [
      "C:\\Users\\linda\\Anaconda3\\lib\\site-packages\\lightgbm\\basic.py:1186: UserWarning: Using categorical_feature in Dataset.\n",
      "  warnings.warn('Using categorical_feature in Dataset.')\n"
     ]
    },
    {
     "name": "stdout",
     "output_type": "stream",
     "text": [
      "Training until validation scores don't improve for 200 rounds.\n",
      "[100]\ttraining's l1: 7.9084\tvalid_1's l1: 9.91427\n",
      "[200]\ttraining's l1: 6.42337\tvalid_1's l1: 9.95323\n",
      "[300]\ttraining's l1: 5.59484\tvalid_1's l1: 10.0455\n",
      "Early stopping, best iteration is:\n",
      "[101]\ttraining's l1: 7.88251\tvalid_1's l1: 9.89312\n",
      "fold n°7\n"
     ]
    },
    {
     "name": "stderr",
     "output_type": "stream",
     "text": [
      "C:\\Users\\linda\\Anaconda3\\lib\\site-packages\\lightgbm\\basic.py:1186: UserWarning: Using categorical_feature in Dataset.\n",
      "  warnings.warn('Using categorical_feature in Dataset.')\n"
     ]
    },
    {
     "name": "stdout",
     "output_type": "stream",
     "text": [
      "Training until validation scores don't improve for 200 rounds.\n",
      "[100]\ttraining's l1: 7.84744\tvalid_1's l1: 10.3861\n",
      "[200]\ttraining's l1: 6.42187\tvalid_1's l1: 10.1269\n",
      "[300]\ttraining's l1: 5.59325\tvalid_1's l1: 10.0361\n",
      "[400]\ttraining's l1: 4.99683\tvalid_1's l1: 10.19\n",
      "Early stopping, best iteration is:\n",
      "[239]\ttraining's l1: 6.06707\tvalid_1's l1: 10.0222\n",
      "fold n°8\n"
     ]
    },
    {
     "name": "stderr",
     "output_type": "stream",
     "text": [
      "C:\\Users\\linda\\Anaconda3\\lib\\site-packages\\lightgbm\\basic.py:1186: UserWarning: Using categorical_feature in Dataset.\n",
      "  warnings.warn('Using categorical_feature in Dataset.')\n"
     ]
    },
    {
     "name": "stdout",
     "output_type": "stream",
     "text": [
      "Training until validation scores don't improve for 200 rounds.\n",
      "[100]\ttraining's l1: 7.83917\tvalid_1's l1: 8.94433\n",
      "[200]\ttraining's l1: 6.44136\tvalid_1's l1: 9.01337\n",
      "Early stopping, best iteration is:\n",
      "[98]\ttraining's l1: 7.88843\tvalid_1's l1: 8.93449\n",
      "fold n°9\n"
     ]
    },
    {
     "name": "stderr",
     "output_type": "stream",
     "text": [
      "C:\\Users\\linda\\Anaconda3\\lib\\site-packages\\lightgbm\\basic.py:1186: UserWarning: Using categorical_feature in Dataset.\n",
      "  warnings.warn('Using categorical_feature in Dataset.')\n"
     ]
    },
    {
     "name": "stdout",
     "output_type": "stream",
     "text": [
      "Training until validation scores don't improve for 200 rounds.\n",
      "[100]\ttraining's l1: 7.86675\tvalid_1's l1: 9.8633\n",
      "[200]\ttraining's l1: 6.47394\tvalid_1's l1: 9.46069\n",
      "[300]\ttraining's l1: 5.65855\tvalid_1's l1: 9.41794\n",
      "[400]\ttraining's l1: 5.0117\tvalid_1's l1: 9.43933\n",
      "[500]\ttraining's l1: 4.51499\tvalid_1's l1: 9.49112\n",
      "Early stopping, best iteration is:\n",
      "[324]\ttraining's l1: 5.48776\tvalid_1's l1: 9.40368\n"
     ]
    },
    {
     "name": "stderr",
     "output_type": "stream",
     "text": [
      "\r",
      " 50%|██████████████████████████████████████████                                          | 3/6 [03:03<03:02, 60.75s/it]"
     ]
    },
    {
     "name": "stdout",
     "output_type": "stream",
     "text": [
      "fold n°0\n"
     ]
    },
    {
     "name": "stderr",
     "output_type": "stream",
     "text": [
      "C:\\Users\\linda\\Anaconda3\\lib\\site-packages\\lightgbm\\basic.py:1186: UserWarning: Using categorical_feature in Dataset.\n",
      "  warnings.warn('Using categorical_feature in Dataset.')\n"
     ]
    },
    {
     "name": "stdout",
     "output_type": "stream",
     "text": [
      "Training until validation scores don't improve for 200 rounds.\n",
      "[100]\ttraining's l1: 8.28669\tvalid_1's l1: 9.42835\n",
      "[200]\ttraining's l1: 6.77724\tvalid_1's l1: 9.01199\n",
      "[300]\ttraining's l1: 5.83494\tvalid_1's l1: 8.90009\n",
      "[400]\ttraining's l1: 5.15568\tvalid_1's l1: 8.83978\n",
      "[500]\ttraining's l1: 4.62212\tvalid_1's l1: 8.81343\n",
      "[600]\ttraining's l1: 4.19179\tvalid_1's l1: 8.85141\n",
      "Early stopping, best iteration is:\n",
      "[483]\ttraining's l1: 4.70586\tvalid_1's l1: 8.75802\n",
      "fold n°1\n"
     ]
    },
    {
     "name": "stderr",
     "output_type": "stream",
     "text": [
      "C:\\Users\\linda\\Anaconda3\\lib\\site-packages\\lightgbm\\basic.py:1186: UserWarning: Using categorical_feature in Dataset.\n",
      "  warnings.warn('Using categorical_feature in Dataset.')\n"
     ]
    },
    {
     "name": "stdout",
     "output_type": "stream",
     "text": [
      "Training until validation scores don't improve for 200 rounds.\n",
      "[100]\ttraining's l1: 8.30402\tvalid_1's l1: 10.2984\n",
      "[200]\ttraining's l1: 6.75739\tvalid_1's l1: 10.1344\n",
      "[300]\ttraining's l1: 5.85935\tvalid_1's l1: 10.2821\n",
      "Early stopping, best iteration is:\n",
      "[148]\ttraining's l1: 7.39511\tvalid_1's l1: 9.92663\n",
      "fold n°2\n"
     ]
    },
    {
     "name": "stderr",
     "output_type": "stream",
     "text": [
      "C:\\Users\\linda\\Anaconda3\\lib\\site-packages\\lightgbm\\basic.py:1186: UserWarning: Using categorical_feature in Dataset.\n",
      "  warnings.warn('Using categorical_feature in Dataset.')\n"
     ]
    },
    {
     "name": "stdout",
     "output_type": "stream",
     "text": [
      "Training until validation scores don't improve for 200 rounds.\n",
      "[100]\ttraining's l1: 8.24137\tvalid_1's l1: 9.84652\n",
      "[200]\ttraining's l1: 6.71193\tvalid_1's l1: 9.28789\n",
      "[300]\ttraining's l1: 5.79187\tvalid_1's l1: 9.34309\n",
      "Early stopping, best iteration is:\n",
      "[184]\ttraining's l1: 6.88979\tvalid_1's l1: 9.21751\n",
      "fold n°3\n"
     ]
    },
    {
     "name": "stderr",
     "output_type": "stream",
     "text": [
      "C:\\Users\\linda\\Anaconda3\\lib\\site-packages\\lightgbm\\basic.py:1186: UserWarning: Using categorical_feature in Dataset.\n",
      "  warnings.warn('Using categorical_feature in Dataset.')\n"
     ]
    },
    {
     "name": "stdout",
     "output_type": "stream",
     "text": [
      "Training until validation scores don't improve for 200 rounds.\n",
      "[100]\ttraining's l1: 8.3641\tvalid_1's l1: 11.0469\n",
      "[200]\ttraining's l1: 6.78124\tvalid_1's l1: 10.8029\n",
      "[300]\ttraining's l1: 5.88831\tvalid_1's l1: 10.8783\n",
      "Early stopping, best iteration is:\n",
      "[187]\ttraining's l1: 6.93298\tvalid_1's l1: 10.7526\n",
      "fold n°4\n"
     ]
    },
    {
     "name": "stderr",
     "output_type": "stream",
     "text": [
      "C:\\Users\\linda\\Anaconda3\\lib\\site-packages\\lightgbm\\basic.py:1186: UserWarning: Using categorical_feature in Dataset.\n",
      "  warnings.warn('Using categorical_feature in Dataset.')\n"
     ]
    },
    {
     "name": "stdout",
     "output_type": "stream",
     "text": [
      "Training until validation scores don't improve for 200 rounds.\n",
      "[100]\ttraining's l1: 8.13001\tvalid_1's l1: 11.3763\n",
      "[200]\ttraining's l1: 6.53628\tvalid_1's l1: 11.2511\n",
      "[300]\ttraining's l1: 5.64677\tvalid_1's l1: 11.4612\n",
      "Early stopping, best iteration is:\n",
      "[132]\ttraining's l1: 7.47714\tvalid_1's l1: 11.1861\n",
      "fold n°5\n"
     ]
    },
    {
     "name": "stderr",
     "output_type": "stream",
     "text": [
      "C:\\Users\\linda\\Anaconda3\\lib\\site-packages\\lightgbm\\basic.py:1186: UserWarning: Using categorical_feature in Dataset.\n",
      "  warnings.warn('Using categorical_feature in Dataset.')\n"
     ]
    },
    {
     "name": "stdout",
     "output_type": "stream",
     "text": [
      "Training until validation scores don't improve for 200 rounds.\n",
      "[100]\ttraining's l1: 8.22882\tvalid_1's l1: 10.9685\n",
      "[200]\ttraining's l1: 6.73654\tvalid_1's l1: 10.4818\n",
      "[300]\ttraining's l1: 5.88026\tvalid_1's l1: 10.4284\n",
      "[400]\ttraining's l1: 5.21412\tvalid_1's l1: 10.3337\n",
      "[500]\ttraining's l1: 4.6673\tvalid_1's l1: 10.3068\n",
      "[600]\ttraining's l1: 4.22926\tvalid_1's l1: 10.3952\n",
      "Early stopping, best iteration is:\n",
      "[463]\ttraining's l1: 4.85645\tvalid_1's l1: 10.2405\n",
      "fold n°6\n"
     ]
    },
    {
     "name": "stderr",
     "output_type": "stream",
     "text": [
      "C:\\Users\\linda\\Anaconda3\\lib\\site-packages\\lightgbm\\basic.py:1186: UserWarning: Using categorical_feature in Dataset.\n",
      "  warnings.warn('Using categorical_feature in Dataset.')\n"
     ]
    },
    {
     "name": "stdout",
     "output_type": "stream",
     "text": [
      "Training until validation scores don't improve for 200 rounds.\n",
      "[100]\ttraining's l1: 8.22999\tvalid_1's l1: 10.5417\n",
      "[200]\ttraining's l1: 6.67912\tvalid_1's l1: 10.4381\n",
      "[300]\ttraining's l1: 5.77878\tvalid_1's l1: 10.4023\n",
      "[400]\ttraining's l1: 5.12647\tvalid_1's l1: 10.5026\n",
      "Early stopping, best iteration is:\n",
      "[242]\ttraining's l1: 6.25481\tvalid_1's l1: 10.3613\n",
      "fold n°7\n"
     ]
    },
    {
     "name": "stderr",
     "output_type": "stream",
     "text": [
      "C:\\Users\\linda\\Anaconda3\\lib\\site-packages\\lightgbm\\basic.py:1186: UserWarning: Using categorical_feature in Dataset.\n",
      "  warnings.warn('Using categorical_feature in Dataset.')\n"
     ]
    },
    {
     "name": "stdout",
     "output_type": "stream",
     "text": [
      "Training until validation scores don't improve for 200 rounds.\n",
      "[100]\ttraining's l1: 8.33583\tvalid_1's l1: 10.1628\n",
      "[200]\ttraining's l1: 6.74351\tvalid_1's l1: 9.9559\n",
      "[300]\ttraining's l1: 5.82576\tvalid_1's l1: 10.0672\n",
      "Early stopping, best iteration is:\n",
      "[136]\ttraining's l1: 7.61544\tvalid_1's l1: 9.82514\n",
      "fold n°8\n"
     ]
    },
    {
     "name": "stderr",
     "output_type": "stream",
     "text": [
      "C:\\Users\\linda\\Anaconda3\\lib\\site-packages\\lightgbm\\basic.py:1186: UserWarning: Using categorical_feature in Dataset.\n",
      "  warnings.warn('Using categorical_feature in Dataset.')\n"
     ]
    },
    {
     "name": "stdout",
     "output_type": "stream",
     "text": [
      "Training until validation scores don't improve for 200 rounds.\n",
      "[100]\ttraining's l1: 8.27058\tvalid_1's l1: 9.66872\n",
      "[200]\ttraining's l1: 6.6929\tvalid_1's l1: 9.85618\n",
      "[300]\ttraining's l1: 5.78138\tvalid_1's l1: 9.95954\n",
      "Early stopping, best iteration is:\n",
      "[117]\ttraining's l1: 7.88972\tvalid_1's l1: 9.63811\n",
      "fold n°9\n"
     ]
    },
    {
     "name": "stderr",
     "output_type": "stream",
     "text": [
      "C:\\Users\\linda\\Anaconda3\\lib\\site-packages\\lightgbm\\basic.py:1186: UserWarning: Using categorical_feature in Dataset.\n",
      "  warnings.warn('Using categorical_feature in Dataset.')\n"
     ]
    },
    {
     "name": "stdout",
     "output_type": "stream",
     "text": [
      "Training until validation scores don't improve for 200 rounds.\n",
      "[100]\ttraining's l1: 8.34634\tvalid_1's l1: 10.1567\n",
      "[200]\ttraining's l1: 6.72498\tvalid_1's l1: 10.1218\n",
      "[300]\ttraining's l1: 5.78465\tvalid_1's l1: 10.3606\n",
      "Early stopping, best iteration is:\n",
      "[148]\ttraining's l1: 7.4156\tvalid_1's l1: 9.92098\n"
     ]
    },
    {
     "name": "stderr",
     "output_type": "stream",
     "text": [
      "\r",
      " 67%|████████████████████████████████████████████████████████                            | 4/6 [03:47<01:51, 55.81s/it]"
     ]
    },
    {
     "name": "stdout",
     "output_type": "stream",
     "text": [
      "fold n°0\n"
     ]
    },
    {
     "name": "stderr",
     "output_type": "stream",
     "text": [
      "C:\\Users\\linda\\Anaconda3\\lib\\site-packages\\lightgbm\\basic.py:1186: UserWarning: Using categorical_feature in Dataset.\n",
      "  warnings.warn('Using categorical_feature in Dataset.')\n"
     ]
    },
    {
     "name": "stdout",
     "output_type": "stream",
     "text": [
      "Training until validation scores don't improve for 200 rounds.\n",
      "[100]\ttraining's l1: 8.31883\tvalid_1's l1: 10.5697\n",
      "[200]\ttraining's l1: 6.79503\tvalid_1's l1: 10.8651\n",
      "[300]\ttraining's l1: 5.879\tvalid_1's l1: 10.9911\n",
      "Early stopping, best iteration is:\n",
      "[102]\ttraining's l1: 8.27632\tvalid_1's l1: 10.5279\n",
      "fold n°1\n"
     ]
    },
    {
     "name": "stderr",
     "output_type": "stream",
     "text": [
      "C:\\Users\\linda\\Anaconda3\\lib\\site-packages\\lightgbm\\basic.py:1186: UserWarning: Using categorical_feature in Dataset.\n",
      "  warnings.warn('Using categorical_feature in Dataset.')\n"
     ]
    },
    {
     "name": "stdout",
     "output_type": "stream",
     "text": [
      "Training until validation scores don't improve for 200 rounds.\n",
      "[100]\ttraining's l1: 8.2802\tvalid_1's l1: 10.4297\n",
      "[200]\ttraining's l1: 6.80537\tvalid_1's l1: 10.23\n",
      "[300]\ttraining's l1: 5.90385\tvalid_1's l1: 10.2061\n",
      "[400]\ttraining's l1: 5.21644\tvalid_1's l1: 10.1388\n",
      "[500]\ttraining's l1: 4.67604\tvalid_1's l1: 10.1773\n",
      "[600]\ttraining's l1: 4.26435\tvalid_1's l1: 10.1526\n",
      "Early stopping, best iteration is:\n",
      "[421]\ttraining's l1: 5.08612\tvalid_1's l1: 10.1221\n",
      "fold n°2\n"
     ]
    },
    {
     "name": "stderr",
     "output_type": "stream",
     "text": [
      "C:\\Users\\linda\\Anaconda3\\lib\\site-packages\\lightgbm\\basic.py:1186: UserWarning: Using categorical_feature in Dataset.\n",
      "  warnings.warn('Using categorical_feature in Dataset.')\n"
     ]
    },
    {
     "name": "stdout",
     "output_type": "stream",
     "text": [
      "Training until validation scores don't improve for 200 rounds.\n",
      "[100]\ttraining's l1: 8.28918\tvalid_1's l1: 10.9718\n",
      "[200]\ttraining's l1: 6.80789\tvalid_1's l1: 11.0678\n",
      "[300]\ttraining's l1: 5.85746\tvalid_1's l1: 11.1612\n",
      "Early stopping, best iteration is:\n",
      "[152]\ttraining's l1: 7.41024\tvalid_1's l1: 10.8713\n",
      "fold n°3\n"
     ]
    },
    {
     "name": "stderr",
     "output_type": "stream",
     "text": [
      "C:\\Users\\linda\\Anaconda3\\lib\\site-packages\\lightgbm\\basic.py:1186: UserWarning: Using categorical_feature in Dataset.\n",
      "  warnings.warn('Using categorical_feature in Dataset.')\n"
     ]
    },
    {
     "name": "stdout",
     "output_type": "stream",
     "text": [
      "Training until validation scores don't improve for 200 rounds.\n",
      "[100]\ttraining's l1: 8.3526\tvalid_1's l1: 9.30981\n",
      "[200]\ttraining's l1: 6.81827\tvalid_1's l1: 9.2131\n",
      "[300]\ttraining's l1: 5.9\tvalid_1's l1: 9.28775\n",
      "Early stopping, best iteration is:\n",
      "[118]\ttraining's l1: 7.96636\tvalid_1's l1: 9.17587\n",
      "fold n°4\n"
     ]
    },
    {
     "name": "stderr",
     "output_type": "stream",
     "text": [
      "C:\\Users\\linda\\Anaconda3\\lib\\site-packages\\lightgbm\\basic.py:1186: UserWarning: Using categorical_feature in Dataset.\n",
      "  warnings.warn('Using categorical_feature in Dataset.')\n"
     ]
    },
    {
     "name": "stdout",
     "output_type": "stream",
     "text": [
      "Training until validation scores don't improve for 200 rounds.\n",
      "[100]\ttraining's l1: 8.14746\tvalid_1's l1: 12.2984\n",
      "[200]\ttraining's l1: 6.67285\tvalid_1's l1: 12.2723\n",
      "[300]\ttraining's l1: 5.75844\tvalid_1's l1: 12.26\n",
      "Early stopping, best iteration is:\n",
      "[171]\ttraining's l1: 7.01051\tvalid_1's l1: 12.1989\n",
      "fold n°5\n"
     ]
    },
    {
     "name": "stderr",
     "output_type": "stream",
     "text": [
      "C:\\Users\\linda\\Anaconda3\\lib\\site-packages\\lightgbm\\basic.py:1186: UserWarning: Using categorical_feature in Dataset.\n",
      "  warnings.warn('Using categorical_feature in Dataset.')\n"
     ]
    },
    {
     "name": "stdout",
     "output_type": "stream",
     "text": [
      "Training until validation scores don't improve for 200 rounds.\n",
      "[100]\ttraining's l1: 8.16362\tvalid_1's l1: 11.1214\n",
      "[200]\ttraining's l1: 6.67568\tvalid_1's l1: 10.8278\n",
      "[300]\ttraining's l1: 5.78536\tvalid_1's l1: 10.6526\n",
      "[400]\ttraining's l1: 5.11378\tvalid_1's l1: 10.5807\n",
      "[500]\ttraining's l1: 4.59851\tvalid_1's l1: 10.6024\n",
      "[600]\ttraining's l1: 4.15826\tvalid_1's l1: 10.5076\n",
      "[700]\ttraining's l1: 3.80961\tvalid_1's l1: 10.5739\n",
      "Early stopping, best iteration is:\n",
      "[595]\ttraining's l1: 4.18002\tvalid_1's l1: 10.4972\n",
      "fold n°6\n"
     ]
    },
    {
     "name": "stderr",
     "output_type": "stream",
     "text": [
      "C:\\Users\\linda\\Anaconda3\\lib\\site-packages\\lightgbm\\basic.py:1186: UserWarning: Using categorical_feature in Dataset.\n",
      "  warnings.warn('Using categorical_feature in Dataset.')\n"
     ]
    },
    {
     "name": "stdout",
     "output_type": "stream",
     "text": [
      "Training until validation scores don't improve for 200 rounds.\n",
      "[100]\ttraining's l1: 8.29163\tvalid_1's l1: 9.95989\n",
      "[200]\ttraining's l1: 6.75852\tvalid_1's l1: 9.51187\n",
      "[300]\ttraining's l1: 5.83488\tvalid_1's l1: 9.50287\n",
      "[400]\ttraining's l1: 5.13903\tvalid_1's l1: 9.45295\n",
      "[500]\ttraining's l1: 4.6092\tvalid_1's l1: 9.49509\n",
      "[600]\ttraining's l1: 4.18277\tvalid_1's l1: 9.47098\n",
      "[700]\ttraining's l1: 3.82918\tvalid_1's l1: 9.51026\n",
      "Early stopping, best iteration is:\n",
      "[549]\ttraining's l1: 4.39123\tvalid_1's l1: 9.39338\n",
      "fold n°7\n"
     ]
    },
    {
     "name": "stderr",
     "output_type": "stream",
     "text": [
      "C:\\Users\\linda\\Anaconda3\\lib\\site-packages\\lightgbm\\basic.py:1186: UserWarning: Using categorical_feature in Dataset.\n",
      "  warnings.warn('Using categorical_feature in Dataset.')\n"
     ]
    },
    {
     "name": "stdout",
     "output_type": "stream",
     "text": [
      "Training until validation scores don't improve for 200 rounds.\n",
      "[100]\ttraining's l1: 8.22081\tvalid_1's l1: 11.3311\n",
      "[200]\ttraining's l1: 6.66066\tvalid_1's l1: 11.3467\n",
      "[300]\ttraining's l1: 5.74134\tvalid_1's l1: 11.2637\n",
      "Early stopping, best iteration is:\n",
      "[118]\ttraining's l1: 7.83751\tvalid_1's l1: 11.1967\n",
      "fold n°8\n"
     ]
    },
    {
     "name": "stderr",
     "output_type": "stream",
     "text": [
      "C:\\Users\\linda\\Anaconda3\\lib\\site-packages\\lightgbm\\basic.py:1186: UserWarning: Using categorical_feature in Dataset.\n",
      "  warnings.warn('Using categorical_feature in Dataset.')\n"
     ]
    },
    {
     "name": "stdout",
     "output_type": "stream",
     "text": [
      "Training until validation scores don't improve for 200 rounds.\n",
      "[100]\ttraining's l1: 8.29083\tvalid_1's l1: 11.8103\n",
      "[200]\ttraining's l1: 6.74421\tvalid_1's l1: 11.7335\n",
      "[300]\ttraining's l1: 5.82095\tvalid_1's l1: 11.6941\n",
      "[400]\ttraining's l1: 5.14567\tvalid_1's l1: 11.7108\n",
      "[500]\ttraining's l1: 4.59514\tvalid_1's l1: 11.8377\n",
      "Early stopping, best iteration is:\n",
      "[324]\ttraining's l1: 5.64008\tvalid_1's l1: 11.6484\n",
      "fold n°9\n"
     ]
    },
    {
     "name": "stderr",
     "output_type": "stream",
     "text": [
      "C:\\Users\\linda\\Anaconda3\\lib\\site-packages\\lightgbm\\basic.py:1186: UserWarning: Using categorical_feature in Dataset.\n",
      "  warnings.warn('Using categorical_feature in Dataset.')\n"
     ]
    },
    {
     "name": "stdout",
     "output_type": "stream",
     "text": [
      "Training until validation scores don't improve for 200 rounds.\n",
      "[100]\ttraining's l1: 8.36634\tvalid_1's l1: 9.60569\n",
      "[200]\ttraining's l1: 6.86627\tvalid_1's l1: 9.36153\n",
      "[300]\ttraining's l1: 5.9224\tvalid_1's l1: 9.55153\n",
      "Early stopping, best iteration is:\n",
      "[179]\ttraining's l1: 7.10519\tvalid_1's l1: 9.29548\n"
     ]
    },
    {
     "name": "stderr",
     "output_type": "stream",
     "text": [
      "\r",
      " 83%|██████████████████████████████████████████████████████████████████████              | 5/6 [04:59<01:00, 60.43s/it]"
     ]
    },
    {
     "name": "stdout",
     "output_type": "stream",
     "text": [
      "fold n°0\n"
     ]
    },
    {
     "name": "stderr",
     "output_type": "stream",
     "text": [
      "C:\\Users\\linda\\Anaconda3\\lib\\site-packages\\lightgbm\\basic.py:1186: UserWarning: Using categorical_feature in Dataset.\n",
      "  warnings.warn('Using categorical_feature in Dataset.')\n"
     ]
    },
    {
     "name": "stdout",
     "output_type": "stream",
     "text": [
      "Training until validation scores don't improve for 200 rounds.\n",
      "[100]\ttraining's l1: 6.98824\tvalid_1's l1: 8.83922\n",
      "[200]\ttraining's l1: 5.52936\tvalid_1's l1: 8.8335\n",
      "[300]\ttraining's l1: 4.69651\tvalid_1's l1: 8.75883\n",
      "[400]\ttraining's l1: 4.13242\tvalid_1's l1: 8.8458\n",
      "Early stopping, best iteration is:\n",
      "[274]\ttraining's l1: 4.88704\tvalid_1's l1: 8.71728\n",
      "fold n°1\n"
     ]
    },
    {
     "name": "stderr",
     "output_type": "stream",
     "text": [
      "C:\\Users\\linda\\Anaconda3\\lib\\site-packages\\lightgbm\\basic.py:1186: UserWarning: Using categorical_feature in Dataset.\n",
      "  warnings.warn('Using categorical_feature in Dataset.')\n"
     ]
    },
    {
     "name": "stdout",
     "output_type": "stream",
     "text": [
      "Training until validation scores don't improve for 200 rounds.\n",
      "[100]\ttraining's l1: 6.9924\tvalid_1's l1: 9.70854\n",
      "[200]\ttraining's l1: 5.59148\tvalid_1's l1: 9.22949\n",
      "[300]\ttraining's l1: 4.71681\tvalid_1's l1: 9.12555\n",
      "[400]\ttraining's l1: 4.12226\tvalid_1's l1: 9.14526\n",
      "Early stopping, best iteration is:\n",
      "[269]\ttraining's l1: 4.96655\tvalid_1's l1: 9.0986\n",
      "fold n°2\n"
     ]
    },
    {
     "name": "stderr",
     "output_type": "stream",
     "text": [
      "C:\\Users\\linda\\Anaconda3\\lib\\site-packages\\lightgbm\\basic.py:1186: UserWarning: Using categorical_feature in Dataset.\n",
      "  warnings.warn('Using categorical_feature in Dataset.')\n"
     ]
    },
    {
     "name": "stdout",
     "output_type": "stream",
     "text": [
      "Training until validation scores don't improve for 200 rounds.\n",
      "[100]\ttraining's l1: 7.0483\tvalid_1's l1: 8.97292\n",
      "[200]\ttraining's l1: 5.59011\tvalid_1's l1: 8.57634\n",
      "[300]\ttraining's l1: 4.7817\tvalid_1's l1: 8.50122\n",
      "[400]\ttraining's l1: 4.15844\tvalid_1's l1: 8.4793\n",
      "[500]\ttraining's l1: 3.69429\tvalid_1's l1: 8.44744\n",
      "Early stopping, best iteration is:\n",
      "[360]\ttraining's l1: 4.38718\tvalid_1's l1: 8.41623\n",
      "fold n°3\n"
     ]
    },
    {
     "name": "stderr",
     "output_type": "stream",
     "text": [
      "C:\\Users\\linda\\Anaconda3\\lib\\site-packages\\lightgbm\\basic.py:1186: UserWarning: Using categorical_feature in Dataset.\n",
      "  warnings.warn('Using categorical_feature in Dataset.')\n"
     ]
    },
    {
     "name": "stdout",
     "output_type": "stream",
     "text": [
      "Training until validation scores don't improve for 200 rounds.\n",
      "[100]\ttraining's l1: 6.97143\tvalid_1's l1: 9.7087\n",
      "[200]\ttraining's l1: 5.53261\tvalid_1's l1: 9.49757\n",
      "[300]\ttraining's l1: 4.66136\tvalid_1's l1: 9.59371\n",
      "Early stopping, best iteration is:\n",
      "[157]\ttraining's l1: 6.06359\tvalid_1's l1: 9.44089\n",
      "fold n°4\n"
     ]
    },
    {
     "name": "stderr",
     "output_type": "stream",
     "text": [
      "C:\\Users\\linda\\Anaconda3\\lib\\site-packages\\lightgbm\\basic.py:1186: UserWarning: Using categorical_feature in Dataset.\n",
      "  warnings.warn('Using categorical_feature in Dataset.')\n"
     ]
    },
    {
     "name": "stdout",
     "output_type": "stream",
     "text": [
      "Training until validation scores don't improve for 200 rounds.\n",
      "[100]\ttraining's l1: 6.91118\tvalid_1's l1: 10.0509\n",
      "[200]\ttraining's l1: 5.48722\tvalid_1's l1: 9.94029\n",
      "[300]\ttraining's l1: 4.6524\tvalid_1's l1: 10.0378\n",
      "Early stopping, best iteration is:\n",
      "[158]\ttraining's l1: 5.96113\tvalid_1's l1: 9.90932\n",
      "fold n°5\n"
     ]
    },
    {
     "name": "stderr",
     "output_type": "stream",
     "text": [
      "C:\\Users\\linda\\Anaconda3\\lib\\site-packages\\lightgbm\\basic.py:1186: UserWarning: Using categorical_feature in Dataset.\n",
      "  warnings.warn('Using categorical_feature in Dataset.')\n"
     ]
    },
    {
     "name": "stdout",
     "output_type": "stream",
     "text": [
      "Training until validation scores don't improve for 200 rounds.\n",
      "[100]\ttraining's l1: 6.91393\tvalid_1's l1: 10.4849\n",
      "[200]\ttraining's l1: 5.49713\tvalid_1's l1: 10.247\n",
      "[300]\ttraining's l1: 4.66699\tvalid_1's l1: 10.2262\n",
      "[400]\ttraining's l1: 4.09088\tvalid_1's l1: 10.314\n",
      "Early stopping, best iteration is:\n",
      "[240]\ttraining's l1: 5.13603\tvalid_1's l1: 10.1694\n",
      "fold n°6\n"
     ]
    },
    {
     "name": "stderr",
     "output_type": "stream",
     "text": [
      "C:\\Users\\linda\\Anaconda3\\lib\\site-packages\\lightgbm\\basic.py:1186: UserWarning: Using categorical_feature in Dataset.\n",
      "  warnings.warn('Using categorical_feature in Dataset.')\n"
     ]
    },
    {
     "name": "stdout",
     "output_type": "stream",
     "text": [
      "Training until validation scores don't improve for 200 rounds.\n",
      "[100]\ttraining's l1: 7.03704\tvalid_1's l1: 10.1687\n",
      "[200]\ttraining's l1: 5.59472\tvalid_1's l1: 10.2726\n",
      "[300]\ttraining's l1: 4.7638\tvalid_1's l1: 10.401\n",
      "Early stopping, best iteration is:\n",
      "[107]\ttraining's l1: 6.8724\tvalid_1's l1: 10.1249\n",
      "fold n°7\n"
     ]
    },
    {
     "name": "stderr",
     "output_type": "stream",
     "text": [
      "C:\\Users\\linda\\Anaconda3\\lib\\site-packages\\lightgbm\\basic.py:1186: UserWarning: Using categorical_feature in Dataset.\n",
      "  warnings.warn('Using categorical_feature in Dataset.')\n"
     ]
    },
    {
     "name": "stdout",
     "output_type": "stream",
     "text": [
      "Training until validation scores don't improve for 200 rounds.\n",
      "[100]\ttraining's l1: 7.02748\tvalid_1's l1: 9.82391\n",
      "[200]\ttraining's l1: 5.55875\tvalid_1's l1: 9.45281\n",
      "[300]\ttraining's l1: 4.696\tvalid_1's l1: 9.53652\n",
      "[400]\ttraining's l1: 4.12199\tvalid_1's l1: 9.59377\n",
      "Early stopping, best iteration is:\n",
      "[203]\ttraining's l1: 5.52971\tvalid_1's l1: 9.43708\n",
      "fold n°8\n"
     ]
    },
    {
     "name": "stderr",
     "output_type": "stream",
     "text": [
      "C:\\Users\\linda\\Anaconda3\\lib\\site-packages\\lightgbm\\basic.py:1186: UserWarning: Using categorical_feature in Dataset.\n",
      "  warnings.warn('Using categorical_feature in Dataset.')\n"
     ]
    },
    {
     "name": "stdout",
     "output_type": "stream",
     "text": [
      "Training until validation scores don't improve for 200 rounds.\n",
      "[100]\ttraining's l1: 7.01558\tvalid_1's l1: 10.098\n",
      "[200]\ttraining's l1: 5.5403\tvalid_1's l1: 10.0176\n",
      "[300]\ttraining's l1: 4.69951\tvalid_1's l1: 10.0496\n",
      "Early stopping, best iteration is:\n",
      "[169]\ttraining's l1: 5.88791\tvalid_1's l1: 9.95477\n",
      "fold n°9\n"
     ]
    },
    {
     "name": "stderr",
     "output_type": "stream",
     "text": [
      "C:\\Users\\linda\\Anaconda3\\lib\\site-packages\\lightgbm\\basic.py:1186: UserWarning: Using categorical_feature in Dataset.\n",
      "  warnings.warn('Using categorical_feature in Dataset.')\n"
     ]
    },
    {
     "name": "stdout",
     "output_type": "stream",
     "text": [
      "Training until validation scores don't improve for 200 rounds.\n",
      "[100]\ttraining's l1: 7.02261\tvalid_1's l1: 10.5266\n",
      "[200]\ttraining's l1: 5.60133\tvalid_1's l1: 10.4429\n",
      "[300]\ttraining's l1: 4.78171\tvalid_1's l1: 10.6214\n",
      "Early stopping, best iteration is:\n",
      "[149]\ttraining's l1: 6.19897\tvalid_1's l1: 10.3799\n"
     ]
    },
    {
     "name": "stderr",
     "output_type": "stream",
     "text": [
      "100%|████████████████████████████████████████████████████████████████████████████████████| 6/6 [05:59<00:00, 60.52s/it]\n"
     ]
    }
   ],
   "source": [
    "predictions = np.zeros(len(df_test))\n",
    "for fr in tqdm(np.sort(df_train['Flight Regime'].unique())):\n",
    "    df_train_fr = df_train_end[df_train_end['Flight Regime'] == fr]\n",
    "    df_test_fr = df_test[df_test['Flight Regime'] == fr]\n",
    "    target_fr = target_end[target_end['Flight Regime'] == fr][['lifespan', 'EngineID', 'EngineIndex']]\n",
    "    feature_importance_df = pd.DataFrame()\n",
    "    for fold_ in range(10):\n",
    "        print(\"fold n°{}\".format(fold_))\n",
    "        val_ID = folds_EngineID[fold_]        \n",
    "        trn_data = lgb.Dataset(df_train_fr[(~(df_train_fr['EngineID'].isin(val_ID))) &\n",
    "                                           (df_train_fr['EngineIndex'].isin(train_idx))][features],\n",
    "                               label=target_fr[(~(target_fr['EngineID'].isin(val_ID))) &\n",
    "                                               (target_fr['EngineIndex'].isin(train_idx))]['lifespan'],\n",
    "                               categorical_feature=categorical_feats\n",
    "                               )\n",
    "        # testデータで予測するindexのみをval_dataで用いる\n",
    "        # こうすることで、val_dataとtest_dataの分布が近づくことを狙っている\n",
    "        val_data = lgb.Dataset(df_train_fr[(df_train_fr['EngineID'].isin(val_ID)) & \n",
    "                                           (df_train_fr['EngineIndex'].isin(test_lastidx))][features],\n",
    "                               label=target_fr[target_fr['EngineID'].isin(val_ID) &\n",
    "                                               target_fr['EngineIndex'].isin(test_lastidx)]['lifespan'],\n",
    "                               categorical_feature=categorical_feats\n",
    "                               )\n",
    "        clf = lgb.train(param,\n",
    "                        trn_data,\n",
    "                        num_round,\n",
    "                        valid_sets=[trn_data, val_data],\n",
    "                        verbose_eval=100,\n",
    "                        early_stopping_rounds=200)\n",
    "        \n",
    "        val_pre =clf.predict(df_train[(df_train['Flight Regime'] == fr)&\n",
    "                                      (df_train['EngineID'].isin(val_ID)) & \n",
    "                                      (df_train['EngineIndex'].isin(test_lastidx))][features],\n",
    "                             num_iteration=clf.best_iteration)\n",
    "        \n",
    "        oof.loc[(oof['Flight Regime'] == fr) &\n",
    "                (oof['EngineID'].isin(val_ID)) & \n",
    "                (oof['EngineIndex'].isin(test_lastidx)), 'pre_end'] = val_pre\n",
    "        \n",
    "        predictions[df_test_fr.index] += clf.predict(df_test_fr[features], num_iteration=clf.best_iteration) / 10"
   ]
  },
  {
   "cell_type": "code",
   "execution_count": 87,
   "metadata": {},
   "outputs": [],
   "source": [
    "test_pre_end = predictions"
   ]
  },
  {
   "cell_type": "code",
   "execution_count": 89,
   "metadata": {},
   "outputs": [
    {
     "data": {
      "text/plain": [
       "8.872598597993655"
      ]
     },
     "execution_count": 89,
     "metadata": {},
     "output_type": "execute_result"
    }
   ],
   "source": [
    "oof_end = oof[oof['lifespan'] < 100]\n",
    "mean_absolute_error(oof_end['pre_end'], oof_end['lifespan'])"
   ]
  },
  {
   "cell_type": "code",
   "execution_count": null,
   "metadata": {},
   "outputs": [],
   "source": []
  },
  {
   "cell_type": "markdown",
   "metadata": {},
   "source": [
    "=========== lifespan >= 100 ================"
   ]
  },
  {
   "cell_type": "code",
   "execution_count": 90,
   "metadata": {},
   "outputs": [],
   "source": [
    "df_train_start = pd.concat([df_train, target['lifespan']], axis=1)\n",
    "df_train_start = df_train_start[df_train_start['lifespan'] >= 100]\n",
    "target_start = target[target['lifespan'] >= 100]\n",
    "del df_train_start['lifespan']"
   ]
  },
  {
   "cell_type": "code",
   "execution_count": 136,
   "metadata": {},
   "outputs": [
    {
     "name": "stderr",
     "output_type": "stream",
     "text": [
      "\n",
      "  0%|                                                                                            | 0/6 [00:00<?, ?it/s]"
     ]
    },
    {
     "name": "stdout",
     "output_type": "stream",
     "text": [
      "fold n°0\n"
     ]
    },
    {
     "name": "stderr",
     "output_type": "stream",
     "text": [
      "C:\\Users\\linda\\Anaconda3\\lib\\site-packages\\lightgbm\\basic.py:1186: UserWarning: Using categorical_feature in Dataset.\n",
      "  warnings.warn('Using categorical_feature in Dataset.')\n"
     ]
    },
    {
     "name": "stdout",
     "output_type": "stream",
     "text": [
      "Training until validation scores don't improve for 200 rounds.\n",
      "[100]\ttraining's l1: 22.9692\tvalid_1's l1: 31.1384\n",
      "[200]\ttraining's l1: 18.7179\tvalid_1's l1: 31.2502\n",
      "Early stopping, best iteration is:\n",
      "[40]\ttraining's l1: 27.1491\tvalid_1's l1: 29.7723\n",
      "fold n°1\n"
     ]
    },
    {
     "name": "stderr",
     "output_type": "stream",
     "text": [
      "C:\\Users\\linda\\Anaconda3\\lib\\site-packages\\lightgbm\\basic.py:1186: UserWarning: Using categorical_feature in Dataset.\n",
      "  warnings.warn('Using categorical_feature in Dataset.')\n"
     ]
    },
    {
     "name": "stdout",
     "output_type": "stream",
     "text": [
      "Training until validation scores don't improve for 200 rounds.\n",
      "[100]\ttraining's l1: 23.0721\tvalid_1's l1: 31.2935\n",
      "[200]\ttraining's l1: 18.8076\tvalid_1's l1: 31.741\n",
      "Early stopping, best iteration is:\n",
      "[54]\ttraining's l1: 26.0011\tvalid_1's l1: 30.5784\n",
      "fold n°2\n"
     ]
    },
    {
     "name": "stderr",
     "output_type": "stream",
     "text": [
      "C:\\Users\\linda\\Anaconda3\\lib\\site-packages\\lightgbm\\basic.py:1186: UserWarning: Using categorical_feature in Dataset.\n",
      "  warnings.warn('Using categorical_feature in Dataset.')\n"
     ]
    },
    {
     "name": "stdout",
     "output_type": "stream",
     "text": [
      "Training until validation scores don't improve for 200 rounds.\n",
      "[100]\ttraining's l1: 22.8458\tvalid_1's l1: 32.0217\n",
      "[200]\ttraining's l1: 18.7959\tvalid_1's l1: 32.6066\n",
      "Early stopping, best iteration is:\n",
      "[27]\ttraining's l1: 28.5084\tvalid_1's l1: 31.2238\n",
      "fold n°3\n"
     ]
    },
    {
     "name": "stderr",
     "output_type": "stream",
     "text": [
      "C:\\Users\\linda\\Anaconda3\\lib\\site-packages\\lightgbm\\basic.py:1186: UserWarning: Using categorical_feature in Dataset.\n",
      "  warnings.warn('Using categorical_feature in Dataset.')\n"
     ]
    },
    {
     "name": "stdout",
     "output_type": "stream",
     "text": [
      "Training until validation scores don't improve for 200 rounds.\n",
      "[100]\ttraining's l1: 23.0724\tvalid_1's l1: 32.7942\n",
      "[200]\ttraining's l1: 18.8662\tvalid_1's l1: 32.5214\n",
      "[300]\ttraining's l1: 16.1167\tvalid_1's l1: 32.6043\n",
      "Early stopping, best iteration is:\n",
      "[158]\ttraining's l1: 20.3455\tvalid_1's l1: 32.0224\n",
      "fold n°4\n"
     ]
    },
    {
     "name": "stderr",
     "output_type": "stream",
     "text": [
      "C:\\Users\\linda\\Anaconda3\\lib\\site-packages\\lightgbm\\basic.py:1186: UserWarning: Using categorical_feature in Dataset.\n",
      "  warnings.warn('Using categorical_feature in Dataset.')\n"
     ]
    },
    {
     "name": "stdout",
     "output_type": "stream",
     "text": [
      "Training until validation scores don't improve for 200 rounds.\n",
      "[100]\ttraining's l1: 22.4482\tvalid_1's l1: 34.9368\n",
      "[200]\ttraining's l1: 18.2021\tvalid_1's l1: 34.9104\n",
      "Early stopping, best iteration is:\n",
      "[24]\ttraining's l1: 28.9469\tvalid_1's l1: 33.6138\n",
      "fold n°5\n"
     ]
    },
    {
     "name": "stderr",
     "output_type": "stream",
     "text": [
      "C:\\Users\\linda\\Anaconda3\\lib\\site-packages\\lightgbm\\basic.py:1186: UserWarning: Using categorical_feature in Dataset.\n",
      "  warnings.warn('Using categorical_feature in Dataset.')\n"
     ]
    },
    {
     "name": "stdout",
     "output_type": "stream",
     "text": [
      "Training until validation scores don't improve for 200 rounds.\n",
      "[100]\ttraining's l1: 23.2081\tvalid_1's l1: 28.7696\n",
      "[200]\ttraining's l1: 19.0294\tvalid_1's l1: 28.8485\n",
      "Early stopping, best iteration is:\n",
      "[52]\ttraining's l1: 26.4207\tvalid_1's l1: 28.2377\n",
      "fold n°6\n"
     ]
    },
    {
     "name": "stderr",
     "output_type": "stream",
     "text": [
      "C:\\Users\\linda\\Anaconda3\\lib\\site-packages\\lightgbm\\basic.py:1186: UserWarning: Using categorical_feature in Dataset.\n",
      "  warnings.warn('Using categorical_feature in Dataset.')\n"
     ]
    },
    {
     "name": "stdout",
     "output_type": "stream",
     "text": [
      "Training until validation scores don't improve for 200 rounds.\n",
      "[100]\ttraining's l1: 23.1436\tvalid_1's l1: 31.6262\n",
      "[200]\ttraining's l1: 18.984\tvalid_1's l1: 32.1978\n",
      "Early stopping, best iteration is:\n",
      "[80]\ttraining's l1: 24.3372\tvalid_1's l1: 30.9278\n",
      "fold n°7\n"
     ]
    },
    {
     "name": "stderr",
     "output_type": "stream",
     "text": [
      "C:\\Users\\linda\\Anaconda3\\lib\\site-packages\\lightgbm\\basic.py:1186: UserWarning: Using categorical_feature in Dataset.\n",
      "  warnings.warn('Using categorical_feature in Dataset.')\n"
     ]
    },
    {
     "name": "stdout",
     "output_type": "stream",
     "text": [
      "Training until validation scores don't improve for 200 rounds.\n",
      "[100]\ttraining's l1: 23.3759\tvalid_1's l1: 29.9432\n",
      "[200]\ttraining's l1: 19.1133\tvalid_1's l1: 29.7654\n",
      "Early stopping, best iteration is:\n",
      "[22]\ttraining's l1: 29.7146\tvalid_1's l1: 29.1417\n",
      "fold n°8\n"
     ]
    },
    {
     "name": "stderr",
     "output_type": "stream",
     "text": [
      "C:\\Users\\linda\\Anaconda3\\lib\\site-packages\\lightgbm\\basic.py:1186: UserWarning: Using categorical_feature in Dataset.\n",
      "  warnings.warn('Using categorical_feature in Dataset.')\n"
     ]
    },
    {
     "name": "stdout",
     "output_type": "stream",
     "text": [
      "Training until validation scores don't improve for 200 rounds.\n",
      "[100]\ttraining's l1: 23.4423\tvalid_1's l1: 28.5912\n",
      "[200]\ttraining's l1: 19.2738\tvalid_1's l1: 28.8228\n",
      "Early stopping, best iteration is:\n",
      "[64]\ttraining's l1: 25.638\tvalid_1's l1: 28.0055\n",
      "fold n°9\n"
     ]
    },
    {
     "name": "stderr",
     "output_type": "stream",
     "text": [
      "C:\\Users\\linda\\Anaconda3\\lib\\site-packages\\lightgbm\\basic.py:1186: UserWarning: Using categorical_feature in Dataset.\n",
      "  warnings.warn('Using categorical_feature in Dataset.')\n"
     ]
    },
    {
     "name": "stdout",
     "output_type": "stream",
     "text": [
      "Training until validation scores don't improve for 200 rounds.\n",
      "[100]\ttraining's l1: 23.3112\tvalid_1's l1: 31.5426\n",
      "[200]\ttraining's l1: 19.1352\tvalid_1's l1: 32.2079\n",
      "Early stopping, best iteration is:\n",
      "[24]\ttraining's l1: 29.4674\tvalid_1's l1: 29.7491\n"
     ]
    },
    {
     "name": "stderr",
     "output_type": "stream",
     "text": [
      "\n",
      " 17%|██████████████                                                                      | 1/6 [00:32<02:40, 32.16s/it]"
     ]
    },
    {
     "name": "stdout",
     "output_type": "stream",
     "text": [
      "fold n°0\n"
     ]
    },
    {
     "name": "stderr",
     "output_type": "stream",
     "text": [
      "C:\\Users\\linda\\Anaconda3\\lib\\site-packages\\lightgbm\\basic.py:1186: UserWarning: Using categorical_feature in Dataset.\n",
      "  warnings.warn('Using categorical_feature in Dataset.')\n"
     ]
    },
    {
     "name": "stdout",
     "output_type": "stream",
     "text": [
      "Training until validation scores don't improve for 200 rounds.\n",
      "[100]\ttraining's l1: 23.1652\tvalid_1's l1: 36.0041\n",
      "[200]\ttraining's l1: 18.8569\tvalid_1's l1: 36.6654\n",
      "Early stopping, best iteration is:\n",
      "[96]\ttraining's l1: 23.3946\tvalid_1's l1: 35.9002\n",
      "fold n°1\n"
     ]
    },
    {
     "name": "stderr",
     "output_type": "stream",
     "text": [
      "C:\\Users\\linda\\Anaconda3\\lib\\site-packages\\lightgbm\\basic.py:1186: UserWarning: Using categorical_feature in Dataset.\n",
      "  warnings.warn('Using categorical_feature in Dataset.')\n"
     ]
    },
    {
     "name": "stdout",
     "output_type": "stream",
     "text": [
      "Training until validation scores don't improve for 200 rounds.\n",
      "[100]\ttraining's l1: 23.2663\tvalid_1's l1: 33.3651\n",
      "[200]\ttraining's l1: 18.8308\tvalid_1's l1: 33.6807\n",
      "Early stopping, best iteration is:\n",
      "[42]\ttraining's l1: 27.321\tvalid_1's l1: 32.9752\n",
      "fold n°2\n"
     ]
    },
    {
     "name": "stderr",
     "output_type": "stream",
     "text": [
      "C:\\Users\\linda\\Anaconda3\\lib\\site-packages\\lightgbm\\basic.py:1186: UserWarning: Using categorical_feature in Dataset.\n",
      "  warnings.warn('Using categorical_feature in Dataset.')\n"
     ]
    },
    {
     "name": "stdout",
     "output_type": "stream",
     "text": [
      "Training until validation scores don't improve for 200 rounds.\n",
      "[100]\ttraining's l1: 22.9276\tvalid_1's l1: 37.9297\n",
      "[200]\ttraining's l1: 18.8084\tvalid_1's l1: 39.5866\n",
      "Early stopping, best iteration is:\n",
      "[17]\ttraining's l1: 30.1381\tvalid_1's l1: 36.6274\n",
      "fold n°3\n"
     ]
    },
    {
     "name": "stderr",
     "output_type": "stream",
     "text": [
      "C:\\Users\\linda\\Anaconda3\\lib\\site-packages\\lightgbm\\basic.py:1186: UserWarning: Using categorical_feature in Dataset.\n",
      "  warnings.warn('Using categorical_feature in Dataset.')\n"
     ]
    },
    {
     "name": "stdout",
     "output_type": "stream",
     "text": [
      "Training until validation scores don't improve for 200 rounds.\n",
      "[100]\ttraining's l1: 23.3501\tvalid_1's l1: 32.5163\n",
      "[200]\ttraining's l1: 18.8798\tvalid_1's l1: 32.7139\n",
      "Early stopping, best iteration is:\n",
      "[90]\ttraining's l1: 23.9404\tvalid_1's l1: 32.1906\n",
      "fold n°4\n"
     ]
    },
    {
     "name": "stderr",
     "output_type": "stream",
     "text": [
      "C:\\Users\\linda\\Anaconda3\\lib\\site-packages\\lightgbm\\basic.py:1186: UserWarning: Using categorical_feature in Dataset.\n",
      "  warnings.warn('Using categorical_feature in Dataset.')\n"
     ]
    },
    {
     "name": "stdout",
     "output_type": "stream",
     "text": [
      "Training until validation scores don't improve for 200 rounds.\n",
      "[100]\ttraining's l1: 23.2272\tvalid_1's l1: 38.1312\n",
      "[200]\ttraining's l1: 19.0513\tvalid_1's l1: 38.7755\n",
      "Early stopping, best iteration is:\n",
      "[25]\ttraining's l1: 29.437\tvalid_1's l1: 36.2708\n",
      "fold n°5\n"
     ]
    },
    {
     "name": "stderr",
     "output_type": "stream",
     "text": [
      "C:\\Users\\linda\\Anaconda3\\lib\\site-packages\\lightgbm\\basic.py:1186: UserWarning: Using categorical_feature in Dataset.\n",
      "  warnings.warn('Using categorical_feature in Dataset.')\n"
     ]
    },
    {
     "name": "stdout",
     "output_type": "stream",
     "text": [
      "Training until validation scores don't improve for 200 rounds.\n",
      "[100]\ttraining's l1: 22.9166\tvalid_1's l1: 33.8361\n",
      "[200]\ttraining's l1: 18.4778\tvalid_1's l1: 35.3356\n",
      "Early stopping, best iteration is:\n",
      "[33]\ttraining's l1: 28.2924\tvalid_1's l1: 32.2372\n",
      "fold n°6\n"
     ]
    },
    {
     "name": "stderr",
     "output_type": "stream",
     "text": [
      "C:\\Users\\linda\\Anaconda3\\lib\\site-packages\\lightgbm\\basic.py:1186: UserWarning: Using categorical_feature in Dataset.\n",
      "  warnings.warn('Using categorical_feature in Dataset.')\n"
     ]
    },
    {
     "name": "stdout",
     "output_type": "stream",
     "text": [
      "Training until validation scores don't improve for 200 rounds.\n",
      "[100]\ttraining's l1: 23.36\tvalid_1's l1: 32.0915\n",
      "[200]\ttraining's l1: 19.0459\tvalid_1's l1: 32.1089\n",
      "Early stopping, best iteration is:\n",
      "[32]\ttraining's l1: 28.6958\tvalid_1's l1: 30.5616\n",
      "fold n°7\n"
     ]
    },
    {
     "name": "stderr",
     "output_type": "stream",
     "text": [
      "C:\\Users\\linda\\Anaconda3\\lib\\site-packages\\lightgbm\\basic.py:1186: UserWarning: Using categorical_feature in Dataset.\n",
      "  warnings.warn('Using categorical_feature in Dataset.')\n"
     ]
    },
    {
     "name": "stdout",
     "output_type": "stream",
     "text": [
      "Training until validation scores don't improve for 200 rounds.\n",
      "[100]\ttraining's l1: 23.7764\tvalid_1's l1: 29.7072\n",
      "[200]\ttraining's l1: 19.4748\tvalid_1's l1: 29.6067\n",
      "Early stopping, best iteration is:\n",
      "[54]\ttraining's l1: 26.7535\tvalid_1's l1: 29.3529\n",
      "fold n°8\n"
     ]
    },
    {
     "name": "stderr",
     "output_type": "stream",
     "text": [
      "C:\\Users\\linda\\Anaconda3\\lib\\site-packages\\lightgbm\\basic.py:1186: UserWarning: Using categorical_feature in Dataset.\n",
      "  warnings.warn('Using categorical_feature in Dataset.')\n"
     ]
    },
    {
     "name": "stdout",
     "output_type": "stream",
     "text": [
      "Training until validation scores don't improve for 200 rounds.\n",
      "[100]\ttraining's l1: 23.7063\tvalid_1's l1: 29.235\n",
      "[200]\ttraining's l1: 19.2069\tvalid_1's l1: 29.7692\n",
      "Early stopping, best iteration is:\n",
      "[49]\ttraining's l1: 27.3459\tvalid_1's l1: 28.689\n",
      "fold n°9\n"
     ]
    },
    {
     "name": "stderr",
     "output_type": "stream",
     "text": [
      "C:\\Users\\linda\\Anaconda3\\lib\\site-packages\\lightgbm\\basic.py:1186: UserWarning: Using categorical_feature in Dataset.\n",
      "  warnings.warn('Using categorical_feature in Dataset.')\n"
     ]
    },
    {
     "name": "stdout",
     "output_type": "stream",
     "text": [
      "Training until validation scores don't improve for 200 rounds.\n",
      "[100]\ttraining's l1: 23.9239\tvalid_1's l1: 29.3954\n",
      "[200]\ttraining's l1: 19.5465\tvalid_1's l1: 29.9321\n",
      "Early stopping, best iteration is:\n",
      "[66]\ttraining's l1: 26.0932\tvalid_1's l1: 29.1604\n"
     ]
    },
    {
     "name": "stderr",
     "output_type": "stream",
     "text": [
      "\n",
      " 33%|████████████████████████████                                                        | 2/6 [01:07<02:12, 33.24s/it]"
     ]
    },
    {
     "name": "stdout",
     "output_type": "stream",
     "text": [
      "fold n°0\n"
     ]
    },
    {
     "name": "stderr",
     "output_type": "stream",
     "text": [
      "C:\\Users\\linda\\Anaconda3\\lib\\site-packages\\lightgbm\\basic.py:1186: UserWarning: Using categorical_feature in Dataset.\n",
      "  warnings.warn('Using categorical_feature in Dataset.')\n"
     ]
    },
    {
     "name": "stdout",
     "output_type": "stream",
     "text": [
      "Training until validation scores don't improve for 200 rounds.\n",
      "[100]\ttraining's l1: 22.2508\tvalid_1's l1: 36.886\n",
      "[200]\ttraining's l1: 17.9158\tvalid_1's l1: 37.9755\n",
      "Early stopping, best iteration is:\n",
      "[25]\ttraining's l1: 29.2106\tvalid_1's l1: 34.4428\n",
      "fold n°1\n"
     ]
    },
    {
     "name": "stderr",
     "output_type": "stream",
     "text": [
      "C:\\Users\\linda\\Anaconda3\\lib\\site-packages\\lightgbm\\basic.py:1186: UserWarning: Using categorical_feature in Dataset.\n",
      "  warnings.warn('Using categorical_feature in Dataset.')\n"
     ]
    },
    {
     "name": "stdout",
     "output_type": "stream",
     "text": [
      "Training until validation scores don't improve for 200 rounds.\n",
      "[100]\ttraining's l1: 22.9257\tvalid_1's l1: 35.4494\n",
      "[200]\ttraining's l1: 18.4977\tvalid_1's l1: 34.2789\n",
      "[300]\ttraining's l1: 15.6261\tvalid_1's l1: 34.2901\n",
      "Early stopping, best iteration is:\n",
      "[178]\ttraining's l1: 19.2653\tvalid_1's l1: 34.1406\n",
      "fold n°2\n"
     ]
    },
    {
     "name": "stderr",
     "output_type": "stream",
     "text": [
      "C:\\Users\\linda\\Anaconda3\\lib\\site-packages\\lightgbm\\basic.py:1186: UserWarning: Using categorical_feature in Dataset.\n",
      "  warnings.warn('Using categorical_feature in Dataset.')\n"
     ]
    },
    {
     "name": "stdout",
     "output_type": "stream",
     "text": [
      "Training until validation scores don't improve for 200 rounds.\n",
      "[100]\ttraining's l1: 22.9181\tvalid_1's l1: 30.5266\n",
      "[200]\ttraining's l1: 18.399\tvalid_1's l1: 30.4267\n",
      "[300]\ttraining's l1: 15.5486\tvalid_1's l1: 30.5771\n",
      "[400]\ttraining's l1: 13.5204\tvalid_1's l1: 31.0562\n",
      "Early stopping, best iteration is:\n",
      "[257]\ttraining's l1: 16.6507\tvalid_1's l1: 30.2286\n",
      "fold n°3\n"
     ]
    },
    {
     "name": "stderr",
     "output_type": "stream",
     "text": [
      "C:\\Users\\linda\\Anaconda3\\lib\\site-packages\\lightgbm\\basic.py:1186: UserWarning: Using categorical_feature in Dataset.\n",
      "  warnings.warn('Using categorical_feature in Dataset.')\n"
     ]
    },
    {
     "name": "stdout",
     "output_type": "stream",
     "text": [
      "Training until validation scores don't improve for 200 rounds.\n",
      "[100]\ttraining's l1: 22.6269\tvalid_1's l1: 33.1644\n",
      "[200]\ttraining's l1: 18.2238\tvalid_1's l1: 33.5226\n",
      "Early stopping, best iteration is:\n",
      "[57]\ttraining's l1: 25.79\tvalid_1's l1: 32.5413\n",
      "fold n°4\n"
     ]
    },
    {
     "name": "stderr",
     "output_type": "stream",
     "text": [
      "C:\\Users\\linda\\Anaconda3\\lib\\site-packages\\lightgbm\\basic.py:1186: UserWarning: Using categorical_feature in Dataset.\n",
      "  warnings.warn('Using categorical_feature in Dataset.')\n"
     ]
    },
    {
     "name": "stdout",
     "output_type": "stream",
     "text": [
      "Training until validation scores don't improve for 200 rounds.\n",
      "[100]\ttraining's l1: 22.0862\tvalid_1's l1: 33.6492\n",
      "[200]\ttraining's l1: 17.7961\tvalid_1's l1: 34.8545\n",
      "Early stopping, best iteration is:\n",
      "[18]\ttraining's l1: 30.4553\tvalid_1's l1: 32.1434\n",
      "fold n°5\n"
     ]
    },
    {
     "name": "stderr",
     "output_type": "stream",
     "text": [
      "C:\\Users\\linda\\Anaconda3\\lib\\site-packages\\lightgbm\\basic.py:1186: UserWarning: Using categorical_feature in Dataset.\n",
      "  warnings.warn('Using categorical_feature in Dataset.')\n"
     ]
    },
    {
     "name": "stdout",
     "output_type": "stream",
     "text": [
      "Training until validation scores don't improve for 200 rounds.\n",
      "[100]\ttraining's l1: 22.7202\tvalid_1's l1: 30.8737\n",
      "[200]\ttraining's l1: 18.3996\tvalid_1's l1: 31.0229\n",
      "[300]\ttraining's l1: 15.6068\tvalid_1's l1: 31.3513\n",
      "Early stopping, best iteration is:\n",
      "[136]\ttraining's l1: 20.8359\tvalid_1's l1: 30.4956\n",
      "fold n°6\n"
     ]
    },
    {
     "name": "stderr",
     "output_type": "stream",
     "text": [
      "C:\\Users\\linda\\Anaconda3\\lib\\site-packages\\lightgbm\\basic.py:1186: UserWarning: Using categorical_feature in Dataset.\n",
      "  warnings.warn('Using categorical_feature in Dataset.')\n"
     ]
    },
    {
     "name": "stdout",
     "output_type": "stream",
     "text": [
      "Training until validation scores don't improve for 200 rounds.\n",
      "[100]\ttraining's l1: 23.0679\tvalid_1's l1: 29.9004\n",
      "[200]\ttraining's l1: 18.4771\tvalid_1's l1: 29.5476\n",
      "[300]\ttraining's l1: 15.6757\tvalid_1's l1: 29.7484\n",
      "[400]\ttraining's l1: 13.7323\tvalid_1's l1: 29.7114\n",
      "[500]\ttraining's l1: 12.1157\tvalid_1's l1: 29.8356\n",
      "Early stopping, best iteration is:\n",
      "[340]\ttraining's l1: 14.8398\tvalid_1's l1: 29.3153\n",
      "fold n°7\n"
     ]
    },
    {
     "name": "stderr",
     "output_type": "stream",
     "text": [
      "C:\\Users\\linda\\Anaconda3\\lib\\site-packages\\lightgbm\\basic.py:1186: UserWarning: Using categorical_feature in Dataset.\n",
      "  warnings.warn('Using categorical_feature in Dataset.')\n"
     ]
    },
    {
     "name": "stdout",
     "output_type": "stream",
     "text": [
      "Training until validation scores don't improve for 200 rounds.\n",
      "[100]\ttraining's l1: 23.4129\tvalid_1's l1: 24.7193\n",
      "[200]\ttraining's l1: 18.7929\tvalid_1's l1: 24.2002\n",
      "[300]\ttraining's l1: 15.9227\tvalid_1's l1: 24.4604\n",
      "Early stopping, best iteration is:\n",
      "[171]\ttraining's l1: 19.7926\tvalid_1's l1: 24.1903\n",
      "fold n°8\n"
     ]
    },
    {
     "name": "stderr",
     "output_type": "stream",
     "text": [
      "C:\\Users\\linda\\Anaconda3\\lib\\site-packages\\lightgbm\\basic.py:1186: UserWarning: Using categorical_feature in Dataset.\n",
      "  warnings.warn('Using categorical_feature in Dataset.')\n"
     ]
    },
    {
     "name": "stdout",
     "output_type": "stream",
     "text": [
      "Training until validation scores don't improve for 200 rounds.\n",
      "[100]\ttraining's l1: 23.1781\tvalid_1's l1: 27.23\n",
      "[200]\ttraining's l1: 18.6604\tvalid_1's l1: 28.0789\n",
      "Early stopping, best iteration is:\n",
      "[85]\ttraining's l1: 24.0651\tvalid_1's l1: 26.8953\n",
      "fold n°9\n"
     ]
    },
    {
     "name": "stderr",
     "output_type": "stream",
     "text": [
      "C:\\Users\\linda\\Anaconda3\\lib\\site-packages\\lightgbm\\basic.py:1186: UserWarning: Using categorical_feature in Dataset.\n",
      "  warnings.warn('Using categorical_feature in Dataset.')\n"
     ]
    },
    {
     "name": "stdout",
     "output_type": "stream",
     "text": [
      "Training until validation scores don't improve for 200 rounds.\n",
      "[100]\ttraining's l1: 23.1065\tvalid_1's l1: 26.9985\n",
      "[200]\ttraining's l1: 18.8361\tvalid_1's l1: 27.604\n",
      "Early stopping, best iteration is:\n",
      "[39]\ttraining's l1: 28.0582\tvalid_1's l1: 25.8547\n"
     ]
    },
    {
     "name": "stderr",
     "output_type": "stream",
     "text": [
      "\n",
      " 50%|██████████████████████████████████████████                                          | 3/6 [01:48<01:45, 35.31s/it]"
     ]
    },
    {
     "name": "stdout",
     "output_type": "stream",
     "text": [
      "fold n°0\n"
     ]
    },
    {
     "name": "stderr",
     "output_type": "stream",
     "text": [
      "C:\\Users\\linda\\Anaconda3\\lib\\site-packages\\lightgbm\\basic.py:1186: UserWarning: Using categorical_feature in Dataset.\n",
      "  warnings.warn('Using categorical_feature in Dataset.')\n"
     ]
    },
    {
     "name": "stdout",
     "output_type": "stream",
     "text": [
      "Training until validation scores don't improve for 200 rounds.\n",
      "[100]\ttraining's l1: 21.7903\tvalid_1's l1: 36.3955\n",
      "[200]\ttraining's l1: 17.6455\tvalid_1's l1: 37.1081\n",
      "Early stopping, best iteration is:\n",
      "[62]\ttraining's l1: 24.215\tvalid_1's l1: 36.104\n",
      "fold n°1\n"
     ]
    },
    {
     "name": "stderr",
     "output_type": "stream",
     "text": [
      "C:\\Users\\linda\\Anaconda3\\lib\\site-packages\\lightgbm\\basic.py:1186: UserWarning: Using categorical_feature in Dataset.\n",
      "  warnings.warn('Using categorical_feature in Dataset.')\n"
     ]
    },
    {
     "name": "stdout",
     "output_type": "stream",
     "text": [
      "Training until validation scores don't improve for 200 rounds.\n",
      "[100]\ttraining's l1: 22.456\tvalid_1's l1: 30.8521\n",
      "[200]\ttraining's l1: 18.2337\tvalid_1's l1: 31.7517\n",
      "Early stopping, best iteration is:\n",
      "[72]\ttraining's l1: 24.1656\tvalid_1's l1: 30.437\n",
      "fold n°2\n"
     ]
    },
    {
     "name": "stderr",
     "output_type": "stream",
     "text": [
      "C:\\Users\\linda\\Anaconda3\\lib\\site-packages\\lightgbm\\basic.py:1186: UserWarning: Using categorical_feature in Dataset.\n",
      "  warnings.warn('Using categorical_feature in Dataset.')\n"
     ]
    },
    {
     "name": "stdout",
     "output_type": "stream",
     "text": [
      "Training until validation scores don't improve for 200 rounds.\n",
      "[100]\ttraining's l1: 22.1637\tvalid_1's l1: 33.3189\n",
      "[200]\ttraining's l1: 18.088\tvalid_1's l1: 34.8614\n",
      "Early stopping, best iteration is:\n",
      "[61]\ttraining's l1: 24.6244\tvalid_1's l1: 32.966\n",
      "fold n°3\n"
     ]
    },
    {
     "name": "stderr",
     "output_type": "stream",
     "text": [
      "C:\\Users\\linda\\Anaconda3\\lib\\site-packages\\lightgbm\\basic.py:1186: UserWarning: Using categorical_feature in Dataset.\n",
      "  warnings.warn('Using categorical_feature in Dataset.')\n"
     ]
    },
    {
     "name": "stdout",
     "output_type": "stream",
     "text": [
      "Training until validation scores don't improve for 200 rounds.\n",
      "[100]\ttraining's l1: 21.951\tvalid_1's l1: 32.5783\n",
      "[200]\ttraining's l1: 17.9184\tvalid_1's l1: 32.4896\n",
      "[300]\ttraining's l1: 15.3104\tvalid_1's l1: 32.8434\n",
      "Early stopping, best iteration is:\n",
      "[160]\ttraining's l1: 19.3031\tvalid_1's l1: 32.238\n",
      "fold n°4\n"
     ]
    },
    {
     "name": "stderr",
     "output_type": "stream",
     "text": [
      "C:\\Users\\linda\\Anaconda3\\lib\\site-packages\\lightgbm\\basic.py:1186: UserWarning: Using categorical_feature in Dataset.\n",
      "  warnings.warn('Using categorical_feature in Dataset.')\n"
     ]
    },
    {
     "name": "stdout",
     "output_type": "stream",
     "text": [
      "Training until validation scores don't improve for 200 rounds.\n",
      "[100]\ttraining's l1: 21.8457\tvalid_1's l1: 31.3872\n",
      "[200]\ttraining's l1: 17.8836\tvalid_1's l1: 31.8528\n",
      "Early stopping, best iteration is:\n",
      "[25]\ttraining's l1: 28.1719\tvalid_1's l1: 30.5068\n",
      "fold n°5\n"
     ]
    },
    {
     "name": "stderr",
     "output_type": "stream",
     "text": [
      "C:\\Users\\linda\\Anaconda3\\lib\\site-packages\\lightgbm\\basic.py:1186: UserWarning: Using categorical_feature in Dataset.\n",
      "  warnings.warn('Using categorical_feature in Dataset.')\n"
     ]
    },
    {
     "name": "stdout",
     "output_type": "stream",
     "text": [
      "Training until validation scores don't improve for 200 rounds.\n",
      "[100]\ttraining's l1: 21.7921\tvalid_1's l1: 31.2947\n",
      "[200]\ttraining's l1: 17.7216\tvalid_1's l1: 32.4995\n",
      "[300]\ttraining's l1: 14.9285\tvalid_1's l1: 32.8163\n",
      "Early stopping, best iteration is:\n",
      "[104]\ttraining's l1: 21.5744\tvalid_1's l1: 31.18\n",
      "fold n°6\n"
     ]
    },
    {
     "name": "stderr",
     "output_type": "stream",
     "text": [
      "C:\\Users\\linda\\Anaconda3\\lib\\site-packages\\lightgbm\\basic.py:1186: UserWarning: Using categorical_feature in Dataset.\n",
      "  warnings.warn('Using categorical_feature in Dataset.')\n"
     ]
    },
    {
     "name": "stdout",
     "output_type": "stream",
     "text": [
      "Training until validation scores don't improve for 200 rounds.\n",
      "[100]\ttraining's l1: 22.565\tvalid_1's l1: 28.7167\n",
      "[200]\ttraining's l1: 18.5617\tvalid_1's l1: 29.6775\n",
      "Early stopping, best iteration is:\n",
      "[75]\ttraining's l1: 24.0977\tvalid_1's l1: 27.7753\n",
      "fold n°7\n"
     ]
    },
    {
     "name": "stderr",
     "output_type": "stream",
     "text": [
      "C:\\Users\\linda\\Anaconda3\\lib\\site-packages\\lightgbm\\basic.py:1186: UserWarning: Using categorical_feature in Dataset.\n",
      "  warnings.warn('Using categorical_feature in Dataset.')\n"
     ]
    },
    {
     "name": "stdout",
     "output_type": "stream",
     "text": [
      "Training until validation scores don't improve for 200 rounds.\n",
      "[100]\ttraining's l1: 22.4354\tvalid_1's l1: 28.3185\n",
      "[200]\ttraining's l1: 18.1951\tvalid_1's l1: 28.927\n",
      "Early stopping, best iteration is:\n",
      "[84]\ttraining's l1: 23.3424\tvalid_1's l1: 28.2309\n",
      "fold n°8\n"
     ]
    },
    {
     "name": "stderr",
     "output_type": "stream",
     "text": [
      "C:\\Users\\linda\\Anaconda3\\lib\\site-packages\\lightgbm\\basic.py:1186: UserWarning: Using categorical_feature in Dataset.\n",
      "  warnings.warn('Using categorical_feature in Dataset.')\n"
     ]
    },
    {
     "name": "stdout",
     "output_type": "stream",
     "text": [
      "Training until validation scores don't improve for 200 rounds.\n",
      "[100]\ttraining's l1: 22.5234\tvalid_1's l1: 25.2744\n",
      "[200]\ttraining's l1: 18.4184\tvalid_1's l1: 25.2708\n",
      "[300]\ttraining's l1: 15.6593\tvalid_1's l1: 25.3982\n",
      "Early stopping, best iteration is:\n",
      "[183]\ttraining's l1: 18.9999\tvalid_1's l1: 25.0708\n",
      "fold n°9\n"
     ]
    },
    {
     "name": "stderr",
     "output_type": "stream",
     "text": [
      "C:\\Users\\linda\\Anaconda3\\lib\\site-packages\\lightgbm\\basic.py:1186: UserWarning: Using categorical_feature in Dataset.\n",
      "  warnings.warn('Using categorical_feature in Dataset.')\n"
     ]
    },
    {
     "name": "stdout",
     "output_type": "stream",
     "text": [
      "Training until validation scores don't improve for 200 rounds.\n",
      "[100]\ttraining's l1: 22.1838\tvalid_1's l1: 26.3\n",
      "[200]\ttraining's l1: 18.0786\tvalid_1's l1: 26.065\n",
      "Early stopping, best iteration is:\n",
      "[83]\ttraining's l1: 23.2243\tvalid_1's l1: 25.8467\n"
     ]
    },
    {
     "name": "stderr",
     "output_type": "stream",
     "text": [
      "\n",
      " 67%|████████████████████████████████████████████████████████                            | 4/6 [02:22<01:10, 35.18s/it]"
     ]
    },
    {
     "name": "stdout",
     "output_type": "stream",
     "text": [
      "fold n°0\n"
     ]
    },
    {
     "name": "stderr",
     "output_type": "stream",
     "text": [
      "C:\\Users\\linda\\Anaconda3\\lib\\site-packages\\lightgbm\\basic.py:1186: UserWarning: Using categorical_feature in Dataset.\n",
      "  warnings.warn('Using categorical_feature in Dataset.')\n"
     ]
    },
    {
     "name": "stdout",
     "output_type": "stream",
     "text": [
      "Training until validation scores don't improve for 200 rounds.\n",
      "[100]\ttraining's l1: 22.6108\tvalid_1's l1: 35.0039\n",
      "[200]\ttraining's l1: 18.2958\tvalid_1's l1: 34.6547\n",
      "Early stopping, best iteration is:\n",
      "[45]\ttraining's l1: 26.4644\tvalid_1's l1: 34.2862\n",
      "fold n°1\n"
     ]
    },
    {
     "name": "stderr",
     "output_type": "stream",
     "text": [
      "C:\\Users\\linda\\Anaconda3\\lib\\site-packages\\lightgbm\\basic.py:1186: UserWarning: Using categorical_feature in Dataset.\n",
      "  warnings.warn('Using categorical_feature in Dataset.')\n"
     ]
    },
    {
     "name": "stdout",
     "output_type": "stream",
     "text": [
      "Training until validation scores don't improve for 200 rounds.\n",
      "[100]\ttraining's l1: 22.961\tvalid_1's l1: 36.8919\n",
      "[200]\ttraining's l1: 18.4093\tvalid_1's l1: 37.97\n",
      "Early stopping, best iteration is:\n",
      "[77]\ttraining's l1: 24.4306\tvalid_1's l1: 36.4786\n",
      "fold n°2\n"
     ]
    },
    {
     "name": "stderr",
     "output_type": "stream",
     "text": [
      "C:\\Users\\linda\\Anaconda3\\lib\\site-packages\\lightgbm\\basic.py:1186: UserWarning: Using categorical_feature in Dataset.\n",
      "  warnings.warn('Using categorical_feature in Dataset.')\n"
     ]
    },
    {
     "name": "stdout",
     "output_type": "stream",
     "text": [
      "Training until validation scores don't improve for 200 rounds.\n",
      "[100]\ttraining's l1: 23.0077\tvalid_1's l1: 31.7281\n",
      "[200]\ttraining's l1: 18.4068\tvalid_1's l1: 32.5264\n",
      "Early stopping, best iteration is:\n",
      "[56]\ttraining's l1: 25.941\tvalid_1's l1: 31.3046\n",
      "fold n°3\n"
     ]
    },
    {
     "name": "stderr",
     "output_type": "stream",
     "text": [
      "C:\\Users\\linda\\Anaconda3\\lib\\site-packages\\lightgbm\\basic.py:1186: UserWarning: Using categorical_feature in Dataset.\n",
      "  warnings.warn('Using categorical_feature in Dataset.')\n"
     ]
    },
    {
     "name": "stdout",
     "output_type": "stream",
     "text": [
      "Training until validation scores don't improve for 200 rounds.\n",
      "[100]\ttraining's l1: 23.098\tvalid_1's l1: 33.9405\n",
      "[200]\ttraining's l1: 18.6335\tvalid_1's l1: 33.5131\n",
      "[300]\ttraining's l1: 15.9459\tvalid_1's l1: 33.2568\n",
      "[400]\ttraining's l1: 13.9025\tvalid_1's l1: 33.1568\n",
      "Early stopping, best iteration is:\n",
      "[270]\ttraining's l1: 16.6339\tvalid_1's l1: 33.0749\n",
      "fold n°4\n"
     ]
    },
    {
     "name": "stderr",
     "output_type": "stream",
     "text": [
      "C:\\Users\\linda\\Anaconda3\\lib\\site-packages\\lightgbm\\basic.py:1186: UserWarning: Using categorical_feature in Dataset.\n",
      "  warnings.warn('Using categorical_feature in Dataset.')\n"
     ]
    },
    {
     "name": "stdout",
     "output_type": "stream",
     "text": [
      "Training until validation scores don't improve for 200 rounds.\n",
      "[100]\ttraining's l1: 22.9965\tvalid_1's l1: 29.6254\n",
      "[200]\ttraining's l1: 18.7059\tvalid_1's l1: 29.8689\n",
      "Early stopping, best iteration is:\n",
      "[21]\ttraining's l1: 29.799\tvalid_1's l1: 28.6427\n",
      "fold n°5\n"
     ]
    },
    {
     "name": "stderr",
     "output_type": "stream",
     "text": [
      "C:\\Users\\linda\\Anaconda3\\lib\\site-packages\\lightgbm\\basic.py:1186: UserWarning: Using categorical_feature in Dataset.\n",
      "  warnings.warn('Using categorical_feature in Dataset.')\n"
     ]
    },
    {
     "name": "stdout",
     "output_type": "stream",
     "text": [
      "Training until validation scores don't improve for 200 rounds.\n",
      "[100]\ttraining's l1: 22.6321\tvalid_1's l1: 30.6909\n",
      "[200]\ttraining's l1: 18.2041\tvalid_1's l1: 31.1396\n",
      "Early stopping, best iteration is:\n",
      "[39]\ttraining's l1: 27.1874\tvalid_1's l1: 30.3516\n",
      "fold n°6\n"
     ]
    },
    {
     "name": "stderr",
     "output_type": "stream",
     "text": [
      "C:\\Users\\linda\\Anaconda3\\lib\\site-packages\\lightgbm\\basic.py:1186: UserWarning: Using categorical_feature in Dataset.\n",
      "  warnings.warn('Using categorical_feature in Dataset.')\n"
     ]
    },
    {
     "name": "stdout",
     "output_type": "stream",
     "text": [
      "Training until validation scores don't improve for 200 rounds.\n",
      "[100]\ttraining's l1: 22.6787\tvalid_1's l1: 29.4818\n",
      "[200]\ttraining's l1: 18.43\tvalid_1's l1: 30.5702\n",
      "Early stopping, best iteration is:\n",
      "[18]\ttraining's l1: 30.2718\tvalid_1's l1: 27.084\n",
      "fold n°7\n"
     ]
    },
    {
     "name": "stderr",
     "output_type": "stream",
     "text": [
      "C:\\Users\\linda\\Anaconda3\\lib\\site-packages\\lightgbm\\basic.py:1186: UserWarning: Using categorical_feature in Dataset.\n",
      "  warnings.warn('Using categorical_feature in Dataset.')\n"
     ]
    },
    {
     "name": "stdout",
     "output_type": "stream",
     "text": [
      "Training until validation scores don't improve for 200 rounds.\n",
      "[100]\ttraining's l1: 23.083\tvalid_1's l1: 27.7404\n",
      "[200]\ttraining's l1: 18.815\tvalid_1's l1: 27.597\n",
      "Early stopping, best iteration is:\n",
      "[28]\ttraining's l1: 29.2655\tvalid_1's l1: 27.4396\n",
      "fold n°8\n"
     ]
    },
    {
     "name": "stderr",
     "output_type": "stream",
     "text": [
      "C:\\Users\\linda\\Anaconda3\\lib\\site-packages\\lightgbm\\basic.py:1186: UserWarning: Using categorical_feature in Dataset.\n",
      "  warnings.warn('Using categorical_feature in Dataset.')\n"
     ]
    },
    {
     "name": "stdout",
     "output_type": "stream",
     "text": [
      "Training until validation scores don't improve for 200 rounds.\n",
      "[100]\ttraining's l1: 22.9187\tvalid_1's l1: 29.8931\n",
      "[200]\ttraining's l1: 18.5085\tvalid_1's l1: 31.1469\n",
      "Early stopping, best iteration is:\n",
      "[32]\ttraining's l1: 28.3549\tvalid_1's l1: 27.8546\n",
      "fold n°9\n"
     ]
    },
    {
     "name": "stderr",
     "output_type": "stream",
     "text": [
      "C:\\Users\\linda\\Anaconda3\\lib\\site-packages\\lightgbm\\basic.py:1186: UserWarning: Using categorical_feature in Dataset.\n",
      "  warnings.warn('Using categorical_feature in Dataset.')\n"
     ]
    },
    {
     "name": "stdout",
     "output_type": "stream",
     "text": [
      "Training until validation scores don't improve for 200 rounds.\n",
      "[100]\ttraining's l1: 23.0885\tvalid_1's l1: 33.9518\n",
      "[200]\ttraining's l1: 18.6562\tvalid_1's l1: 34.6651\n",
      "Early stopping, best iteration is:\n",
      "[25]\ttraining's l1: 29.3198\tvalid_1's l1: 31.9713\n"
     ]
    },
    {
     "name": "stderr",
     "output_type": "stream",
     "text": [
      "\n",
      " 83%|██████████████████████████████████████████████████████████████████████              | 5/6 [02:56<00:34, 34.74s/it]"
     ]
    },
    {
     "name": "stdout",
     "output_type": "stream",
     "text": [
      "fold n°0\n"
     ]
    },
    {
     "name": "stderr",
     "output_type": "stream",
     "text": [
      "C:\\Users\\linda\\Anaconda3\\lib\\site-packages\\lightgbm\\basic.py:1186: UserWarning: Using categorical_feature in Dataset.\n",
      "  warnings.warn('Using categorical_feature in Dataset.')\n"
     ]
    },
    {
     "name": "stdout",
     "output_type": "stream",
     "text": [
      "Training until validation scores don't improve for 200 rounds.\n",
      "[100]\ttraining's l1: 20.0826\tvalid_1's l1: 31.8538\n",
      "[200]\ttraining's l1: 15.433\tvalid_1's l1: 32.3274\n",
      "Early stopping, best iteration is:\n",
      "[81]\ttraining's l1: 21.2661\tvalid_1's l1: 31.5775\n",
      "fold n°1\n"
     ]
    },
    {
     "name": "stderr",
     "output_type": "stream",
     "text": [
      "C:\\Users\\linda\\Anaconda3\\lib\\site-packages\\lightgbm\\basic.py:1186: UserWarning: Using categorical_feature in Dataset.\n",
      "  warnings.warn('Using categorical_feature in Dataset.')\n"
     ]
    },
    {
     "name": "stdout",
     "output_type": "stream",
     "text": [
      "Training until validation scores don't improve for 200 rounds.\n",
      "[100]\ttraining's l1: 20.2807\tvalid_1's l1: 27.7322\n",
      "[200]\ttraining's l1: 15.4594\tvalid_1's l1: 27.8884\n",
      "Early stopping, best iteration is:\n",
      "[66]\ttraining's l1: 22.7936\tvalid_1's l1: 27.4219\n",
      "fold n°2\n"
     ]
    },
    {
     "name": "stderr",
     "output_type": "stream",
     "text": [
      "C:\\Users\\linda\\Anaconda3\\lib\\site-packages\\lightgbm\\basic.py:1186: UserWarning: Using categorical_feature in Dataset.\n",
      "  warnings.warn('Using categorical_feature in Dataset.')\n"
     ]
    },
    {
     "name": "stdout",
     "output_type": "stream",
     "text": [
      "Training until validation scores don't improve for 200 rounds.\n",
      "[100]\ttraining's l1: 19.9467\tvalid_1's l1: 37.8714\n",
      "[200]\ttraining's l1: 15.3757\tvalid_1's l1: 38.5938\n",
      "Early stopping, best iteration is:\n",
      "[18]\ttraining's l1: 29.0608\tvalid_1's l1: 35.3429\n",
      "fold n°3\n"
     ]
    },
    {
     "name": "stderr",
     "output_type": "stream",
     "text": [
      "C:\\Users\\linda\\Anaconda3\\lib\\site-packages\\lightgbm\\basic.py:1186: UserWarning: Using categorical_feature in Dataset.\n",
      "  warnings.warn('Using categorical_feature in Dataset.')\n"
     ]
    },
    {
     "name": "stdout",
     "output_type": "stream",
     "text": [
      "Training until validation scores don't improve for 200 rounds.\n",
      "[100]\ttraining's l1: 20.5048\tvalid_1's l1: 31.0435\n",
      "[200]\ttraining's l1: 15.9581\tvalid_1's l1: 30.7688\n",
      "[300]\ttraining's l1: 13.1844\tvalid_1's l1: 30.7947\n",
      "[400]\ttraining's l1: 11.2297\tvalid_1's l1: 30.4117\n",
      "[500]\ttraining's l1: 9.63995\tvalid_1's l1: 30.225\n",
      "[600]\ttraining's l1: 8.44415\tvalid_1's l1: 30.19\n",
      "[700]\ttraining's l1: 7.50752\tvalid_1's l1: 30.2307\n",
      "[800]\ttraining's l1: 6.77225\tvalid_1's l1: 30.2963\n",
      "Early stopping, best iteration is:\n",
      "[640]\ttraining's l1: 8.03709\tvalid_1's l1: 30.0929\n",
      "fold n°4\n"
     ]
    },
    {
     "name": "stderr",
     "output_type": "stream",
     "text": [
      "C:\\Users\\linda\\Anaconda3\\lib\\site-packages\\lightgbm\\basic.py:1186: UserWarning: Using categorical_feature in Dataset.\n",
      "  warnings.warn('Using categorical_feature in Dataset.')\n"
     ]
    },
    {
     "name": "stdout",
     "output_type": "stream",
     "text": [
      "Training until validation scores don't improve for 200 rounds.\n",
      "[100]\ttraining's l1: 19.7059\tvalid_1's l1: 35.5682\n",
      "[200]\ttraining's l1: 15.0088\tvalid_1's l1: 35.6947\n",
      "Early stopping, best iteration is:\n",
      "[32]\ttraining's l1: 26.3338\tvalid_1's l1: 34.9961\n",
      "fold n°5\n"
     ]
    },
    {
     "name": "stderr",
     "output_type": "stream",
     "text": [
      "C:\\Users\\linda\\Anaconda3\\lib\\site-packages\\lightgbm\\basic.py:1186: UserWarning: Using categorical_feature in Dataset.\n",
      "  warnings.warn('Using categorical_feature in Dataset.')\n"
     ]
    },
    {
     "name": "stdout",
     "output_type": "stream",
     "text": [
      "Training until validation scores don't improve for 200 rounds.\n",
      "[100]\ttraining's l1: 20.1407\tvalid_1's l1: 37.3305\n",
      "[200]\ttraining's l1: 15.6864\tvalid_1's l1: 38.1181\n",
      "Early stopping, best iteration is:\n",
      "[23]\ttraining's l1: 28.1948\tvalid_1's l1: 36.4682\n",
      "fold n°6\n"
     ]
    },
    {
     "name": "stderr",
     "output_type": "stream",
     "text": [
      "C:\\Users\\linda\\Anaconda3\\lib\\site-packages\\lightgbm\\basic.py:1186: UserWarning: Using categorical_feature in Dataset.\n",
      "  warnings.warn('Using categorical_feature in Dataset.')\n"
     ]
    },
    {
     "name": "stdout",
     "output_type": "stream",
     "text": [
      "Training until validation scores don't improve for 200 rounds.\n",
      "[100]\ttraining's l1: 20.0769\tvalid_1's l1: 35.797\n",
      "[200]\ttraining's l1: 15.3182\tvalid_1's l1: 37.3654\n",
      "Early stopping, best iteration is:\n",
      "[30]\ttraining's l1: 26.9912\tvalid_1's l1: 32.8805\n",
      "fold n°7\n"
     ]
    },
    {
     "name": "stderr",
     "output_type": "stream",
     "text": [
      "C:\\Users\\linda\\Anaconda3\\lib\\site-packages\\lightgbm\\basic.py:1186: UserWarning: Using categorical_feature in Dataset.\n",
      "  warnings.warn('Using categorical_feature in Dataset.')\n"
     ]
    },
    {
     "name": "stdout",
     "output_type": "stream",
     "text": [
      "Training until validation scores don't improve for 200 rounds.\n",
      "[100]\ttraining's l1: 20.5878\tvalid_1's l1: 26.7068\n",
      "[200]\ttraining's l1: 15.6567\tvalid_1's l1: 26.2773\n",
      "[300]\ttraining's l1: 12.8039\tvalid_1's l1: 26.972\n",
      "Early stopping, best iteration is:\n",
      "[144]\ttraining's l1: 17.9655\tvalid_1's l1: 26.1655\n",
      "fold n°8\n"
     ]
    },
    {
     "name": "stderr",
     "output_type": "stream",
     "text": [
      "C:\\Users\\linda\\Anaconda3\\lib\\site-packages\\lightgbm\\basic.py:1186: UserWarning: Using categorical_feature in Dataset.\n",
      "  warnings.warn('Using categorical_feature in Dataset.')\n"
     ]
    },
    {
     "name": "stdout",
     "output_type": "stream",
     "text": [
      "Training until validation scores don't improve for 200 rounds.\n",
      "[100]\ttraining's l1: 20.799\tvalid_1's l1: 28.891\n",
      "[200]\ttraining's l1: 15.8145\tvalid_1's l1: 30.1032\n",
      "Early stopping, best iteration is:\n",
      "[40]\ttraining's l1: 26.1113\tvalid_1's l1: 28.1573\n",
      "fold n°9\n"
     ]
    },
    {
     "name": "stderr",
     "output_type": "stream",
     "text": [
      "C:\\Users\\linda\\Anaconda3\\lib\\site-packages\\lightgbm\\basic.py:1186: UserWarning: Using categorical_feature in Dataset.\n",
      "  warnings.warn('Using categorical_feature in Dataset.')\n"
     ]
    },
    {
     "name": "stdout",
     "output_type": "stream",
     "text": [
      "Training until validation scores don't improve for 200 rounds.\n",
      "[100]\ttraining's l1: 20.3208\tvalid_1's l1: 28.931\n",
      "[200]\ttraining's l1: 15.7636\tvalid_1's l1: 28.5075\n",
      "[300]\ttraining's l1: 12.8609\tvalid_1's l1: 28.094\n",
      "[400]\ttraining's l1: 10.932\tvalid_1's l1: 28.3887\n",
      "Early stopping, best iteration is:\n",
      "[247]\ttraining's l1: 14.1401\tvalid_1's l1: 28.0133\n"
     ]
    },
    {
     "name": "stderr",
     "output_type": "stream",
     "text": [
      "\n",
      "100%|████████████████████████████████████████████████████████████████████████████████████| 6/6 [03:52<00:00, 41.10s/it]\n"
     ]
    }
   ],
   "source": [
    "predictions = np.zeros(len(df_test))\n",
    "for fr in tqdm(np.sort(df_train['Flight Regime'].unique())):\n",
    "    df_train_fr = df_train_start[df_train_start['Flight Regime'] == fr]\n",
    "    df_test_fr = df_test[df_test['Flight Regime'] == fr]\n",
    "    target_fr = target_start[target_start['Flight Regime'] == fr][['lifespan', 'EngineID', 'EngineIndex']]\n",
    "    feature_importance_df = pd.DataFrame()\n",
    "    for fold_ in range(10):\n",
    "        print(\"fold n°{}\".format(fold_))\n",
    "        val_ID = folds_EngineID[fold_]        \n",
    "        trn_data = lgb.Dataset(df_train_fr[(~(df_train_fr['EngineID'].isin(val_ID))) &\n",
    "                                           (df_train_fr['EngineIndex'].isin(train_idx))][features],\n",
    "                               label=target_fr[(~(target_fr['EngineID'].isin(val_ID))) &\n",
    "                                               (target_fr['EngineIndex'].isin(train_idx))]['lifespan'],\n",
    "                               categorical_feature=categorical_feats\n",
    "                               )\n",
    "        # testデータで予測するindexのみをval_dataで用いる\n",
    "        # こうすることで、val_dataとtest_dataの分布が近づくことを狙っている\n",
    "        val_data = lgb.Dataset(df_train_fr[(df_train_fr['EngineID'].isin(val_ID)) & \n",
    "                                           (df_train_fr['EngineIndex'].isin(test_lastidx))][features],\n",
    "                               label=target_fr[target_fr['EngineID'].isin(val_ID) &\n",
    "                                               target_fr['EngineIndex'].isin(test_lastidx)]['lifespan'],\n",
    "                               categorical_feature=categorical_feats\n",
    "                               )\n",
    "        clf = lgb.train(param,\n",
    "                        trn_data,\n",
    "                        num_round,\n",
    "                        valid_sets=[trn_data, val_data],\n",
    "                        verbose_eval=100,\n",
    "                        early_stopping_rounds=200)\n",
    "        \n",
    "        val_pre =clf.predict(df_train[(df_train['Flight Regime'] == fr)&\n",
    "                                      (df_train['EngineID'].isin(val_ID)) & \n",
    "                                      (df_train['EngineIndex'].isin(test_lastidx))][features],\n",
    "                             num_iteration=clf.best_iteration)\n",
    "        \n",
    "        oof.loc[(oof['Flight Regime'] == fr) &\n",
    "                (oof['EngineID'].isin(val_ID)) & \n",
    "                (oof['EngineIndex'].isin(test_lastidx)), 'pre_start'] = val_pre\n",
    "        \n",
    "        predictions[df_test_fr.index] += clf.predict(df_test_fr[features], num_iteration=clf.best_iteration) / 10"
   ]
  },
  {
   "cell_type": "code",
   "execution_count": 138,
   "metadata": {},
   "outputs": [],
   "source": [
    "test_pre_start = predictions"
   ]
  },
  {
   "cell_type": "code",
   "execution_count": 141,
   "metadata": {},
   "outputs": [
    {
     "data": {
      "text/plain": [
       "30.883540717845364"
      ]
     },
     "execution_count": 141,
     "metadata": {},
     "output_type": "execute_result"
    }
   ],
   "source": [
    "oof_start = oof[oof['lifespan'] >= 100]\n",
    "mean_absolute_error(oof_start['lifespan'], oof_start['pre_start'])"
   ]
  },
  {
   "cell_type": "code",
   "execution_count": null,
   "metadata": {},
   "outputs": [],
   "source": []
  },
  {
   "cell_type": "code",
   "execution_count": 101,
   "metadata": {},
   "outputs": [],
   "source": [
    "oof['pre_target'] = oof['pre_start'] * (1 - oof['pre_border']) + oof['pre_end'] * oof['pre_border']"
   ]
  },
  {
   "cell_type": "code",
   "execution_count": 145,
   "metadata": {},
   "outputs": [],
   "source": [
    "oof.to_csv('aaa.csv')"
   ]
  },
  {
   "cell_type": "code",
   "execution_count": 103,
   "metadata": {},
   "outputs": [
    {
     "data": {
      "text/plain": [
       "27.208670733829027"
      ]
     },
     "execution_count": 103,
     "metadata": {},
     "output_type": "execute_result"
    }
   ],
   "source": [
    "mean_absolute_error(oof['lifespan'], oof['pre_target'])"
   ]
  },
  {
   "cell_type": "code",
   "execution_count": 120,
   "metadata": {},
   "outputs": [
    {
     "name": "stderr",
     "output_type": "stream",
     "text": [
      "C:\\Users\\linda\\Anaconda3\\lib\\site-packages\\scipy\\stats\\stats.py:1713: FutureWarning: Using a non-tuple sequence for multidimensional indexing is deprecated; use `arr[tuple(seq)]` instead of `arr[seq]`. In the future this will be interpreted as an array index, `arr[np.array(seq)]`, which will result either in an error or a different result.\n",
      "  return np.add.reduce(sorted[indexer] * weights, axis=axis) / sumval\n"
     ]
    },
    {
     "data": {
      "image/png": "[encoded data removed]",
      "text/plain": [
       "<Figure size 432x432 with 3 Axes>"
      ]
     },
     "metadata": {
      "needs_background": "light"
     },
     "output_type": "display_data"
    }
   ],
   "source": [
    "sns.jointplot(x=\"lifespan\", y=\"pre_target\", kind=\"kde\", data=oof);"
   ]
  },
  {
   "cell_type": "code",
   "execution_count": 146,
   "metadata": {},
   "outputs": [
    {
     "name": "stderr",
     "output_type": "stream",
     "text": [
      "C:\\Users\\linda\\Anaconda3\\lib\\site-packages\\scipy\\stats\\stats.py:1713: FutureWarning: Using a non-tuple sequence for multidimensional indexing is deprecated; use `arr[tuple(seq)]` instead of `arr[seq]`. In the future this will be interpreted as an array index, `arr[np.array(seq)]`, which will result either in an error or a different result.\n",
      "  return np.add.reduce(sorted[indexer] * weights, axis=axis) / sumval\n"
     ]
    },
    {
     "data": {
      "image/png": "[encoded data removed]",
      "text/plain": [
       "<Figure size 432x432 with 3 Axes>"
      ]
     },
     "metadata": {
      "needs_background": "light"
     },
     "output_type": "display_data"
    }
   ],
   "source": [
    "sns.jointplot(x=\"lifespan\", y=\"pre_all\", kind=\"kde\", data=oof);"
   ]
  },
  {
   "cell_type": "code",
   "execution_count": null,
   "metadata": {},
   "outputs": [],
   "source": []
  },
  {
   "cell_type": "code",
   "execution_count": 122,
   "metadata": {},
   "outputs": [
    {
     "data": {
      "image/png": "[encoded data removed]",
      "text/plain": [
       "<Figure size 360x360 with 1 Axes>"
      ]
     },
     "metadata": {
      "needs_background": "light"
     },
     "output_type": "display_data"
    }
   ],
   "source": [
    "plt.figure(figsize=(5,5))\n",
    "plt.plot(oof['lifespan'], oof['pre_target'], 'o')\n",
    "plt.plot(np.array([0,350]), np.array([0,350]), c='red')\n",
    "plt.xlabel('lifespan')\n",
    "plt.ylabel('val_predicion')\n",
    "plt.xlim([-10, 360])\n",
    "plt.ylim([-10, 360]);"
   ]
  },
  {
   "cell_type": "code",
   "execution_count": null,
   "metadata": {},
   "outputs": [],
   "source": []
  },
  {
   "cell_type": "code",
   "execution_count": 129,
   "metadata": {},
   "outputs": [],
   "source": [
    "# submit\n",
    "sub_df = pd.DataFrame({'EngineID': df_test['EngineID'],\n",
    "                       'pre_border': test_pre_border,\n",
    "                       'pre_start': test_pre_start,\n",
    "                       'pre_end': test_pre_end})\n",
    "\n",
    "sub_df['Predicted RUL'] = sub_df['pre_start'] * (1 - sub_df['pre_border']) + sub_df['pre_end'] * sub_df['pre_border']\n",
    "\n",
    "# 必要なのは各エンジンの最後の行のみ\n",
    "sub_df = sub_df[sub_df['EngineID'].astype('category').cat.codes.diff(-1) != 0]\n",
    "sub_df['Predicted RUL'].to_csv('C0003_28_04_2019.csv', index=False)"
   ]
  },
  {
   "cell_type": "code",
   "execution_count": null,
   "metadata": {},
   "outputs": [],
   "source": []
  },
  {
   "cell_type": "code",
   "execution_count": 130,
   "metadata": {},
   "outputs": [
    {
     "data": {
      "text/plain": [
       "<matplotlib.axes._subplots.AxesSubplot at 0x27e06cbe7f0>"
      ]
     },
     "execution_count": 130,
     "metadata": {},
     "output_type": "execute_result"
    },
    {
     "data": {
      "image/png": "[encoded data removed]",
      "text/plain": [
       "<Figure size 432x288 with 1 Axes>"
      ]
     },
     "metadata": {
      "needs_background": "light"
     },
     "output_type": "display_data"
    }
   ],
   "source": [
    "sub_df['Predicted RUL'].hist()"
   ]
  }
 ],
 "metadata": {
  "kernelspec": {
   "display_name": "Python 3",
   "language": "python",
   "name": "python3"
  },
  "language_info": {
   "codemirror_mode": {
    "name": "ipython",
    "version": 3
   },
   "file_extension": ".py",
   "mimetype": "text/x-python",
   "name": "python",
   "nbconvert_exporter": "python",
   "pygments_lexer": "ipython3",
   "version": "3.7.1"
  }
 },
 "nbformat": 4,
 "nbformat_minor": 2
}
