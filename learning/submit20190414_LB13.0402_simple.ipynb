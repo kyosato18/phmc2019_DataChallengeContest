{
 "cells": [
  {
   "cell_type": "code",
   "execution_count": 123,
   "metadata": {},
   "outputs": [],
   "source": [
    "import pandas as pd\n",
    "import glob\n",
    "import time\n",
    "import numpy as np\n",
    "import lightgbm as lgb\n",
    "from sklearn.model_selection import KFold\n",
    "from sklearn.metrics import mean_absolute_error\n",
    "import seaborn as sns\n",
    "import matplotlib.pyplot as plt\n",
    "from tqdm import tqdm\n",
    "from datetime import datetime\n",
    "import matplotlib.pyplot as plt"
   ]
  },
  {
   "cell_type": "markdown",
   "metadata": {},
   "source": [
    "バリデーションの方法をこれにしたらいきなりLB13台が出て焦った。  \n",
    "seed変えて提出したらたいしたことないスコアになってたので、  \n",
    "たまたまpublicでいいスコアを踏んだだけだと思ってあんまり信頼してなかった。"
   ]
  },
  {
   "cell_type": "code",
   "execution_count": 2,
   "metadata": {},
   "outputs": [],
   "source": [
    "param = {'num_leaves': 111,\n",
    "         'min_data_in_leaf': 149,\n",
    "         'objective': 'regression',\n",
    "         'max_depth': 9,\n",
    "         'learning_rate': 0.050,\n",
    "         \"boosting\": \"gbdt\",\n",
    "         \"feature_fraction\": 0.7522,\n",
    "         \"bagging_freq\": 1,\n",
    "         \"bagging_fraction\": 0.7083,\n",
    "         \"bagging_seed\": 11,\n",
    "         \"metric\": 'mae',\n",
    "         \"lambda_l1\": 0.2634,\n",
    "         \"random_state\": 133,\n",
    "         \"verbosity\": -1}"
   ]
  },
  {
   "cell_type": "code",
   "execution_count": 43,
   "metadata": {},
   "outputs": [],
   "source": []
  },
  {
   "cell_type": "code",
   "execution_count": 110,
   "metadata": {},
   "outputs": [
    {
     "name": "stdout",
     "output_type": "stream",
     "text": [
      "../features/train__200__important_columns.pkl\n",
      "../features/train__201__rolling_mean_per_FlightRegime.pkl\n",
      "../features/train__004__cumsum_per_FlightRegime.pkl\n",
      "../features/train__005__count_FlightRegime.pkl\n"
     ]
    }
   ],
   "source": [
    "df_train = pd.DataFrame()\n",
    "train_features_path = ['../features/train__200__important_columns.pkl',\n",
    "                       '../features/train__201__rolling_mean_per_FlightRegime.pkl',\n",
    "                       '../features/train__004__cumsum_per_FlightRegime.pkl',\n",
    "                       '../features/train__005__count_FlightRegime.pkl'\n",
    "                       ]\n",
    "for file_path in train_features_path:\n",
    "    print(file_path)\n",
    "    df_tmp = pd.read_pickle(file_path)\n",
    "    df_train = pd.concat([df_train, df_tmp], axis=1)"
   ]
  },
  {
   "cell_type": "code",
   "execution_count": 111,
   "metadata": {},
   "outputs": [],
   "source": [
    "df_test = pd.DataFrame()\n",
    "test_features_path = ['../features/test__200__important_columns.pkl',\n",
    "                       '../features/test__201__rolling_mean_per_FlightRegime.pkl',\n",
    "                       '../features/test__004__cumsum_per_FlightRegime.pkl',\n",
    "                       '../features/test__005__count_FlightRegime.pkl'\n",
    "                       ]\n",
    "for file_path in test_features_path:\n",
    "    df_tmp = pd.read_pickle(file_path)\n",
    "    df_test = pd.concat([df_test, df_tmp], axis=1)"
   ]
  },
  {
   "cell_type": "code",
   "execution_count": 7,
   "metadata": {},
   "outputs": [],
   "source": [
    "target = pd.read_pickle('../features/target__000__raw_data.pkl')"
   ]
  },
  {
   "cell_type": "code",
   "execution_count": 73,
   "metadata": {},
   "outputs": [],
   "source": [
    "Engine_list_sort_by_length = list(df_train.EngineID.value_counts().index)\n",
    "folds_EngineID = []\n",
    "folds_EngineID.append(Engine_list_sort_by_length[0::10])\n",
    "folds_EngineID.append(Engine_list_sort_by_length[1::10])\n",
    "folds_EngineID.append(Engine_list_sort_by_length[2::10])\n",
    "folds_EngineID.append(Engine_list_sort_by_length[3::10])\n",
    "folds_EngineID.append(Engine_list_sort_by_length[4::10])\n",
    "folds_EngineID.append(Engine_list_sort_by_length[5::10])\n",
    "folds_EngineID.append(Engine_list_sort_by_length[6::10])\n",
    "folds_EngineID.append(Engine_list_sort_by_length[7::10])\n",
    "folds_EngineID.append(Engine_list_sort_by_length[8::10])\n",
    "folds_EngineID.append(Engine_list_sort_by_length[9::10])"
   ]
  },
  {
   "cell_type": "code",
   "execution_count": 112,
   "metadata": {},
   "outputs": [],
   "source": [
    "features = [c for c in df_train.columns if c not in ['Flight Regime', 'EngineID', 'EngineIndex']]\n",
    "categorical_feats = []"
   ]
  },
  {
   "cell_type": "code",
   "execution_count": 113,
   "metadata": {},
   "outputs": [],
   "source": [
    "predictions = np.zeros(len(df_test))\n",
    "start = time.time()\n",
    "feature_importance_list = []"
   ]
  },
  {
   "cell_type": "code",
   "execution_count": null,
   "metadata": {},
   "outputs": [],
   "source": [
    "test_lastidx = df_test.groupby('EngineID').count().iloc[:, 0].values - 1\n",
    "test_lastidx = list(test_lastidx)"
   ]
  },
  {
   "cell_type": "code",
   "execution_count": 114,
   "metadata": {},
   "outputs": [],
   "source": [
    "oof = df_train[['EngineID', 'EngineIndex', 'Flight Regime']]\n",
    "oof = pd.concat([oof, target[['lifespan']]], axis=1)\n",
    "oof['prediction'] = np.nan\n",
    "oof = oof[oof['EngineIndex'].isin(test_lastidx)]"
   ]
  },
  {
   "cell_type": "code",
   "execution_count": 115,
   "metadata": {},
   "outputs": [],
   "source": [
    "num_round = 1000"
   ]
  },
  {
   "cell_type": "code",
   "execution_count": 118,
   "metadata": {},
   "outputs": [
    {
     "name": "stdout",
     "output_type": "stream",
     "text": [
      "0\n",
      "1\n",
      "2\n",
      "3\n",
      "4\n",
      "5\n",
      "6\n",
      "7\n",
      "8\n",
      "9\n"
     ]
    }
   ],
   "source": [
    "train_idx = []\n",
    "for i in range(10):\n",
    "    print(i)\n",
    "    train_lastidx = df_test.groupby('EngineID').count().iloc[:, 0].values - i\n",
    "    train_idx.extend(list(train_lastidx))\n",
    "    train_lastidx = df_test.groupby('EngineID').count().iloc[:, 0].values + i\n",
    "    train_idx.extend(list(train_lastidx))"
   ]
  },
  {
   "cell_type": "code",
   "execution_count": 119,
   "metadata": {},
   "outputs": [],
   "source": [
    "train_idx = set(train_idx)"
   ]
  },
  {
   "cell_type": "code",
   "execution_count": 120,
   "metadata": {},
   "outputs": [
    {
     "name": "stderr",
     "output_type": "stream",
     "text": [
      "\n",
      "  0%|                                                                                            | 0/6 [00:00<?, ?it/s]"
     ]
    },
    {
     "name": "stdout",
     "output_type": "stream",
     "text": [
      "fold n°0\n"
     ]
    },
    {
     "name": "stderr",
     "output_type": "stream",
     "text": [
      "C:\\Users\\linda\\Anaconda3\\lib\\site-packages\\lightgbm\\basic.py:1186: UserWarning: Using categorical_feature in Dataset.\n",
      "  warnings.warn('Using categorical_feature in Dataset.')\n"
     ]
    },
    {
     "name": "stdout",
     "output_type": "stream",
     "text": [
      "Training until validation scores don't improve for 200 rounds.\n",
      "[100]\ttraining's l1: 17.5324\tvalid_1's l1: 27.871\n",
      "[200]\ttraining's l1: 14.8651\tvalid_1's l1: 27.5368\n",
      "[300]\ttraining's l1: 13.0864\tvalid_1's l1: 27.5341\n",
      "[400]\ttraining's l1: 11.8089\tvalid_1's l1: 27.6204\n",
      "Early stopping, best iteration is:\n",
      "[253]\ttraining's l1: 13.8521\tvalid_1's l1: 27.3649\n",
      "fold n°1\n"
     ]
    },
    {
     "name": "stderr",
     "output_type": "stream",
     "text": [
      "C:\\Users\\linda\\Anaconda3\\lib\\site-packages\\lightgbm\\basic.py:1186: UserWarning: Using categorical_feature in Dataset.\n",
      "  warnings.warn('Using categorical_feature in Dataset.')\n"
     ]
    },
    {
     "name": "stdout",
     "output_type": "stream",
     "text": [
      "Training until validation scores don't improve for 200 rounds.\n",
      "[100]\ttraining's l1: 17.632\tvalid_1's l1: 20.7492\n",
      "[200]\ttraining's l1: 14.7134\tvalid_1's l1: 20.9637\n",
      "[300]\ttraining's l1: 12.9267\tvalid_1's l1: 21.3074\n",
      "Early stopping, best iteration is:\n",
      "[135]\ttraining's l1: 16.4689\tvalid_1's l1: 20.5382\n",
      "fold n°2\n"
     ]
    },
    {
     "name": "stderr",
     "output_type": "stream",
     "text": [
      "C:\\Users\\linda\\Anaconda3\\lib\\site-packages\\lightgbm\\basic.py:1186: UserWarning: Using categorical_feature in Dataset.\n",
      "  warnings.warn('Using categorical_feature in Dataset.')\n"
     ]
    },
    {
     "name": "stdout",
     "output_type": "stream",
     "text": [
      "Training until validation scores don't improve for 200 rounds.\n",
      "[100]\ttraining's l1: 17.5066\tvalid_1's l1: 25.1925\n",
      "[200]\ttraining's l1: 14.7229\tvalid_1's l1: 25.5161\n",
      "[300]\ttraining's l1: 13.0315\tvalid_1's l1: 25.7295\n",
      "Early stopping, best iteration is:\n",
      "[109]\ttraining's l1: 17.2017\tvalid_1's l1: 25.0425\n",
      "fold n°3\n"
     ]
    },
    {
     "name": "stderr",
     "output_type": "stream",
     "text": [
      "C:\\Users\\linda\\Anaconda3\\lib\\site-packages\\lightgbm\\basic.py:1186: UserWarning: Using categorical_feature in Dataset.\n",
      "  warnings.warn('Using categorical_feature in Dataset.')\n"
     ]
    },
    {
     "name": "stdout",
     "output_type": "stream",
     "text": [
      "Training until validation scores don't improve for 200 rounds.\n",
      "[100]\ttraining's l1: 17.7943\tvalid_1's l1: 23.3098\n",
      "[200]\ttraining's l1: 15.0254\tvalid_1's l1: 22.8065\n",
      "[300]\ttraining's l1: 13.368\tvalid_1's l1: 22.816\n",
      "[400]\ttraining's l1: 12.0422\tvalid_1's l1: 23.2916\n",
      "Early stopping, best iteration is:\n",
      "[222]\ttraining's l1: 14.6258\tvalid_1's l1: 22.6539\n",
      "fold n°4\n"
     ]
    },
    {
     "name": "stderr",
     "output_type": "stream",
     "text": [
      "C:\\Users\\linda\\Anaconda3\\lib\\site-packages\\lightgbm\\basic.py:1186: UserWarning: Using categorical_feature in Dataset.\n",
      "  warnings.warn('Using categorical_feature in Dataset.')\n"
     ]
    },
    {
     "name": "stdout",
     "output_type": "stream",
     "text": [
      "Training until validation scores don't improve for 200 rounds.\n",
      "[100]\ttraining's l1: 17.6103\tvalid_1's l1: 27.4255\n",
      "[200]\ttraining's l1: 14.7901\tvalid_1's l1: 26.722\n",
      "[300]\ttraining's l1: 13.2737\tvalid_1's l1: 26.8782\n",
      "[400]\ttraining's l1: 11.8485\tvalid_1's l1: 26.6944\n",
      "[500]\ttraining's l1: 10.8012\tvalid_1's l1: 26.6346\n",
      "[600]\ttraining's l1: 9.95612\tvalid_1's l1: 26.5553\n",
      "[700]\ttraining's l1: 9.22302\tvalid_1's l1: 26.5018\n",
      "[800]\ttraining's l1: 8.6108\tvalid_1's l1: 26.3666\n",
      "[900]\ttraining's l1: 8.05736\tvalid_1's l1: 26.3437\n",
      "[1000]\ttraining's l1: 7.5542\tvalid_1's l1: 26.287\n",
      "Did not meet early stopping. Best iteration is:\n",
      "[1000]\ttraining's l1: 7.5542\tvalid_1's l1: 26.287\n",
      "fold n°5\n"
     ]
    },
    {
     "name": "stderr",
     "output_type": "stream",
     "text": [
      "C:\\Users\\linda\\Anaconda3\\lib\\site-packages\\lightgbm\\basic.py:1186: UserWarning: Using categorical_feature in Dataset.\n",
      "  warnings.warn('Using categorical_feature in Dataset.')\n"
     ]
    },
    {
     "name": "stdout",
     "output_type": "stream",
     "text": [
      "Training until validation scores don't improve for 200 rounds.\n",
      "[100]\ttraining's l1: 17.7295\tvalid_1's l1: 22.7598\n",
      "[200]\ttraining's l1: 15.0042\tvalid_1's l1: 22.2382\n",
      "[300]\ttraining's l1: 13.3251\tvalid_1's l1: 22.1642\n",
      "[400]\ttraining's l1: 11.9921\tvalid_1's l1: 22.3772\n",
      "Early stopping, best iteration is:\n",
      "[281]\ttraining's l1: 13.5933\tvalid_1's l1: 22.0456\n",
      "fold n°6\n"
     ]
    },
    {
     "name": "stderr",
     "output_type": "stream",
     "text": [
      "C:\\Users\\linda\\Anaconda3\\lib\\site-packages\\lightgbm\\basic.py:1186: UserWarning: Using categorical_feature in Dataset.\n",
      "  warnings.warn('Using categorical_feature in Dataset.')\n"
     ]
    },
    {
     "name": "stdout",
     "output_type": "stream",
     "text": [
      "Training until validation scores don't improve for 200 rounds.\n",
      "[100]\ttraining's l1: 17.7947\tvalid_1's l1: 21.3462\n",
      "[200]\ttraining's l1: 15.0947\tvalid_1's l1: 21.6479\n",
      "Early stopping, best iteration is:\n",
      "[82]\ttraining's l1: 18.5768\tvalid_1's l1: 21.093\n",
      "fold n°7\n"
     ]
    },
    {
     "name": "stderr",
     "output_type": "stream",
     "text": [
      "C:\\Users\\linda\\Anaconda3\\lib\\site-packages\\lightgbm\\basic.py:1186: UserWarning: Using categorical_feature in Dataset.\n",
      "  warnings.warn('Using categorical_feature in Dataset.')\n"
     ]
    },
    {
     "name": "stdout",
     "output_type": "stream",
     "text": [
      "Training until validation scores don't improve for 200 rounds.\n",
      "[100]\ttraining's l1: 17.6461\tvalid_1's l1: 24.5453\n",
      "[200]\ttraining's l1: 14.8971\tvalid_1's l1: 24.0021\n",
      "[300]\ttraining's l1: 13.1554\tvalid_1's l1: 24.3752\n",
      "[400]\ttraining's l1: 11.8066\tvalid_1's l1: 24.5133\n",
      "Early stopping, best iteration is:\n",
      "[200]\ttraining's l1: 14.8971\tvalid_1's l1: 24.0021\n",
      "fold n°8\n"
     ]
    },
    {
     "name": "stderr",
     "output_type": "stream",
     "text": [
      "C:\\Users\\linda\\Anaconda3\\lib\\site-packages\\lightgbm\\basic.py:1186: UserWarning: Using categorical_feature in Dataset.\n",
      "  warnings.warn('Using categorical_feature in Dataset.')\n"
     ]
    },
    {
     "name": "stdout",
     "output_type": "stream",
     "text": [
      "Training until validation scores don't improve for 200 rounds.\n",
      "[100]\ttraining's l1: 17.5729\tvalid_1's l1: 22.251\n",
      "[200]\ttraining's l1: 14.9461\tvalid_1's l1: 22.7161\n",
      "[300]\ttraining's l1: 13.2247\tvalid_1's l1: 22.6564\n",
      "Early stopping, best iteration is:\n",
      "[104]\ttraining's l1: 17.4259\tvalid_1's l1: 22.1862\n",
      "fold n°9\n"
     ]
    },
    {
     "name": "stderr",
     "output_type": "stream",
     "text": [
      "C:\\Users\\linda\\Anaconda3\\lib\\site-packages\\lightgbm\\basic.py:1186: UserWarning: Using categorical_feature in Dataset.\n",
      "  warnings.warn('Using categorical_feature in Dataset.')\n"
     ]
    },
    {
     "name": "stdout",
     "output_type": "stream",
     "text": [
      "Training until validation scores don't improve for 200 rounds.\n",
      "[100]\ttraining's l1: 17.7226\tvalid_1's l1: 24.5184\n",
      "[200]\ttraining's l1: 15.0867\tvalid_1's l1: 24.7192\n",
      "[300]\ttraining's l1: 13.2483\tvalid_1's l1: 24.65\n",
      "Early stopping, best iteration is:\n",
      "[136]\ttraining's l1: 16.5656\tvalid_1's l1: 24.339\n"
     ]
    },
    {
     "name": "stderr",
     "output_type": "stream",
     "text": [
      "\n",
      " 17%|██████████████                                                                      | 1/6 [01:16<06:21, 76.34s/it]"
     ]
    },
    {
     "name": "stdout",
     "output_type": "stream",
     "text": [
      "fold n°0\n"
     ]
    },
    {
     "name": "stderr",
     "output_type": "stream",
     "text": [
      "C:\\Users\\linda\\Anaconda3\\lib\\site-packages\\lightgbm\\basic.py:1186: UserWarning: Using categorical_feature in Dataset.\n",
      "  warnings.warn('Using categorical_feature in Dataset.')\n"
     ]
    },
    {
     "name": "stdout",
     "output_type": "stream",
     "text": [
      "Training until validation scores don't improve for 200 rounds.\n",
      "[100]\ttraining's l1: 17.3074\tvalid_1's l1: 28.556\n",
      "[200]\ttraining's l1: 14.3516\tvalid_1's l1: 28.426\n",
      "[300]\ttraining's l1: 12.6207\tvalid_1's l1: 28.54\n",
      "Early stopping, best iteration is:\n",
      "[173]\ttraining's l1: 14.9856\tvalid_1's l1: 28.2521\n",
      "fold n°1\n"
     ]
    },
    {
     "name": "stderr",
     "output_type": "stream",
     "text": [
      "C:\\Users\\linda\\Anaconda3\\lib\\site-packages\\lightgbm\\basic.py:1186: UserWarning: Using categorical_feature in Dataset.\n",
      "  warnings.warn('Using categorical_feature in Dataset.')\n"
     ]
    },
    {
     "name": "stdout",
     "output_type": "stream",
     "text": [
      "Training until validation scores don't improve for 200 rounds.\n",
      "[100]\ttraining's l1: 17.762\tvalid_1's l1: 25.3672\n",
      "[200]\ttraining's l1: 14.7595\tvalid_1's l1: 25.2122\n",
      "[300]\ttraining's l1: 13.0317\tvalid_1's l1: 25.272\n",
      "Early stopping, best iteration is:\n",
      "[133]\ttraining's l1: 16.5572\tvalid_1's l1: 24.939\n",
      "fold n°2\n"
     ]
    },
    {
     "name": "stderr",
     "output_type": "stream",
     "text": [
      "C:\\Users\\linda\\Anaconda3\\lib\\site-packages\\lightgbm\\basic.py:1186: UserWarning: Using categorical_feature in Dataset.\n",
      "  warnings.warn('Using categorical_feature in Dataset.')\n"
     ]
    },
    {
     "name": "stdout",
     "output_type": "stream",
     "text": [
      "Training until validation scores don't improve for 200 rounds.\n",
      "[100]\ttraining's l1: 17.5682\tvalid_1's l1: 27.6106\n",
      "[200]\ttraining's l1: 14.775\tvalid_1's l1: 27.714\n",
      "Early stopping, best iteration is:\n",
      "[97]\ttraining's l1: 17.6607\tvalid_1's l1: 27.51\n",
      "fold n°3\n"
     ]
    },
    {
     "name": "stderr",
     "output_type": "stream",
     "text": [
      "C:\\Users\\linda\\Anaconda3\\lib\\site-packages\\lightgbm\\basic.py:1186: UserWarning: Using categorical_feature in Dataset.\n",
      "  warnings.warn('Using categorical_feature in Dataset.')\n"
     ]
    },
    {
     "name": "stdout",
     "output_type": "stream",
     "text": [
      "Training until validation scores don't improve for 200 rounds.\n",
      "[100]\ttraining's l1: 17.7196\tvalid_1's l1: 24.8628\n",
      "[200]\ttraining's l1: 14.8919\tvalid_1's l1: 24.3117\n",
      "[300]\ttraining's l1: 13.206\tvalid_1's l1: 24.2201\n",
      "[400]\ttraining's l1: 11.8345\tvalid_1's l1: 24.1309\n",
      "[500]\ttraining's l1: 10.8572\tvalid_1's l1: 24.1438\n",
      "Early stopping, best iteration is:\n",
      "[347]\ttraining's l1: 12.485\tvalid_1's l1: 23.9456\n",
      "fold n°4\n"
     ]
    },
    {
     "name": "stderr",
     "output_type": "stream",
     "text": [
      "C:\\Users\\linda\\Anaconda3\\lib\\site-packages\\lightgbm\\basic.py:1186: UserWarning: Using categorical_feature in Dataset.\n",
      "  warnings.warn('Using categorical_feature in Dataset.')\n"
     ]
    },
    {
     "name": "stdout",
     "output_type": "stream",
     "text": [
      "Training until validation scores don't improve for 200 rounds.\n",
      "[100]\ttraining's l1: 17.4755\tvalid_1's l1: 29.8839\n",
      "[200]\ttraining's l1: 14.6761\tvalid_1's l1: 30.068\n",
      "Early stopping, best iteration is:\n",
      "[89]\ttraining's l1: 17.9723\tvalid_1's l1: 29.6976\n",
      "fold n°5\n"
     ]
    },
    {
     "name": "stderr",
     "output_type": "stream",
     "text": [
      "C:\\Users\\linda\\Anaconda3\\lib\\site-packages\\lightgbm\\basic.py:1186: UserWarning: Using categorical_feature in Dataset.\n",
      "  warnings.warn('Using categorical_feature in Dataset.')\n"
     ]
    },
    {
     "name": "stdout",
     "output_type": "stream",
     "text": [
      "Training until validation scores don't improve for 200 rounds.\n",
      "[100]\ttraining's l1: 17.3442\tvalid_1's l1: 28.9032\n",
      "[200]\ttraining's l1: 14.622\tvalid_1's l1: 29.3016\n",
      "[300]\ttraining's l1: 12.9302\tvalid_1's l1: 29.5482\n",
      "Early stopping, best iteration is:\n",
      "[108]\ttraining's l1: 17.0105\tvalid_1's l1: 28.7082\n",
      "fold n°6\n"
     ]
    },
    {
     "name": "stderr",
     "output_type": "stream",
     "text": [
      "C:\\Users\\linda\\Anaconda3\\lib\\site-packages\\lightgbm\\basic.py:1186: UserWarning: Using categorical_feature in Dataset.\n",
      "  warnings.warn('Using categorical_feature in Dataset.')\n"
     ]
    },
    {
     "name": "stdout",
     "output_type": "stream",
     "text": [
      "Training until validation scores don't improve for 200 rounds.\n",
      "[100]\ttraining's l1: 17.9601\tvalid_1's l1: 23.5888\n",
      "[200]\ttraining's l1: 14.9942\tvalid_1's l1: 23.865\n",
      "[300]\ttraining's l1: 13.2329\tvalid_1's l1: 24.0749\n",
      "Early stopping, best iteration is:\n",
      "[103]\ttraining's l1: 17.833\tvalid_1's l1: 23.4897\n",
      "fold n°7\n"
     ]
    },
    {
     "name": "stderr",
     "output_type": "stream",
     "text": [
      "C:\\Users\\linda\\Anaconda3\\lib\\site-packages\\lightgbm\\basic.py:1186: UserWarning: Using categorical_feature in Dataset.\n",
      "  warnings.warn('Using categorical_feature in Dataset.')\n"
     ]
    },
    {
     "name": "stdout",
     "output_type": "stream",
     "text": [
      "Training until validation scores don't improve for 200 rounds.\n",
      "[100]\ttraining's l1: 18.0232\tvalid_1's l1: 23.3133\n",
      "[200]\ttraining's l1: 15.1979\tvalid_1's l1: 23.2126\n",
      "[300]\ttraining's l1: 13.3553\tvalid_1's l1: 23.43\n",
      "Early stopping, best iteration is:\n",
      "[152]\ttraining's l1: 16.2764\tvalid_1's l1: 23.0405\n",
      "fold n°8\n"
     ]
    },
    {
     "name": "stderr",
     "output_type": "stream",
     "text": [
      "C:\\Users\\linda\\Anaconda3\\lib\\site-packages\\lightgbm\\basic.py:1186: UserWarning: Using categorical_feature in Dataset.\n",
      "  warnings.warn('Using categorical_feature in Dataset.')\n"
     ]
    },
    {
     "name": "stdout",
     "output_type": "stream",
     "text": [
      "Training until validation scores don't improve for 200 rounds.\n",
      "[100]\ttraining's l1: 17.9091\tvalid_1's l1: 21.7414\n",
      "[200]\ttraining's l1: 15.0097\tvalid_1's l1: 21.9071\n",
      "[300]\ttraining's l1: 13.2665\tvalid_1's l1: 22.2212\n",
      "Early stopping, best iteration is:\n",
      "[127]\ttraining's l1: 16.8912\tvalid_1's l1: 21.4005\n",
      "fold n°9\n"
     ]
    },
    {
     "name": "stderr",
     "output_type": "stream",
     "text": [
      "C:\\Users\\linda\\Anaconda3\\lib\\site-packages\\lightgbm\\basic.py:1186: UserWarning: Using categorical_feature in Dataset.\n",
      "  warnings.warn('Using categorical_feature in Dataset.')\n"
     ]
    },
    {
     "name": "stdout",
     "output_type": "stream",
     "text": [
      "Training until validation scores don't improve for 200 rounds.\n",
      "[100]\ttraining's l1: 17.9904\tvalid_1's l1: 24.0069\n",
      "[200]\ttraining's l1: 15.2632\tvalid_1's l1: 23.7672\n",
      "[300]\ttraining's l1: 13.5422\tvalid_1's l1: 23.727\n",
      "[400]\ttraining's l1: 12.3286\tvalid_1's l1: 23.8079\n",
      "Early stopping, best iteration is:\n",
      "[220]\ttraining's l1: 14.8411\tvalid_1's l1: 23.6156\n"
     ]
    },
    {
     "name": "stderr",
     "output_type": "stream",
     "text": [
      "\n",
      " 33%|████████████████████████████                                                        | 2/6 [02:22<04:52, 73.24s/it]"
     ]
    },
    {
     "name": "stdout",
     "output_type": "stream",
     "text": [
      "fold n°0\n"
     ]
    },
    {
     "name": "stderr",
     "output_type": "stream",
     "text": [
      "C:\\Users\\linda\\Anaconda3\\lib\\site-packages\\lightgbm\\basic.py:1186: UserWarning: Using categorical_feature in Dataset.\n",
      "  warnings.warn('Using categorical_feature in Dataset.')\n"
     ]
    },
    {
     "name": "stdout",
     "output_type": "stream",
     "text": [
      "Training until validation scores don't improve for 200 rounds.\n",
      "[100]\ttraining's l1: 17.4777\tvalid_1's l1: 31.5906\n",
      "[200]\ttraining's l1: 14.6972\tvalid_1's l1: 31.604\n",
      "[300]\ttraining's l1: 13.0995\tvalid_1's l1: 31.8559\n",
      "Early stopping, best iteration is:\n",
      "[113]\ttraining's l1: 16.9711\tvalid_1's l1: 31.3316\n",
      "fold n°1\n"
     ]
    },
    {
     "name": "stderr",
     "output_type": "stream",
     "text": [
      "C:\\Users\\linda\\Anaconda3\\lib\\site-packages\\lightgbm\\basic.py:1186: UserWarning: Using categorical_feature in Dataset.\n",
      "  warnings.warn('Using categorical_feature in Dataset.')\n"
     ]
    },
    {
     "name": "stdout",
     "output_type": "stream",
     "text": [
      "Training until validation scores don't improve for 200 rounds.\n",
      "[100]\ttraining's l1: 17.9996\tvalid_1's l1: 26.0495\n",
      "[200]\ttraining's l1: 14.8869\tvalid_1's l1: 26.0997\n",
      "[300]\ttraining's l1: 13.1289\tvalid_1's l1: 25.7237\n",
      "[400]\ttraining's l1: 11.7909\tvalid_1's l1: 25.8294\n",
      "[500]\ttraining's l1: 10.6546\tvalid_1's l1: 25.8195\n",
      "Early stopping, best iteration is:\n",
      "[323]\ttraining's l1: 12.8315\tvalid_1's l1: 25.6304\n",
      "fold n°2\n"
     ]
    },
    {
     "name": "stderr",
     "output_type": "stream",
     "text": [
      "C:\\Users\\linda\\Anaconda3\\lib\\site-packages\\lightgbm\\basic.py:1186: UserWarning: Using categorical_feature in Dataset.\n",
      "  warnings.warn('Using categorical_feature in Dataset.')\n"
     ]
    },
    {
     "name": "stdout",
     "output_type": "stream",
     "text": [
      "Training until validation scores don't improve for 200 rounds.\n",
      "[100]\ttraining's l1: 17.961\tvalid_1's l1: 23.0832\n",
      "[200]\ttraining's l1: 14.8509\tvalid_1's l1: 22.5778\n",
      "[300]\ttraining's l1: 12.9924\tvalid_1's l1: 22.642\n",
      "[400]\ttraining's l1: 11.6885\tvalid_1's l1: 22.9776\n",
      "Early stopping, best iteration is:\n",
      "[253]\ttraining's l1: 13.8609\tvalid_1's l1: 22.5434\n",
      "fold n°3\n"
     ]
    },
    {
     "name": "stderr",
     "output_type": "stream",
     "text": [
      "C:\\Users\\linda\\Anaconda3\\lib\\site-packages\\lightgbm\\basic.py:1186: UserWarning: Using categorical_feature in Dataset.\n",
      "  warnings.warn('Using categorical_feature in Dataset.')\n"
     ]
    },
    {
     "name": "stdout",
     "output_type": "stream",
     "text": [
      "Training until validation scores don't improve for 200 rounds.\n",
      "[100]\ttraining's l1: 17.8801\tvalid_1's l1: 24.2437\n",
      "[200]\ttraining's l1: 14.8909\tvalid_1's l1: 24.1028\n",
      "[300]\ttraining's l1: 13.0969\tvalid_1's l1: 24.5912\n",
      "Early stopping, best iteration is:\n",
      "[196]\ttraining's l1: 14.9709\tvalid_1's l1: 24.0469\n",
      "fold n°4\n"
     ]
    },
    {
     "name": "stderr",
     "output_type": "stream",
     "text": [
      "C:\\Users\\linda\\Anaconda3\\lib\\site-packages\\lightgbm\\basic.py:1186: UserWarning: Using categorical_feature in Dataset.\n",
      "  warnings.warn('Using categorical_feature in Dataset.')\n"
     ]
    },
    {
     "name": "stdout",
     "output_type": "stream",
     "text": [
      "Training until validation scores don't improve for 200 rounds.\n",
      "[100]\ttraining's l1: 17.66\tvalid_1's l1: 28.1236\n",
      "[200]\ttraining's l1: 14.62\tvalid_1's l1: 27.8286\n",
      "[300]\ttraining's l1: 12.6968\tvalid_1's l1: 27.9343\n",
      "Early stopping, best iteration is:\n",
      "[179]\ttraining's l1: 15.1214\tvalid_1's l1: 27.7207\n",
      "fold n°5\n"
     ]
    },
    {
     "name": "stderr",
     "output_type": "stream",
     "text": [
      "C:\\Users\\linda\\Anaconda3\\lib\\site-packages\\lightgbm\\basic.py:1186: UserWarning: Using categorical_feature in Dataset.\n",
      "  warnings.warn('Using categorical_feature in Dataset.')\n"
     ]
    },
    {
     "name": "stdout",
     "output_type": "stream",
     "text": [
      "Training until validation scores don't improve for 200 rounds.\n",
      "[100]\ttraining's l1: 17.8313\tvalid_1's l1: 27.0612\n",
      "[200]\ttraining's l1: 14.7718\tvalid_1's l1: 26.4896\n",
      "[300]\ttraining's l1: 12.964\tvalid_1's l1: 26.8096\n",
      "Early stopping, best iteration is:\n",
      "[160]\ttraining's l1: 15.717\tvalid_1's l1: 26.4096\n",
      "fold n°6\n"
     ]
    },
    {
     "name": "stderr",
     "output_type": "stream",
     "text": [
      "C:\\Users\\linda\\Anaconda3\\lib\\site-packages\\lightgbm\\basic.py:1186: UserWarning: Using categorical_feature in Dataset.\n",
      "  warnings.warn('Using categorical_feature in Dataset.')\n"
     ]
    },
    {
     "name": "stdout",
     "output_type": "stream",
     "text": [
      "Training until validation scores don't improve for 200 rounds.\n",
      "[100]\ttraining's l1: 18.1315\tvalid_1's l1: 23.3879\n",
      "[200]\ttraining's l1: 15.0983\tvalid_1's l1: 23.3462\n",
      "[300]\ttraining's l1: 13.1624\tvalid_1's l1: 23.4685\n",
      "Early stopping, best iteration is:\n",
      "[113]\ttraining's l1: 17.6036\tvalid_1's l1: 23.2533\n",
      "fold n°7\n"
     ]
    },
    {
     "name": "stderr",
     "output_type": "stream",
     "text": [
      "C:\\Users\\linda\\Anaconda3\\lib\\site-packages\\lightgbm\\basic.py:1186: UserWarning: Using categorical_feature in Dataset.\n",
      "  warnings.warn('Using categorical_feature in Dataset.')\n"
     ]
    },
    {
     "name": "stdout",
     "output_type": "stream",
     "text": [
      "Training until validation scores don't improve for 200 rounds.\n",
      "[100]\ttraining's l1: 17.9972\tvalid_1's l1: 23.8229\n",
      "[200]\ttraining's l1: 14.9403\tvalid_1's l1: 23.1415\n",
      "[300]\ttraining's l1: 13.0539\tvalid_1's l1: 23.2441\n",
      "[400]\ttraining's l1: 11.7833\tvalid_1's l1: 23.2897\n",
      "Early stopping, best iteration is:\n",
      "[218]\ttraining's l1: 14.5504\tvalid_1's l1: 23.0496\n",
      "fold n°8\n"
     ]
    },
    {
     "name": "stderr",
     "output_type": "stream",
     "text": [
      "C:\\Users\\linda\\Anaconda3\\lib\\site-packages\\lightgbm\\basic.py:1186: UserWarning: Using categorical_feature in Dataset.\n",
      "  warnings.warn('Using categorical_feature in Dataset.')\n"
     ]
    },
    {
     "name": "stdout",
     "output_type": "stream",
     "text": [
      "Training until validation scores don't improve for 200 rounds.\n",
      "[100]\ttraining's l1: 18.2948\tvalid_1's l1: 21.4785\n",
      "[200]\ttraining's l1: 15.3898\tvalid_1's l1: 21.8894\n",
      "Early stopping, best iteration is:\n",
      "[86]\ttraining's l1: 18.9838\tvalid_1's l1: 21.4365\n",
      "fold n°9\n"
     ]
    },
    {
     "name": "stderr",
     "output_type": "stream",
     "text": [
      "C:\\Users\\linda\\Anaconda3\\lib\\site-packages\\lightgbm\\basic.py:1186: UserWarning: Using categorical_feature in Dataset.\n",
      "  warnings.warn('Using categorical_feature in Dataset.')\n"
     ]
    },
    {
     "name": "stdout",
     "output_type": "stream",
     "text": [
      "Training until validation scores don't improve for 200 rounds.\n",
      "[100]\ttraining's l1: 18.0511\tvalid_1's l1: 22.3774\n",
      "[200]\ttraining's l1: 15.0536\tvalid_1's l1: 21.8665\n",
      "[300]\ttraining's l1: 13.0967\tvalid_1's l1: 22.1208\n",
      "Early stopping, best iteration is:\n",
      "[167]\ttraining's l1: 15.8194\tvalid_1's l1: 21.7568\n"
     ]
    },
    {
     "name": "stderr",
     "output_type": "stream",
     "text": [
      "\n",
      " 50%|██████████████████████████████████████████                                          | 3/6 [03:30<03:35, 71.82s/it]"
     ]
    },
    {
     "name": "stdout",
     "output_type": "stream",
     "text": [
      "fold n°0\n"
     ]
    },
    {
     "name": "stderr",
     "output_type": "stream",
     "text": [
      "C:\\Users\\linda\\Anaconda3\\lib\\site-packages\\lightgbm\\basic.py:1186: UserWarning: Using categorical_feature in Dataset.\n",
      "  warnings.warn('Using categorical_feature in Dataset.')\n"
     ]
    },
    {
     "name": "stdout",
     "output_type": "stream",
     "text": [
      "Training until validation scores don't improve for 200 rounds.\n",
      "[100]\ttraining's l1: 17.9028\tvalid_1's l1: 25.9794\n",
      "[200]\ttraining's l1: 14.8474\tvalid_1's l1: 25.766\n",
      "[300]\ttraining's l1: 12.8189\tvalid_1's l1: 25.9911\n",
      "[400]\ttraining's l1: 11.4589\tvalid_1's l1: 26.1402\n",
      "Early stopping, best iteration is:\n",
      "[234]\ttraining's l1: 14.055\tvalid_1's l1: 25.6824\n",
      "fold n°1\n"
     ]
    },
    {
     "name": "stderr",
     "output_type": "stream",
     "text": [
      "C:\\Users\\linda\\Anaconda3\\lib\\site-packages\\lightgbm\\basic.py:1186: UserWarning: Using categorical_feature in Dataset.\n",
      "  warnings.warn('Using categorical_feature in Dataset.')\n"
     ]
    },
    {
     "name": "stdout",
     "output_type": "stream",
     "text": [
      "Training until validation scores don't improve for 200 rounds.\n",
      "[100]\ttraining's l1: 17.8863\tvalid_1's l1: 25.5842\n",
      "[200]\ttraining's l1: 14.8305\tvalid_1's l1: 26.0184\n",
      "Early stopping, best iteration is:\n",
      "[88]\ttraining's l1: 18.6001\tvalid_1's l1: 25.3252\n",
      "fold n°2\n"
     ]
    },
    {
     "name": "stderr",
     "output_type": "stream",
     "text": [
      "C:\\Users\\linda\\Anaconda3\\lib\\site-packages\\lightgbm\\basic.py:1186: UserWarning: Using categorical_feature in Dataset.\n",
      "  warnings.warn('Using categorical_feature in Dataset.')\n"
     ]
    },
    {
     "name": "stdout",
     "output_type": "stream",
     "text": [
      "Training until validation scores don't improve for 200 rounds.\n",
      "[100]\ttraining's l1: 17.8165\tvalid_1's l1: 25.8838\n",
      "[200]\ttraining's l1: 14.8413\tvalid_1's l1: 25.739\n",
      "[300]\ttraining's l1: 12.9127\tvalid_1's l1: 25.3122\n",
      "[400]\ttraining's l1: 11.5437\tvalid_1's l1: 25.2069\n",
      "[500]\ttraining's l1: 10.4338\tvalid_1's l1: 25.1952\n",
      "[600]\ttraining's l1: 9.4794\tvalid_1's l1: 25.1478\n",
      "[700]\ttraining's l1: 8.6632\tvalid_1's l1: 25.2622\n",
      "Early stopping, best iteration is:\n",
      "[580]\ttraining's l1: 9.66035\tvalid_1's l1: 25.0532\n",
      "fold n°3\n"
     ]
    },
    {
     "name": "stderr",
     "output_type": "stream",
     "text": [
      "C:\\Users\\linda\\Anaconda3\\lib\\site-packages\\lightgbm\\basic.py:1186: UserWarning: Using categorical_feature in Dataset.\n",
      "  warnings.warn('Using categorical_feature in Dataset.')\n"
     ]
    },
    {
     "name": "stdout",
     "output_type": "stream",
     "text": [
      "Training until validation scores don't improve for 200 rounds.\n",
      "[100]\ttraining's l1: 18.1283\tvalid_1's l1: 26.8507\n",
      "[200]\ttraining's l1: 14.8731\tvalid_1's l1: 26.0922\n",
      "[300]\ttraining's l1: 13.0014\tvalid_1's l1: 25.9203\n",
      "[400]\ttraining's l1: 11.594\tvalid_1's l1: 25.6344\n",
      "[500]\ttraining's l1: 10.4733\tvalid_1's l1: 25.5301\n",
      "[600]\ttraining's l1: 9.52411\tvalid_1's l1: 25.659\n",
      "Early stopping, best iteration is:\n",
      "[493]\ttraining's l1: 10.5368\tvalid_1's l1: 25.5279\n",
      "fold n°4\n"
     ]
    },
    {
     "name": "stderr",
     "output_type": "stream",
     "text": [
      "C:\\Users\\linda\\Anaconda3\\lib\\site-packages\\lightgbm\\basic.py:1186: UserWarning: Using categorical_feature in Dataset.\n",
      "  warnings.warn('Using categorical_feature in Dataset.')\n"
     ]
    },
    {
     "name": "stdout",
     "output_type": "stream",
     "text": [
      "Training until validation scores don't improve for 200 rounds.\n",
      "[100]\ttraining's l1: 17.6183\tvalid_1's l1: 26.7139\n",
      "[200]\ttraining's l1: 14.4781\tvalid_1's l1: 26.8932\n",
      "Early stopping, best iteration is:\n",
      "[88]\ttraining's l1: 18.2934\tvalid_1's l1: 26.5152\n",
      "fold n°5\n"
     ]
    },
    {
     "name": "stderr",
     "output_type": "stream",
     "text": [
      "C:\\Users\\linda\\Anaconda3\\lib\\site-packages\\lightgbm\\basic.py:1186: UserWarning: Using categorical_feature in Dataset.\n",
      "  warnings.warn('Using categorical_feature in Dataset.')\n"
     ]
    },
    {
     "name": "stdout",
     "output_type": "stream",
     "text": [
      "Training until validation scores don't improve for 200 rounds.\n",
      "[100]\ttraining's l1: 17.7321\tvalid_1's l1: 29.5602\n",
      "[200]\ttraining's l1: 14.5749\tvalid_1's l1: 29.9982\n",
      "Early stopping, best iteration is:\n",
      "[98]\ttraining's l1: 17.8726\tvalid_1's l1: 29.4957\n",
      "fold n°6\n"
     ]
    },
    {
     "name": "stderr",
     "output_type": "stream",
     "text": [
      "C:\\Users\\linda\\Anaconda3\\lib\\site-packages\\lightgbm\\basic.py:1186: UserWarning: Using categorical_feature in Dataset.\n",
      "  warnings.warn('Using categorical_feature in Dataset.')\n"
     ]
    },
    {
     "name": "stdout",
     "output_type": "stream",
     "text": [
      "Training until validation scores don't improve for 200 rounds.\n",
      "[100]\ttraining's l1: 18.1875\tvalid_1's l1: 24.4109\n",
      "[200]\ttraining's l1: 14.9554\tvalid_1's l1: 23.7712\n",
      "[300]\ttraining's l1: 13.0686\tvalid_1's l1: 23.9161\n",
      "Early stopping, best iteration is:\n",
      "[180]\ttraining's l1: 15.4372\tvalid_1's l1: 23.6623\n",
      "fold n°7\n"
     ]
    },
    {
     "name": "stderr",
     "output_type": "stream",
     "text": [
      "C:\\Users\\linda\\Anaconda3\\lib\\site-packages\\lightgbm\\basic.py:1186: UserWarning: Using categorical_feature in Dataset.\n",
      "  warnings.warn('Using categorical_feature in Dataset.')\n"
     ]
    },
    {
     "name": "stdout",
     "output_type": "stream",
     "text": [
      "Training until validation scores don't improve for 200 rounds.\n",
      "[100]\ttraining's l1: 17.8924\tvalid_1's l1: 24.7151\n",
      "[200]\ttraining's l1: 14.8509\tvalid_1's l1: 25.2953\n",
      "Early stopping, best iteration is:\n",
      "[96]\ttraining's l1: 18.0862\tvalid_1's l1: 24.5964\n",
      "fold n°8\n"
     ]
    },
    {
     "name": "stderr",
     "output_type": "stream",
     "text": [
      "C:\\Users\\linda\\Anaconda3\\lib\\site-packages\\lightgbm\\basic.py:1186: UserWarning: Using categorical_feature in Dataset.\n",
      "  warnings.warn('Using categorical_feature in Dataset.')\n"
     ]
    },
    {
     "name": "stdout",
     "output_type": "stream",
     "text": [
      "Training until validation scores don't improve for 200 rounds.\n",
      "[100]\ttraining's l1: 18.2305\tvalid_1's l1: 21.9928\n",
      "[200]\ttraining's l1: 15.1229\tvalid_1's l1: 22.371\n",
      "[300]\ttraining's l1: 13.2659\tvalid_1's l1: 22.6719\n",
      "Early stopping, best iteration is:\n",
      "[121]\ttraining's l1: 17.3673\tvalid_1's l1: 21.8632\n",
      "fold n°9\n"
     ]
    },
    {
     "name": "stderr",
     "output_type": "stream",
     "text": [
      "C:\\Users\\linda\\Anaconda3\\lib\\site-packages\\lightgbm\\basic.py:1186: UserWarning: Using categorical_feature in Dataset.\n",
      "  warnings.warn('Using categorical_feature in Dataset.')\n"
     ]
    },
    {
     "name": "stdout",
     "output_type": "stream",
     "text": [
      "Training until validation scores don't improve for 200 rounds.\n",
      "[100]\ttraining's l1: 17.8965\tvalid_1's l1: 23.9001\n",
      "[200]\ttraining's l1: 14.7539\tvalid_1's l1: 23.7556\n",
      "[300]\ttraining's l1: 12.95\tvalid_1's l1: 23.3912\n",
      "[400]\ttraining's l1: 11.5984\tvalid_1's l1: 23.4135\n",
      "[500]\ttraining's l1: 10.5602\tvalid_1's l1: 23.3344\n",
      "[600]\ttraining's l1: 9.64684\tvalid_1's l1: 23.1954\n",
      "[700]\ttraining's l1: 8.88582\tvalid_1's l1: 23.1636\n",
      "[800]\ttraining's l1: 8.20257\tvalid_1's l1: 23.1353\n",
      "[900]\ttraining's l1: 7.65232\tvalid_1's l1: 23.1064\n",
      "[1000]\ttraining's l1: 7.15442\tvalid_1's l1: 23.1486\n",
      "Did not meet early stopping. Best iteration is:\n",
      "[1000]\ttraining's l1: 7.15442\tvalid_1's l1: 23.1486\n"
     ]
    },
    {
     "name": "stderr",
     "output_type": "stream",
     "text": [
      "\n",
      " 67%|████████████████████████████████████████████████████████                            | 4/6 [04:57<02:32, 76.36s/it]"
     ]
    },
    {
     "name": "stdout",
     "output_type": "stream",
     "text": [
      "fold n°0\n"
     ]
    },
    {
     "name": "stderr",
     "output_type": "stream",
     "text": [
      "C:\\Users\\linda\\Anaconda3\\lib\\site-packages\\lightgbm\\basic.py:1186: UserWarning: Using categorical_feature in Dataset.\n",
      "  warnings.warn('Using categorical_feature in Dataset.')\n"
     ]
    },
    {
     "name": "stdout",
     "output_type": "stream",
     "text": [
      "Training until validation scores don't improve for 200 rounds.\n",
      "[100]\ttraining's l1: 18.3403\tvalid_1's l1: 30.2742\n",
      "[200]\ttraining's l1: 15.1897\tvalid_1's l1: 30.465\n",
      "Early stopping, best iteration is:\n",
      "[89]\ttraining's l1: 18.8357\tvalid_1's l1: 30.0959\n",
      "fold n°1\n"
     ]
    },
    {
     "name": "stderr",
     "output_type": "stream",
     "text": [
      "C:\\Users\\linda\\Anaconda3\\lib\\site-packages\\lightgbm\\basic.py:1186: UserWarning: Using categorical_feature in Dataset.\n",
      "  warnings.warn('Using categorical_feature in Dataset.')\n"
     ]
    },
    {
     "name": "stdout",
     "output_type": "stream",
     "text": [
      "Training until validation scores don't improve for 200 rounds.\n",
      "[100]\ttraining's l1: 18.546\tvalid_1's l1: 27.8203\n",
      "[200]\ttraining's l1: 15.2688\tvalid_1's l1: 28.1719\n",
      "Early stopping, best iteration is:\n",
      "[79]\ttraining's l1: 19.5701\tvalid_1's l1: 27.2976\n",
      "fold n°2\n"
     ]
    },
    {
     "name": "stderr",
     "output_type": "stream",
     "text": [
      "C:\\Users\\linda\\Anaconda3\\lib\\site-packages\\lightgbm\\basic.py:1186: UserWarning: Using categorical_feature in Dataset.\n",
      "  warnings.warn('Using categorical_feature in Dataset.')\n"
     ]
    },
    {
     "name": "stdout",
     "output_type": "stream",
     "text": [
      "Training until validation scores don't improve for 200 rounds.\n",
      "[100]\ttraining's l1: 18.5631\tvalid_1's l1: 25.7733\n",
      "[200]\ttraining's l1: 15.439\tvalid_1's l1: 26.1944\n",
      "Early stopping, best iteration is:\n",
      "[86]\ttraining's l1: 19.2558\tvalid_1's l1: 25.6599\n",
      "fold n°3\n"
     ]
    },
    {
     "name": "stderr",
     "output_type": "stream",
     "text": [
      "C:\\Users\\linda\\Anaconda3\\lib\\site-packages\\lightgbm\\basic.py:1186: UserWarning: Using categorical_feature in Dataset.\n",
      "  warnings.warn('Using categorical_feature in Dataset.')\n"
     ]
    },
    {
     "name": "stdout",
     "output_type": "stream",
     "text": [
      "Training until validation scores don't improve for 200 rounds.\n",
      "[100]\ttraining's l1: 18.5181\tvalid_1's l1: 26.6273\n",
      "[200]\ttraining's l1: 15.3571\tvalid_1's l1: 26.2008\n",
      "[300]\ttraining's l1: 13.3624\tvalid_1's l1: 26.3689\n",
      "Early stopping, best iteration is:\n",
      "[176]\ttraining's l1: 15.9575\tvalid_1's l1: 26.1157\n",
      "fold n°4\n"
     ]
    },
    {
     "name": "stderr",
     "output_type": "stream",
     "text": [
      "C:\\Users\\linda\\Anaconda3\\lib\\site-packages\\lightgbm\\basic.py:1186: UserWarning: Using categorical_feature in Dataset.\n",
      "  warnings.warn('Using categorical_feature in Dataset.')\n"
     ]
    },
    {
     "name": "stdout",
     "output_type": "stream",
     "text": [
      "Training until validation scores don't improve for 200 rounds.\n",
      "[100]\ttraining's l1: 18.4895\tvalid_1's l1: 27.571\n",
      "[200]\ttraining's l1: 15.3052\tvalid_1's l1: 27.6925\n",
      "Early stopping, best iteration is:\n",
      "[71]\ttraining's l1: 19.938\tvalid_1's l1: 27.2326\n",
      "fold n°5\n"
     ]
    },
    {
     "name": "stderr",
     "output_type": "stream",
     "text": [
      "C:\\Users\\linda\\Anaconda3\\lib\\site-packages\\lightgbm\\basic.py:1186: UserWarning: Using categorical_feature in Dataset.\n",
      "  warnings.warn('Using categorical_feature in Dataset.')\n"
     ]
    },
    {
     "name": "stdout",
     "output_type": "stream",
     "text": [
      "Training until validation scores don't improve for 200 rounds.\n",
      "[100]\ttraining's l1: 18.3757\tvalid_1's l1: 25.9524\n",
      "[200]\ttraining's l1: 15.2612\tvalid_1's l1: 26.0316\n",
      "[300]\ttraining's l1: 13.2767\tvalid_1's l1: 26.0585\n",
      "Early stopping, best iteration is:\n",
      "[124]\ttraining's l1: 17.4643\tvalid_1's l1: 25.7968\n",
      "fold n°6\n"
     ]
    },
    {
     "name": "stderr",
     "output_type": "stream",
     "text": [
      "C:\\Users\\linda\\Anaconda3\\lib\\site-packages\\lightgbm\\basic.py:1186: UserWarning: Using categorical_feature in Dataset.\n",
      "  warnings.warn('Using categorical_feature in Dataset.')\n"
     ]
    },
    {
     "name": "stdout",
     "output_type": "stream",
     "text": [
      "Training until validation scores don't improve for 200 rounds.\n",
      "[100]\ttraining's l1: 18.7725\tvalid_1's l1: 25.8732\n",
      "[200]\ttraining's l1: 15.6068\tvalid_1's l1: 26.4177\n",
      "Early stopping, best iteration is:\n",
      "[53]\ttraining's l1: 21.9278\tvalid_1's l1: 25.3594\n",
      "fold n°7\n"
     ]
    },
    {
     "name": "stderr",
     "output_type": "stream",
     "text": [
      "C:\\Users\\linda\\Anaconda3\\lib\\site-packages\\lightgbm\\basic.py:1186: UserWarning: Using categorical_feature in Dataset.\n",
      "  warnings.warn('Using categorical_feature in Dataset.')\n"
     ]
    },
    {
     "name": "stdout",
     "output_type": "stream",
     "text": [
      "Training until validation scores don't improve for 200 rounds.\n",
      "[100]\ttraining's l1: 18.5741\tvalid_1's l1: 27.2966\n",
      "[200]\ttraining's l1: 15.4333\tvalid_1's l1: 26.9819\n",
      "[300]\ttraining's l1: 13.4164\tvalid_1's l1: 27.0654\n",
      "Early stopping, best iteration is:\n",
      "[161]\ttraining's l1: 16.4407\tvalid_1's l1: 26.8058\n",
      "fold n°8\n"
     ]
    },
    {
     "name": "stderr",
     "output_type": "stream",
     "text": [
      "C:\\Users\\linda\\Anaconda3\\lib\\site-packages\\lightgbm\\basic.py:1186: UserWarning: Using categorical_feature in Dataset.\n",
      "  warnings.warn('Using categorical_feature in Dataset.')\n"
     ]
    },
    {
     "name": "stdout",
     "output_type": "stream",
     "text": [
      "Training until validation scores don't improve for 200 rounds.\n",
      "[100]\ttraining's l1: 18.6281\tvalid_1's l1: 23.1573\n",
      "[200]\ttraining's l1: 15.5941\tvalid_1's l1: 23.5373\n",
      "[300]\ttraining's l1: 13.5878\tvalid_1's l1: 24.0536\n",
      "Early stopping, best iteration is:\n",
      "[121]\ttraining's l1: 17.8785\tvalid_1's l1: 23.0465\n",
      "fold n°9\n"
     ]
    },
    {
     "name": "stderr",
     "output_type": "stream",
     "text": [
      "C:\\Users\\linda\\Anaconda3\\lib\\site-packages\\lightgbm\\basic.py:1186: UserWarning: Using categorical_feature in Dataset.\n",
      "  warnings.warn('Using categorical_feature in Dataset.')\n"
     ]
    },
    {
     "name": "stdout",
     "output_type": "stream",
     "text": [
      "Training until validation scores don't improve for 200 rounds.\n",
      "[100]\ttraining's l1: 18.3537\tvalid_1's l1: 29.6868\n",
      "[200]\ttraining's l1: 15.3187\tvalid_1's l1: 30.0851\n",
      "Early stopping, best iteration is:\n",
      "[86]\ttraining's l1: 18.9808\tvalid_1's l1: 29.4952\n"
     ]
    },
    {
     "name": "stderr",
     "output_type": "stream",
     "text": [
      "\n",
      " 83%|██████████████████████████████████████████████████████████████████████              | 5/6 [05:56<01:11, 71.08s/it]"
     ]
    },
    {
     "name": "stdout",
     "output_type": "stream",
     "text": [
      "fold n°0\n"
     ]
    },
    {
     "name": "stderr",
     "output_type": "stream",
     "text": [
      "C:\\Users\\linda\\Anaconda3\\lib\\site-packages\\lightgbm\\basic.py:1186: UserWarning: Using categorical_feature in Dataset.\n",
      "  warnings.warn('Using categorical_feature in Dataset.')\n"
     ]
    },
    {
     "name": "stdout",
     "output_type": "stream",
     "text": [
      "Training until validation scores don't improve for 200 rounds.\n",
      "[100]\ttraining's l1: 16.2099\tvalid_1's l1: 28.4553\n",
      "[200]\ttraining's l1: 13.3478\tvalid_1's l1: 28.4816\n",
      "[300]\ttraining's l1: 11.372\tvalid_1's l1: 28.5414\n",
      "Early stopping, best iteration is:\n",
      "[111]\ttraining's l1: 15.8107\tvalid_1's l1: 28.3005\n",
      "fold n°1\n"
     ]
    },
    {
     "name": "stderr",
     "output_type": "stream",
     "text": [
      "C:\\Users\\linda\\Anaconda3\\lib\\site-packages\\lightgbm\\basic.py:1186: UserWarning: Using categorical_feature in Dataset.\n",
      "  warnings.warn('Using categorical_feature in Dataset.')\n"
     ]
    },
    {
     "name": "stdout",
     "output_type": "stream",
     "text": [
      "Training until validation scores don't improve for 200 rounds.\n",
      "[100]\ttraining's l1: 16.2395\tvalid_1's l1: 26.7345\n",
      "[200]\ttraining's l1: 13.1025\tvalid_1's l1: 27.3558\n",
      "Early stopping, best iteration is:\n",
      "[60]\ttraining's l1: 19.0306\tvalid_1's l1: 26.4467\n",
      "fold n°2\n"
     ]
    },
    {
     "name": "stderr",
     "output_type": "stream",
     "text": [
      "C:\\Users\\linda\\Anaconda3\\lib\\site-packages\\lightgbm\\basic.py:1186: UserWarning: Using categorical_feature in Dataset.\n",
      "  warnings.warn('Using categorical_feature in Dataset.')\n"
     ]
    },
    {
     "name": "stdout",
     "output_type": "stream",
     "text": [
      "Training until validation scores don't improve for 200 rounds.\n",
      "[100]\ttraining's l1: 16.325\tvalid_1's l1: 27.7766\n",
      "[200]\ttraining's l1: 13.4274\tvalid_1's l1: 27.8461\n",
      "Early stopping, best iteration is:\n",
      "[81]\ttraining's l1: 17.1852\tvalid_1's l1: 27.5587\n",
      "fold n°3\n"
     ]
    },
    {
     "name": "stderr",
     "output_type": "stream",
     "text": [
      "C:\\Users\\linda\\Anaconda3\\lib\\site-packages\\lightgbm\\basic.py:1186: UserWarning: Using categorical_feature in Dataset.\n",
      "  warnings.warn('Using categorical_feature in Dataset.')\n"
     ]
    },
    {
     "name": "stdout",
     "output_type": "stream",
     "text": [
      "Training until validation scores don't improve for 200 rounds.\n",
      "[100]\ttraining's l1: 16.6258\tvalid_1's l1: 23.968\n",
      "[200]\ttraining's l1: 13.503\tvalid_1's l1: 23.1096\n",
      "[300]\ttraining's l1: 11.4751\tvalid_1's l1: 22.9233\n",
      "[400]\ttraining's l1: 10.2969\tvalid_1's l1: 22.8172\n",
      "[500]\ttraining's l1: 9.09257\tvalid_1's l1: 22.7119\n",
      "[600]\ttraining's l1: 8.19021\tvalid_1's l1: 22.6608\n",
      "[700]\ttraining's l1: 7.46167\tvalid_1's l1: 22.68\n",
      "Early stopping, best iteration is:\n",
      "[588]\ttraining's l1: 8.28131\tvalid_1's l1: 22.626\n",
      "fold n°4\n"
     ]
    },
    {
     "name": "stderr",
     "output_type": "stream",
     "text": [
      "C:\\Users\\linda\\Anaconda3\\lib\\site-packages\\lightgbm\\basic.py:1186: UserWarning: Using categorical_feature in Dataset.\n",
      "  warnings.warn('Using categorical_feature in Dataset.')\n"
     ]
    },
    {
     "name": "stdout",
     "output_type": "stream",
     "text": [
      "Training until validation scores don't improve for 200 rounds.\n",
      "[100]\ttraining's l1: 16.2322\tvalid_1's l1: 26.8399\n",
      "[200]\ttraining's l1: 13.3728\tvalid_1's l1: 26.2493\n",
      "[300]\ttraining's l1: 11.4719\tvalid_1's l1: 26.1405\n",
      "[400]\ttraining's l1: 10.0942\tvalid_1's l1: 25.9972\n",
      "[500]\ttraining's l1: 9.02147\tvalid_1's l1: 25.9104\n",
      "[600]\ttraining's l1: 8.20878\tvalid_1's l1: 25.8445\n",
      "[700]\ttraining's l1: 7.39801\tvalid_1's l1: 25.8437\n",
      "[800]\ttraining's l1: 6.77168\tvalid_1's l1: 25.8294\n",
      "[900]\ttraining's l1: 6.18385\tvalid_1's l1: 25.7372\n",
      "[1000]\ttraining's l1: 5.773\tvalid_1's l1: 25.7655\n",
      "Did not meet early stopping. Best iteration is:\n",
      "[1000]\ttraining's l1: 5.773\tvalid_1's l1: 25.7655\n",
      "fold n°5\n"
     ]
    },
    {
     "name": "stderr",
     "output_type": "stream",
     "text": [
      "C:\\Users\\linda\\Anaconda3\\lib\\site-packages\\lightgbm\\basic.py:1186: UserWarning: Using categorical_feature in Dataset.\n",
      "  warnings.warn('Using categorical_feature in Dataset.')\n"
     ]
    },
    {
     "name": "stdout",
     "output_type": "stream",
     "text": [
      "Training until validation scores don't improve for 200 rounds.\n",
      "[100]\ttraining's l1: 16.2405\tvalid_1's l1: 29.6022\n",
      "[200]\ttraining's l1: 13.2582\tvalid_1's l1: 29.551\n",
      "[300]\ttraining's l1: 11.456\tvalid_1's l1: 29.5494\n",
      "Early stopping, best iteration is:\n",
      "[105]\ttraining's l1: 16.0345\tvalid_1's l1: 29.4593\n",
      "fold n°6\n"
     ]
    },
    {
     "name": "stderr",
     "output_type": "stream",
     "text": [
      "C:\\Users\\linda\\Anaconda3\\lib\\site-packages\\lightgbm\\basic.py:1186: UserWarning: Using categorical_feature in Dataset.\n",
      "  warnings.warn('Using categorical_feature in Dataset.')\n"
     ]
    },
    {
     "name": "stdout",
     "output_type": "stream",
     "text": [
      "Training until validation scores don't improve for 200 rounds.\n",
      "[100]\ttraining's l1: 16.5845\tvalid_1's l1: 25.9654\n",
      "[200]\ttraining's l1: 13.4973\tvalid_1's l1: 26.974\n",
      "Early stopping, best iteration is:\n",
      "[59]\ttraining's l1: 19.277\tvalid_1's l1: 25.3489\n",
      "fold n°7\n"
     ]
    },
    {
     "name": "stderr",
     "output_type": "stream",
     "text": [
      "C:\\Users\\linda\\Anaconda3\\lib\\site-packages\\lightgbm\\basic.py:1186: UserWarning: Using categorical_feature in Dataset.\n",
      "  warnings.warn('Using categorical_feature in Dataset.')\n"
     ]
    },
    {
     "name": "stdout",
     "output_type": "stream",
     "text": [
      "Training until validation scores don't improve for 200 rounds.\n",
      "[100]\ttraining's l1: 16.5577\tvalid_1's l1: 25.3199\n",
      "[200]\ttraining's l1: 13.3476\tvalid_1's l1: 25.5064\n",
      "Early stopping, best iteration is:\n",
      "[96]\ttraining's l1: 16.7394\tvalid_1's l1: 25.2247\n",
      "fold n°8\n"
     ]
    },
    {
     "name": "stderr",
     "output_type": "stream",
     "text": [
      "C:\\Users\\linda\\Anaconda3\\lib\\site-packages\\lightgbm\\basic.py:1186: UserWarning: Using categorical_feature in Dataset.\n",
      "  warnings.warn('Using categorical_feature in Dataset.')\n"
     ]
    },
    {
     "name": "stdout",
     "output_type": "stream",
     "text": [
      "Training until validation scores don't improve for 200 rounds.\n",
      "[100]\ttraining's l1: 16.699\tvalid_1's l1: 22.3676\n",
      "[200]\ttraining's l1: 13.6693\tvalid_1's l1: 22.5164\n",
      "Early stopping, best iteration is:\n",
      "[88]\ttraining's l1: 17.2503\tvalid_1's l1: 22.307\n",
      "fold n°9\n"
     ]
    },
    {
     "name": "stderr",
     "output_type": "stream",
     "text": [
      "C:\\Users\\linda\\Anaconda3\\lib\\site-packages\\lightgbm\\basic.py:1186: UserWarning: Using categorical_feature in Dataset.\n",
      "  warnings.warn('Using categorical_feature in Dataset.')\n"
     ]
    },
    {
     "name": "stdout",
     "output_type": "stream",
     "text": [
      "Training until validation scores don't improve for 200 rounds.\n",
      "[100]\ttraining's l1: 16.1891\tvalid_1's l1: 26.3316\n",
      "[200]\ttraining's l1: 13.1914\tvalid_1's l1: 26.0951\n",
      "[300]\ttraining's l1: 11.311\tvalid_1's l1: 26.0525\n",
      "[400]\ttraining's l1: 10.0743\tvalid_1's l1: 26.0792\n",
      "Early stopping, best iteration is:\n",
      "[237]\ttraining's l1: 12.3945\tvalid_1's l1: 26.0143\n"
     ]
    },
    {
     "name": "stderr",
     "output_type": "stream",
     "text": [
      "\n",
      "100%|████████████████████████████████████████████████████████████████████████████████████| 6/6 [07:46<00:00, 82.81s/it]\n"
     ]
    }
   ],
   "source": [
    "predictions = np.zeros(len(df_test))\n",
    "for fr in tqdm(np.sort(df_train['Flight Regime'].unique())):\n",
    "    df_train_fr = df_train[df_train['Flight Regime'] == fr]\n",
    "    df_test_fr = df_test[df_test['Flight Regime'] == fr]\n",
    "    target_fr = target[target['Flight Regime'] == fr][['lifespan', 'EngineID', 'EngineIndex']]\n",
    "    feature_importance_df = pd.DataFrame()\n",
    "    for fold_ in range(10):\n",
    "        print(\"fold n°{}\".format(fold_))\n",
    "        val_ID = folds_EngineID[fold_]        \n",
    "        trn_data = lgb.Dataset(df_train_fr[(~(df_train_fr['EngineID'].isin(val_ID))) &\n",
    "                                           (df_train_fr['EngineIndex'].isin(train_idx))][features],\n",
    "                               label=target_fr[(~(target_fr['EngineID'].isin(val_ID))) &\n",
    "                                               (target_fr['EngineIndex'].isin(train_idx))]['lifespan'],\n",
    "                               categorical_feature=categorical_feats\n",
    "                               )\n",
    "        # testデータで予測するindexのみをval_dataで用いる\n",
    "        # こうすることで、val_dataとtest_dataの分布が近づくことを狙っている\n",
    "        val_data = lgb.Dataset(df_train_fr[(df_train_fr['EngineID'].isin(val_ID)) & \n",
    "                                           (df_train_fr['EngineIndex'].isin(test_lastidx))][features],\n",
    "                               label=target_fr[target_fr['EngineID'].isin(val_ID) &\n",
    "                                               target_fr['EngineIndex'].isin(test_lastidx)]['lifespan'],\n",
    "                               categorical_feature=categorical_feats\n",
    "                               )\n",
    "        clf = lgb.train(param,\n",
    "                        trn_data,\n",
    "                        num_round,\n",
    "                        valid_sets=[trn_data, val_data],\n",
    "                        verbose_eval=100,\n",
    "                        early_stopping_rounds=200)\n",
    "        \n",
    "        val_pre =clf.predict(df_train_fr[(df_train_fr['EngineID'].isin(val_ID)) & \n",
    "                                         (df_train_fr['EngineIndex'].isin(test_lastidx))][features],\n",
    "                             num_iteration=clf.best_iteration)\n",
    "        \n",
    "        oof.loc[(oof['Flight Regime'] == fr) &\n",
    "                (oof['EngineID'].isin(val_ID)) & \n",
    "                (oof['EngineIndex'].isin(test_lastidx)), 'prediction'] = val_pre\n",
    "        \n",
    "        predictions[df_test_fr.index] += clf.predict(df_test_fr[features], num_iteration=clf.best_iteration) / 10"
   ]
  },
  {
   "cell_type": "code",
   "execution_count": 121,
   "metadata": {},
   "outputs": [
    {
     "data": {
      "text/plain": [
       "25.30480485201604"
      ]
     },
     "execution_count": 121,
     "metadata": {},
     "output_type": "execute_result"
    }
   ],
   "source": [
    "mean_absolute_error(oof['lifespan'], oof['prediction'])"
   ]
  },
  {
   "cell_type": "code",
   "execution_count": 146,
   "metadata": {},
   "outputs": [
    {
     "data": {
      "image/png": "[encoded data removed]",
      "text/plain": [
       "<Figure size 360x360 with 1 Axes>"
      ]
     },
     "metadata": {
      "needs_background": "light"
     },
     "output_type": "display_data"
    }
   ],
   "source": [
    "plt.figure(figsize=(5,5))\n",
    "plt.plot(oof['lifespan'], oof['prediction'], 'o')\n",
    "plt.plot(np.array([0,350]), np.array([0,350]), c='red')\n",
    "plt.xlabel('lifespan')\n",
    "plt.ylabel('val_predicion')\n",
    "plt.xlim([-10, 360])\n",
    "plt.ylim([-10, 360]);"
   ]
  },
  {
   "cell_type": "markdown",
   "metadata": {},
   "source": [
    "lifespan 100より多いときさらに正解率下がるよね"
   ]
  },
  {
   "cell_type": "code",
   "execution_count": 135,
   "metadata": {},
   "outputs": [],
   "source": [
    "# submit\n",
    "sub_df = pd.DataFrame({\"Predicted RUL\": predictions, 'EngineID': df_test['EngineID']})\n",
    "# 必要なのは各エンジンの最後の行のみ\n",
    "sub_df = sub_df[sub_df['EngineID'].astype('category').cat.codes.diff(-1) != 0]\n",
    "del sub_df['EngineID']"
   ]
  },
  {
   "cell_type": "code",
   "execution_count": 141,
   "metadata": {},
   "outputs": [],
   "source": [
    "sub_df.to_csv('C0003_14_04_2019.csv', index=False)"
   ]
  },
  {
   "cell_type": "code",
   "execution_count": null,
   "metadata": {},
   "outputs": [],
   "source": []
  }
 ],
 "metadata": {
  "kernelspec": {
   "display_name": "Python 3",
   "language": "python",
   "name": "python3"
  },
  "language_info": {
   "codemirror_mode": {
    "name": "ipython",
    "version": 3
   },
   "file_extension": ".py",
   "mimetype": "text/x-python",
   "name": "python",
   "nbconvert_exporter": "python",
   "pygments_lexer": "ipython3",
   "version": "3.7.1"
  }
 },
 "nbformat": 4,
 "nbformat_minor": 2
}
